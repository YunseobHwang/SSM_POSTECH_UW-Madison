{
 "cells": [
  {
   "cell_type": "code",
   "execution_count": 4,
   "metadata": {
    "ExecuteTime": {
     "end_time": "2020-03-25T20:54:54.384937Z",
     "start_time": "2020-03-25T20:54:54.376084Z"
    }
   },
   "outputs": [],
   "source": [
    "import numpy as np\n",
    "import matplotlib.pyplot as plt\n",
    "%matplotlib inline\n",
    "\n",
    "import os"
   ]
  },
  {
   "cell_type": "markdown",
   "metadata": {},
   "source": [
    "# 1. Load data"
   ]
  },
  {
   "cell_type": "code",
   "execution_count": 14,
   "metadata": {
    "ExecuteTime": {
     "end_time": "2020-03-25T21:07:59.281131Z",
     "start_time": "2020-03-25T21:07:59.258985Z"
    }
   },
   "outputs": [],
   "source": [
    "def GBdataLoad(data_dir, phase = 'train'):\n",
    "    for i in os.listdir(data_dir):\n",
    "        if 'good' in i and phase in i:\n",
    "            G_train_X = np.load(os.path.join(data_dir, i))\n",
    "        elif 'bad' in i and phase in i:\n",
    "            B_train_X = np.load(os.path.join(data_dir, i))\n",
    "            \n",
    "    def add_ch(img):\n",
    "        \"\"\"\n",
    "        (sample #, height, width,) -> (sample #, height, width, channel)\n",
    "        \"\"\"\n",
    "        return np.expand_dims(img, axis = -1)\n",
    "\n",
    "    return add_ch(G_train_X), add_ch(B_train_X)\n",
    "\n",
    "def input_for_Pytorch(img):\n",
    "    \"\"\"\n",
    "    (sample #, height, width, channel) -> (sample #, channel, height, width)\n",
    "    \"\"\"\n",
    "    img = np.transpose(img, (0, 3, 1, 2))\n",
    "    return img\n",
    "\n",
    "def CreateLabel(data, cls):\n",
    "    label = cls*np.ones([data.shape[0]])\n",
    "    return label\n",
    "\n",
    "def Convert(G_test_X, B_test_X):\n",
    "    G_test_X = input_for_Pytorch(G_test_X)\n",
    "    B_test_X = input_for_Pytorch(B_test_X)\n",
    "    G_test_Y, B_test_Y = CreateLabel(G_test_X, 0), CreateLabel(B_test_X, 1)\n",
    "    print(\"GOOD:\",G_test_X.shape, G_test_Y.shape, \"BAD:\", B_test_X.shape, B_test_Y.shape)\n",
    "    GB_test_X, GB_test_Y = np.vstack([G_test_X, B_test_X]), np.hstack([G_test_Y, B_test_Y])\n",
    "    print(\"Total:\", GB_test_X.shape, GB_test_Y.shape, '\\n')\n",
    "    return GB_test_X, GB_test_Y"
   ]
  },
  {
   "cell_type": "markdown",
   "metadata": {},
   "source": [
    "## 1.1. Die_Fixture"
   ]
  },
  {
   "cell_type": "markdown",
   "metadata": {},
   "source": [
    "### 1.1.1. Training data"
   ]
  },
  {
   "cell_type": "code",
   "execution_count": 15,
   "metadata": {
    "ExecuteTime": {
     "end_time": "2020-03-25T21:08:01.472769Z",
     "start_time": "2020-03-25T21:08:01.085566Z"
    }
   },
   "outputs": [
    {
     "name": "stdout",
     "output_type": "stream",
     "text": [
      "GOOD: (2822, 1, 40, 40) (2822,) BAD: (2510, 1, 40, 40) (2510,)\n",
      "Total: (5332, 1, 40, 40) (5332,) \n",
      "\n",
      "GOOD: (2822, 1, 40, 40) (2822,) BAD: (2510, 1, 40, 40) (2510,)\n",
      "Total: (5332, 1, 40, 40) (5332,) \n",
      "\n",
      "GOOD: (2822, 2, 40, 40) (2822,) BAD: (2510, 2, 40, 40) (2510,)\n",
      "Total: (5332, 2, 40, 40) (5332,) \n",
      "\n"
     ]
    }
   ],
   "source": [
    "AE_dir = '/mnt/disk2/data/private_data/SSM/2_Mockup/1_AE_Accel_Data/1_Die_Fixture/AE'\n",
    "Accel_dir = '/mnt/disk2/data/private_data/SSM/2_Mockup/1_AE_Accel_Data/1_Die_Fixture/Acceleration'\n",
    "        \n",
    "AE_G_train_X, AE_B_train_X = GBdataLoad(AE_dir, phase = 'train')\n",
    "AE_GB_train_X, AE_GB_train_Y = Convert(AE_G_train_X, AE_B_train_X)\n",
    "\n",
    "Accel_G_train_X, Accel_B_train_X = GBdataLoad(Accel_dir, phase = 'train')\n",
    "Accel_GB_train_X, Accel_GB_train_Y = Convert(Accel_G_train_X, Accel_B_train_X)\n",
    "\n",
    "A2_G_train_X = np.concatenate((AE_G_train_X, Accel_G_train_X), axis = -1)\n",
    "A2_B_train_X = np.concatenate((AE_B_train_X, Accel_B_train_X), axis = -1)\n",
    "A2_GB_train_X, A2_GB_train_Y = Convert(A2_G_train_X, A2_B_train_X)"
   ]
  },
  {
   "cell_type": "markdown",
   "metadata": {},
   "source": [
    "### 1.1.2. Testing data"
   ]
  },
  {
   "cell_type": "code",
   "execution_count": 16,
   "metadata": {
    "ExecuteTime": {
     "end_time": "2020-03-25T21:08:02.575262Z",
     "start_time": "2020-03-25T21:08:02.379190Z"
    }
   },
   "outputs": [
    {
     "name": "stdout",
     "output_type": "stream",
     "text": [
      "GOOD: (1261, 1, 40, 40) (1261,) BAD: (1311, 1, 40, 40) (1311,)\n",
      "Total: (2572, 1, 40, 40) (2572,) \n",
      "\n",
      "GOOD: (1261, 1, 40, 40) (1261,) BAD: (1311, 1, 40, 40) (1311,)\n",
      "Total: (2572, 1, 40, 40) (2572,) \n",
      "\n",
      "GOOD: (1261, 2, 40, 40) (1261,) BAD: (1311, 2, 40, 40) (1311,)\n",
      "Total: (2572, 2, 40, 40) (2572,) \n",
      "\n"
     ]
    }
   ],
   "source": [
    "AE_G_test_X, AE_B_test_X = GBdataLoad(AE_dir, phase = 'test')\n",
    "AE_GB_test_X, AE_GB_test_Y = Convert(AE_G_test_X, AE_B_test_X)\n",
    "\n",
    "Accel_G_test_X, Accel_B_test_X = GBdataLoad(Accel_dir, phase = 'test')\n",
    "Accel_GB_test_X, Accel_GB_test_Y = Convert(Accel_G_test_X, Accel_B_test_X)\n",
    "\n",
    "A2_G_test_X = np.concatenate((AE_G_test_X, Accel_G_test_X), axis = -1)\n",
    "A2_B_test_X = np.concatenate((AE_B_test_X, Accel_B_test_X), axis = -1)\n",
    "A2_GB_test_X, A2_GB_test_Y = Convert(A2_G_test_X, A2_B_test_X)"
   ]
  },
  {
   "cell_type": "markdown",
   "metadata": {},
   "source": [
    "## 1.2. Noise"
   ]
  },
  {
   "cell_type": "code",
   "execution_count": 17,
   "metadata": {
    "ExecuteTime": {
     "end_time": "2020-03-25T21:08:08.119736Z",
     "start_time": "2020-03-25T21:08:08.102121Z"
    }
   },
   "outputs": [],
   "source": [
    "def GBdataLoad2(data_dir, phase = 'train', data = 'AE'):\n",
    "    for i in os.listdir(data_dir):\n",
    "        if 'good' in i and phase in i and data in i:\n",
    "            G_train_X = np.load(os.path.join(data_dir, i))\n",
    "        elif 'bad' in i and phase in i and data in i:\n",
    "            B_train_X = np.load(os.path.join(data_dir, i))\n",
    "            \n",
    "    def add_ch(img):\n",
    "        \"\"\"\n",
    "        (sample #, height, width,) -> (sample #, height, width, channel)\n",
    "        \"\"\"\n",
    "        return np.expand_dims(img, axis = -1)\n",
    "\n",
    "    return add_ch(G_train_X), add_ch(B_train_X)"
   ]
  },
  {
   "cell_type": "markdown",
   "metadata": {},
   "source": [
    "### 1.2.1. Training data"
   ]
  },
  {
   "cell_type": "code",
   "execution_count": 19,
   "metadata": {
    "ExecuteTime": {
     "end_time": "2020-03-25T21:08:32.590742Z",
     "start_time": "2020-03-25T21:08:32.358019Z"
    }
   },
   "outputs": [
    {
     "name": "stdout",
     "output_type": "stream",
     "text": [
      "GOOD: (1559, 1, 40, 40) (1559,) BAD: (1674, 1, 40, 40) (1674,)\n",
      "Total: (3233, 1, 40, 40) (3233,) \n",
      "\n",
      "GOOD: (1559, 1, 40, 40) (1559,) BAD: (1674, 1, 40, 40) (1674,)\n",
      "Total: (3233, 1, 40, 40) (3233,) \n",
      "\n",
      "GOOD: (1559, 2, 40, 40) (1559,) BAD: (1674, 2, 40, 40) (1674,)\n",
      "Total: (3233, 2, 40, 40) (3233,) \n",
      "\n"
     ]
    }
   ],
   "source": [
    "Data_dir = '/mnt/disk2/data/private_data/SSM/2_Mockup/1_AE_Accel_Data/2_NOISE'\n",
    "        \n",
    "AE_N_G_train_X, AE_N_B_train_X = GBdataLoad2(Data_dir, phase = 'train', data = 'AE')\n",
    "AE_N_GB_train_X, AE_N_GB_train_Y = Convert(AE_N_G_train_X, AE_N_B_train_X)\n",
    "\n",
    "Accel_N_G_train_X, Accel_N_B_train_X = GBdataLoad2(Data_dir, phase = 'train', data = 'accel')\n",
    "Accel_N_GB_train_X, Accel_N_GB_train_Y = Convert(Accel_N_G_train_X, Accel_N_B_train_X)\n",
    "\n",
    "A2_N_G_train_X = np.concatenate((AE_N_G_train_X, Accel_N_G_train_X), axis = -1)\n",
    "A2_N_B_train_X = np.concatenate((AE_N_B_train_X, Accel_N_B_train_X), axis = -1)\n",
    "A2_N_GB_train_X, A2_N_GB_train_Y = Convert(A2_N_G_train_X, A2_N_B_train_X)"
   ]
  },
  {
   "cell_type": "markdown",
   "metadata": {},
   "source": [
    "### 1.2.2. Testing data"
   ]
  },
  {
   "cell_type": "code",
   "execution_count": 20,
   "metadata": {
    "ExecuteTime": {
     "end_time": "2020-03-25T21:08:48.909086Z",
     "start_time": "2020-03-25T21:08:48.763629Z"
    }
   },
   "outputs": [
    {
     "name": "stdout",
     "output_type": "stream",
     "text": [
      "GOOD: (698, 1, 40, 40) (698,) BAD: (697, 1, 40, 40) (697,)\n",
      "Total: (1395, 1, 40, 40) (1395,) \n",
      "\n",
      "GOOD: (698, 1, 40, 40) (698,) BAD: (697, 1, 40, 40) (697,)\n",
      "Total: (1395, 1, 40, 40) (1395,) \n",
      "\n",
      "GOOD: (698, 2, 40, 40) (698,) BAD: (697, 2, 40, 40) (697,)\n",
      "Total: (1395, 2, 40, 40) (1395,) \n",
      "\n"
     ]
    }
   ],
   "source": [
    "AE_N_G_test_X, AE_N_B_test_X = GBdataLoad2(Data_dir, phase = 'test', data = 'AE')\n",
    "AE_N_GB_test_X, AE_N_GB_test_Y = Convert(AE_N_G_test_X, AE_N_B_test_X)\n",
    "\n",
    "Accel_N_G_test_X, Accel_N_B_test_X = GBdataLoad2(Data_dir, phase = 'test', data = 'accel')\n",
    "Accel_N_GB_test_X, Accel_N_GB_test_Y = Convert(Accel_N_G_test_X, Accel_N_B_test_X)\n",
    "\n",
    "A2_N_G_test_X = np.concatenate((AE_N_G_test_X, Accel_N_G_test_X), axis = -1)\n",
    "A2_N_B_test_X = np.concatenate((AE_N_B_test_X, Accel_N_B_test_X), axis = -1)\n",
    "A2_N_GB_test_X, A2_N_GB_test_Y = Convert(A2_N_G_test_X, A2_N_B_test_X)"
   ]
  },
  {
   "cell_type": "markdown",
   "metadata": {},
   "source": [
    "# 2. Plot WT images"
   ]
  },
  {
   "cell_type": "code",
   "execution_count": 21,
   "metadata": {
    "ExecuteTime": {
     "end_time": "2020-03-25T21:08:52.652696Z",
     "start_time": "2020-03-25T21:08:52.639407Z"
    }
   },
   "outputs": [],
   "source": [
    "def PlotWTs(test_X, test_Y, class_name, cls_num = 0):\n",
    "\n",
    "    idx = np.random.choice(np.where(test_Y == cls_num)[0])\n",
    "\n",
    "    plt.figure(figsize = (10, 5))\n",
    "    plt.suptitle('idx: {} / pred: {}'.format(idx, class_name[int(test_Y[idx])]))\n",
    "    plt.subplot(121)\n",
    "    plt.title('Acoustic Emission Data')\n",
    "    plt.imshow(test_X[idx, 0, :, :])\n",
    "    plt.axis('off')\n",
    "    plt.subplot(122)\n",
    "    plt.title('Accelerometer Data')\n",
    "    plt.imshow(test_X[idx, 1, :, :])\n",
    "    plt.axis('off')\n",
    "    plt.show()"
   ]
  },
  {
   "cell_type": "markdown",
   "metadata": {},
   "source": [
    "## 2.1. Die_Fixture"
   ]
  },
  {
   "cell_type": "code",
   "execution_count": 22,
   "metadata": {
    "ExecuteTime": {
     "end_time": "2020-03-25T21:08:56.990891Z",
     "start_time": "2020-03-25T21:08:56.650558Z"
    }
   },
   "outputs": [
    {
     "data": {
      "image/png": "[encoded data removed]",
      "text/plain": [
       "<Figure size 720x360 with 2 Axes>"
      ]
     },
     "metadata": {
      "needs_background": "light"
     },
     "output_type": "display_data"
    },
    {
     "data": {
      "image/png": "[encoded data removed]",
      "text/plain": [
       "<Figure size 720x360 with 2 Axes>"
      ]
     },
     "metadata": {
      "needs_background": "light"
     },
     "output_type": "display_data"
    }
   ],
   "source": [
    "class_name = ['GOOD', 'BAD']\n",
    "\n",
    "for i in range(len(class_name)):\n",
    "    PlotWTs(A2_GB_test_X, A2_GB_test_Y, class_name, cls_num = i)"
   ]
  },
  {
   "cell_type": "markdown",
   "metadata": {},
   "source": [
    "## 2.2. Noise"
   ]
  },
  {
   "cell_type": "code",
   "execution_count": 25,
   "metadata": {
    "ExecuteTime": {
     "end_time": "2020-03-25T21:09:20.230117Z",
     "start_time": "2020-03-25T21:09:19.867085Z"
    }
   },
   "outputs": [
    {
     "data": {
      "image/png": "[encoded data removed]",
      "text/plain": [
       "<Figure size 720x360 with 2 Axes>"
      ]
     },
     "metadata": {
      "needs_background": "light"
     },
     "output_type": "display_data"
    },
    {
     "data": {
      "image/png": "[encoded data removed]",
      "text/plain": [
       "<Figure size 720x360 with 2 Axes>"
      ]
     },
     "metadata": {
      "needs_background": "light"
     },
     "output_type": "display_data"
    }
   ],
   "source": [
    "for i in range(len(class_name)):\n",
    "    PlotWTs(A2_N_GB_test_X, A2_N_GB_test_Y, class_name, cls_num = i)"
   ]
  }
 ],
 "metadata": {
  "hide_input": false,
  "kernelspec": {
   "display_name": "Python 3",
   "language": "python",
   "name": "python3"
  },
  "language_info": {
   "codemirror_mode": {
    "name": "ipython",
    "version": 3
   },
   "file_extension": ".py",
   "mimetype": "text/x-python",
   "name": "python",
   "nbconvert_exporter": "python",
   "pygments_lexer": "ipython3",
   "version": "3.5.2"
  },
  "toc": {
   "base_numbering": 1,
   "nav_menu": {},
   "number_sections": false,
   "sideBar": true,
   "skip_h1_title": false,
   "title_cell": "Table of Contents",
   "title_sidebar": "Contents",
   "toc_cell": false,
   "toc_position": {},
   "toc_section_display": true,
   "toc_window_display": true
  }
 },
 "nbformat": 4,
 "nbformat_minor": 2
}
