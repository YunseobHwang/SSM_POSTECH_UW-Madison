{
 "cells": [
  {
   "cell_type": "code",
   "execution_count": 1,
   "metadata": {
    "ExecuteTime": {
     "end_time": "2020-03-26T00:49:42.401816Z",
     "start_time": "2020-03-26T00:49:41.818757Z"
    }
   },
   "outputs": [],
   "source": [
    "import numpy as np\n",
    "import matplotlib.pyplot as plt\n",
    "%matplotlib inline\n",
    "\n",
    "import os\n",
    "import time, datetime\n",
    "\n",
    "import torch\n",
    "from torch import nn\n",
    "from torch.nn import functional as F\n",
    "from torchsummary import summary"
   ]
  },
  {
   "cell_type": "code",
   "execution_count": 2,
   "metadata": {
    "ExecuteTime": {
     "end_time": "2020-03-26T00:49:42.483743Z",
     "start_time": "2020-03-26T00:49:42.406122Z"
    }
   },
   "outputs": [],
   "source": [
    "device = torch.device(\"cuda:3\" if torch.cuda.is_available() else \"cpu\")"
   ]
  },
  {
   "cell_type": "markdown",
   "metadata": {},
   "source": [
    "# Load Data"
   ]
  },
  {
   "cell_type": "code",
   "execution_count": 3,
   "metadata": {
    "ExecuteTime": {
     "end_time": "2020-03-26T00:49:44.566456Z",
     "start_time": "2020-03-26T00:49:44.554406Z"
    }
   },
   "outputs": [],
   "source": [
    "def GBdataLoad2(data_dir, phase = 'train', data = 'AE'):\n",
    "    for i in os.listdir(data_dir):\n",
    "        if 'good' in i and phase in i and data in i:\n",
    "            G_train_X = np.load(os.path.join(data_dir, i))\n",
    "        elif 'bad' in i and phase in i and data in i:\n",
    "            B_train_X = np.load(os.path.join(data_dir, i))\n",
    "            \n",
    "    def add_ch(img):\n",
    "        \"\"\"\n",
    "        (sample #, height, width,) -> (sample #, height, width, channel)\n",
    "        \"\"\"\n",
    "        return np.expand_dims(img, axis = -1)\n",
    "\n",
    "    return add_ch(G_train_X), add_ch(B_train_X)"
   ]
  },
  {
   "cell_type": "code",
   "execution_count": 4,
   "metadata": {
    "ExecuteTime": {
     "end_time": "2020-03-26T00:49:44.697090Z",
     "start_time": "2020-03-26T00:49:44.686194Z"
    }
   },
   "outputs": [
    {
     "data": {
      "text/plain": [
       "['bad_die_accel_test.npy',\n",
       " 'bad_die_accel_train.npy',\n",
       " 'bad_die_AE_test.npy',\n",
       " 'bad_die_AE_train.npy',\n",
       " 'good_die_accel_test.npy',\n",
       " 'good_die_accel_train.npy',\n",
       " 'good_die_AE_test.npy',\n",
       " 'good_die_AE_train.npy',\n",
       " 'readme.txt']"
      ]
     },
     "execution_count": 4,
     "metadata": {},
     "output_type": "execute_result"
    }
   ],
   "source": [
    "data_dir = '/mnt/disk2/data/private_data/SSM/2_Mockup/1_AE_Accel_Data/3_Loc1'\n",
    "os.listdir(data_dir)"
   ]
  },
  {
   "cell_type": "code",
   "execution_count": 5,
   "metadata": {
    "ExecuteTime": {
     "end_time": "2020-03-26T00:49:46.879749Z",
     "start_time": "2020-03-26T00:49:46.844858Z"
    }
   },
   "outputs": [
    {
     "data": {
      "text/plain": [
       "((1568, 40, 40, 1), (1435, 40, 40, 1))"
      ]
     },
     "execution_count": 5,
     "metadata": {},
     "output_type": "execute_result"
    }
   ],
   "source": [
    "G_train_X, B_train_X = GBdataLoad2(data_dir, phase = 'train', data = 'AE')\n",
    "G_train_X.shape, B_train_X.shape"
   ]
  },
  {
   "cell_type": "code",
   "execution_count": 6,
   "metadata": {
    "ExecuteTime": {
     "end_time": "2020-03-26T00:49:51.593430Z",
     "start_time": "2020-03-26T00:49:51.581670Z"
    }
   },
   "outputs": [
    {
     "data": {
      "text/plain": [
       "((1568, 1, 40, 40), (1435, 1, 40, 40))"
      ]
     },
     "execution_count": 6,
     "metadata": {},
     "output_type": "execute_result"
    }
   ],
   "source": [
    "def input_for_Pytorch(img):\n",
    "    \"\"\"\n",
    "    (sample #, height, width, channel) -> (sample #, channel, height, width)\n",
    "    \"\"\"\n",
    "    img = np.transpose(img, (0, 3, 1, 2))\n",
    "    return img\n",
    "\n",
    "G_train_X = input_for_Pytorch(G_train_X)\n",
    "B_train_X = input_for_Pytorch(B_train_X)\n",
    "\n",
    "G_train_X.shape, B_train_X.shape"
   ]
  },
  {
   "cell_type": "code",
   "execution_count": 7,
   "metadata": {
    "ExecuteTime": {
     "end_time": "2020-03-26T00:49:52.272062Z",
     "start_time": "2020-03-26T00:49:52.260842Z"
    }
   },
   "outputs": [
    {
     "data": {
      "text/plain": [
       "((1568, 1, 40, 40), (1568,), (1435, 1, 40, 40), (1435,))"
      ]
     },
     "execution_count": 7,
     "metadata": {},
     "output_type": "execute_result"
    }
   ],
   "source": [
    "def CreateLabel(data, cls):\n",
    "    label = cls*np.ones([data.shape[0]])\n",
    "    return label\n",
    "\n",
    "G_train_Y, B_train_Y = CreateLabel(G_train_X, 0), CreateLabel(B_train_X, 1)\n",
    "\n",
    "G_train_X.shape, G_train_Y.shape, B_train_X.shape, B_train_Y.shape"
   ]
  },
  {
   "cell_type": "code",
   "execution_count": 8,
   "metadata": {
    "ExecuteTime": {
     "end_time": "2020-03-26T00:49:53.022001Z",
     "start_time": "2020-03-26T00:49:52.984124Z"
    }
   },
   "outputs": [
    {
     "name": "stdout",
     "output_type": "stream",
     "text": [
      "Training: (1411, 1, 40, 40) (1411,) (1291, 1, 40, 40) (1291,)\n",
      "Validation: (157, 1, 40, 40) (157,) (144, 1, 40, 40) (144,)\n"
     ]
    }
   ],
   "source": [
    "def train_valid_split(data, label, rate_t_v = 0.9):\n",
    "    data_num = len(data)\n",
    "    train_idx = np.random.choice(data_num, int(rate_t_v*data_num), replace = False)\n",
    "    valid_idx = np.setdiff1d(np.arange(data_num), train_idx)\n",
    "    return data[train_idx], label[train_idx], data[valid_idx], label[valid_idx]\n",
    "\n",
    "G_train_X, G_train_Y, G_valid_X, G_valid_Y = train_valid_split(G_train_X, G_train_Y)\n",
    "B_train_X, B_train_Y, B_valid_X, B_valid_Y = train_valid_split(B_train_X, B_train_Y)\n",
    "\n",
    "print(\"Training:\", G_train_X.shape, G_train_Y.shape, B_train_X.shape, B_train_Y.shape)\n",
    "print(\"Validation:\", G_valid_X.shape, G_valid_Y.shape, B_valid_X.shape, B_valid_Y.shape)"
   ]
  },
  {
   "cell_type": "markdown",
   "metadata": {},
   "source": [
    "# Model"
   ]
  },
  {
   "cell_type": "code",
   "execution_count": 9,
   "metadata": {
    "ExecuteTime": {
     "end_time": "2020-03-26T00:49:58.375148Z",
     "start_time": "2020-03-26T00:49:58.351182Z"
    }
   },
   "outputs": [],
   "source": [
    "class ConvNet(nn.Module):\n",
    "    def __init__(self):\n",
    "        super().__init__()\n",
    "        # RGB세개 1채널, 20개 특징 추출, filter 크기, stride 1\n",
    "        self.conv1_1 = nn.Conv2d(1, 64, 3, 1, padding=1)\n",
    "        self.conv1_2 = nn.Conv2d(64, 64, 3, 1, padding=1)\n",
    "        self.conv1_bn = nn.BatchNorm2d(64)\n",
    "        \n",
    "        self.conv2_1 = nn.Conv2d(64, 64, 3, 1, padding=1)\n",
    "        self.conv2_2 = nn.Conv2d(64, 64, 3, 1, padding=1)\n",
    "        self.conv2_bn = nn.BatchNorm2d(64)\n",
    "        \n",
    "        self.conv3_1 = nn.Conv2d(64, 64, 3, 1, padding=1)\n",
    "        self.conv3_2 = nn.Conv2d(64, 64, 3, 1, padding=1)\n",
    "        self.conv3_bn = nn.BatchNorm2d(64)\n",
    "        \n",
    "        self.conv4_1 = nn.Conv2d(64, 64, 3, 1, padding=1)\n",
    "        self.conv4_2 = nn.Conv2d(64, 64, 3, 1, padding=1)\n",
    "        self.conv4_bn = nn.BatchNorm2d(64)\n",
    "        \n",
    "        self.dense1 = nn.Linear(2*2*64, 128)\n",
    "        # 0.5 가 권장 할 만하대\n",
    "        self.dropout1 = nn.Dropout(0.5)\n",
    "        self.dense2 = nn.Linear(128, 2)  \n",
    "        \n",
    "    def forward(self, x):\n",
    "        x = F.relu(self.conv1_1(x))\n",
    "        x = F.relu(self.conv1_bn(self.conv1_2(x)))\n",
    "        x = F.max_pool2d(x, 2, 2)\n",
    "        x = F.relu(self.conv2_1(x))\n",
    "        x = F.relu(self.conv2_bn(self.conv2_2(x)))\n",
    "        x = F.max_pool2d(x, 2, 2)\n",
    "        x = F.relu(self.conv3_1(x))\n",
    "        x = F.relu(self.conv3_bn(self.conv3_2(x)))\n",
    "        x = F.max_pool2d(x, 2, 2)\n",
    "        x = F.relu(self.conv4_1(x))\n",
    "        x = F.relu(self.conv4_bn(self.conv4_2(x)))\n",
    "        x = F.max_pool2d(x, 2, 2)\n",
    "        # flatten\n",
    "        x = x.view(-1, 2*2*64)\n",
    "        x = F.relu(self.dense1(x))\n",
    "        x = self.dropout1(x)\n",
    "        x = self.dense2(x)\n",
    "        return x"
   ]
  },
  {
   "cell_type": "code",
   "execution_count": 10,
   "metadata": {
    "ExecuteTime": {
     "end_time": "2020-03-26T00:50:02.720684Z",
     "start_time": "2020-03-26T00:49:58.720225Z"
    }
   },
   "outputs": [
    {
     "name": "stdout",
     "output_type": "stream",
     "text": [
      "----------------------------------------------------------------\n",
      "        Layer (type)               Output Shape         Param #\n",
      "================================================================\n",
      "            Conv2d-1           [-1, 64, 40, 40]             640\n",
      "            Conv2d-2           [-1, 64, 40, 40]          36,928\n",
      "       BatchNorm2d-3           [-1, 64, 40, 40]             128\n",
      "            Conv2d-4           [-1, 64, 20, 20]          36,928\n",
      "            Conv2d-5           [-1, 64, 20, 20]          36,928\n",
      "       BatchNorm2d-6           [-1, 64, 20, 20]             128\n",
      "            Conv2d-7           [-1, 64, 10, 10]          36,928\n",
      "            Conv2d-8           [-1, 64, 10, 10]          36,928\n",
      "       BatchNorm2d-9           [-1, 64, 10, 10]             128\n",
      "           Conv2d-10             [-1, 64, 5, 5]          36,928\n",
      "           Conv2d-11             [-1, 64, 5, 5]          36,928\n",
      "      BatchNorm2d-12             [-1, 64, 5, 5]             128\n",
      "           Linear-13                  [-1, 128]          32,896\n",
      "          Dropout-14                  [-1, 128]               0\n",
      "           Linear-15                    [-1, 2]             258\n",
      "          ConvNet-16                    [-1, 2]               0\n",
      "================================================================\n",
      "Total params: 292,802\n",
      "Trainable params: 292,802\n",
      "Non-trainable params: 0\n",
      "----------------------------------------------------------------\n",
      "Input size (MB): 0.01\n",
      "Forward/backward pass size (MB): 3.11\n",
      "Params size (MB): 1.12\n",
      "Estimated Total Size (MB): 4.24\n",
      "----------------------------------------------------------------\n",
      "\n"
     ]
    },
    {
     "data": {
      "text/plain": [
       "(tensor(292802), tensor(292802))"
      ]
     },
     "execution_count": 10,
     "metadata": {},
     "output_type": "execute_result"
    }
   ],
   "source": [
    "model = ConvNet()\n",
    "# model = model.cuda()\n",
    "model = model.to(device)\n",
    "# if device == 'cuda':\n",
    "#     net = torch.nn.DataParallel(net)\n",
    "#     cudnn.benchmark = True\n",
    "criterion = nn.CrossEntropyLoss()\n",
    "optimizer = torch.optim.Adam(model.parameters(), lr=0.00001)\n",
    "\n",
    "summary(model, (1, 40, 40), device = device)"
   ]
  },
  {
   "cell_type": "markdown",
   "metadata": {},
   "source": [
    "# Training"
   ]
  },
  {
   "cell_type": "code",
   "execution_count": 11,
   "metadata": {
    "ExecuteTime": {
     "end_time": "2020-03-26T00:50:02.734176Z",
     "start_time": "2020-03-26T00:50:02.723280Z"
    }
   },
   "outputs": [
    {
     "name": "stdout",
     "output_type": "stream",
     "text": [
      "Training: (100, 1, 40, 40) (100,) (100, 1, 40, 40) (100,)\n",
      "Validation: (100, 1, 40, 40) (100,) (100, 1, 40, 40) (100,)\n"
     ]
    }
   ],
   "source": [
    "def RandomMinibatch(data, label, n_batch = 100):\n",
    "    batch_idx = np.random.choice(len(data), n_batch, replace = False)\n",
    "    return data[batch_idx], label[batch_idx]\n",
    "\n",
    "G_train_x, G_train_y = RandomMinibatch(G_train_X, G_train_Y, 100)\n",
    "B_train_x, B_train_y = RandomMinibatch(B_train_X, B_train_Y, 100)\n",
    "\n",
    "G_valid_x, G_valid_y = RandomMinibatch(G_valid_X, G_valid_Y, 100)\n",
    "B_valid_x, B_valid_y = RandomMinibatch(B_valid_X, B_valid_Y, 100)\n",
    "\n",
    "print(\"Training:\", G_train_x.shape, G_train_y.shape, B_train_x.shape, B_train_y.shape)\n",
    "print(\"Validation:\", G_valid_x.shape, G_valid_y.shape, B_valid_x.shape, B_valid_y.shape)"
   ]
  },
  {
   "cell_type": "code",
   "execution_count": 12,
   "metadata": {
    "ExecuteTime": {
     "end_time": "2020-03-26T00:50:02.746310Z",
     "start_time": "2020-03-26T00:50:02.736009Z"
    }
   },
   "outputs": [
    {
     "name": "stdout",
     "output_type": "stream",
     "text": [
      "Training (200, 1, 40, 40) (200,)\n"
     ]
    }
   ],
   "source": [
    "def shuffle(x, y):\n",
    "    \"\"\"\n",
    "    random shuffle of two paired data -> x, y = shuffle(x, y)\n",
    "    but, available of one data -> x = shuffle(x, None)\n",
    "    \"\"\"\n",
    "    idx = np.arange(len(x))\n",
    "    np.random.shuffle(idx)\n",
    "    if type(x) == type(y):\n",
    "        return x[idx], y[idx] \n",
    "    else:\n",
    "        return x[idx]\n",
    "    \n",
    "G_train_x, G_train_y = RandomMinibatch(G_train_X, G_train_Y, 100)\n",
    "B_train_x, B_train_y = RandomMinibatch(B_train_X, B_train_Y, 100)\n",
    "    \n",
    "train_x, train_y = np.vstack([G_train_x, B_train_x]), np.hstack([G_train_y, B_train_y])\n",
    "train_x, train_y = shuffle(train_x, train_y)\n",
    "\n",
    "print(\"Training\", train_x.shape, train_y.shape)"
   ]
  },
  {
   "cell_type": "code",
   "execution_count": 13,
   "metadata": {
    "ExecuteTime": {
     "end_time": "2020-03-26T00:53:15.124165Z",
     "start_time": "2020-03-26T00:50:32.930086Z"
    },
    "scrolled": false
   },
   "outputs": [
    {
     "name": "stdout",
     "output_type": "stream",
     "text": [
      "00010 | train_loss: 0.69347, train_accr: 0.520 | val_loss: 0.67523, val_accr: 0.565\n",
      "00020 | train_loss: 0.65357, train_accr: 0.630 | val_loss: 0.64056, val_accr: 0.705\n",
      "00030 | train_loss: 0.63616, train_accr: 0.680 | val_loss: 0.64197, val_accr: 0.610\n",
      "00040 | train_loss: 0.60578, train_accr: 0.745 | val_loss: 0.61195, val_accr: 0.640\n",
      "00050 | train_loss: 0.57239, train_accr: 0.735 | val_loss: 0.59028, val_accr: 0.745\n",
      "00060 | train_loss: 0.55663, train_accr: 0.780 | val_loss: 0.55324, val_accr: 0.750\n",
      "00070 | train_loss: 0.53266, train_accr: 0.795 | val_loss: 0.52489, val_accr: 0.790\n",
      "00080 | train_loss: 0.52709, train_accr: 0.745 | val_loss: 0.49246, val_accr: 0.805\n",
      "00090 | train_loss: 0.50696, train_accr: 0.785 | val_loss: 0.49255, val_accr: 0.775\n",
      "00100 | train_loss: 0.46835, train_accr: 0.800 | val_loss: 0.44695, val_accr: 0.825\n",
      "00110 | train_loss: 0.45222, train_accr: 0.830 | val_loss: 0.46089, val_accr: 0.800\n",
      "00120 | train_loss: 0.43222, train_accr: 0.820 | val_loss: 0.42200, val_accr: 0.850\n",
      "00130 | train_loss: 0.41289, train_accr: 0.840 | val_loss: 0.43094, val_accr: 0.805\n",
      "00140 | train_loss: 0.42721, train_accr: 0.825 | val_loss: 0.42718, val_accr: 0.800\n",
      "00150 | train_loss: 0.37670, train_accr: 0.855 | val_loss: 0.39517, val_accr: 0.850\n",
      "00160 | train_loss: 0.36815, train_accr: 0.860 | val_loss: 0.35210, val_accr: 0.875\n",
      "00170 | train_loss: 0.37762, train_accr: 0.840 | val_loss: 0.37392, val_accr: 0.855\n",
      "00180 | train_loss: 0.41315, train_accr: 0.810 | val_loss: 0.38373, val_accr: 0.865\n",
      "00190 | train_loss: 0.40333, train_accr: 0.820 | val_loss: 0.39984, val_accr: 0.825\n",
      "00200 | train_loss: 0.37157, train_accr: 0.825 | val_loss: 0.34554, val_accr: 0.845\n",
      "00210 | train_loss: 0.32626, train_accr: 0.870 | val_loss: 0.37494, val_accr: 0.850\n",
      "00220 | train_loss: 0.36290, train_accr: 0.825 | val_loss: 0.32793, val_accr: 0.865\n",
      "00230 | train_loss: 0.31031, train_accr: 0.875 | val_loss: 0.31707, val_accr: 0.855\n",
      "00240 | train_loss: 0.28487, train_accr: 0.905 | val_loss: 0.28595, val_accr: 0.885\n",
      "00250 | train_loss: 0.31346, train_accr: 0.880 | val_loss: 0.29832, val_accr: 0.890\n",
      "00260 | train_loss: 0.30451, train_accr: 0.875 | val_loss: 0.33199, val_accr: 0.870\n",
      "00270 | train_loss: 0.31497, train_accr: 0.870 | val_loss: 0.29952, val_accr: 0.895\n",
      "00280 | train_loss: 0.27326, train_accr: 0.875 | val_loss: 0.32237, val_accr: 0.850\n",
      "00290 | train_loss: 0.32079, train_accr: 0.850 | val_loss: 0.27916, val_accr: 0.900\n",
      "00300 | train_loss: 0.31010, train_accr: 0.870 | val_loss: 0.32557, val_accr: 0.850\n",
      "00310 | train_loss: 0.24857, train_accr: 0.900 | val_loss: 0.26525, val_accr: 0.880\n",
      "00320 | train_loss: 0.21269, train_accr: 0.930 | val_loss: 0.30011, val_accr: 0.855\n",
      "00330 | train_loss: 0.27893, train_accr: 0.865 | val_loss: 0.23796, val_accr: 0.920\n",
      "00340 | train_loss: 0.20403, train_accr: 0.935 | val_loss: 0.29372, val_accr: 0.875\n",
      "00350 | train_loss: 0.21923, train_accr: 0.950 | val_loss: 0.28815, val_accr: 0.870\n",
      "00360 | train_loss: 0.19970, train_accr: 0.940 | val_loss: 0.22842, val_accr: 0.905\n",
      "00370 | train_loss: 0.22099, train_accr: 0.905 | val_loss: 0.25742, val_accr: 0.880\n",
      "00380 | train_loss: 0.17794, train_accr: 0.960 | val_loss: 0.24465, val_accr: 0.900\n",
      "00390 | train_loss: 0.27499, train_accr: 0.890 | val_loss: 0.22486, val_accr: 0.915\n",
      "00400 | train_loss: 0.19428, train_accr: 0.950 | val_loss: 0.21677, val_accr: 0.910\n",
      "00410 | train_loss: 0.18174, train_accr: 0.940 | val_loss: 0.23340, val_accr: 0.890\n",
      "00420 | train_loss: 0.18830, train_accr: 0.940 | val_loss: 0.24464, val_accr: 0.905\n",
      "00430 | train_loss: 0.21128, train_accr: 0.910 | val_loss: 0.23821, val_accr: 0.905\n",
      "00440 | train_loss: 0.23488, train_accr: 0.905 | val_loss: 0.20616, val_accr: 0.930\n",
      "00450 | train_loss: 0.15812, train_accr: 0.965 | val_loss: 0.20266, val_accr: 0.905\n",
      "00460 | train_loss: 0.16690, train_accr: 0.945 | val_loss: 0.20759, val_accr: 0.920\n",
      "00470 | train_loss: 0.16630, train_accr: 0.965 | val_loss: 0.19242, val_accr: 0.915\n",
      "00480 | train_loss: 0.16834, train_accr: 0.960 | val_loss: 0.20579, val_accr: 0.890\n",
      "00490 | train_loss: 0.14161, train_accr: 0.955 | val_loss: 0.18097, val_accr: 0.925\n",
      "00500 | train_loss: 0.18216, train_accr: 0.940 | val_loss: 0.23727, val_accr: 0.890\n",
      "00510 | train_loss: 0.11596, train_accr: 0.970 | val_loss: 0.17598, val_accr: 0.930\n",
      "00520 | train_loss: 0.14709, train_accr: 0.955 | val_loss: 0.18466, val_accr: 0.905\n",
      "00530 | train_loss: 0.16115, train_accr: 0.925 | val_loss: 0.19026, val_accr: 0.925\n",
      "00540 | train_loss: 0.15516, train_accr: 0.950 | val_loss: 0.17979, val_accr: 0.915\n",
      "00550 | train_loss: 0.17912, train_accr: 0.935 | val_loss: 0.16914, val_accr: 0.940\n",
      "00560 | train_loss: 0.12117, train_accr: 0.965 | val_loss: 0.18048, val_accr: 0.945\n",
      "00570 | train_loss: 0.11894, train_accr: 0.965 | val_loss: 0.18470, val_accr: 0.910\n",
      "00580 | train_loss: 0.11757, train_accr: 0.960 | val_loss: 0.16293, val_accr: 0.940\n",
      "00590 | train_loss: 0.15796, train_accr: 0.940 | val_loss: 0.18542, val_accr: 0.915\n",
      "00600 | train_loss: 0.14279, train_accr: 0.955 | val_loss: 0.18759, val_accr: 0.910\n",
      "00610 | train_loss: 0.11727, train_accr: 0.975 | val_loss: 0.18725, val_accr: 0.910\n",
      "00620 | train_loss: 0.10010, train_accr: 0.965 | val_loss: 0.19170, val_accr: 0.920\n",
      "00630 | train_loss: 0.09817, train_accr: 0.975 | val_loss: 0.17955, val_accr: 0.920\n",
      "00640 | train_loss: 0.12045, train_accr: 0.960 | val_loss: 0.14812, val_accr: 0.925\n",
      "00650 | train_loss: 0.10165, train_accr: 0.985 | val_loss: 0.17421, val_accr: 0.930\n",
      "00660 | train_loss: 0.11293, train_accr: 0.950 | val_loss: 0.14876, val_accr: 0.945\n",
      "00670 | train_loss: 0.12632, train_accr: 0.950 | val_loss: 0.17648, val_accr: 0.920\n",
      "00680 | train_loss: 0.08689, train_accr: 0.980 | val_loss: 0.16819, val_accr: 0.950\n",
      "00690 | train_loss: 0.11555, train_accr: 0.980 | val_loss: 0.21921, val_accr: 0.885\n",
      "00700 | train_loss: 0.12414, train_accr: 0.960 | val_loss: 0.14209, val_accr: 0.925\n",
      "00710 | train_loss: 0.10794, train_accr: 0.980 | val_loss: 0.16197, val_accr: 0.930\n",
      "00720 | train_loss: 0.08824, train_accr: 0.975 | val_loss: 0.21630, val_accr: 0.900\n",
      "00730 | train_loss: 0.11765, train_accr: 0.960 | val_loss: 0.16346, val_accr: 0.930\n",
      "00740 | train_loss: 0.08757, train_accr: 0.980 | val_loss: 0.11714, val_accr: 0.955\n",
      "00750 | train_loss: 0.09248, train_accr: 0.980 | val_loss: 0.16722, val_accr: 0.920\n",
      "00760 | train_loss: 0.08928, train_accr: 0.975 | val_loss: 0.17326, val_accr: 0.915\n",
      "00770 | train_loss: 0.06657, train_accr: 0.990 | val_loss: 0.13808, val_accr: 0.925\n",
      "00780 | train_loss: 0.10366, train_accr: 0.980 | val_loss: 0.18132, val_accr: 0.920\n",
      "00790 | train_loss: 0.10595, train_accr: 0.970 | val_loss: 0.15701, val_accr: 0.930\n",
      "00800 | train_loss: 0.08039, train_accr: 0.980 | val_loss: 0.15084, val_accr: 0.950\n",
      "00810 | train_loss: 0.09200, train_accr: 0.990 | val_loss: 0.15156, val_accr: 0.930\n",
      "00820 | train_loss: 0.05474, train_accr: 0.990 | val_loss: 0.13801, val_accr: 0.935\n",
      "00830 | train_loss: 0.07722, train_accr: 0.990 | val_loss: 0.15117, val_accr: 0.940\n",
      "00840 | train_loss: 0.07719, train_accr: 0.975 | val_loss: 0.15806, val_accr: 0.915\n",
      "00850 | train_loss: 0.06484, train_accr: 0.980 | val_loss: 0.19047, val_accr: 0.920\n",
      "00860 | train_loss: 0.07861, train_accr: 0.985 | val_loss: 0.15703, val_accr: 0.915\n",
      "00870 | train_loss: 0.06145, train_accr: 0.990 | val_loss: 0.16213, val_accr: 0.910\n",
      "00880 | train_loss: 0.04784, train_accr: 0.995 | val_loss: 0.15327, val_accr: 0.920\n",
      "00890 | train_loss: 0.05672, train_accr: 0.995 | val_loss: 0.15769, val_accr: 0.915\n",
      "00900 | train_loss: 0.04943, train_accr: 0.990 | val_loss: 0.17073, val_accr: 0.920\n",
      "00910 | train_loss: 0.06743, train_accr: 0.985 | val_loss: 0.12131, val_accr: 0.940\n",
      "00920 | train_loss: 0.06865, train_accr: 0.975 | val_loss: 0.13997, val_accr: 0.915\n",
      "00930 | train_loss: 0.05265, train_accr: 0.990 | val_loss: 0.17787, val_accr: 0.915\n",
      "00940 | train_loss: 0.05674, train_accr: 0.990 | val_loss: 0.14939, val_accr: 0.920\n",
      "00950 | train_loss: 0.04787, train_accr: 0.995 | val_loss: 0.13803, val_accr: 0.940\n",
      "00960 | train_loss: 0.04489, train_accr: 0.995 | val_loss: 0.15989, val_accr: 0.920\n",
      "00970 | train_loss: 0.05529, train_accr: 0.995 | val_loss: 0.18698, val_accr: 0.900\n",
      "00980 | train_loss: 0.06095, train_accr: 0.990 | val_loss: 0.19702, val_accr: 0.910\n"
     ]
    },
    {
     "name": "stdout",
     "output_type": "stream",
     "text": [
      "00990 | train_loss: 0.06790, train_accr: 0.985 | val_loss: 0.12967, val_accr: 0.930\n",
      "01000 | train_loss: 0.06862, train_accr: 0.975 | val_loss: 0.17865, val_accr: 0.900\n",
      "01010 | train_loss: 0.04593, train_accr: 1.000 | val_loss: 0.17195, val_accr: 0.915\n",
      "01020 | train_loss: 0.05419, train_accr: 0.985 | val_loss: 0.14872, val_accr: 0.940\n",
      "01030 | train_loss: 0.03036, train_accr: 1.000 | val_loss: 0.18292, val_accr: 0.915\n",
      "01040 | train_loss: 0.04777, train_accr: 0.990 | val_loss: 0.18374, val_accr: 0.935\n",
      "01050 | train_loss: 0.04161, train_accr: 0.995 | val_loss: 0.16659, val_accr: 0.920\n",
      "01060 | train_loss: 0.04826, train_accr: 1.000 | val_loss: 0.16803, val_accr: 0.910\n",
      "01070 | train_loss: 0.03654, train_accr: 0.995 | val_loss: 0.13561, val_accr: 0.935\n",
      "01080 | train_loss: 0.04369, train_accr: 0.995 | val_loss: 0.13641, val_accr: 0.935\n",
      "01090 | train_loss: 0.03299, train_accr: 1.000 | val_loss: 0.17580, val_accr: 0.925\n",
      "01100 | train_loss: 0.02863, train_accr: 1.000 | val_loss: 0.10600, val_accr: 0.955\n",
      "01110 | train_loss: 0.04518, train_accr: 0.990 | val_loss: 0.13199, val_accr: 0.935\n",
      "01120 | train_loss: 0.04685, train_accr: 0.995 | val_loss: 0.14023, val_accr: 0.925\n",
      "01130 | train_loss: 0.03592, train_accr: 0.995 | val_loss: 0.19186, val_accr: 0.915\n",
      "01140 | train_loss: 0.02855, train_accr: 1.000 | val_loss: 0.09901, val_accr: 0.960\n",
      "01150 | train_loss: 0.02970, train_accr: 1.000 | val_loss: 0.19180, val_accr: 0.915\n",
      "01160 | train_loss: 0.03031, train_accr: 0.995 | val_loss: 0.09774, val_accr: 0.960\n",
      "01170 | train_loss: 0.03451, train_accr: 0.995 | val_loss: 0.15730, val_accr: 0.920\n",
      "01180 | train_loss: 0.03008, train_accr: 1.000 | val_loss: 0.16270, val_accr: 0.930\n",
      "01190 | train_loss: 0.03333, train_accr: 0.995 | val_loss: 0.15124, val_accr: 0.920\n",
      "01200 | train_loss: 0.02080, train_accr: 1.000 | val_loss: 0.15321, val_accr: 0.930\n",
      "01210 | train_loss: 0.02497, train_accr: 1.000 | val_loss: 0.16134, val_accr: 0.925\n",
      "01220 | train_loss: 0.01958, train_accr: 1.000 | val_loss: 0.18840, val_accr: 0.910\n",
      "01230 | train_loss: 0.02575, train_accr: 0.995 | val_loss: 0.21239, val_accr: 0.875\n",
      "01240 | train_loss: 0.02481, train_accr: 0.995 | val_loss: 0.20949, val_accr: 0.905\n",
      "01250 | train_loss: 0.02708, train_accr: 1.000 | val_loss: 0.18498, val_accr: 0.925\n",
      "01260 | train_loss: 0.03154, train_accr: 0.995 | val_loss: 0.14898, val_accr: 0.915\n",
      "01270 | train_loss: 0.02122, train_accr: 1.000 | val_loss: 0.19012, val_accr: 0.910\n",
      "01280 | train_loss: 0.02566, train_accr: 1.000 | val_loss: 0.14730, val_accr: 0.915\n",
      "01290 | train_loss: 0.02398, train_accr: 0.995 | val_loss: 0.20614, val_accr: 0.905\n",
      "01300 | train_loss: 0.02747, train_accr: 1.000 | val_loss: 0.17341, val_accr: 0.910\n",
      "01310 | train_loss: 0.01767, train_accr: 0.995 | val_loss: 0.14159, val_accr: 0.925\n",
      "01320 | train_loss: 0.02073, train_accr: 1.000 | val_loss: 0.16188, val_accr: 0.930\n",
      "01330 | train_loss: 0.02406, train_accr: 1.000 | val_loss: 0.19227, val_accr: 0.910\n",
      "01340 | train_loss: 0.02205, train_accr: 0.995 | val_loss: 0.16105, val_accr: 0.925\n",
      "01350 | train_loss: 0.01747, train_accr: 1.000 | val_loss: 0.13353, val_accr: 0.930\n",
      "01360 | train_loss: 0.02000, train_accr: 1.000 | val_loss: 0.15823, val_accr: 0.935\n",
      "01370 | train_loss: 0.01637, train_accr: 1.000 | val_loss: 0.15484, val_accr: 0.930\n",
      "01380 | train_loss: 0.01522, train_accr: 1.000 | val_loss: 0.14616, val_accr: 0.930\n",
      "01390 | train_loss: 0.02043, train_accr: 1.000 | val_loss: 0.20025, val_accr: 0.920\n",
      "01400 | train_loss: 0.02074, train_accr: 0.995 | val_loss: 0.13791, val_accr: 0.940\n",
      "01410 | train_loss: 0.01766, train_accr: 1.000 | val_loss: 0.13649, val_accr: 0.935\n",
      "01420 | train_loss: 0.01452, train_accr: 1.000 | val_loss: 0.14490, val_accr: 0.940\n",
      "01430 | train_loss: 0.01999, train_accr: 1.000 | val_loss: 0.16219, val_accr: 0.935\n",
      "01440 | train_loss: 0.01482, train_accr: 1.000 | val_loss: 0.12358, val_accr: 0.940\n",
      "01450 | train_loss: 0.02005, train_accr: 0.995 | val_loss: 0.17621, val_accr: 0.940\n",
      "01460 | train_loss: 0.01271, train_accr: 1.000 | val_loss: 0.15677, val_accr: 0.920\n",
      "01470 | train_loss: 0.02203, train_accr: 1.000 | val_loss: 0.17071, val_accr: 0.930\n",
      "01480 | train_loss: 0.01292, train_accr: 1.000 | val_loss: 0.20443, val_accr: 0.915\n",
      "01490 | train_loss: 0.01439, train_accr: 1.000 | val_loss: 0.18990, val_accr: 0.915\n",
      "01500 | train_loss: 0.01416, train_accr: 1.000 | val_loss: 0.22748, val_accr: 0.905\n",
      "01510 | train_loss: 0.01694, train_accr: 1.000 | val_loss: 0.13549, val_accr: 0.940\n",
      "01520 | train_loss: 0.00858, train_accr: 1.000 | val_loss: 0.13642, val_accr: 0.940\n",
      "01530 | train_loss: 0.01507, train_accr: 1.000 | val_loss: 0.13248, val_accr: 0.940\n",
      "01540 | train_loss: 0.01112, train_accr: 1.000 | val_loss: 0.20511, val_accr: 0.915\n",
      "01550 | train_loss: 0.01366, train_accr: 1.000 | val_loss: 0.17044, val_accr: 0.925\n",
      "01560 | train_loss: 0.01349, train_accr: 1.000 | val_loss: 0.17289, val_accr: 0.925\n",
      "01570 | train_loss: 0.01356, train_accr: 1.000 | val_loss: 0.14372, val_accr: 0.940\n",
      "01580 | train_loss: 0.01087, train_accr: 1.000 | val_loss: 0.17127, val_accr: 0.925\n",
      "01590 | train_loss: 0.01364, train_accr: 1.000 | val_loss: 0.16034, val_accr: 0.930\n",
      "01600 | train_loss: 0.01868, train_accr: 1.000 | val_loss: 0.17121, val_accr: 0.915\n",
      "01610 | train_loss: 0.02671, train_accr: 0.990 | val_loss: 0.16870, val_accr: 0.920\n",
      "01620 | train_loss: 0.01191, train_accr: 1.000 | val_loss: 0.16435, val_accr: 0.920\n",
      "01630 | train_loss: 0.01376, train_accr: 1.000 | val_loss: 0.12768, val_accr: 0.935\n",
      "01640 | train_loss: 0.01209, train_accr: 1.000 | val_loss: 0.22234, val_accr: 0.900\n",
      "01650 | train_loss: 0.00936, train_accr: 1.000 | val_loss: 0.16148, val_accr: 0.920\n",
      "01660 | train_loss: 0.01061, train_accr: 1.000 | val_loss: 0.16347, val_accr: 0.925\n",
      "01670 | train_loss: 0.00970, train_accr: 1.000 | val_loss: 0.20229, val_accr: 0.925\n",
      "01680 | train_loss: 0.00850, train_accr: 1.000 | val_loss: 0.14362, val_accr: 0.920\n",
      "01690 | train_loss: 0.00775, train_accr: 1.000 | val_loss: 0.16249, val_accr: 0.920\n",
      "01700 | train_loss: 0.00725, train_accr: 1.000 | val_loss: 0.21675, val_accr: 0.900\n",
      "01710 | train_loss: 0.01005, train_accr: 1.000 | val_loss: 0.15322, val_accr: 0.945\n",
      "01720 | train_loss: 0.00784, train_accr: 1.000 | val_loss: 0.16113, val_accr: 0.930\n",
      "01730 | train_loss: 0.00791, train_accr: 1.000 | val_loss: 0.18121, val_accr: 0.915\n",
      "01740 | train_loss: 0.00637, train_accr: 1.000 | val_loss: 0.13315, val_accr: 0.945\n",
      "01750 | train_loss: 0.01036, train_accr: 1.000 | val_loss: 0.15020, val_accr: 0.925\n",
      "01760 | train_loss: 0.01098, train_accr: 1.000 | val_loss: 0.17994, val_accr: 0.925\n",
      "01770 | train_loss: 0.00934, train_accr: 1.000 | val_loss: 0.16759, val_accr: 0.930\n",
      "01780 | train_loss: 0.00861, train_accr: 1.000 | val_loss: 0.17784, val_accr: 0.930\n",
      "01790 | train_loss: 0.00693, train_accr: 1.000 | val_loss: 0.16516, val_accr: 0.925\n",
      "01800 | train_loss: 0.00908, train_accr: 1.000 | val_loss: 0.16151, val_accr: 0.935\n",
      "01810 | train_loss: 0.00862, train_accr: 1.000 | val_loss: 0.17182, val_accr: 0.920\n",
      "01820 | train_loss: 0.00614, train_accr: 1.000 | val_loss: 0.21427, val_accr: 0.915\n",
      "01830 | train_loss: 0.00728, train_accr: 1.000 | val_loss: 0.10434, val_accr: 0.955\n",
      "01840 | train_loss: 0.00588, train_accr: 1.000 | val_loss: 0.16212, val_accr: 0.920\n",
      "01850 | train_loss: 0.01008, train_accr: 1.000 | val_loss: 0.17608, val_accr: 0.940\n",
      "01860 | train_loss: 0.00495, train_accr: 1.000 | val_loss: 0.14082, val_accr: 0.925\n",
      "01870 | train_loss: 0.00801, train_accr: 1.000 | val_loss: 0.19564, val_accr: 0.920\n",
      "01880 | train_loss: 0.01128, train_accr: 1.000 | val_loss: 0.20833, val_accr: 0.920\n",
      "01890 | train_loss: 0.00510, train_accr: 1.000 | val_loss: 0.18083, val_accr: 0.915\n",
      "01900 | train_loss: 0.00657, train_accr: 1.000 | val_loss: 0.19223, val_accr: 0.930\n",
      "01910 | train_loss: 0.00493, train_accr: 1.000 | val_loss: 0.15848, val_accr: 0.930\n",
      "01920 | train_loss: 0.00676, train_accr: 1.000 | val_loss: 0.12208, val_accr: 0.950\n",
      "01930 | train_loss: 0.00650, train_accr: 1.000 | val_loss: 0.19728, val_accr: 0.905\n",
      "01940 | train_loss: 0.00803, train_accr: 1.000 | val_loss: 0.17079, val_accr: 0.935\n",
      "01950 | train_loss: 0.00648, train_accr: 1.000 | val_loss: 0.17372, val_accr: 0.935\n",
      "01960 | train_loss: 0.00532, train_accr: 1.000 | val_loss: 0.20454, val_accr: 0.920\n"
     ]
    },
    {
     "name": "stdout",
     "output_type": "stream",
     "text": [
      "01970 | train_loss: 0.00634, train_accr: 1.000 | val_loss: 0.22767, val_accr: 0.910\n",
      "01980 | train_loss: 0.00360, train_accr: 1.000 | val_loss: 0.19322, val_accr: 0.915\n",
      "01990 | train_loss: 0.00447, train_accr: 1.000 | val_loss: 0.20579, val_accr: 0.925\n",
      "02000 | train_loss: 0.00617, train_accr: 1.000 | val_loss: 0.11468, val_accr: 0.950\n",
      "02010 | train_loss: 0.00443, train_accr: 1.000 | val_loss: 0.18453, val_accr: 0.930\n",
      "02020 | train_loss: 0.00459, train_accr: 1.000 | val_loss: 0.19309, val_accr: 0.910\n",
      "02030 | train_loss: 0.00479, train_accr: 1.000 | val_loss: 0.18806, val_accr: 0.940\n",
      "02040 | train_loss: 0.00600, train_accr: 1.000 | val_loss: 0.20912, val_accr: 0.920\n",
      "02050 | train_loss: 0.00337, train_accr: 1.000 | val_loss: 0.18886, val_accr: 0.930\n",
      "02060 | train_loss: 0.00478, train_accr: 1.000 | val_loss: 0.21402, val_accr: 0.910\n",
      "02070 | train_loss: 0.00530, train_accr: 1.000 | val_loss: 0.15491, val_accr: 0.940\n",
      "02080 | train_loss: 0.00350, train_accr: 1.000 | val_loss: 0.17037, val_accr: 0.915\n",
      "02090 | train_loss: 0.00436, train_accr: 1.000 | val_loss: 0.17542, val_accr: 0.935\n",
      "02100 | train_loss: 0.00441, train_accr: 1.000 | val_loss: 0.18975, val_accr: 0.905\n",
      "02110 | train_loss: 0.00606, train_accr: 1.000 | val_loss: 0.13919, val_accr: 0.945\n",
      "02120 | train_loss: 0.00407, train_accr: 1.000 | val_loss: 0.17207, val_accr: 0.940\n",
      "02130 | train_loss: 0.00488, train_accr: 1.000 | val_loss: 0.21240, val_accr: 0.915\n",
      "02140 | train_loss: 0.00467, train_accr: 1.000 | val_loss: 0.15405, val_accr: 0.930\n",
      "02150 | train_loss: 0.00379, train_accr: 1.000 | val_loss: 0.20328, val_accr: 0.930\n",
      "02160 | train_loss: 0.00322, train_accr: 1.000 | val_loss: 0.19917, val_accr: 0.930\n",
      "02170 | train_loss: 0.00386, train_accr: 1.000 | val_loss: 0.17264, val_accr: 0.935\n",
      "02180 | train_loss: 0.00490, train_accr: 1.000 | val_loss: 0.18372, val_accr: 0.920\n",
      "02190 | train_loss: 0.00313, train_accr: 1.000 | val_loss: 0.14672, val_accr: 0.940\n",
      "02200 | train_loss: 0.00327, train_accr: 1.000 | val_loss: 0.16321, val_accr: 0.935\n",
      "02210 | train_loss: 0.00297, train_accr: 1.000 | val_loss: 0.14671, val_accr: 0.925\n",
      "02220 | train_loss: 0.00302, train_accr: 1.000 | val_loss: 0.20916, val_accr: 0.920\n",
      "02230 | train_loss: 0.00688, train_accr: 1.000 | val_loss: 0.12045, val_accr: 0.940\n",
      "02240 | train_loss: 0.00276, train_accr: 1.000 | val_loss: 0.23667, val_accr: 0.915\n",
      "02250 | train_loss: 0.00255, train_accr: 1.000 | val_loss: 0.14248, val_accr: 0.930\n",
      "02260 | train_loss: 0.00324, train_accr: 1.000 | val_loss: 0.17021, val_accr: 0.930\n",
      "02270 | train_loss: 0.00432, train_accr: 1.000 | val_loss: 0.17377, val_accr: 0.930\n",
      "02280 | train_loss: 0.00542, train_accr: 1.000 | val_loss: 0.19939, val_accr: 0.915\n",
      "02290 | train_loss: 0.00300, train_accr: 1.000 | val_loss: 0.10636, val_accr: 0.950\n",
      "02300 | train_loss: 0.00251, train_accr: 1.000 | val_loss: 0.11865, val_accr: 0.945\n",
      "02310 | train_loss: 0.00304, train_accr: 1.000 | val_loss: 0.16700, val_accr: 0.930\n",
      "02320 | train_loss: 0.00425, train_accr: 1.000 | val_loss: 0.25838, val_accr: 0.920\n",
      "02330 | train_loss: 0.00319, train_accr: 1.000 | val_loss: 0.14673, val_accr: 0.920\n",
      "02340 | train_loss: 0.00337, train_accr: 1.000 | val_loss: 0.17755, val_accr: 0.910\n",
      "02350 | train_loss: 0.00328, train_accr: 1.000 | val_loss: 0.22911, val_accr: 0.910\n",
      "02360 | train_loss: 0.00403, train_accr: 1.000 | val_loss: 0.15133, val_accr: 0.950\n",
      "02370 | train_loss: 0.00271, train_accr: 1.000 | val_loss: 0.23232, val_accr: 0.915\n",
      "02380 | train_loss: 0.00343, train_accr: 1.000 | val_loss: 0.16316, val_accr: 0.925\n",
      "02390 | train_loss: 0.00377, train_accr: 1.000 | val_loss: 0.17976, val_accr: 0.930\n",
      "02400 | train_loss: 0.00286, train_accr: 1.000 | val_loss: 0.19380, val_accr: 0.935\n",
      "02410 | train_loss: 0.00266, train_accr: 1.000 | val_loss: 0.19561, val_accr: 0.915\n",
      "02420 | train_loss: 0.00261, train_accr: 1.000 | val_loss: 0.19858, val_accr: 0.910\n",
      "02430 | train_loss: 0.00212, train_accr: 1.000 | val_loss: 0.18883, val_accr: 0.930\n",
      "02440 | train_loss: 0.00261, train_accr: 1.000 | val_loss: 0.18176, val_accr: 0.915\n",
      "02450 | train_loss: 0.00209, train_accr: 1.000 | val_loss: 0.20303, val_accr: 0.940\n",
      "02460 | train_loss: 0.00267, train_accr: 1.000 | val_loss: 0.18728, val_accr: 0.935\n",
      "02470 | train_loss: 0.00290, train_accr: 1.000 | val_loss: 0.21653, val_accr: 0.920\n",
      "02480 | train_loss: 0.00363, train_accr: 1.000 | val_loss: 0.15401, val_accr: 0.930\n",
      "02490 | train_loss: 0.00396, train_accr: 1.000 | val_loss: 0.24727, val_accr: 0.900\n",
      "02500 | train_loss: 0.00215, train_accr: 1.000 | val_loss: 0.14748, val_accr: 0.940\n",
      "02510 | train_loss: 0.00351, train_accr: 1.000 | val_loss: 0.19346, val_accr: 0.915\n",
      "02520 | train_loss: 0.00261, train_accr: 1.000 | val_loss: 0.20017, val_accr: 0.935\n",
      "02530 | train_loss: 0.00186, train_accr: 1.000 | val_loss: 0.15057, val_accr: 0.950\n",
      "02540 | train_loss: 0.00247, train_accr: 1.000 | val_loss: 0.11303, val_accr: 0.945\n",
      "02550 | train_loss: 0.00250, train_accr: 1.000 | val_loss: 0.15614, val_accr: 0.930\n",
      "02560 | train_loss: 0.00211, train_accr: 1.000 | val_loss: 0.17352, val_accr: 0.930\n",
      "02570 | train_loss: 0.00162, train_accr: 1.000 | val_loss: 0.19351, val_accr: 0.925\n",
      "02580 | train_loss: 0.00225, train_accr: 1.000 | val_loss: 0.26054, val_accr: 0.915\n",
      "02590 | train_loss: 0.00195, train_accr: 1.000 | val_loss: 0.12178, val_accr: 0.950\n",
      "02600 | train_loss: 0.00224, train_accr: 1.000 | val_loss: 0.16278, val_accr: 0.940\n",
      "02610 | train_loss: 0.00192, train_accr: 1.000 | val_loss: 0.18684, val_accr: 0.920\n",
      "02620 | train_loss: 0.00190, train_accr: 1.000 | val_loss: 0.17916, val_accr: 0.935\n",
      "02630 | train_loss: 0.00285, train_accr: 1.000 | val_loss: 0.22073, val_accr: 0.905\n",
      "02640 | train_loss: 0.00227, train_accr: 1.000 | val_loss: 0.11637, val_accr: 0.955\n",
      "02650 | train_loss: 0.00156, train_accr: 1.000 | val_loss: 0.15460, val_accr: 0.930\n",
      "02660 | train_loss: 0.00284, train_accr: 1.000 | val_loss: 0.17195, val_accr: 0.925\n",
      "02670 | train_loss: 0.00245, train_accr: 1.000 | val_loss: 0.16861, val_accr: 0.935\n",
      "02680 | train_loss: 0.00185, train_accr: 1.000 | val_loss: 0.23541, val_accr: 0.930\n",
      "02690 | train_loss: 0.00337, train_accr: 1.000 | val_loss: 0.22741, val_accr: 0.915\n",
      "02700 | train_loss: 0.00190, train_accr: 1.000 | val_loss: 0.15641, val_accr: 0.945\n",
      "02710 | train_loss: 0.00111, train_accr: 1.000 | val_loss: 0.21140, val_accr: 0.935\n",
      "02720 | train_loss: 0.00147, train_accr: 1.000 | val_loss: 0.17384, val_accr: 0.925\n",
      "02730 | train_loss: 0.00142, train_accr: 1.000 | val_loss: 0.20309, val_accr: 0.930\n",
      "02740 | train_loss: 0.00143, train_accr: 1.000 | val_loss: 0.16985, val_accr: 0.935\n",
      "02750 | train_loss: 0.00211, train_accr: 1.000 | val_loss: 0.18059, val_accr: 0.940\n",
      "02760 | train_loss: 0.00141, train_accr: 1.000 | val_loss: 0.17101, val_accr: 0.935\n",
      "02770 | train_loss: 0.00265, train_accr: 1.000 | val_loss: 0.15547, val_accr: 0.930\n",
      "02780 | train_loss: 0.00180, train_accr: 1.000 | val_loss: 0.19225, val_accr: 0.930\n",
      "02790 | train_loss: 0.00201, train_accr: 1.000 | val_loss: 0.23618, val_accr: 0.925\n",
      "02800 | train_loss: 0.00130, train_accr: 1.000 | val_loss: 0.21997, val_accr: 0.920\n",
      "02810 | train_loss: 0.00135, train_accr: 1.000 | val_loss: 0.25343, val_accr: 0.915\n",
      "02820 | train_loss: 0.00133, train_accr: 1.000 | val_loss: 0.14575, val_accr: 0.950\n",
      "02830 | train_loss: 0.00145, train_accr: 1.000 | val_loss: 0.21906, val_accr: 0.925\n",
      "02840 | train_loss: 0.00233, train_accr: 1.000 | val_loss: 0.21092, val_accr: 0.940\n",
      "02850 | train_loss: 0.00200, train_accr: 1.000 | val_loss: 0.18257, val_accr: 0.955\n",
      "02860 | train_loss: 0.00174, train_accr: 1.000 | val_loss: 0.18993, val_accr: 0.940\n",
      "02870 | train_loss: 0.00198, train_accr: 1.000 | val_loss: 0.16291, val_accr: 0.940\n",
      "02880 | train_loss: 0.00232, train_accr: 1.000 | val_loss: 0.19022, val_accr: 0.930\n",
      "02890 | train_loss: 0.00128, train_accr: 1.000 | val_loss: 0.19864, val_accr: 0.925\n",
      "02900 | train_loss: 0.00159, train_accr: 1.000 | val_loss: 0.15379, val_accr: 0.935\n",
      "02910 | train_loss: 0.00100, train_accr: 1.000 | val_loss: 0.16034, val_accr: 0.930\n",
      "02920 | train_loss: 0.00140, train_accr: 1.000 | val_loss: 0.18068, val_accr: 0.935\n",
      "02930 | train_loss: 0.00137, train_accr: 1.000 | val_loss: 0.21534, val_accr: 0.930\n",
      "02940 | train_loss: 0.00199, train_accr: 1.000 | val_loss: 0.15054, val_accr: 0.945\n"
     ]
    },
    {
     "name": "stdout",
     "output_type": "stream",
     "text": [
      "02950 | train_loss: 0.00149, train_accr: 1.000 | val_loss: 0.17789, val_accr: 0.935\n",
      "02960 | train_loss: 0.00170, train_accr: 1.000 | val_loss: 0.24330, val_accr: 0.910\n",
      "02970 | train_loss: 0.00143, train_accr: 1.000 | val_loss: 0.18362, val_accr: 0.930\n",
      "02980 | train_loss: 0.00104, train_accr: 1.000 | val_loss: 0.22245, val_accr: 0.920\n",
      "02990 | train_loss: 0.00145, train_accr: 1.000 | val_loss: 0.22267, val_accr: 0.925\n",
      "03000 | train_loss: 0.00359, train_accr: 1.000 | val_loss: 0.22063, val_accr: 0.915\n",
      "03010 | train_loss: 0.00179, train_accr: 1.000 | val_loss: 0.10914, val_accr: 0.950\n",
      "03020 | train_loss: 0.00177, train_accr: 1.000 | val_loss: 0.21965, val_accr: 0.940\n",
      "03030 | train_loss: 0.00213, train_accr: 1.000 | val_loss: 0.17329, val_accr: 0.930\n",
      "03040 | train_loss: 0.00173, train_accr: 1.000 | val_loss: 0.20640, val_accr: 0.935\n",
      "03050 | train_loss: 0.00112, train_accr: 1.000 | val_loss: 0.23962, val_accr: 0.925\n",
      "03060 | train_loss: 0.00105, train_accr: 1.000 | val_loss: 0.18414, val_accr: 0.925\n",
      "03070 | train_loss: 0.00138, train_accr: 1.000 | val_loss: 0.26443, val_accr: 0.910\n",
      "03080 | train_loss: 0.00153, train_accr: 1.000 | val_loss: 0.21812, val_accr: 0.940\n",
      "03090 | train_loss: 0.00113, train_accr: 1.000 | val_loss: 0.19162, val_accr: 0.930\n",
      "03100 | train_loss: 0.00125, train_accr: 1.000 | val_loss: 0.24305, val_accr: 0.935\n",
      "03110 | train_loss: 0.00127, train_accr: 1.000 | val_loss: 0.25332, val_accr: 0.915\n",
      "03120 | train_loss: 0.00171, train_accr: 1.000 | val_loss: 0.26615, val_accr: 0.910\n",
      "03130 | train_loss: 0.00097, train_accr: 1.000 | val_loss: 0.24534, val_accr: 0.915\n",
      "03140 | train_loss: 0.00120, train_accr: 1.000 | val_loss: 0.21908, val_accr: 0.925\n",
      "03150 | train_loss: 0.00141, train_accr: 1.000 | val_loss: 0.19109, val_accr: 0.935\n",
      "03160 | train_loss: 0.00297, train_accr: 1.000 | val_loss: 0.15692, val_accr: 0.945\n",
      "03170 | train_loss: 0.00062, train_accr: 1.000 | val_loss: 0.24417, val_accr: 0.920\n",
      "03180 | train_loss: 0.00332, train_accr: 1.000 | val_loss: 0.24732, val_accr: 0.925\n",
      "03190 | train_loss: 0.00105, train_accr: 1.000 | val_loss: 0.17051, val_accr: 0.920\n",
      "03200 | train_loss: 0.00115, train_accr: 1.000 | val_loss: 0.17652, val_accr: 0.940\n",
      "03210 | train_loss: 0.00107, train_accr: 1.000 | val_loss: 0.19519, val_accr: 0.925\n",
      "03220 | train_loss: 0.00082, train_accr: 1.000 | val_loss: 0.24777, val_accr: 0.905\n",
      "03230 | train_loss: 0.00113, train_accr: 1.000 | val_loss: 0.26919, val_accr: 0.920\n",
      "03240 | train_loss: 0.00143, train_accr: 1.000 | val_loss: 0.19727, val_accr: 0.930\n",
      "03250 | train_loss: 0.00094, train_accr: 1.000 | val_loss: 0.23354, val_accr: 0.920\n",
      "03260 | train_loss: 0.00177, train_accr: 1.000 | val_loss: 0.21082, val_accr: 0.940\n",
      "03270 | train_loss: 0.00096, train_accr: 1.000 | val_loss: 0.17849, val_accr: 0.925\n",
      "03280 | train_loss: 0.00121, train_accr: 1.000 | val_loss: 0.13345, val_accr: 0.955\n",
      "03290 | train_loss: 0.00149, train_accr: 1.000 | val_loss: 0.24653, val_accr: 0.915\n",
      "03300 | train_loss: 0.00108, train_accr: 1.000 | val_loss: 0.24992, val_accr: 0.915\n",
      "03310 | train_loss: 0.00088, train_accr: 1.000 | val_loss: 0.23893, val_accr: 0.920\n",
      "03320 | train_loss: 0.00138, train_accr: 1.000 | val_loss: 0.22364, val_accr: 0.915\n",
      "03330 | train_loss: 0.00099, train_accr: 1.000 | val_loss: 0.20779, val_accr: 0.920\n",
      "03340 | train_loss: 0.00072, train_accr: 1.000 | val_loss: 0.22413, val_accr: 0.920\n",
      "03350 | train_loss: 0.00076, train_accr: 1.000 | val_loss: 0.19403, val_accr: 0.925\n",
      "03360 | train_loss: 0.00109, train_accr: 1.000 | val_loss: 0.22212, val_accr: 0.925\n",
      "03370 | train_loss: 0.00094, train_accr: 1.000 | val_loss: 0.25108, val_accr: 0.920\n",
      "03380 | train_loss: 0.00098, train_accr: 1.000 | val_loss: 0.14426, val_accr: 0.935\n",
      "03390 | train_loss: 0.00120, train_accr: 1.000 | val_loss: 0.20409, val_accr: 0.940\n",
      "03400 | train_loss: 0.00098, train_accr: 1.000 | val_loss: 0.17534, val_accr: 0.940\n",
      "03410 | train_loss: 0.00103, train_accr: 1.000 | val_loss: 0.22502, val_accr: 0.915\n",
      "03420 | train_loss: 0.00112, train_accr: 1.000 | val_loss: 0.20546, val_accr: 0.930\n",
      "03430 | train_loss: 0.00049, train_accr: 1.000 | val_loss: 0.20637, val_accr: 0.935\n",
      "03440 | train_loss: 0.00068, train_accr: 1.000 | val_loss: 0.15605, val_accr: 0.930\n",
      "03450 | train_loss: 0.00099, train_accr: 1.000 | val_loss: 0.16108, val_accr: 0.930\n",
      "03460 | train_loss: 0.00102, train_accr: 1.000 | val_loss: 0.23967, val_accr: 0.925\n",
      "03470 | train_loss: 0.00064, train_accr: 1.000 | val_loss: 0.17103, val_accr: 0.930\n",
      "03480 | train_loss: 0.00114, train_accr: 1.000 | val_loss: 0.22367, val_accr: 0.920\n",
      "03490 | train_loss: 0.00163, train_accr: 1.000 | val_loss: 0.24489, val_accr: 0.920\n",
      "03500 | train_loss: 0.00060, train_accr: 1.000 | val_loss: 0.21774, val_accr: 0.920\n",
      "03510 | train_loss: 0.00090, train_accr: 1.000 | val_loss: 0.21069, val_accr: 0.930\n",
      "03520 | train_loss: 0.00044, train_accr: 1.000 | val_loss: 0.26049, val_accr: 0.915\n",
      "03530 | train_loss: 0.00084, train_accr: 1.000 | val_loss: 0.27620, val_accr: 0.910\n",
      "03540 | train_loss: 0.00063, train_accr: 1.000 | val_loss: 0.24088, val_accr: 0.920\n",
      "03550 | train_loss: 0.00074, train_accr: 1.000 | val_loss: 0.23490, val_accr: 0.915\n",
      "03560 | train_loss: 0.00079, train_accr: 1.000 | val_loss: 0.20485, val_accr: 0.930\n",
      "03570 | train_loss: 0.00048, train_accr: 1.000 | val_loss: 0.28786, val_accr: 0.920\n",
      "03580 | train_loss: 0.00058, train_accr: 1.000 | val_loss: 0.21037, val_accr: 0.930\n",
      "03590 | train_loss: 0.00099, train_accr: 1.000 | val_loss: 0.20063, val_accr: 0.955\n",
      "03600 | train_loss: 0.00125, train_accr: 1.000 | val_loss: 0.17272, val_accr: 0.930\n",
      "03610 | train_loss: 0.00077, train_accr: 1.000 | val_loss: 0.21860, val_accr: 0.925\n",
      "03620 | train_loss: 0.00084, train_accr: 1.000 | val_loss: 0.22819, val_accr: 0.930\n",
      "03630 | train_loss: 0.00063, train_accr: 1.000 | val_loss: 0.25858, val_accr: 0.915\n",
      "03640 | train_loss: 0.00081, train_accr: 1.000 | val_loss: 0.20975, val_accr: 0.925\n",
      "03650 | train_loss: 0.00075, train_accr: 1.000 | val_loss: 0.15714, val_accr: 0.950\n",
      "03660 | train_loss: 0.00106, train_accr: 1.000 | val_loss: 0.25484, val_accr: 0.920\n",
      "03670 | train_loss: 0.00071, train_accr: 1.000 | val_loss: 0.21803, val_accr: 0.930\n",
      "03680 | train_loss: 0.00078, train_accr: 1.000 | val_loss: 0.23125, val_accr: 0.930\n",
      "03690 | train_loss: 0.00050, train_accr: 1.000 | val_loss: 0.14575, val_accr: 0.945\n",
      "03700 | train_loss: 0.00095, train_accr: 1.000 | val_loss: 0.17978, val_accr: 0.935\n",
      "03710 | train_loss: 0.00046, train_accr: 1.000 | val_loss: 0.21974, val_accr: 0.925\n",
      "03720 | train_loss: 0.00094, train_accr: 1.000 | val_loss: 0.24964, val_accr: 0.910\n",
      "03730 | train_loss: 0.00066, train_accr: 1.000 | val_loss: 0.24932, val_accr: 0.925\n",
      "03740 | train_loss: 0.00096, train_accr: 1.000 | val_loss: 0.27517, val_accr: 0.925\n",
      "03750 | train_loss: 0.00088, train_accr: 1.000 | val_loss: 0.21335, val_accr: 0.925\n",
      "03760 | train_loss: 0.00071, train_accr: 1.000 | val_loss: 0.14836, val_accr: 0.940\n",
      "03770 | train_loss: 0.00061, train_accr: 1.000 | val_loss: 0.23980, val_accr: 0.930\n",
      "03780 | train_loss: 0.00039, train_accr: 1.000 | val_loss: 0.18000, val_accr: 0.925\n",
      "03790 | train_loss: 0.00069, train_accr: 1.000 | val_loss: 0.23754, val_accr: 0.930\n",
      "03800 | train_loss: 0.00101, train_accr: 1.000 | val_loss: 0.22753, val_accr: 0.940\n",
      "03810 | train_loss: 0.00080, train_accr: 1.000 | val_loss: 0.22686, val_accr: 0.925\n",
      "03820 | train_loss: 0.00052, train_accr: 1.000 | val_loss: 0.26939, val_accr: 0.930\n",
      "03830 | train_loss: 0.00072, train_accr: 1.000 | val_loss: 0.26972, val_accr: 0.905\n",
      "03840 | train_loss: 0.00035, train_accr: 1.000 | val_loss: 0.30969, val_accr: 0.900\n",
      "03850 | train_loss: 0.00092, train_accr: 1.000 | val_loss: 0.18803, val_accr: 0.935\n",
      "03860 | train_loss: 0.00064, train_accr: 1.000 | val_loss: 0.19351, val_accr: 0.930\n",
      "03870 | train_loss: 0.00085, train_accr: 1.000 | val_loss: 0.15955, val_accr: 0.930\n",
      "03880 | train_loss: 0.00049, train_accr: 1.000 | val_loss: 0.26228, val_accr: 0.920\n",
      "03890 | train_loss: 0.00036, train_accr: 1.000 | val_loss: 0.22276, val_accr: 0.930\n",
      "03900 | train_loss: 0.00054, train_accr: 1.000 | val_loss: 0.24224, val_accr: 0.940\n",
      "03910 | train_loss: 0.00055, train_accr: 1.000 | val_loss: 0.21978, val_accr: 0.925\n",
      "03920 | train_loss: 0.00052, train_accr: 1.000 | val_loss: 0.23995, val_accr: 0.915\n"
     ]
    },
    {
     "name": "stdout",
     "output_type": "stream",
     "text": [
      "03930 | train_loss: 0.00086, train_accr: 1.000 | val_loss: 0.27459, val_accr: 0.920\n",
      "03940 | train_loss: 0.00076, train_accr: 1.000 | val_loss: 0.27353, val_accr: 0.920\n",
      "03950 | train_loss: 0.00065, train_accr: 1.000 | val_loss: 0.22762, val_accr: 0.925\n",
      "03960 | train_loss: 0.00038, train_accr: 1.000 | val_loss: 0.19124, val_accr: 0.935\n",
      "03970 | train_loss: 0.00075, train_accr: 1.000 | val_loss: 0.14495, val_accr: 0.950\n",
      "03980 | train_loss: 0.00082, train_accr: 1.000 | val_loss: 0.23240, val_accr: 0.905\n",
      "03990 | train_loss: 0.00046, train_accr: 1.000 | val_loss: 0.17189, val_accr: 0.955\n",
      "04000 | train_loss: 0.00055, train_accr: 1.000 | val_loss: 0.18633, val_accr: 0.940\n",
      "04010 | train_loss: 0.00071, train_accr: 1.000 | val_loss: 0.20441, val_accr: 0.935\n",
      "04020 | train_loss: 0.00055, train_accr: 1.000 | val_loss: 0.22826, val_accr: 0.930\n",
      "04030 | train_loss: 0.00079, train_accr: 1.000 | val_loss: 0.26244, val_accr: 0.915\n",
      "04040 | train_loss: 0.00089, train_accr: 1.000 | val_loss: 0.20507, val_accr: 0.935\n",
      "04050 | train_loss: 0.00042, train_accr: 1.000 | val_loss: 0.27360, val_accr: 0.915\n",
      "04060 | train_loss: 0.00046, train_accr: 1.000 | val_loss: 0.19478, val_accr: 0.930\n",
      "04070 | train_loss: 0.00047, train_accr: 1.000 | val_loss: 0.26201, val_accr: 0.920\n",
      "04080 | train_loss: 0.00049, train_accr: 1.000 | val_loss: 0.23200, val_accr: 0.935\n",
      "04090 | train_loss: 0.00036, train_accr: 1.000 | val_loss: 0.26145, val_accr: 0.910\n",
      "04100 | train_loss: 0.00064, train_accr: 1.000 | val_loss: 0.25101, val_accr: 0.925\n",
      "04110 | train_loss: 0.00037, train_accr: 1.000 | val_loss: 0.18875, val_accr: 0.935\n",
      "04120 | train_loss: 0.00029, train_accr: 1.000 | val_loss: 0.17300, val_accr: 0.935\n",
      "04130 | train_loss: 0.00077, train_accr: 1.000 | val_loss: 0.19088, val_accr: 0.925\n",
      "04140 | train_loss: 0.00033, train_accr: 1.000 | val_loss: 0.22824, val_accr: 0.930\n",
      "04150 | train_loss: 0.00047, train_accr: 1.000 | val_loss: 0.22173, val_accr: 0.925\n",
      "04160 | train_loss: 0.00074, train_accr: 1.000 | val_loss: 0.30714, val_accr: 0.910\n",
      "04170 | train_loss: 0.00092, train_accr: 1.000 | val_loss: 0.20119, val_accr: 0.935\n",
      "04180 | train_loss: 0.00051, train_accr: 1.000 | val_loss: 0.20618, val_accr: 0.935\n",
      "04190 | train_loss: 0.00023, train_accr: 1.000 | val_loss: 0.18837, val_accr: 0.935\n",
      "04200 | train_loss: 0.00058, train_accr: 1.000 | val_loss: 0.29387, val_accr: 0.915\n",
      "04210 | train_loss: 0.00049, train_accr: 1.000 | val_loss: 0.23494, val_accr: 0.930\n",
      "04220 | train_loss: 0.00053, train_accr: 1.000 | val_loss: 0.17323, val_accr: 0.940\n",
      "04230 | train_loss: 0.00036, train_accr: 1.000 | val_loss: 0.20071, val_accr: 0.935\n",
      "04240 | train_loss: 0.00033, train_accr: 1.000 | val_loss: 0.17474, val_accr: 0.940\n",
      "04250 | train_loss: 0.00043, train_accr: 1.000 | val_loss: 0.15082, val_accr: 0.950\n",
      "04260 | train_loss: 0.00047, train_accr: 1.000 | val_loss: 0.17187, val_accr: 0.950\n",
      "04270 | train_loss: 0.00041, train_accr: 1.000 | val_loss: 0.27551, val_accr: 0.910\n",
      "04280 | train_loss: 0.00023, train_accr: 1.000 | val_loss: 0.21928, val_accr: 0.930\n",
      "04290 | train_loss: 0.00029, train_accr: 1.000 | val_loss: 0.20602, val_accr: 0.925\n",
      "04300 | train_loss: 0.00045, train_accr: 1.000 | val_loss: 0.25772, val_accr: 0.930\n",
      "04310 | train_loss: 0.00035, train_accr: 1.000 | val_loss: 0.25859, val_accr: 0.915\n",
      "04320 | train_loss: 0.00031, train_accr: 1.000 | val_loss: 0.17328, val_accr: 0.930\n",
      "04330 | train_loss: 0.00036, train_accr: 1.000 | val_loss: 0.26321, val_accr: 0.925\n",
      "04340 | train_loss: 0.00035, train_accr: 1.000 | val_loss: 0.20499, val_accr: 0.925\n",
      "04350 | train_loss: 0.00062, train_accr: 1.000 | val_loss: 0.19829, val_accr: 0.925\n",
      "04360 | train_loss: 0.00033, train_accr: 1.000 | val_loss: 0.19714, val_accr: 0.940\n",
      "04370 | train_loss: 0.00047, train_accr: 1.000 | val_loss: 0.12235, val_accr: 0.955\n",
      "04380 | train_loss: 0.00028, train_accr: 1.000 | val_loss: 0.21027, val_accr: 0.935\n",
      "04390 | train_loss: 0.00047, train_accr: 1.000 | val_loss: 0.26500, val_accr: 0.915\n",
      "04400 | train_loss: 0.00055, train_accr: 1.000 | val_loss: 0.15409, val_accr: 0.945\n",
      "04410 | train_loss: 0.00051, train_accr: 1.000 | val_loss: 0.21426, val_accr: 0.935\n",
      "04420 | train_loss: 0.00040, train_accr: 1.000 | val_loss: 0.27630, val_accr: 0.915\n",
      "04430 | train_loss: 0.00069, train_accr: 1.000 | val_loss: 0.30735, val_accr: 0.905\n",
      "04440 | train_loss: 0.00038, train_accr: 1.000 | val_loss: 0.21663, val_accr: 0.930\n",
      "04450 | train_loss: 0.00031, train_accr: 1.000 | val_loss: 0.20363, val_accr: 0.940\n",
      "04460 | train_loss: 0.00029, train_accr: 1.000 | val_loss: 0.32367, val_accr: 0.915\n",
      "04470 | train_loss: 0.00037, train_accr: 1.000 | val_loss: 0.23157, val_accr: 0.935\n",
      "04480 | train_loss: 0.00045, train_accr: 1.000 | val_loss: 0.16828, val_accr: 0.930\n",
      "04490 | train_loss: 0.00025, train_accr: 1.000 | val_loss: 0.18587, val_accr: 0.950\n",
      "04500 | train_loss: 0.00046, train_accr: 1.000 | val_loss: 0.25654, val_accr: 0.910\n",
      "04510 | train_loss: 0.00024, train_accr: 1.000 | val_loss: 0.29619, val_accr: 0.920\n",
      "04520 | train_loss: 0.00026, train_accr: 1.000 | val_loss: 0.25833, val_accr: 0.915\n",
      "04530 | train_loss: 0.00027, train_accr: 1.000 | val_loss: 0.25565, val_accr: 0.935\n",
      "04540 | train_loss: 0.00034, train_accr: 1.000 | val_loss: 0.32330, val_accr: 0.900\n",
      "04550 | train_loss: 0.00028, train_accr: 1.000 | val_loss: 0.20537, val_accr: 0.925\n",
      "04560 | train_loss: 0.00033, train_accr: 1.000 | val_loss: 0.22743, val_accr: 0.925\n",
      "04570 | train_loss: 0.00028, train_accr: 1.000 | val_loss: 0.27549, val_accr: 0.910\n",
      "04580 | train_loss: 0.00018, train_accr: 1.000 | val_loss: 0.20233, val_accr: 0.940\n",
      "04590 | train_loss: 0.00017, train_accr: 1.000 | val_loss: 0.22072, val_accr: 0.905\n",
      "04600 | train_loss: 0.00025, train_accr: 1.000 | val_loss: 0.15397, val_accr: 0.940\n",
      "04610 | train_loss: 0.00043, train_accr: 1.000 | val_loss: 0.20243, val_accr: 0.925\n",
      "04620 | train_loss: 0.00018, train_accr: 1.000 | val_loss: 0.15574, val_accr: 0.940\n",
      "04630 | train_loss: 0.00029, train_accr: 1.000 | val_loss: 0.20675, val_accr: 0.935\n",
      "04640 | train_loss: 0.00018, train_accr: 1.000 | val_loss: 0.25500, val_accr: 0.930\n",
      "04650 | train_loss: 0.00024, train_accr: 1.000 | val_loss: 0.19417, val_accr: 0.940\n",
      "04660 | train_loss: 0.00020, train_accr: 1.000 | val_loss: 0.27910, val_accr: 0.920\n",
      "04670 | train_loss: 0.00038, train_accr: 1.000 | val_loss: 0.20671, val_accr: 0.920\n",
      "04680 | train_loss: 0.00043, train_accr: 1.000 | val_loss: 0.19668, val_accr: 0.940\n",
      "04690 | train_loss: 0.00025, train_accr: 1.000 | val_loss: 0.24917, val_accr: 0.920\n",
      "04700 | train_loss: 0.00033, train_accr: 1.000 | val_loss: 0.27070, val_accr: 0.920\n",
      "04710 | train_loss: 0.00023, train_accr: 1.000 | val_loss: 0.28024, val_accr: 0.920\n",
      "04720 | train_loss: 0.00046, train_accr: 1.000 | val_loss: 0.28285, val_accr: 0.925\n",
      "04730 | train_loss: 0.00101, train_accr: 1.000 | val_loss: 0.28733, val_accr: 0.910\n",
      "04740 | train_loss: 0.00023, train_accr: 1.000 | val_loss: 0.21043, val_accr: 0.935\n",
      "04750 | train_loss: 0.00035, train_accr: 1.000 | val_loss: 0.25192, val_accr: 0.930\n",
      "04760 | train_loss: 0.00026, train_accr: 1.000 | val_loss: 0.24053, val_accr: 0.915\n",
      "04770 | train_loss: 0.00029, train_accr: 1.000 | val_loss: 0.26877, val_accr: 0.920\n",
      "04780 | train_loss: 0.00027, train_accr: 1.000 | val_loss: 0.23222, val_accr: 0.935\n",
      "04790 | train_loss: 0.00026, train_accr: 1.000 | val_loss: 0.26617, val_accr: 0.925\n",
      "04800 | train_loss: 0.00021, train_accr: 1.000 | val_loss: 0.17454, val_accr: 0.945\n",
      "04810 | train_loss: 0.00030, train_accr: 1.000 | val_loss: 0.26170, val_accr: 0.925\n",
      "04820 | train_loss: 0.00019, train_accr: 1.000 | val_loss: 0.29916, val_accr: 0.915\n",
      "04830 | train_loss: 0.00034, train_accr: 1.000 | val_loss: 0.27946, val_accr: 0.910\n",
      "04840 | train_loss: 0.00021, train_accr: 1.000 | val_loss: 0.20275, val_accr: 0.930\n",
      "04850 | train_loss: 0.00019, train_accr: 1.000 | val_loss: 0.25437, val_accr: 0.910\n",
      "04860 | train_loss: 0.00032, train_accr: 1.000 | val_loss: 0.32329, val_accr: 0.915\n",
      "04870 | train_loss: 0.00030, train_accr: 1.000 | val_loss: 0.24895, val_accr: 0.925\n",
      "04880 | train_loss: 0.00024, train_accr: 1.000 | val_loss: 0.21566, val_accr: 0.930\n",
      "04890 | train_loss: 0.00020, train_accr: 1.000 | val_loss: 0.21467, val_accr: 0.920\n",
      "04900 | train_loss: 0.00038, train_accr: 1.000 | val_loss: 0.27526, val_accr: 0.910\n"
     ]
    },
    {
     "name": "stdout",
     "output_type": "stream",
     "text": [
      "04910 | train_loss: 0.00028, train_accr: 1.000 | val_loss: 0.27788, val_accr: 0.925\n",
      "04920 | train_loss: 0.00028, train_accr: 1.000 | val_loss: 0.30459, val_accr: 0.915\n",
      "04930 | train_loss: 0.00040, train_accr: 1.000 | val_loss: 0.27782, val_accr: 0.920\n",
      "04940 | train_loss: 0.00014, train_accr: 1.000 | val_loss: 0.14034, val_accr: 0.950\n",
      "04950 | train_loss: 0.00026, train_accr: 1.000 | val_loss: 0.20984, val_accr: 0.925\n",
      "04960 | train_loss: 0.00023, train_accr: 1.000 | val_loss: 0.21335, val_accr: 0.945\n",
      "04970 | train_loss: 0.00026, train_accr: 1.000 | val_loss: 0.23116, val_accr: 0.925\n",
      "04980 | train_loss: 0.00038, train_accr: 1.000 | val_loss: 0.12506, val_accr: 0.955\n",
      "04990 | train_loss: 0.00032, train_accr: 1.000 | val_loss: 0.19934, val_accr: 0.925\n",
      "05000 | train_loss: 0.00016, train_accr: 1.000 | val_loss: 0.23625, val_accr: 0.930\n"
     ]
    }
   ],
   "source": [
    "loss_history, accr_history = [], []\n",
    "val_loss_history, val_accr_history = [], []\n",
    "\n",
    "iter_i = 0\n",
    "\n",
    "while True:\n",
    "    iter_i += 1\n",
    "    \n",
    "    G_train_x, G_train_y = RandomMinibatch(G_train_X, G_train_Y, 100)\n",
    "    B_train_x, B_train_y = RandomMinibatch(B_train_X, B_train_Y, 100)\n",
    "    \n",
    "    train_x, train_y = np.vstack([G_train_x, B_train_x]), np.hstack([G_train_y, B_train_y])\n",
    "\n",
    "    train_x, train_y = shuffle(train_x, train_y)\n",
    "    \n",
    "#     train_x, train_y = train_x.to(device), train_y.to(device)\n",
    "    train_x, train_y = torch.tensor(train_x, device=device).float(), torch.tensor(train_y, device=device).long()\n",
    "    \n",
    "    output = model(train_x)\n",
    "    loss = criterion(output, train_y)\n",
    "    \n",
    "    optimizer.zero_grad()\n",
    "    loss.backward()\n",
    "    optimizer.step()\n",
    "    \n",
    "    if iter_i % 10 == 0:\n",
    "        \n",
    "        _, pred = torch.max(output, 1)\n",
    "        \n",
    "        loss_history.append(loss.tolist())\n",
    "        accr_history.append((torch.sum(pred == train_y.data).tolist() / len(train_y)))\n",
    "        \n",
    "        with torch.no_grad():\n",
    "    \n",
    "            G_valid_x, G_valid_y = RandomMinibatch(G_valid_X, G_valid_Y, 100)\n",
    "            B_valid_x, B_valid_y = RandomMinibatch(B_valid_X, B_valid_Y, 100)\n",
    "\n",
    "            valid_x, valid_y = np.vstack([G_valid_x, B_valid_x]), np.hstack([G_valid_y, B_valid_y])\n",
    "#             valid_x, valid_y = valid_x.to(device), valid_y.to(device)\n",
    "            valid_x, valid_y = torch.tensor(valid_x, device=device).float(), torch.tensor(valid_y, device=device).long()\n",
    "\n",
    "            valid_output = model(valid_x)\n",
    "            valid_loss = criterion(valid_output, valid_y)\n",
    "            \n",
    "            _, valid_pred = torch.max(valid_output, 1)\n",
    "        \n",
    "            val_loss_history.append(valid_loss.tolist())\n",
    "            val_accr_history.append((torch.sum(valid_pred == valid_y.data).tolist() / len(valid_y)))\n",
    "        \n",
    "        \n",
    "        print(\"{:05d} | train_loss: {:.5f}, train_accr: {:.3f} | val_loss: {:.5f}, val_accr: {:.3f}\".format(iter_i, \n",
    "                                                                                                            loss_history[-1], \n",
    "                                                                                                            accr_history[-1], \n",
    "                                                                                                            val_loss_history[-1], \n",
    "                                                                                                            val_accr_history[-1]))\n",
    "        \n",
    "        if iter_i >= 100:  \n",
    "#             if np.mean(val_loss_history[-5 :]) >= np.mean(val_loss_history[-10:]):\n",
    "#                 print('')\n",
    "#                 print('Early stopping!!')\n",
    "#                 print('..val_loss (avg. within 5): {:.5f} >= val_loss (avg. within 10) {:.5f}'.format(np.mean(val_loss_history[-5 :]),\n",
    "#                                                                                                   np.mean(val_loss_history[-10:])))\n",
    "                \n",
    "            if val_loss_history[-1] == np.min(val_loss_history):\n",
    "\n",
    "                now = datetime.datetime.now()\n",
    "                nowDatetime = now.strftime('%y%m%d%H%M')\n",
    "                model_name = 'AE_1_GB_{}_{:05d}_loss_{:.6f}_val_loss_{:.6f}.pt'.format(nowDatetime, iter_i, \n",
    "                                                                                     np.mean(loss_history[-3:]),\n",
    "                                                                                     np.mean(val_loss_history[-3:]))\n",
    "                torch.save(model.state_dict(), './model/' + model_name)\n",
    "#                 break                   \n",
    "        if iter_i == 5000:\n",
    "            break"
   ]
  },
  {
   "cell_type": "code",
   "execution_count": 14,
   "metadata": {
    "ExecuteTime": {
     "end_time": "2020-03-26T00:53:22.445213Z",
     "start_time": "2020-03-26T00:53:21.874595Z"
    }
   },
   "outputs": [
    {
     "name": "stderr",
     "output_type": "stream",
     "text": [
      "/home/yunseob/Pytorch/lib/python3.5/site-packages/matplotlib/cbook/__init__.py:424: MatplotlibDeprecationWarning: \n",
      "Passing one of 'on', 'true', 'off', 'false' as a boolean is deprecated; use an actual boolean (True/False) instead.\n",
      "  warn_deprecated(\"2.2\", \"Passing one of 'on', 'true', 'off', 'false' as a \"\n"
     ]
    },
    {
     "data": {
      "image/png": "[encoded data removed]",
      "text/plain": [
       "<Figure size 1080x1224 with 2 Axes>"
      ]
     },
     "metadata": {
      "needs_background": "light"
     },
     "output_type": "display_data"
    }
   ],
   "source": [
    "fig = plt.figure(figsize = (15,17))\n",
    "plt.suptitle('Training History', y = 0.92, fontsize = 20)\n",
    "\n",
    "# x_axis = range(1, 10*len(accr_history)+1, 10)\n",
    "x_axis = np.arange(10, 10*len(accr_history)+1, 10)\n",
    "\n",
    "plt.subplot(2, 1, 1)\n",
    "plt.plot(x_axis, accr_history, 'b-', label = 'Training Accuracy')\n",
    "plt.plot(x_axis, val_accr_history, 'r-', label = 'Validation Accuracy')\n",
    "plt.xlabel('Iteration', fontsize = 15)\n",
    "plt.ylabel('Accuracy', fontsize = 15)\n",
    "plt.legend(fontsize = 10)\n",
    "plt.grid('on')\n",
    "plt.subplot(2, 1, 2)\n",
    "plt.plot(x_axis, loss_history, 'b-', label = 'Training Loss')\n",
    "plt.plot(x_axis, val_loss_history, 'r-', label = 'Validation Loss')\n",
    "plt.xlabel('Iteration', fontsize = 15)\n",
    "plt.ylabel('Loss', fontsize = 15)\n",
    "# plt.yticks(np.arange(0, 0.25, step=0.025))\n",
    "plt.legend(fontsize = 12)\n",
    "plt.grid('on')\n",
    "plt.show()\n",
    "\n",
    "# if save == True:\n",
    "#     fig.savefig(hist_path + filename)\n",
    "#     plt.close(fig)"
   ]
  },
  {
   "cell_type": "code",
   "execution_count": 15,
   "metadata": {
    "ExecuteTime": {
     "end_time": "2020-03-26T00:54:03.562612Z",
     "start_time": "2020-03-26T00:54:03.550851Z"
    }
   },
   "outputs": [],
   "source": [
    "np.save('./results/0_train_hist/npy/AE_1_GB_accr_history', accr_history)\n",
    "np.save('./results/0_train_hist/npy/AE_1_GB_val_accr_history', val_accr_history)\n",
    "np.save('./results/0_train_hist/npy/AE_1_GB_loss_history', loss_history)\n",
    "np.save('./results/0_train_hist/npy/AE_1_GB_val_loss_history', val_loss_history)"
   ]
  }
 ],
 "metadata": {
  "hide_input": false,
  "kernelspec": {
   "display_name": "Pytorch",
   "language": "python",
   "name": "pytorch"
  },
  "language_info": {
   "codemirror_mode": {
    "name": "ipython",
    "version": 3
   },
   "file_extension": ".py",
   "mimetype": "text/x-python",
   "name": "python",
   "nbconvert_exporter": "python",
   "pygments_lexer": "ipython3",
   "version": "3.5.2"
  },
  "toc": {
   "base_numbering": 1,
   "nav_menu": {},
   "number_sections": true,
   "sideBar": true,
   "skip_h1_title": false,
   "title_cell": "Table of Contents",
   "title_sidebar": "Contents",
   "toc_cell": false,
   "toc_position": {},
   "toc_section_display": true,
   "toc_window_display": false
  }
 },
 "nbformat": 4,
 "nbformat_minor": 2
}
