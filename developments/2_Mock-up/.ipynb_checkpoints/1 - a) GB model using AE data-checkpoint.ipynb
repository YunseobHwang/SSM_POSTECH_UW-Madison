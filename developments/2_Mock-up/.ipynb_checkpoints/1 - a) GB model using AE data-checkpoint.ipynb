{
 "cells": [
  {
   "cell_type": "code",
   "execution_count": 1,
   "metadata": {
    "ExecuteTime": {
     "end_time": "2020-03-23T16:16:15.323495Z",
     "start_time": "2020-03-23T16:16:14.768349Z"
    }
   },
   "outputs": [],
   "source": [
    "import numpy as np\n",
    "import matplotlib.pyplot as plt\n",
    "%matplotlib inline\n",
    "\n",
    "import os\n",
    "import time, datetime\n",
    "\n",
    "import torch\n",
    "from torch import nn\n",
    "from torch.nn import functional as F\n",
    "from torchsummary import summary"
   ]
  },
  {
   "cell_type": "code",
   "execution_count": 2,
   "metadata": {
    "ExecuteTime": {
     "end_time": "2020-03-23T16:16:15.394714Z",
     "start_time": "2020-03-23T16:16:15.326063Z"
    }
   },
   "outputs": [],
   "source": [
    "device = torch.device(\"cuda:3\" if torch.cuda.is_available() else \"cpu\")"
   ]
  },
  {
   "cell_type": "markdown",
   "metadata": {},
   "source": [
    "# Load Data"
   ]
  },
  {
   "cell_type": "code",
   "execution_count": 3,
   "metadata": {
    "ExecuteTime": {
     "end_time": "2020-03-23T16:16:15.538761Z",
     "start_time": "2020-03-23T16:16:15.528188Z"
    }
   },
   "outputs": [
    {
     "data": {
      "text/plain": [
       "['bad_die_test_wt.npy',\n",
       " 'bad_die_train_wt.npy',\n",
       " 'good_die_test_wt.npy',\n",
       " 'good_die_train_wt.npy',\n",
       " 'readme.txt']"
      ]
     },
     "execution_count": 3,
     "metadata": {},
     "output_type": "execute_result"
    }
   ],
   "source": [
    "data_dir = '/mnt/disk2/data/private_data/SSM/2_Mockup/1_AE_Accel_Data/1_Die_Fixture/AE'\n",
    "\n",
    "os.listdir(data_dir)"
   ]
  },
  {
   "cell_type": "code",
   "execution_count": 4,
   "metadata": {
    "ExecuteTime": {
     "end_time": "2020-03-23T16:16:16.220044Z",
     "start_time": "2020-03-23T16:16:16.176873Z"
    }
   },
   "outputs": [],
   "source": [
    "for i in os.listdir(data_dir):\n",
    "    if 'good' in i and 'train' in i:\n",
    "        G_train_X = np.load(os.path.join(data_dir, i))\n",
    "    elif 'bad' in i and 'train' in i:\n",
    "        B_train_X = np.load(os.path.join(data_dir, i))"
   ]
  },
  {
   "cell_type": "code",
   "execution_count": 5,
   "metadata": {
    "ExecuteTime": {
     "end_time": "2020-03-23T16:16:16.359254Z",
     "start_time": "2020-03-23T16:16:16.352155Z"
    }
   },
   "outputs": [
    {
     "data": {
      "text/plain": [
       "((2822, 40, 40), (2510, 40, 40))"
      ]
     },
     "execution_count": 5,
     "metadata": {},
     "output_type": "execute_result"
    }
   ],
   "source": [
    "G_train_X.shape, B_train_X.shape"
   ]
  },
  {
   "cell_type": "code",
   "execution_count": 6,
   "metadata": {
    "ExecuteTime": {
     "end_time": "2020-03-23T16:16:16.517165Z",
     "start_time": "2020-03-23T16:16:16.506502Z"
    },
    "scrolled": true
   },
   "outputs": [
    {
     "data": {
      "text/plain": [
       "((2822, 40, 40, 1), (2510, 40, 40, 1))"
      ]
     },
     "execution_count": 6,
     "metadata": {},
     "output_type": "execute_result"
    }
   ],
   "source": [
    "def add_ch(img):\n",
    "    \"\"\"\n",
    "    (sample #, height, width,) -> (sample #, height, width, channel)\n",
    "    \"\"\"\n",
    "    return np.expand_dims(img, axis = -1)\n",
    "\n",
    "G_train_X = add_ch(G_train_X)\n",
    "B_train_X = add_ch(B_train_X)\n",
    "\n",
    "G_train_X.shape, B_train_X.shape"
   ]
  },
  {
   "cell_type": "code",
   "execution_count": 7,
   "metadata": {
    "ExecuteTime": {
     "end_time": "2020-03-23T16:16:16.652969Z",
     "start_time": "2020-03-23T16:16:16.642442Z"
    }
   },
   "outputs": [
    {
     "data": {
      "text/plain": [
       "((2822, 1, 40, 40), (2510, 1, 40, 40))"
      ]
     },
     "execution_count": 7,
     "metadata": {},
     "output_type": "execute_result"
    }
   ],
   "source": [
    "def input_for_Pytorch(img):\n",
    "    \"\"\"\n",
    "    (sample #, height, width, channel) -> (sample #, channel, height, width)\n",
    "    \"\"\"\n",
    "    img = np.transpose(img, (0, 3, 1, 2))\n",
    "    return img\n",
    "\n",
    "G_train_X = input_for_Pytorch(G_train_X)\n",
    "B_train_X = input_for_Pytorch(B_train_X)\n",
    "\n",
    "G_train_X.shape, B_train_X.shape"
   ]
  },
  {
   "cell_type": "code",
   "execution_count": 8,
   "metadata": {
    "ExecuteTime": {
     "end_time": "2020-03-23T16:16:16.796352Z",
     "start_time": "2020-03-23T16:16:16.785060Z"
    }
   },
   "outputs": [
    {
     "data": {
      "text/plain": [
       "((2822, 1, 40, 40), (2822,), (2510, 1, 40, 40), (2510,))"
      ]
     },
     "execution_count": 8,
     "metadata": {},
     "output_type": "execute_result"
    }
   ],
   "source": [
    "def CreateLabel(data, cls):\n",
    "    label = cls*np.ones([data.shape[0]])\n",
    "    return label\n",
    "\n",
    "G_train_Y, B_train_Y = CreateLabel(G_train_X, 0), CreateLabel(B_train_X, 1)\n",
    "\n",
    "G_train_X.shape, G_train_Y.shape, B_train_X.shape, B_train_Y.shape"
   ]
  },
  {
   "cell_type": "code",
   "execution_count": 9,
   "metadata": {
    "ExecuteTime": {
     "end_time": "2020-03-23T16:16:16.968902Z",
     "start_time": "2020-03-23T16:16:16.915880Z"
    }
   },
   "outputs": [
    {
     "name": "stdout",
     "output_type": "stream",
     "text": [
      "Training: (2539, 1, 40, 40) (2539,) (2259, 1, 40, 40) (2259,)\n",
      "Validation: (283, 1, 40, 40) (283,) (251, 1, 40, 40) (251,)\n"
     ]
    }
   ],
   "source": [
    "def train_valid_split(data, label, rate_t_v = 0.9):\n",
    "    data_num = len(data)\n",
    "    train_idx = np.random.choice(data_num, int(rate_t_v*data_num), replace = False)\n",
    "    valid_idx = np.setdiff1d(np.arange(data_num), train_idx)\n",
    "    return data[train_idx], label[train_idx], data[valid_idx], label[valid_idx]\n",
    "\n",
    "G_train_X, G_train_Y, G_valid_X, G_valid_Y = train_valid_split(G_train_X, G_train_Y)\n",
    "B_train_X, B_train_Y, B_valid_X, B_valid_Y = train_valid_split(B_train_X, B_train_Y)\n",
    "\n",
    "print(\"Training:\", G_train_X.shape, G_train_Y.shape, B_train_X.shape, B_train_Y.shape)\n",
    "print(\"Validation:\", G_valid_X.shape, G_valid_Y.shape, B_valid_X.shape, B_valid_Y.shape)"
   ]
  },
  {
   "cell_type": "markdown",
   "metadata": {},
   "source": [
    "# Model"
   ]
  },
  {
   "cell_type": "code",
   "execution_count": 15,
   "metadata": {
    "ExecuteTime": {
     "end_time": "2020-03-23T16:16:42.364100Z",
     "start_time": "2020-03-23T16:16:42.337866Z"
    }
   },
   "outputs": [],
   "source": [
    "class ConvNet(nn.Module):\n",
    "    def __init__(self):\n",
    "        super().__init__()\n",
    "        # RGB세개 1채널, 20개 특징 추출, filter 크기, stride 1\n",
    "        self.conv1_1 = nn.Conv2d(1, 64, 3, 1, padding=1)\n",
    "        self.conv1_2 = nn.Conv2d(64, 64, 3, 1, padding=1)\n",
    "        self.conv1_bn = nn.BatchNorm2d(64)\n",
    "        \n",
    "        self.conv2_1 = nn.Conv2d(64, 64, 3, 1, padding=1)\n",
    "        self.conv2_2 = nn.Conv2d(64, 64, 3, 1, padding=1)\n",
    "        self.conv2_bn = nn.BatchNorm2d(64)\n",
    "        \n",
    "        self.conv3_1 = nn.Conv2d(64, 64, 3, 1, padding=1)\n",
    "        self.conv3_2 = nn.Conv2d(64, 64, 3, 1, padding=1)\n",
    "        self.conv3_bn = nn.BatchNorm2d(64)\n",
    "        \n",
    "        self.conv4_1 = nn.Conv2d(64, 64, 3, 1, padding=1)\n",
    "        self.conv4_2 = nn.Conv2d(64, 64, 3, 1, padding=1)\n",
    "        self.conv4_bn = nn.BatchNorm2d(64)\n",
    "        \n",
    "        self.dense1 = nn.Linear(2*2*64, 128)\n",
    "        # 0.5 가 권장 할 만하대\n",
    "        self.dropout1 = nn.Dropout(0.5)\n",
    "        self.dense2 = nn.Linear(128, 2)  \n",
    "        \n",
    "    def forward(self, x):\n",
    "        x = F.relu(self.conv1_1(x))\n",
    "        x = F.relu(self.conv1_bn(self.conv1_2(x)))\n",
    "        x = F.max_pool2d(x, 2, 2)\n",
    "        x = F.relu(self.conv2_1(x))\n",
    "        x = F.relu(self.conv2_bn(self.conv2_2(x)))\n",
    "        x = F.max_pool2d(x, 2, 2)\n",
    "        x = F.relu(self.conv3_1(x))\n",
    "        x = F.relu(self.conv3_bn(self.conv3_2(x)))\n",
    "        x = F.max_pool2d(x, 2, 2)\n",
    "        x = F.relu(self.conv4_1(x))\n",
    "        x = F.relu(self.conv4_bn(self.conv4_2(x)))\n",
    "        x = F.max_pool2d(x, 2, 2)\n",
    "        # flatten\n",
    "        x = x.view(-1, 2*2*64)\n",
    "        x = F.relu(self.dense1(x))\n",
    "        x = self.dropout1(x)\n",
    "        x = self.dense2(x)\n",
    "        return x"
   ]
  },
  {
   "cell_type": "code",
   "execution_count": 16,
   "metadata": {
    "ExecuteTime": {
     "end_time": "2020-03-23T16:16:42.493028Z",
     "start_time": "2020-03-23T16:16:42.450738Z"
    }
   },
   "outputs": [
    {
     "name": "stdout",
     "output_type": "stream",
     "text": [
      "----------------------------------------------------------------\n",
      "        Layer (type)               Output Shape         Param #\n",
      "================================================================\n",
      "            Conv2d-1           [-1, 64, 40, 40]             640\n",
      "            Conv2d-2           [-1, 64, 40, 40]          36,928\n",
      "       BatchNorm2d-3           [-1, 64, 40, 40]             128\n",
      "            Conv2d-4           [-1, 64, 20, 20]          36,928\n",
      "            Conv2d-5           [-1, 64, 20, 20]          36,928\n",
      "       BatchNorm2d-6           [-1, 64, 20, 20]             128\n",
      "            Conv2d-7           [-1, 64, 10, 10]          36,928\n",
      "            Conv2d-8           [-1, 64, 10, 10]          36,928\n",
      "       BatchNorm2d-9           [-1, 64, 10, 10]             128\n",
      "           Conv2d-10             [-1, 64, 5, 5]          36,928\n",
      "           Conv2d-11             [-1, 64, 5, 5]          36,928\n",
      "      BatchNorm2d-12             [-1, 64, 5, 5]             128\n",
      "           Linear-13                  [-1, 128]          32,896\n",
      "          Dropout-14                  [-1, 128]               0\n",
      "           Linear-15                    [-1, 2]             258\n",
      "          ConvNet-16                    [-1, 2]               0\n",
      "================================================================\n",
      "Total params: 292,802\n",
      "Trainable params: 292,802\n",
      "Non-trainable params: 0\n",
      "----------------------------------------------------------------\n",
      "Input size (MB): 0.01\n",
      "Forward/backward pass size (MB): 3.11\n",
      "Params size (MB): 1.12\n",
      "Estimated Total Size (MB): 4.24\n",
      "----------------------------------------------------------------\n",
      "\n"
     ]
    },
    {
     "data": {
      "text/plain": [
       "(tensor(292802), tensor(292802))"
      ]
     },
     "execution_count": 16,
     "metadata": {},
     "output_type": "execute_result"
    }
   ],
   "source": [
    "model = ConvNet()\n",
    "# model = model.cuda()\n",
    "model = model.to(device)\n",
    "# if device == 'cuda':\n",
    "#     net = torch.nn.DataParallel(net)\n",
    "#     cudnn.benchmark = True\n",
    "criterion = nn.CrossEntropyLoss()\n",
    "optimizer = torch.optim.Adam(model.parameters(), lr=0.00001)\n",
    "\n",
    "summary(model, (1, 40, 40), device = device)"
   ]
  },
  {
   "cell_type": "markdown",
   "metadata": {},
   "source": [
    "# Training"
   ]
  },
  {
   "cell_type": "code",
   "execution_count": 12,
   "metadata": {
    "ExecuteTime": {
     "end_time": "2020-03-23T16:16:22.367211Z",
     "start_time": "2020-03-23T16:16:22.356313Z"
    }
   },
   "outputs": [
    {
     "name": "stdout",
     "output_type": "stream",
     "text": [
      "Training: (100, 1, 40, 40) (100,) (100, 1, 40, 40) (100,)\n",
      "Validation: (100, 1, 40, 40) (100,) (100, 1, 40, 40) (100,)\n"
     ]
    }
   ],
   "source": [
    "def RandomMinibatch(data, label, n_batch = 100):\n",
    "    batch_idx = np.random.choice(len(data), n_batch, replace = False)\n",
    "    return data[batch_idx], label[batch_idx]\n",
    "\n",
    "G_train_x, G_train_y = RandomMinibatch(G_train_X, G_train_Y, 100)\n",
    "B_train_x, B_train_y = RandomMinibatch(B_train_X, B_train_Y, 100)\n",
    "\n",
    "G_valid_x, G_valid_y = RandomMinibatch(G_valid_X, G_valid_Y, 100)\n",
    "B_valid_x, B_valid_y = RandomMinibatch(B_valid_X, B_valid_Y, 100)\n",
    "\n",
    "print(\"Training:\", G_train_x.shape, G_train_y.shape, B_train_x.shape, B_train_y.shape)\n",
    "print(\"Validation:\", G_valid_x.shape, G_valid_y.shape, B_valid_x.shape, B_valid_y.shape)"
   ]
  },
  {
   "cell_type": "code",
   "execution_count": 13,
   "metadata": {
    "ExecuteTime": {
     "end_time": "2020-03-23T16:16:22.380675Z",
     "start_time": "2020-03-23T16:16:22.369163Z"
    }
   },
   "outputs": [
    {
     "name": "stdout",
     "output_type": "stream",
     "text": [
      "Training (200, 1, 40, 40) (200,)\n"
     ]
    }
   ],
   "source": [
    "def shuffle(x, y):\n",
    "    \"\"\"\n",
    "    random shuffle of two paired data -> x, y = shuffle(x, y)\n",
    "    but, available of one data -> x = shuffle(x, None)\n",
    "    \"\"\"\n",
    "    idx = np.arange(len(x))\n",
    "    np.random.shuffle(idx)\n",
    "    if type(x) == type(y):\n",
    "        return x[idx], y[idx] \n",
    "    else:\n",
    "        return x[idx]\n",
    "    \n",
    "G_train_x, G_train_y = RandomMinibatch(G_train_X, G_train_Y, 100)\n",
    "B_train_x, B_train_y = RandomMinibatch(B_train_X, B_train_Y, 100)\n",
    "    \n",
    "train_x, train_y = np.vstack([G_train_x, B_train_x]), np.hstack([G_train_y, B_train_y])\n",
    "train_x, train_y = shuffle(train_x, train_y)\n",
    "\n",
    "print(\"Training\", train_x.shape, train_y.shape)"
   ]
  },
  {
   "cell_type": "code",
   "execution_count": 17,
   "metadata": {
    "ExecuteTime": {
     "end_time": "2020-03-23T16:19:29.253156Z",
     "start_time": "2020-03-23T16:16:45.742389Z"
    },
    "scrolled": false
   },
   "outputs": [
    {
     "name": "stdout",
     "output_type": "stream",
     "text": [
      "00010 | train_loss: 0.68276, train_accr: 0.530 | val_loss: 0.67276, val_accr: 0.565\n",
      "00020 | train_loss: 0.60596, train_accr: 0.760 | val_loss: 0.61153, val_accr: 0.720\n",
      "00030 | train_loss: 0.55347, train_accr: 0.855 | val_loss: 0.56417, val_accr: 0.815\n",
      "00040 | train_loss: 0.51691, train_accr: 0.890 | val_loss: 0.49676, val_accr: 0.870\n",
      "00050 | train_loss: 0.48451, train_accr: 0.895 | val_loss: 0.47289, val_accr: 0.910\n",
      "00060 | train_loss: 0.41360, train_accr: 0.950 | val_loss: 0.41646, val_accr: 0.945\n",
      "00070 | train_loss: 0.36915, train_accr: 0.960 | val_loss: 0.36333, val_accr: 0.980\n",
      "00080 | train_loss: 0.32991, train_accr: 0.950 | val_loss: 0.31647, val_accr: 0.980\n",
      "00090 | train_loss: 0.30498, train_accr: 0.970 | val_loss: 0.28815, val_accr: 0.975\n",
      "00100 | train_loss: 0.25753, train_accr: 0.985 | val_loss: 0.26225, val_accr: 0.990\n",
      "00110 | train_loss: 0.22528, train_accr: 0.980 | val_loss: 0.21179, val_accr: 0.990\n",
      "00120 | train_loss: 0.20759, train_accr: 0.985 | val_loss: 0.18758, val_accr: 1.000\n",
      "00130 | train_loss: 0.18478, train_accr: 0.980 | val_loss: 0.17135, val_accr: 0.990\n",
      "00140 | train_loss: 0.14719, train_accr: 0.995 | val_loss: 0.14454, val_accr: 1.000\n",
      "00150 | train_loss: 0.14651, train_accr: 0.990 | val_loss: 0.14114, val_accr: 1.000\n",
      "00160 | train_loss: 0.12730, train_accr: 0.995 | val_loss: 0.12863, val_accr: 1.000\n",
      "00170 | train_loss: 0.12075, train_accr: 0.995 | val_loss: 0.11674, val_accr: 0.995\n",
      "00180 | train_loss: 0.11344, train_accr: 0.985 | val_loss: 0.10484, val_accr: 1.000\n",
      "00190 | train_loss: 0.09981, train_accr: 1.000 | val_loss: 0.08816, val_accr: 1.000\n",
      "00200 | train_loss: 0.09036, train_accr: 0.995 | val_loss: 0.08635, val_accr: 1.000\n",
      "00210 | train_loss: 0.09104, train_accr: 0.990 | val_loss: 0.08547, val_accr: 1.000\n",
      "00220 | train_loss: 0.09424, train_accr: 0.980 | val_loss: 0.07613, val_accr: 1.000\n",
      "00230 | train_loss: 0.08450, train_accr: 0.995 | val_loss: 0.07071, val_accr: 1.000\n",
      "00240 | train_loss: 0.06586, train_accr: 0.995 | val_loss: 0.06293, val_accr: 1.000\n",
      "00250 | train_loss: 0.07059, train_accr: 0.990 | val_loss: 0.06169, val_accr: 1.000\n",
      "00260 | train_loss: 0.05492, train_accr: 0.995 | val_loss: 0.06009, val_accr: 0.995\n",
      "00270 | train_loss: 0.05767, train_accr: 0.995 | val_loss: 0.05389, val_accr: 1.000\n",
      "00280 | train_loss: 0.06427, train_accr: 0.990 | val_loss: 0.04794, val_accr: 0.995\n",
      "00290 | train_loss: 0.05647, train_accr: 0.990 | val_loss: 0.04965, val_accr: 1.000\n",
      "00300 | train_loss: 0.04749, train_accr: 1.000 | val_loss: 0.04457, val_accr: 1.000\n",
      "00310 | train_loss: 0.04453, train_accr: 1.000 | val_loss: 0.03916, val_accr: 1.000\n",
      "00320 | train_loss: 0.03598, train_accr: 1.000 | val_loss: 0.03373, val_accr: 1.000\n",
      "00330 | train_loss: 0.05166, train_accr: 0.990 | val_loss: 0.03912, val_accr: 1.000\n",
      "00340 | train_loss: 0.04380, train_accr: 0.995 | val_loss: 0.03639, val_accr: 0.995\n",
      "00350 | train_loss: 0.04011, train_accr: 1.000 | val_loss: 0.03141, val_accr: 1.000\n",
      "00360 | train_loss: 0.03898, train_accr: 0.995 | val_loss: 0.02818, val_accr: 1.000\n",
      "00370 | train_loss: 0.03487, train_accr: 1.000 | val_loss: 0.02566, val_accr: 1.000\n",
      "00380 | train_loss: 0.03221, train_accr: 1.000 | val_loss: 0.02545, val_accr: 1.000\n",
      "00390 | train_loss: 0.02945, train_accr: 1.000 | val_loss: 0.02908, val_accr: 1.000\n",
      "00400 | train_loss: 0.03194, train_accr: 0.995 | val_loss: 0.02479, val_accr: 1.000\n",
      "00410 | train_loss: 0.02816, train_accr: 1.000 | val_loss: 0.02386, val_accr: 1.000\n",
      "00420 | train_loss: 0.03300, train_accr: 0.995 | val_loss: 0.02589, val_accr: 1.000\n",
      "00430 | train_loss: 0.02231, train_accr: 1.000 | val_loss: 0.02070, val_accr: 1.000\n",
      "00440 | train_loss: 0.01985, train_accr: 1.000 | val_loss: 0.02036, val_accr: 1.000\n",
      "00450 | train_loss: 0.02833, train_accr: 1.000 | val_loss: 0.01796, val_accr: 1.000\n",
      "00460 | train_loss: 0.01739, train_accr: 1.000 | val_loss: 0.01965, val_accr: 1.000\n",
      "00470 | train_loss: 0.02367, train_accr: 1.000 | val_loss: 0.01649, val_accr: 1.000\n",
      "00480 | train_loss: 0.03118, train_accr: 0.995 | val_loss: 0.01567, val_accr: 1.000\n",
      "00490 | train_loss: 0.01809, train_accr: 1.000 | val_loss: 0.01970, val_accr: 1.000\n",
      "00500 | train_loss: 0.02230, train_accr: 0.995 | val_loss: 0.01388, val_accr: 1.000\n",
      "00510 | train_loss: 0.02166, train_accr: 1.000 | val_loss: 0.01237, val_accr: 1.000\n",
      "00520 | train_loss: 0.02430, train_accr: 1.000 | val_loss: 0.01577, val_accr: 1.000\n",
      "00530 | train_loss: 0.01464, train_accr: 1.000 | val_loss: 0.01140, val_accr: 1.000\n",
      "00540 | train_loss: 0.01948, train_accr: 1.000 | val_loss: 0.01096, val_accr: 1.000\n",
      "00550 | train_loss: 0.01762, train_accr: 1.000 | val_loss: 0.01206, val_accr: 1.000\n",
      "00560 | train_loss: 0.01554, train_accr: 1.000 | val_loss: 0.01274, val_accr: 0.995\n",
      "00570 | train_loss: 0.01781, train_accr: 1.000 | val_loss: 0.01044, val_accr: 1.000\n",
      "00580 | train_loss: 0.01733, train_accr: 1.000 | val_loss: 0.00982, val_accr: 1.000\n",
      "00590 | train_loss: 0.01157, train_accr: 1.000 | val_loss: 0.01560, val_accr: 1.000\n",
      "00600 | train_loss: 0.01226, train_accr: 1.000 | val_loss: 0.00778, val_accr: 1.000\n",
      "00610 | train_loss: 0.01071, train_accr: 1.000 | val_loss: 0.01053, val_accr: 1.000\n",
      "00620 | train_loss: 0.01537, train_accr: 1.000 | val_loss: 0.01182, val_accr: 1.000\n",
      "00630 | train_loss: 0.00894, train_accr: 1.000 | val_loss: 0.01260, val_accr: 1.000\n",
      "00640 | train_loss: 0.00947, train_accr: 1.000 | val_loss: 0.00833, val_accr: 1.000\n",
      "00650 | train_loss: 0.01190, train_accr: 1.000 | val_loss: 0.00782, val_accr: 1.000\n",
      "00660 | train_loss: 0.01535, train_accr: 1.000 | val_loss: 0.01076, val_accr: 1.000\n",
      "00670 | train_loss: 0.00979, train_accr: 1.000 | val_loss: 0.00967, val_accr: 1.000\n",
      "00680 | train_loss: 0.00884, train_accr: 1.000 | val_loss: 0.00827, val_accr: 1.000\n",
      "00690 | train_loss: 0.00779, train_accr: 1.000 | val_loss: 0.00522, val_accr: 1.000\n",
      "00700 | train_loss: 0.01040, train_accr: 1.000 | val_loss: 0.00679, val_accr: 1.000\n",
      "00710 | train_loss: 0.00855, train_accr: 1.000 | val_loss: 0.00717, val_accr: 1.000\n",
      "00720 | train_loss: 0.00942, train_accr: 1.000 | val_loss: 0.00638, val_accr: 1.000\n",
      "00730 | train_loss: 0.00743, train_accr: 1.000 | val_loss: 0.00527, val_accr: 1.000\n",
      "00740 | train_loss: 0.00579, train_accr: 1.000 | val_loss: 0.00834, val_accr: 1.000\n",
      "00750 | train_loss: 0.00770, train_accr: 1.000 | val_loss: 0.00610, val_accr: 1.000\n",
      "00760 | train_loss: 0.01056, train_accr: 1.000 | val_loss: 0.00954, val_accr: 1.000\n",
      "00770 | train_loss: 0.00549, train_accr: 1.000 | val_loss: 0.00565, val_accr: 1.000\n",
      "00780 | train_loss: 0.00567, train_accr: 1.000 | val_loss: 0.00448, val_accr: 1.000\n",
      "00790 | train_loss: 0.00734, train_accr: 1.000 | val_loss: 0.00698, val_accr: 1.000\n",
      "00800 | train_loss: 0.00478, train_accr: 1.000 | val_loss: 0.00694, val_accr: 1.000\n",
      "00810 | train_loss: 0.00525, train_accr: 1.000 | val_loss: 0.00578, val_accr: 1.000\n",
      "00820 | train_loss: 0.00927, train_accr: 1.000 | val_loss: 0.00580, val_accr: 1.000\n",
      "00830 | train_loss: 0.00476, train_accr: 1.000 | val_loss: 0.00801, val_accr: 1.000\n",
      "00840 | train_loss: 0.00929, train_accr: 1.000 | val_loss: 0.00683, val_accr: 1.000\n",
      "00850 | train_loss: 0.00582, train_accr: 1.000 | val_loss: 0.00642, val_accr: 1.000\n",
      "00860 | train_loss: 0.00497, train_accr: 1.000 | val_loss: 0.00495, val_accr: 1.000\n",
      "00870 | train_loss: 0.00486, train_accr: 1.000 | val_loss: 0.00528, val_accr: 1.000\n",
      "00880 | train_loss: 0.00556, train_accr: 1.000 | val_loss: 0.00581, val_accr: 1.000\n",
      "00890 | train_loss: 0.00511, train_accr: 1.000 | val_loss: 0.00649, val_accr: 1.000\n",
      "00900 | train_loss: 0.00400, train_accr: 1.000 | val_loss: 0.00700, val_accr: 0.995\n",
      "00910 | train_loss: 0.00428, train_accr: 1.000 | val_loss: 0.00460, val_accr: 1.000\n",
      "00920 | train_loss: 0.00452, train_accr: 1.000 | val_loss: 0.00465, val_accr: 1.000\n",
      "00930 | train_loss: 0.00505, train_accr: 1.000 | val_loss: 0.00394, val_accr: 1.000\n",
      "00940 | train_loss: 0.00343, train_accr: 1.000 | val_loss: 0.00363, val_accr: 1.000\n",
      "00950 | train_loss: 0.00374, train_accr: 1.000 | val_loss: 0.00356, val_accr: 1.000\n",
      "00960 | train_loss: 0.00359, train_accr: 1.000 | val_loss: 0.00377, val_accr: 1.000\n",
      "00970 | train_loss: 0.00418, train_accr: 1.000 | val_loss: 0.00362, val_accr: 1.000\n",
      "00980 | train_loss: 0.00333, train_accr: 1.000 | val_loss: 0.00439, val_accr: 1.000\n"
     ]
    },
    {
     "name": "stdout",
     "output_type": "stream",
     "text": [
      "00990 | train_loss: 0.00511, train_accr: 1.000 | val_loss: 0.00806, val_accr: 0.995\n",
      "01000 | train_loss: 0.00397, train_accr: 1.000 | val_loss: 0.00345, val_accr: 1.000\n",
      "01010 | train_loss: 0.00330, train_accr: 1.000 | val_loss: 0.00272, val_accr: 1.000\n",
      "01020 | train_loss: 0.00314, train_accr: 1.000 | val_loss: 0.00388, val_accr: 1.000\n",
      "01030 | train_loss: 0.00308, train_accr: 1.000 | val_loss: 0.00274, val_accr: 1.000\n",
      "01040 | train_loss: 0.00427, train_accr: 1.000 | val_loss: 0.00264, val_accr: 1.000\n",
      "01050 | train_loss: 0.00263, train_accr: 1.000 | val_loss: 0.00337, val_accr: 1.000\n",
      "01060 | train_loss: 0.00324, train_accr: 1.000 | val_loss: 0.00269, val_accr: 1.000\n",
      "01070 | train_loss: 0.00208, train_accr: 1.000 | val_loss: 0.00348, val_accr: 1.000\n",
      "01080 | train_loss: 0.00303, train_accr: 1.000 | val_loss: 0.00270, val_accr: 1.000\n",
      "01090 | train_loss: 0.00317, train_accr: 1.000 | val_loss: 0.00297, val_accr: 1.000\n",
      "01100 | train_loss: 0.00229, train_accr: 1.000 | val_loss: 0.00258, val_accr: 1.000\n",
      "01110 | train_loss: 0.00395, train_accr: 1.000 | val_loss: 0.00264, val_accr: 1.000\n",
      "01120 | train_loss: 0.00252, train_accr: 1.000 | val_loss: 0.00250, val_accr: 1.000\n",
      "01130 | train_loss: 0.00286, train_accr: 1.000 | val_loss: 0.00361, val_accr: 1.000\n",
      "01140 | train_loss: 0.00253, train_accr: 1.000 | val_loss: 0.00573, val_accr: 0.995\n",
      "01150 | train_loss: 0.00183, train_accr: 1.000 | val_loss: 0.00247, val_accr: 1.000\n",
      "01160 | train_loss: 0.00420, train_accr: 1.000 | val_loss: 0.00198, val_accr: 1.000\n",
      "01170 | train_loss: 0.00279, train_accr: 1.000 | val_loss: 0.00265, val_accr: 1.000\n",
      "01180 | train_loss: 0.00281, train_accr: 1.000 | val_loss: 0.00456, val_accr: 1.000\n",
      "01190 | train_loss: 0.00402, train_accr: 1.000 | val_loss: 0.00188, val_accr: 1.000\n",
      "01200 | train_loss: 0.00300, train_accr: 1.000 | val_loss: 0.00317, val_accr: 1.000\n",
      "01210 | train_loss: 0.00276, train_accr: 1.000 | val_loss: 0.00255, val_accr: 1.000\n",
      "01220 | train_loss: 0.00206, train_accr: 1.000 | val_loss: 0.00158, val_accr: 1.000\n",
      "01230 | train_loss: 0.00230, train_accr: 1.000 | val_loss: 0.00327, val_accr: 1.000\n",
      "01240 | train_loss: 0.00246, train_accr: 1.000 | val_loss: 0.00236, val_accr: 1.000\n",
      "01250 | train_loss: 0.00176, train_accr: 1.000 | val_loss: 0.00219, val_accr: 1.000\n",
      "01260 | train_loss: 0.00168, train_accr: 1.000 | val_loss: 0.00250, val_accr: 1.000\n",
      "01270 | train_loss: 0.00187, train_accr: 1.000 | val_loss: 0.00288, val_accr: 1.000\n",
      "01280 | train_loss: 0.00231, train_accr: 1.000 | val_loss: 0.00160, val_accr: 1.000\n",
      "01290 | train_loss: 0.00179, train_accr: 1.000 | val_loss: 0.00561, val_accr: 1.000\n",
      "01300 | train_loss: 0.00189, train_accr: 1.000 | val_loss: 0.00141, val_accr: 1.000\n",
      "01310 | train_loss: 0.00280, train_accr: 1.000 | val_loss: 0.00285, val_accr: 1.000\n",
      "01320 | train_loss: 0.00194, train_accr: 1.000 | val_loss: 0.00162, val_accr: 1.000\n",
      "01330 | train_loss: 0.00262, train_accr: 1.000 | val_loss: 0.00114, val_accr: 1.000\n",
      "01340 | train_loss: 0.00194, train_accr: 1.000 | val_loss: 0.00144, val_accr: 1.000\n",
      "01350 | train_loss: 0.00118, train_accr: 1.000 | val_loss: 0.00164, val_accr: 1.000\n",
      "01360 | train_loss: 0.00209, train_accr: 1.000 | val_loss: 0.00540, val_accr: 0.995\n",
      "01370 | train_loss: 0.00193, train_accr: 1.000 | val_loss: 0.00143, val_accr: 1.000\n",
      "01380 | train_loss: 0.00146, train_accr: 1.000 | val_loss: 0.00194, val_accr: 1.000\n",
      "01390 | train_loss: 0.00149, train_accr: 1.000 | val_loss: 0.00237, val_accr: 1.000\n",
      "01400 | train_loss: 0.00196, train_accr: 1.000 | val_loss: 0.00153, val_accr: 1.000\n",
      "01410 | train_loss: 0.00158, train_accr: 1.000 | val_loss: 0.00165, val_accr: 1.000\n",
      "01420 | train_loss: 0.00206, train_accr: 1.000 | val_loss: 0.00106, val_accr: 1.000\n",
      "01430 | train_loss: 0.00234, train_accr: 1.000 | val_loss: 0.00219, val_accr: 1.000\n",
      "01440 | train_loss: 0.00211, train_accr: 1.000 | val_loss: 0.00146, val_accr: 1.000\n",
      "01450 | train_loss: 0.00179, train_accr: 1.000 | val_loss: 0.00158, val_accr: 1.000\n",
      "01460 | train_loss: 0.00190, train_accr: 1.000 | val_loss: 0.00112, val_accr: 1.000\n",
      "01470 | train_loss: 0.00185, train_accr: 1.000 | val_loss: 0.00306, val_accr: 1.000\n",
      "01480 | train_loss: 0.00095, train_accr: 1.000 | val_loss: 0.00168, val_accr: 1.000\n",
      "01490 | train_loss: 0.00123, train_accr: 1.000 | val_loss: 0.00433, val_accr: 1.000\n",
      "01500 | train_loss: 0.00164, train_accr: 1.000 | val_loss: 0.00343, val_accr: 1.000\n",
      "01510 | train_loss: 0.00119, train_accr: 1.000 | val_loss: 0.00136, val_accr: 1.000\n",
      "01520 | train_loss: 0.00134, train_accr: 1.000 | val_loss: 0.00150, val_accr: 1.000\n",
      "01530 | train_loss: 0.00140, train_accr: 1.000 | val_loss: 0.00158, val_accr: 1.000\n",
      "01540 | train_loss: 0.00098, train_accr: 1.000 | val_loss: 0.00123, val_accr: 1.000\n",
      "01550 | train_loss: 0.00168, train_accr: 1.000 | val_loss: 0.00273, val_accr: 1.000\n",
      "01560 | train_loss: 0.00160, train_accr: 1.000 | val_loss: 0.00167, val_accr: 1.000\n",
      "01570 | train_loss: 0.00116, train_accr: 1.000 | val_loss: 0.00122, val_accr: 1.000\n",
      "01580 | train_loss: 0.00189, train_accr: 1.000 | val_loss: 0.00137, val_accr: 1.000\n",
      "01590 | train_loss: 0.00114, train_accr: 1.000 | val_loss: 0.00106, val_accr: 1.000\n",
      "01600 | train_loss: 0.00132, train_accr: 1.000 | val_loss: 0.00132, val_accr: 1.000\n",
      "01610 | train_loss: 0.00082, train_accr: 1.000 | val_loss: 0.00109, val_accr: 1.000\n",
      "01620 | train_loss: 0.00109, train_accr: 1.000 | val_loss: 0.00082, val_accr: 1.000\n",
      "01630 | train_loss: 0.00183, train_accr: 1.000 | val_loss: 0.00202, val_accr: 1.000\n",
      "01640 | train_loss: 0.00152, train_accr: 1.000 | val_loss: 0.00083, val_accr: 1.000\n",
      "01650 | train_loss: 0.00093, train_accr: 1.000 | val_loss: 0.00139, val_accr: 1.000\n",
      "01660 | train_loss: 0.00097, train_accr: 1.000 | val_loss: 0.00200, val_accr: 1.000\n",
      "01670 | train_loss: 0.00144, train_accr: 1.000 | val_loss: 0.00113, val_accr: 1.000\n",
      "01680 | train_loss: 0.00139, train_accr: 1.000 | val_loss: 0.00430, val_accr: 1.000\n",
      "01690 | train_loss: 0.00128, train_accr: 1.000 | val_loss: 0.00077, val_accr: 1.000\n",
      "01700 | train_loss: 0.00087, train_accr: 1.000 | val_loss: 0.00122, val_accr: 1.000\n",
      "01710 | train_loss: 0.00100, train_accr: 1.000 | val_loss: 0.00146, val_accr: 1.000\n",
      "01720 | train_loss: 0.00161, train_accr: 1.000 | val_loss: 0.00076, val_accr: 1.000\n",
      "01730 | train_loss: 0.00090, train_accr: 1.000 | val_loss: 0.00128, val_accr: 1.000\n",
      "01740 | train_loss: 0.00084, train_accr: 1.000 | val_loss: 0.00089, val_accr: 1.000\n",
      "01750 | train_loss: 0.00078, train_accr: 1.000 | val_loss: 0.00067, val_accr: 1.000\n",
      "01760 | train_loss: 0.00093, train_accr: 1.000 | val_loss: 0.00066, val_accr: 1.000\n",
      "01770 | train_loss: 0.00119, train_accr: 1.000 | val_loss: 0.00156, val_accr: 1.000\n",
      "01780 | train_loss: 0.00073, train_accr: 1.000 | val_loss: 0.00080, val_accr: 1.000\n",
      "01790 | train_loss: 0.00111, train_accr: 1.000 | val_loss: 0.00157, val_accr: 1.000\n",
      "01800 | train_loss: 0.00135, train_accr: 1.000 | val_loss: 0.00084, val_accr: 1.000\n",
      "01810 | train_loss: 0.00090, train_accr: 1.000 | val_loss: 0.00131, val_accr: 1.000\n",
      "01820 | train_loss: 0.00096, train_accr: 1.000 | val_loss: 0.00089, val_accr: 1.000\n",
      "01830 | train_loss: 0.00091, train_accr: 1.000 | val_loss: 0.00085, val_accr: 1.000\n",
      "01840 | train_loss: 0.00092, train_accr: 1.000 | val_loss: 0.00084, val_accr: 1.000\n",
      "01850 | train_loss: 0.00078, train_accr: 1.000 | val_loss: 0.00089, val_accr: 1.000\n",
      "01860 | train_loss: 0.00095, train_accr: 1.000 | val_loss: 0.00086, val_accr: 1.000\n",
      "01870 | train_loss: 0.00096, train_accr: 1.000 | val_loss: 0.00153, val_accr: 1.000\n",
      "01880 | train_loss: 0.00065, train_accr: 1.000 | val_loss: 0.00082, val_accr: 1.000\n",
      "01890 | train_loss: 0.00069, train_accr: 1.000 | val_loss: 0.00089, val_accr: 1.000\n",
      "01900 | train_loss: 0.00087, train_accr: 1.000 | val_loss: 0.00213, val_accr: 1.000\n",
      "01910 | train_loss: 0.00057, train_accr: 1.000 | val_loss: 0.00267, val_accr: 1.000\n",
      "01920 | train_loss: 0.00095, train_accr: 1.000 | val_loss: 0.00062, val_accr: 1.000\n",
      "01930 | train_loss: 0.00066, train_accr: 1.000 | val_loss: 0.00102, val_accr: 1.000\n",
      "01940 | train_loss: 0.00094, train_accr: 1.000 | val_loss: 0.00137, val_accr: 1.000\n",
      "01950 | train_loss: 0.00067, train_accr: 1.000 | val_loss: 0.00121, val_accr: 1.000\n",
      "01960 | train_loss: 0.00063, train_accr: 1.000 | val_loss: 0.00452, val_accr: 0.995\n"
     ]
    },
    {
     "name": "stdout",
     "output_type": "stream",
     "text": [
      "01970 | train_loss: 0.00079, train_accr: 1.000 | val_loss: 0.00065, val_accr: 1.000\n",
      "01980 | train_loss: 0.00056, train_accr: 1.000 | val_loss: 0.00081, val_accr: 1.000\n",
      "01990 | train_loss: 0.00079, train_accr: 1.000 | val_loss: 0.00068, val_accr: 1.000\n",
      "02000 | train_loss: 0.00086, train_accr: 1.000 | val_loss: 0.00332, val_accr: 1.000\n",
      "02010 | train_loss: 0.00084, train_accr: 1.000 | val_loss: 0.00051, val_accr: 1.000\n",
      "02020 | train_loss: 0.00085, train_accr: 1.000 | val_loss: 0.00068, val_accr: 1.000\n",
      "02030 | train_loss: 0.00058, train_accr: 1.000 | val_loss: 0.00063, val_accr: 1.000\n",
      "02040 | train_loss: 0.00149, train_accr: 1.000 | val_loss: 0.00212, val_accr: 1.000\n",
      "02050 | train_loss: 0.00199, train_accr: 1.000 | val_loss: 0.00077, val_accr: 1.000\n",
      "02060 | train_loss: 0.00086, train_accr: 1.000 | val_loss: 0.00634, val_accr: 0.995\n",
      "02070 | train_loss: 0.00074, train_accr: 1.000 | val_loss: 0.00090, val_accr: 1.000\n",
      "02080 | train_loss: 0.00036, train_accr: 1.000 | val_loss: 0.00032, val_accr: 1.000\n",
      "02090 | train_loss: 0.00058, train_accr: 1.000 | val_loss: 0.00069, val_accr: 1.000\n",
      "02100 | train_loss: 0.00083, train_accr: 1.000 | val_loss: 0.00089, val_accr: 1.000\n",
      "02110 | train_loss: 0.00113, train_accr: 1.000 | val_loss: 0.00067, val_accr: 1.000\n",
      "02120 | train_loss: 0.00101, train_accr: 1.000 | val_loss: 0.00062, val_accr: 1.000\n",
      "02130 | train_loss: 0.00061, train_accr: 1.000 | val_loss: 0.00053, val_accr: 1.000\n",
      "02140 | train_loss: 0.00055, train_accr: 1.000 | val_loss: 0.00330, val_accr: 1.000\n",
      "02150 | train_loss: 0.00055, train_accr: 1.000 | val_loss: 0.00080, val_accr: 1.000\n",
      "02160 | train_loss: 0.00050, train_accr: 1.000 | val_loss: 0.00265, val_accr: 1.000\n",
      "02170 | train_loss: 0.00047, train_accr: 1.000 | val_loss: 0.00147, val_accr: 1.000\n",
      "02180 | train_loss: 0.00070, train_accr: 1.000 | val_loss: 0.00048, val_accr: 1.000\n",
      "02190 | train_loss: 0.00059, train_accr: 1.000 | val_loss: 0.00068, val_accr: 1.000\n",
      "02200 | train_loss: 0.00056, train_accr: 1.000 | val_loss: 0.00045, val_accr: 1.000\n",
      "02210 | train_loss: 0.00057, train_accr: 1.000 | val_loss: 0.00124, val_accr: 1.000\n",
      "02220 | train_loss: 0.00055, train_accr: 1.000 | val_loss: 0.00094, val_accr: 1.000\n",
      "02230 | train_loss: 0.00093, train_accr: 1.000 | val_loss: 0.00091, val_accr: 1.000\n",
      "02240 | train_loss: 0.00056, train_accr: 1.000 | val_loss: 0.00062, val_accr: 1.000\n",
      "02250 | train_loss: 0.00065, train_accr: 1.000 | val_loss: 0.00034, val_accr: 1.000\n",
      "02260 | train_loss: 0.00057, train_accr: 1.000 | val_loss: 0.00049, val_accr: 1.000\n",
      "02270 | train_loss: 0.00056, train_accr: 1.000 | val_loss: 0.00038, val_accr: 1.000\n",
      "02280 | train_loss: 0.00068, train_accr: 1.000 | val_loss: 0.00058, val_accr: 1.000\n",
      "02290 | train_loss: 0.00063, train_accr: 1.000 | val_loss: 0.00046, val_accr: 1.000\n",
      "02300 | train_loss: 0.00045, train_accr: 1.000 | val_loss: 0.00052, val_accr: 1.000\n",
      "02310 | train_loss: 0.00061, train_accr: 1.000 | val_loss: 0.00106, val_accr: 1.000\n",
      "02320 | train_loss: 0.00040, train_accr: 1.000 | val_loss: 0.00032, val_accr: 1.000\n",
      "02330 | train_loss: 0.00042, train_accr: 1.000 | val_loss: 0.00103, val_accr: 1.000\n",
      "02340 | train_loss: 0.00041, train_accr: 1.000 | val_loss: 0.00080, val_accr: 1.000\n",
      "02350 | train_loss: 0.00057, train_accr: 1.000 | val_loss: 0.00039, val_accr: 1.000\n",
      "02360 | train_loss: 0.00037, train_accr: 1.000 | val_loss: 0.00045, val_accr: 1.000\n",
      "02370 | train_loss: 0.00046, train_accr: 1.000 | val_loss: 0.00031, val_accr: 1.000\n",
      "02380 | train_loss: 0.00063, train_accr: 1.000 | val_loss: 0.00202, val_accr: 1.000\n",
      "02390 | train_loss: 0.00035, train_accr: 1.000 | val_loss: 0.00116, val_accr: 1.000\n",
      "02400 | train_loss: 0.00065, train_accr: 1.000 | val_loss: 0.00044, val_accr: 1.000\n",
      "02410 | train_loss: 0.00059, train_accr: 1.000 | val_loss: 0.00036, val_accr: 1.000\n",
      "02420 | train_loss: 0.00085, train_accr: 1.000 | val_loss: 0.00034, val_accr: 1.000\n",
      "02430 | train_loss: 0.00043, train_accr: 1.000 | val_loss: 0.00135, val_accr: 1.000\n",
      "02440 | train_loss: 0.00104, train_accr: 1.000 | val_loss: 0.00041, val_accr: 1.000\n",
      "02450 | train_loss: 0.00042, train_accr: 1.000 | val_loss: 0.00044, val_accr: 1.000\n",
      "02460 | train_loss: 0.00049, train_accr: 1.000 | val_loss: 0.00038, val_accr: 1.000\n",
      "02470 | train_loss: 0.00046, train_accr: 1.000 | val_loss: 0.00069, val_accr: 1.000\n",
      "02480 | train_loss: 0.00068, train_accr: 1.000 | val_loss: 0.00060, val_accr: 1.000\n",
      "02490 | train_loss: 0.00069, train_accr: 1.000 | val_loss: 0.00033, val_accr: 1.000\n",
      "02500 | train_loss: 0.00044, train_accr: 1.000 | val_loss: 0.00044, val_accr: 1.000\n",
      "02510 | train_loss: 0.00069, train_accr: 1.000 | val_loss: 0.00043, val_accr: 1.000\n",
      "02520 | train_loss: 0.00048, train_accr: 1.000 | val_loss: 0.00042, val_accr: 1.000\n",
      "02530 | train_loss: 0.00063, train_accr: 1.000 | val_loss: 0.00033, val_accr: 1.000\n",
      "02540 | train_loss: 0.00033, train_accr: 1.000 | val_loss: 0.00066, val_accr: 1.000\n",
      "02550 | train_loss: 0.00049, train_accr: 1.000 | val_loss: 0.00029, val_accr: 1.000\n",
      "02560 | train_loss: 0.00049, train_accr: 1.000 | val_loss: 0.00046, val_accr: 1.000\n",
      "02570 | train_loss: 0.00033, train_accr: 1.000 | val_loss: 0.00098, val_accr: 1.000\n",
      "02580 | train_loss: 0.00047, train_accr: 1.000 | val_loss: 0.00033, val_accr: 1.000\n",
      "02590 | train_loss: 0.00040, train_accr: 1.000 | val_loss: 0.00081, val_accr: 1.000\n",
      "02600 | train_loss: 0.00028, train_accr: 1.000 | val_loss: 0.00032, val_accr: 1.000\n",
      "02610 | train_loss: 0.00043, train_accr: 1.000 | val_loss: 0.00033, val_accr: 1.000\n",
      "02620 | train_loss: 0.00031, train_accr: 1.000 | val_loss: 0.00107, val_accr: 1.000\n",
      "02630 | train_loss: 0.00047, train_accr: 1.000 | val_loss: 0.00034, val_accr: 1.000\n",
      "02640 | train_loss: 0.00053, train_accr: 1.000 | val_loss: 0.00034, val_accr: 1.000\n",
      "02650 | train_loss: 0.00035, train_accr: 1.000 | val_loss: 0.00386, val_accr: 0.995\n",
      "02660 | train_loss: 0.00055, train_accr: 1.000 | val_loss: 0.00033, val_accr: 1.000\n",
      "02670 | train_loss: 0.00047, train_accr: 1.000 | val_loss: 0.00044, val_accr: 1.000\n",
      "02680 | train_loss: 0.00049, train_accr: 1.000 | val_loss: 0.00036, val_accr: 1.000\n",
      "02690 | train_loss: 0.00038, train_accr: 1.000 | val_loss: 0.00046, val_accr: 1.000\n",
      "02700 | train_loss: 0.00037, train_accr: 1.000 | val_loss: 0.00018, val_accr: 1.000\n",
      "02710 | train_loss: 0.00044, train_accr: 1.000 | val_loss: 0.00049, val_accr: 1.000\n",
      "02720 | train_loss: 0.00022, train_accr: 1.000 | val_loss: 0.00047, val_accr: 1.000\n",
      "02730 | train_loss: 0.00034, train_accr: 1.000 | val_loss: 0.00025, val_accr: 1.000\n",
      "02740 | train_loss: 0.00031, train_accr: 1.000 | val_loss: 0.00037, val_accr: 1.000\n",
      "02750 | train_loss: 0.00028, train_accr: 1.000 | val_loss: 0.00021, val_accr: 1.000\n",
      "02760 | train_loss: 0.00044, train_accr: 1.000 | val_loss: 0.00103, val_accr: 1.000\n",
      "02770 | train_loss: 0.00046, train_accr: 1.000 | val_loss: 0.00050, val_accr: 1.000\n",
      "02780 | train_loss: 0.00037, train_accr: 1.000 | val_loss: 0.00022, val_accr: 1.000\n",
      "02790 | train_loss: 0.00025, train_accr: 1.000 | val_loss: 0.00022, val_accr: 1.000\n",
      "02800 | train_loss: 0.00029, train_accr: 1.000 | val_loss: 0.00029, val_accr: 1.000\n",
      "02810 | train_loss: 0.00042, train_accr: 1.000 | val_loss: 0.00039, val_accr: 1.000\n",
      "02820 | train_loss: 0.00033, train_accr: 1.000 | val_loss: 0.00029, val_accr: 1.000\n",
      "02830 | train_loss: 0.00022, train_accr: 1.000 | val_loss: 0.00026, val_accr: 1.000\n",
      "02840 | train_loss: 0.00022, train_accr: 1.000 | val_loss: 0.00086, val_accr: 1.000\n",
      "02850 | train_loss: 0.00031, train_accr: 1.000 | val_loss: 0.00044, val_accr: 1.000\n",
      "02860 | train_loss: 0.00035, train_accr: 1.000 | val_loss: 0.00024, val_accr: 1.000\n",
      "02870 | train_loss: 0.00025, train_accr: 1.000 | val_loss: 0.00085, val_accr: 1.000\n",
      "02880 | train_loss: 0.00036, train_accr: 1.000 | val_loss: 0.00027, val_accr: 1.000\n",
      "02890 | train_loss: 0.00044, train_accr: 1.000 | val_loss: 0.00019, val_accr: 1.000\n",
      "02900 | train_loss: 0.00026, train_accr: 1.000 | val_loss: 0.00036, val_accr: 1.000\n",
      "02910 | train_loss: 0.00027, train_accr: 1.000 | val_loss: 0.00034, val_accr: 1.000\n",
      "02920 | train_loss: 0.00034, train_accr: 1.000 | val_loss: 0.00015, val_accr: 1.000\n",
      "02930 | train_loss: 0.00024, train_accr: 1.000 | val_loss: 0.00020, val_accr: 1.000\n",
      "02940 | train_loss: 0.00025, train_accr: 1.000 | val_loss: 0.00027, val_accr: 1.000\n"
     ]
    },
    {
     "name": "stdout",
     "output_type": "stream",
     "text": [
      "02950 | train_loss: 0.00040, train_accr: 1.000 | val_loss: 0.00023, val_accr: 1.000\n",
      "02960 | train_loss: 0.00034, train_accr: 1.000 | val_loss: 0.00034, val_accr: 1.000\n",
      "02970 | train_loss: 0.00034, train_accr: 1.000 | val_loss: 0.00030, val_accr: 1.000\n",
      "02980 | train_loss: 0.00031, train_accr: 1.000 | val_loss: 0.00030, val_accr: 1.000\n",
      "02990 | train_loss: 0.00021, train_accr: 1.000 | val_loss: 0.00025, val_accr: 1.000\n",
      "03000 | train_loss: 0.00030, train_accr: 1.000 | val_loss: 0.00031, val_accr: 1.000\n",
      "03010 | train_loss: 0.00025, train_accr: 1.000 | val_loss: 0.00033, val_accr: 1.000\n",
      "03020 | train_loss: 0.00031, train_accr: 1.000 | val_loss: 0.00038, val_accr: 1.000\n",
      "03030 | train_loss: 0.00030, train_accr: 1.000 | val_loss: 0.00028, val_accr: 1.000\n",
      "03040 | train_loss: 0.00026, train_accr: 1.000 | val_loss: 0.00025, val_accr: 1.000\n",
      "03050 | train_loss: 0.00029, train_accr: 1.000 | val_loss: 0.00032, val_accr: 1.000\n",
      "03060 | train_loss: 0.00019, train_accr: 1.000 | val_loss: 0.00024, val_accr: 1.000\n",
      "03070 | train_loss: 0.00027, train_accr: 1.000 | val_loss: 0.00042, val_accr: 1.000\n",
      "03080 | train_loss: 0.00022, train_accr: 1.000 | val_loss: 0.00026, val_accr: 1.000\n",
      "03090 | train_loss: 0.00023, train_accr: 1.000 | val_loss: 0.00030, val_accr: 1.000\n",
      "03100 | train_loss: 0.00016, train_accr: 1.000 | val_loss: 0.00041, val_accr: 1.000\n",
      "03110 | train_loss: 0.00028, train_accr: 1.000 | val_loss: 0.00081, val_accr: 1.000\n",
      "03120 | train_loss: 0.00024, train_accr: 1.000 | val_loss: 0.00111, val_accr: 1.000\n",
      "03130 | train_loss: 0.00015, train_accr: 1.000 | val_loss: 0.00034, val_accr: 1.000\n",
      "03140 | train_loss: 0.00017, train_accr: 1.000 | val_loss: 0.00024, val_accr: 1.000\n",
      "03150 | train_loss: 0.00024, train_accr: 1.000 | val_loss: 0.00016, val_accr: 1.000\n",
      "03160 | train_loss: 0.00018, train_accr: 1.000 | val_loss: 0.00015, val_accr: 1.000\n",
      "03170 | train_loss: 0.00028, train_accr: 1.000 | val_loss: 0.00028, val_accr: 1.000\n",
      "03180 | train_loss: 0.00023, train_accr: 1.000 | val_loss: 0.00019, val_accr: 1.000\n",
      "03190 | train_loss: 0.00028, train_accr: 1.000 | val_loss: 0.00016, val_accr: 1.000\n",
      "03200 | train_loss: 0.00036, train_accr: 1.000 | val_loss: 0.00071, val_accr: 1.000\n",
      "03210 | train_loss: 0.00024, train_accr: 1.000 | val_loss: 0.00027, val_accr: 1.000\n",
      "03220 | train_loss: 0.00014, train_accr: 1.000 | val_loss: 0.00013, val_accr: 1.000\n",
      "03230 | train_loss: 0.00026, train_accr: 1.000 | val_loss: 0.00021, val_accr: 1.000\n",
      "03240 | train_loss: 0.00017, train_accr: 1.000 | val_loss: 0.00030, val_accr: 1.000\n",
      "03250 | train_loss: 0.00018, train_accr: 1.000 | val_loss: 0.00063, val_accr: 1.000\n",
      "03260 | train_loss: 0.00020, train_accr: 1.000 | val_loss: 0.00022, val_accr: 1.000\n",
      "03270 | train_loss: 0.00018, train_accr: 1.000 | val_loss: 0.00067, val_accr: 1.000\n",
      "03280 | train_loss: 0.00022, train_accr: 1.000 | val_loss: 0.00041, val_accr: 1.000\n",
      "03290 | train_loss: 0.00021, train_accr: 1.000 | val_loss: 0.00113, val_accr: 1.000\n",
      "03300 | train_loss: 0.00021, train_accr: 1.000 | val_loss: 0.00087, val_accr: 1.000\n",
      "03310 | train_loss: 0.00019, train_accr: 1.000 | val_loss: 0.00026, val_accr: 1.000\n",
      "03320 | train_loss: 0.00026, train_accr: 1.000 | val_loss: 0.00039, val_accr: 1.000\n",
      "03330 | train_loss: 0.00031, train_accr: 1.000 | val_loss: 0.00018, val_accr: 1.000\n",
      "03340 | train_loss: 0.00031, train_accr: 1.000 | val_loss: 0.00082, val_accr: 1.000\n",
      "03350 | train_loss: 0.00022, train_accr: 1.000 | val_loss: 0.00019, val_accr: 1.000\n",
      "03360 | train_loss: 0.00016, train_accr: 1.000 | val_loss: 0.00042, val_accr: 1.000\n",
      "03370 | train_loss: 0.00021, train_accr: 1.000 | val_loss: 0.00082, val_accr: 1.000\n",
      "03380 | train_loss: 0.00025, train_accr: 1.000 | val_loss: 0.00071, val_accr: 1.000\n",
      "03390 | train_loss: 0.00015, train_accr: 1.000 | val_loss: 0.00018, val_accr: 1.000\n",
      "03400 | train_loss: 0.00019, train_accr: 1.000 | val_loss: 0.00013, val_accr: 1.000\n",
      "03410 | train_loss: 0.00014, train_accr: 1.000 | val_loss: 0.00014, val_accr: 1.000\n",
      "03420 | train_loss: 0.00015, train_accr: 1.000 | val_loss: 0.00016, val_accr: 1.000\n",
      "03430 | train_loss: 0.00022, train_accr: 1.000 | val_loss: 0.00030, val_accr: 1.000\n",
      "03440 | train_loss: 0.00019, train_accr: 1.000 | val_loss: 0.00021, val_accr: 1.000\n",
      "03450 | train_loss: 0.00030, train_accr: 1.000 | val_loss: 0.00046, val_accr: 1.000\n",
      "03460 | train_loss: 0.00017, train_accr: 1.000 | val_loss: 0.00014, val_accr: 1.000\n",
      "03470 | train_loss: 0.00015, train_accr: 1.000 | val_loss: 0.00029, val_accr: 1.000\n",
      "03480 | train_loss: 0.00032, train_accr: 1.000 | val_loss: 0.00035, val_accr: 1.000\n",
      "03490 | train_loss: 0.00021, train_accr: 1.000 | val_loss: 0.00016, val_accr: 1.000\n",
      "03500 | train_loss: 0.00019, train_accr: 1.000 | val_loss: 0.00014, val_accr: 1.000\n",
      "03510 | train_loss: 0.00015, train_accr: 1.000 | val_loss: 0.00214, val_accr: 1.000\n",
      "03520 | train_loss: 0.00010, train_accr: 1.000 | val_loss: 0.00107, val_accr: 1.000\n",
      "03530 | train_loss: 0.00019, train_accr: 1.000 | val_loss: 0.00016, val_accr: 1.000\n",
      "03540 | train_loss: 0.00013, train_accr: 1.000 | val_loss: 0.00025, val_accr: 1.000\n",
      "03550 | train_loss: 0.00017, train_accr: 1.000 | val_loss: 0.00016, val_accr: 1.000\n",
      "03560 | train_loss: 0.00016, train_accr: 1.000 | val_loss: 0.00097, val_accr: 1.000\n",
      "03570 | train_loss: 0.00013, train_accr: 1.000 | val_loss: 0.00012, val_accr: 1.000\n",
      "03580 | train_loss: 0.00011, train_accr: 1.000 | val_loss: 0.00015, val_accr: 1.000\n",
      "03590 | train_loss: 0.00045, train_accr: 1.000 | val_loss: 0.00017, val_accr: 1.000\n",
      "03600 | train_loss: 0.00027, train_accr: 1.000 | val_loss: 0.00010, val_accr: 1.000\n",
      "03610 | train_loss: 0.00011, train_accr: 1.000 | val_loss: 0.00016, val_accr: 1.000\n",
      "03620 | train_loss: 0.00021, train_accr: 1.000 | val_loss: 0.00022, val_accr: 1.000\n",
      "03630 | train_loss: 0.00008, train_accr: 1.000 | val_loss: 0.00025, val_accr: 1.000\n",
      "03640 | train_loss: 0.00015, train_accr: 1.000 | val_loss: 0.00027, val_accr: 1.000\n",
      "03650 | train_loss: 0.00018, train_accr: 1.000 | val_loss: 0.00021, val_accr: 1.000\n",
      "03660 | train_loss: 0.00027, train_accr: 1.000 | val_loss: 0.00033, val_accr: 1.000\n",
      "03670 | train_loss: 0.00026, train_accr: 1.000 | val_loss: 0.00019, val_accr: 1.000\n",
      "03680 | train_loss: 0.00014, train_accr: 1.000 | val_loss: 0.00012, val_accr: 1.000\n",
      "03690 | train_loss: 0.00020, train_accr: 1.000 | val_loss: 0.00094, val_accr: 1.000\n",
      "03700 | train_loss: 0.00018, train_accr: 1.000 | val_loss: 0.00019, val_accr: 1.000\n",
      "03710 | train_loss: 0.00040, train_accr: 1.000 | val_loss: 0.00012, val_accr: 1.000\n",
      "03720 | train_loss: 0.00031, train_accr: 1.000 | val_loss: 0.00126, val_accr: 1.000\n",
      "03730 | train_loss: 0.00014, train_accr: 1.000 | val_loss: 0.00012, val_accr: 1.000\n",
      "03740 | train_loss: 0.00012, train_accr: 1.000 | val_loss: 0.00012, val_accr: 1.000\n",
      "03750 | train_loss: 0.00011, train_accr: 1.000 | val_loss: 0.00062, val_accr: 1.000\n",
      "03760 | train_loss: 0.00013, train_accr: 1.000 | val_loss: 0.00009, val_accr: 1.000\n",
      "03770 | train_loss: 0.00015, train_accr: 1.000 | val_loss: 0.00044, val_accr: 1.000\n",
      "03780 | train_loss: 0.00015, train_accr: 1.000 | val_loss: 0.00009, val_accr: 1.000\n",
      "03790 | train_loss: 0.00017, train_accr: 1.000 | val_loss: 0.00058, val_accr: 1.000\n",
      "03800 | train_loss: 0.00009, train_accr: 1.000 | val_loss: 0.00033, val_accr: 1.000\n",
      "03810 | train_loss: 0.00025, train_accr: 1.000 | val_loss: 0.00011, val_accr: 1.000\n",
      "03820 | train_loss: 0.00012, train_accr: 1.000 | val_loss: 0.00020, val_accr: 1.000\n",
      "03830 | train_loss: 0.00015, train_accr: 1.000 | val_loss: 0.00015, val_accr: 1.000\n",
      "03840 | train_loss: 0.00014, train_accr: 1.000 | val_loss: 0.00014, val_accr: 1.000\n",
      "03850 | train_loss: 0.00015, train_accr: 1.000 | val_loss: 0.00119, val_accr: 1.000\n",
      "03860 | train_loss: 0.00011, train_accr: 1.000 | val_loss: 0.00009, val_accr: 1.000\n",
      "03870 | train_loss: 0.00021, train_accr: 1.000 | val_loss: 0.00017, val_accr: 1.000\n",
      "03880 | train_loss: 0.00013, train_accr: 1.000 | val_loss: 0.00012, val_accr: 1.000\n",
      "03890 | train_loss: 0.00021, train_accr: 1.000 | val_loss: 0.00017, val_accr: 1.000\n",
      "03900 | train_loss: 0.00021, train_accr: 1.000 | val_loss: 0.00010, val_accr: 1.000\n",
      "03910 | train_loss: 0.00010, train_accr: 1.000 | val_loss: 0.00067, val_accr: 1.000\n",
      "03920 | train_loss: 0.00007, train_accr: 1.000 | val_loss: 0.00013, val_accr: 1.000\n"
     ]
    },
    {
     "name": "stdout",
     "output_type": "stream",
     "text": [
      "03930 | train_loss: 0.00022, train_accr: 1.000 | val_loss: 0.00011, val_accr: 1.000\n",
      "03940 | train_loss: 0.00008, train_accr: 1.000 | val_loss: 0.00019, val_accr: 1.000\n",
      "03950 | train_loss: 0.00013, train_accr: 1.000 | val_loss: 0.00127, val_accr: 1.000\n",
      "03960 | train_loss: 0.00022, train_accr: 1.000 | val_loss: 0.00067, val_accr: 1.000\n",
      "03970 | train_loss: 0.00008, train_accr: 1.000 | val_loss: 0.00012, val_accr: 1.000\n",
      "03980 | train_loss: 0.00010, train_accr: 1.000 | val_loss: 0.00037, val_accr: 1.000\n",
      "03990 | train_loss: 0.00009, train_accr: 1.000 | val_loss: 0.00064, val_accr: 1.000\n",
      "04000 | train_loss: 0.00009, train_accr: 1.000 | val_loss: 0.00021, val_accr: 1.000\n",
      "04010 | train_loss: 0.00014, train_accr: 1.000 | val_loss: 0.00053, val_accr: 1.000\n",
      "04020 | train_loss: 0.00014, train_accr: 1.000 | val_loss: 0.00010, val_accr: 1.000\n",
      "04030 | train_loss: 0.00020, train_accr: 1.000 | val_loss: 0.00017, val_accr: 1.000\n",
      "04040 | train_loss: 0.00010, train_accr: 1.000 | val_loss: 0.00009, val_accr: 1.000\n",
      "04050 | train_loss: 0.00014, train_accr: 1.000 | val_loss: 0.00101, val_accr: 1.000\n",
      "04060 | train_loss: 0.00011, train_accr: 1.000 | val_loss: 0.00010, val_accr: 1.000\n",
      "04070 | train_loss: 0.00009, train_accr: 1.000 | val_loss: 0.00059, val_accr: 1.000\n",
      "04080 | train_loss: 0.00012, train_accr: 1.000 | val_loss: 0.00015, val_accr: 1.000\n",
      "04090 | train_loss: 0.00009, train_accr: 1.000 | val_loss: 0.00015, val_accr: 1.000\n",
      "04100 | train_loss: 0.00009, train_accr: 1.000 | val_loss: 0.00010, val_accr: 1.000\n",
      "04110 | train_loss: 0.00009, train_accr: 1.000 | val_loss: 0.00010, val_accr: 1.000\n",
      "04120 | train_loss: 0.00014, train_accr: 1.000 | val_loss: 0.00026, val_accr: 1.000\n",
      "04130 | train_loss: 0.00008, train_accr: 1.000 | val_loss: 0.00008, val_accr: 1.000\n",
      "04140 | train_loss: 0.00008, train_accr: 1.000 | val_loss: 0.00009, val_accr: 1.000\n",
      "04150 | train_loss: 0.00009, train_accr: 1.000 | val_loss: 0.00016, val_accr: 1.000\n",
      "04160 | train_loss: 0.00008, train_accr: 1.000 | val_loss: 0.00010, val_accr: 1.000\n",
      "04170 | train_loss: 0.00015, train_accr: 1.000 | val_loss: 0.00011, val_accr: 1.000\n",
      "04180 | train_loss: 0.00010, train_accr: 1.000 | val_loss: 0.00013, val_accr: 1.000\n",
      "04190 | train_loss: 0.00008, train_accr: 1.000 | val_loss: 0.00044, val_accr: 1.000\n",
      "04200 | train_loss: 0.00007, train_accr: 1.000 | val_loss: 0.00027, val_accr: 1.000\n",
      "04210 | train_loss: 0.00016, train_accr: 1.000 | val_loss: 0.00010, val_accr: 1.000\n",
      "04220 | train_loss: 0.00014, train_accr: 1.000 | val_loss: 0.00006, val_accr: 1.000\n",
      "04230 | train_loss: 0.00011, train_accr: 1.000 | val_loss: 0.00014, val_accr: 1.000\n",
      "04240 | train_loss: 0.00018, train_accr: 1.000 | val_loss: 0.00017, val_accr: 1.000\n",
      "04250 | train_loss: 0.00010, train_accr: 1.000 | val_loss: 0.00009, val_accr: 1.000\n",
      "04260 | train_loss: 0.00014, train_accr: 1.000 | val_loss: 0.00136, val_accr: 1.000\n",
      "04270 | train_loss: 0.00008, train_accr: 1.000 | val_loss: 0.00016, val_accr: 1.000\n",
      "04280 | train_loss: 0.00014, train_accr: 1.000 | val_loss: 0.00034, val_accr: 1.000\n",
      "04290 | train_loss: 0.00009, train_accr: 1.000 | val_loss: 0.00009, val_accr: 1.000\n",
      "04300 | train_loss: 0.00006, train_accr: 1.000 | val_loss: 0.00014, val_accr: 1.000\n",
      "04310 | train_loss: 0.00010, train_accr: 1.000 | val_loss: 0.00013, val_accr: 1.000\n",
      "04320 | train_loss: 0.00013, train_accr: 1.000 | val_loss: 0.00011, val_accr: 1.000\n",
      "04330 | train_loss: 0.00006, train_accr: 1.000 | val_loss: 0.00012, val_accr: 1.000\n",
      "04340 | train_loss: 0.00010, train_accr: 1.000 | val_loss: 0.00008, val_accr: 1.000\n",
      "04350 | train_loss: 0.00010, train_accr: 1.000 | val_loss: 0.00006, val_accr: 1.000\n",
      "04360 | train_loss: 0.00006, train_accr: 1.000 | val_loss: 0.00008, val_accr: 1.000\n",
      "04370 | train_loss: 0.00011, train_accr: 1.000 | val_loss: 0.00069, val_accr: 1.000\n",
      "04380 | train_loss: 0.00014, train_accr: 1.000 | val_loss: 0.00109, val_accr: 1.000\n",
      "04390 | train_loss: 0.00010, train_accr: 1.000 | val_loss: 0.00009, val_accr: 1.000\n",
      "04400 | train_loss: 0.00009, train_accr: 1.000 | val_loss: 0.00285, val_accr: 1.000\n",
      "04410 | train_loss: 0.00013, train_accr: 1.000 | val_loss: 0.00009, val_accr: 1.000\n",
      "04420 | train_loss: 0.00008, train_accr: 1.000 | val_loss: 0.00009, val_accr: 1.000\n",
      "04430 | train_loss: 0.00009, train_accr: 1.000 | val_loss: 0.00053, val_accr: 1.000\n",
      "04440 | train_loss: 0.00007, train_accr: 1.000 | val_loss: 0.00008, val_accr: 1.000\n",
      "04450 | train_loss: 0.00009, train_accr: 1.000 | val_loss: 0.00014, val_accr: 1.000\n",
      "04460 | train_loss: 0.00007, train_accr: 1.000 | val_loss: 0.00457, val_accr: 0.995\n",
      "04470 | train_loss: 0.00007, train_accr: 1.000 | val_loss: 0.00039, val_accr: 1.000\n",
      "04480 | train_loss: 0.00012, train_accr: 1.000 | val_loss: 0.00011, val_accr: 1.000\n",
      "04490 | train_loss: 0.00009, train_accr: 1.000 | val_loss: 0.00007, val_accr: 1.000\n",
      "04500 | train_loss: 0.00005, train_accr: 1.000 | val_loss: 0.00010, val_accr: 1.000\n",
      "04510 | train_loss: 0.00007, train_accr: 1.000 | val_loss: 0.00016, val_accr: 1.000\n",
      "04520 | train_loss: 0.00007, train_accr: 1.000 | val_loss: 0.00008, val_accr: 1.000\n",
      "04530 | train_loss: 0.00008, train_accr: 1.000 | val_loss: 0.00109, val_accr: 1.000\n",
      "04540 | train_loss: 0.00014, train_accr: 1.000 | val_loss: 0.00007, val_accr: 1.000\n",
      "04550 | train_loss: 0.00006, train_accr: 1.000 | val_loss: 0.00005, val_accr: 1.000\n",
      "04560 | train_loss: 0.00005, train_accr: 1.000 | val_loss: 0.00242, val_accr: 1.000\n",
      "04570 | train_loss: 0.00006, train_accr: 1.000 | val_loss: 0.00008, val_accr: 1.000\n",
      "04580 | train_loss: 0.00007, train_accr: 1.000 | val_loss: 0.00010, val_accr: 1.000\n",
      "04590 | train_loss: 0.00010, train_accr: 1.000 | val_loss: 0.00008, val_accr: 1.000\n",
      "04600 | train_loss: 0.00006, train_accr: 1.000 | val_loss: 0.00039, val_accr: 1.000\n",
      "04610 | train_loss: 0.00013, train_accr: 1.000 | val_loss: 0.00011, val_accr: 1.000\n",
      "04620 | train_loss: 0.00010, train_accr: 1.000 | val_loss: 0.00006, val_accr: 1.000\n",
      "04630 | train_loss: 0.00010, train_accr: 1.000 | val_loss: 0.00055, val_accr: 1.000\n",
      "04640 | train_loss: 0.00009, train_accr: 1.000 | val_loss: 0.00074, val_accr: 1.000\n",
      "04650 | train_loss: 0.00008, train_accr: 1.000 | val_loss: 0.00012, val_accr: 1.000\n",
      "04660 | train_loss: 0.00009, train_accr: 1.000 | val_loss: 0.00009, val_accr: 1.000\n",
      "04670 | train_loss: 0.00008, train_accr: 1.000 | val_loss: 0.00012, val_accr: 1.000\n",
      "04680 | train_loss: 0.00008, train_accr: 1.000 | val_loss: 0.00008, val_accr: 1.000\n",
      "04690 | train_loss: 0.00011, train_accr: 1.000 | val_loss: 0.00011, val_accr: 1.000\n",
      "04700 | train_loss: 0.00006, train_accr: 1.000 | val_loss: 0.00008, val_accr: 1.000\n",
      "04710 | train_loss: 0.00006, train_accr: 1.000 | val_loss: 0.00006, val_accr: 1.000\n",
      "04720 | train_loss: 0.00006, train_accr: 1.000 | val_loss: 0.00049, val_accr: 1.000\n",
      "04730 | train_loss: 0.00007, train_accr: 1.000 | val_loss: 0.00005, val_accr: 1.000\n",
      "04740 | train_loss: 0.00012, train_accr: 1.000 | val_loss: 0.00136, val_accr: 1.000\n",
      "04750 | train_loss: 0.00006, train_accr: 1.000 | val_loss: 0.00011, val_accr: 1.000\n",
      "04760 | train_loss: 0.00009, train_accr: 1.000 | val_loss: 0.00008, val_accr: 1.000\n",
      "04770 | train_loss: 0.00007, train_accr: 1.000 | val_loss: 0.00028, val_accr: 1.000\n",
      "04780 | train_loss: 0.00005, train_accr: 1.000 | val_loss: 0.00006, val_accr: 1.000\n",
      "04790 | train_loss: 0.00007, train_accr: 1.000 | val_loss: 0.00012, val_accr: 1.000\n",
      "04800 | train_loss: 0.00004, train_accr: 1.000 | val_loss: 0.00067, val_accr: 1.000\n",
      "04810 | train_loss: 0.00005, train_accr: 1.000 | val_loss: 0.00012, val_accr: 1.000\n",
      "04820 | train_loss: 0.00008, train_accr: 1.000 | val_loss: 0.00008, val_accr: 1.000\n",
      "04830 | train_loss: 0.00008, train_accr: 1.000 | val_loss: 0.00008, val_accr: 1.000\n",
      "04840 | train_loss: 0.00004, train_accr: 1.000 | val_loss: 0.00042, val_accr: 1.000\n",
      "04850 | train_loss: 0.00007, train_accr: 1.000 | val_loss: 0.00011, val_accr: 1.000\n",
      "04860 | train_loss: 0.00004, train_accr: 1.000 | val_loss: 0.00008, val_accr: 1.000\n",
      "04870 | train_loss: 0.00009, train_accr: 1.000 | val_loss: 0.00060, val_accr: 1.000\n",
      "04880 | train_loss: 0.00008, train_accr: 1.000 | val_loss: 0.00007, val_accr: 1.000\n",
      "04890 | train_loss: 0.00004, train_accr: 1.000 | val_loss: 0.00008, val_accr: 1.000\n",
      "04900 | train_loss: 0.00004, train_accr: 1.000 | val_loss: 0.00006, val_accr: 1.000\n"
     ]
    },
    {
     "name": "stdout",
     "output_type": "stream",
     "text": [
      "04910 | train_loss: 0.00007, train_accr: 1.000 | val_loss: 0.00005, val_accr: 1.000\n",
      "04920 | train_loss: 0.00007, train_accr: 1.000 | val_loss: 0.00010, val_accr: 1.000\n",
      "04930 | train_loss: 0.00005, train_accr: 1.000 | val_loss: 0.00007, val_accr: 1.000\n",
      "04940 | train_loss: 0.00004, train_accr: 1.000 | val_loss: 0.00005, val_accr: 1.000\n",
      "04950 | train_loss: 0.00005, train_accr: 1.000 | val_loss: 0.00008, val_accr: 1.000\n",
      "04960 | train_loss: 0.00005, train_accr: 1.000 | val_loss: 0.00115, val_accr: 1.000\n",
      "04970 | train_loss: 0.00006, train_accr: 1.000 | val_loss: 0.00013, val_accr: 1.000\n",
      "04980 | train_loss: 0.00023, train_accr: 1.000 | val_loss: 0.00005, val_accr: 1.000\n",
      "04990 | train_loss: 0.00007, train_accr: 1.000 | val_loss: 0.00005, val_accr: 1.000\n",
      "05000 | train_loss: 0.00004, train_accr: 1.000 | val_loss: 0.00028, val_accr: 1.000\n"
     ]
    }
   ],
   "source": [
    "loss_history, accr_history = [], []\n",
    "val_loss_history, val_accr_history = [], []\n",
    "\n",
    "iter_i = 0\n",
    "\n",
    "while True:\n",
    "    iter_i += 1\n",
    "    \n",
    "    G_train_x, G_train_y = RandomMinibatch(G_train_X, G_train_Y, 100)\n",
    "    B_train_x, B_train_y = RandomMinibatch(B_train_X, B_train_Y, 100)\n",
    "    \n",
    "    train_x, train_y = np.vstack([G_train_x, B_train_x]), np.hstack([G_train_y, B_train_y])\n",
    "\n",
    "    train_x, train_y = shuffle(train_x, train_y)\n",
    "    \n",
    "#     train_x, train_y = train_x.to(device), train_y.to(device)\n",
    "    train_x, train_y = torch.tensor(train_x, device=device).float(), torch.tensor(train_y, device=device).long()\n",
    "    \n",
    "    output = model(train_x)\n",
    "    loss = criterion(output, train_y)\n",
    "    \n",
    "    optimizer.zero_grad()\n",
    "    loss.backward()\n",
    "    optimizer.step()\n",
    "    \n",
    "    if iter_i % 10 == 0:\n",
    "        \n",
    "        _, pred = torch.max(output, 1)\n",
    "        \n",
    "        loss_history.append(loss.tolist())\n",
    "        accr_history.append((torch.sum(pred == train_y.data).tolist() / len(train_y)))\n",
    "        \n",
    "        with torch.no_grad():\n",
    "    \n",
    "            G_valid_x, G_valid_y = RandomMinibatch(G_valid_X, G_valid_Y, 100)\n",
    "            B_valid_x, B_valid_y = RandomMinibatch(B_valid_X, B_valid_Y, 100)\n",
    "\n",
    "            valid_x, valid_y = np.vstack([G_valid_x, B_valid_x]), np.hstack([G_valid_y, B_valid_y])\n",
    "#             valid_x, valid_y = valid_x.to(device), valid_y.to(device)\n",
    "            valid_x, valid_y = torch.tensor(valid_x, device=device).float(), torch.tensor(valid_y, device=device).long()\n",
    "\n",
    "            valid_output = model(valid_x)\n",
    "            valid_loss = criterion(valid_output, valid_y)\n",
    "            \n",
    "            _, valid_pred = torch.max(valid_output, 1)\n",
    "        \n",
    "            val_loss_history.append(valid_loss.tolist())\n",
    "            val_accr_history.append((torch.sum(valid_pred == valid_y.data).tolist() / len(valid_y)))\n",
    "        \n",
    "        \n",
    "        print(\"{:05d} | train_loss: {:.5f}, train_accr: {:.3f} | val_loss: {:.5f}, val_accr: {:.3f}\".format(iter_i, \n",
    "                                                                                                            loss_history[-1], \n",
    "                                                                                                            accr_history[-1], \n",
    "                                                                                                            val_loss_history[-1], \n",
    "                                                                                                            val_accr_history[-1]))\n",
    "        \n",
    "        if iter_i >= 100:  \n",
    "#             if np.mean(val_loss_history[-5 :]) >= np.mean(val_loss_history[-10:]):\n",
    "#                 print('')\n",
    "#                 print('Early stopping!!')\n",
    "#                 print('..val_loss (avg. within 5): {:.5f} >= val_loss (avg. within 10) {:.5f}'.format(np.mean(val_loss_history[-5 :]),\n",
    "#                                                                                                   np.mean(val_loss_history[-10:])))\n",
    "                \n",
    "            if val_loss_history[-1] == np.min(val_loss_history):\n",
    "\n",
    "                now = datetime.datetime.now()\n",
    "                nowDatetime = now.strftime('%y%m%d%H%M')\n",
    "                model_name = 'AE_GB_{}_{:05d}_loss_{:.6f}_val_loss_{:.6f}.pt'.format(nowDatetime, iter_i, \n",
    "                                                                                     np.mean(loss_history[-3:]),\n",
    "                                                                                     np.mean(val_loss_history[-3:]))\n",
    "                torch.save(model.state_dict(), './model/' + model_name)\n",
    "#                 break                   \n",
    "        if iter_i == 5000:\n",
    "            break"
   ]
  },
  {
   "cell_type": "code",
   "execution_count": 18,
   "metadata": {
    "ExecuteTime": {
     "end_time": "2020-03-23T16:19:34.299877Z",
     "start_time": "2020-03-23T16:19:33.710764Z"
    }
   },
   "outputs": [
    {
     "name": "stderr",
     "output_type": "stream",
     "text": [
      "/home/yunseob/Pytorch/lib/python3.5/site-packages/matplotlib/cbook/__init__.py:424: MatplotlibDeprecationWarning: \n",
      "Passing one of 'on', 'true', 'off', 'false' as a boolean is deprecated; use an actual boolean (True/False) instead.\n",
      "  warn_deprecated(\"2.2\", \"Passing one of 'on', 'true', 'off', 'false' as a \"\n"
     ]
    },
    {
     "data": {
      "image/png": "[encoded data removed]",
      "text/plain": [
       "<Figure size 1080x1224 with 2 Axes>"
      ]
     },
     "metadata": {
      "needs_background": "light"
     },
     "output_type": "display_data"
    }
   ],
   "source": [
    "fig = plt.figure(figsize = (15,17))\n",
    "plt.suptitle('Training History', y = 0.92, fontsize = 20)\n",
    "\n",
    "# x_axis = range(1, 10*len(accr_history)+1, 10)\n",
    "x_axis = np.arange(10, 10*len(accr_history)+1, 10)\n",
    "\n",
    "plt.subplot(2, 1, 1)\n",
    "plt.plot(x_axis, accr_history, 'b-', label = 'Training Accuracy')\n",
    "plt.plot(x_axis, val_accr_history, 'r-', label = 'Validation Accuracy')\n",
    "plt.xlabel('Iteration', fontsize = 15)\n",
    "plt.ylabel('Accuracy', fontsize = 15)\n",
    "plt.legend(fontsize = 10)\n",
    "plt.grid('on')\n",
    "plt.subplot(2, 1, 2)\n",
    "plt.plot(x_axis, loss_history, 'b-', label = 'Training Loss')\n",
    "plt.plot(x_axis, val_loss_history, 'r-', label = 'Validation Loss')\n",
    "plt.xlabel('Iteration', fontsize = 15)\n",
    "plt.ylabel('Loss', fontsize = 15)\n",
    "# plt.yticks(np.arange(0, 0.25, step=0.025))\n",
    "plt.legend(fontsize = 12)\n",
    "plt.grid('on')\n",
    "plt.show()\n",
    "\n",
    "# if save == True:\n",
    "#     fig.savefig(hist_path + filename)\n",
    "#     plt.close(fig)"
   ]
  },
  {
   "cell_type": "code",
   "execution_count": 19,
   "metadata": {
    "ExecuteTime": {
     "end_time": "2020-03-23T16:19:42.270287Z",
     "start_time": "2020-03-23T16:19:42.257802Z"
    }
   },
   "outputs": [],
   "source": [
    "np.save('./results/0_train_hist/AE_GB_accr_history', accr_history)\n",
    "np.save('./results/0_train_hist/AE_GB_val_accr_history', val_accr_history)\n",
    "np.save('./results/0_train_hist/AE_GB_loss_history', loss_history)\n",
    "np.save('./results/0_train_hist/AE_GB_val_loss_history', val_loss_history)"
   ]
  }
 ],
 "metadata": {
  "hide_input": false,
  "kernelspec": {
   "display_name": "Pytorch",
   "language": "python",
   "name": "pytorch"
  },
  "language_info": {
   "codemirror_mode": {
    "name": "ipython",
    "version": 3
   },
   "file_extension": ".py",
   "mimetype": "text/x-python",
   "name": "python",
   "nbconvert_exporter": "python",
   "pygments_lexer": "ipython3",
   "version": "3.5.2"
  },
  "toc": {
   "base_numbering": 1,
   "nav_menu": {},
   "number_sections": true,
   "sideBar": true,
   "skip_h1_title": false,
   "title_cell": "Table of Contents",
   "title_sidebar": "Contents",
   "toc_cell": false,
   "toc_position": {},
   "toc_section_display": true,
   "toc_window_display": false
  }
 },
 "nbformat": 4,
 "nbformat_minor": 2
}
