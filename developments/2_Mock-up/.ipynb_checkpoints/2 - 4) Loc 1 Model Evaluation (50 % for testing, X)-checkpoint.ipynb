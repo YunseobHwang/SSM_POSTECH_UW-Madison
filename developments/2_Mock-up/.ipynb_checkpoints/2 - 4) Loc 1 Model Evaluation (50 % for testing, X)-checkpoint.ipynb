{
 "cells": [
  {
   "cell_type": "code",
   "execution_count": 1,
   "metadata": {
    "ExecuteTime": {
     "end_time": "2020-03-26T00:58:28.466273Z",
     "start_time": "2020-03-26T00:58:27.640148Z"
    }
   },
   "outputs": [],
   "source": [
    "import numpy as np\n",
    "import matplotlib.pyplot as plt\n",
    "%matplotlib inline\n",
    "\n",
    "import os\n",
    "import pickle, gzip\n",
    "\n",
    "import torch\n",
    "from torch import nn\n",
    "from torch.nn import functional as F\n",
    "\n",
    "from sklearn.metrics import confusion_matrix\n",
    "import itertools"
   ]
  },
  {
   "cell_type": "code",
   "execution_count": 2,
   "metadata": {
    "ExecuteTime": {
     "end_time": "2020-03-26T00:58:28.536795Z",
     "start_time": "2020-03-26T00:58:28.468358Z"
    }
   },
   "outputs": [],
   "source": [
    "device = torch.device(\"cuda:3\" if torch.cuda.is_available() else \"cpu\")"
   ]
  },
  {
   "cell_type": "markdown",
   "metadata": {},
   "source": [
    "# 1. Load Testing data"
   ]
  },
  {
   "cell_type": "code",
   "execution_count": 3,
   "metadata": {
    "ExecuteTime": {
     "end_time": "2020-03-26T00:58:34.624549Z",
     "start_time": "2020-03-26T00:58:34.537471Z"
    }
   },
   "outputs": [],
   "source": [
    "def GBdataLoad(data_dir, phase = 'test', data = 'AE'):\n",
    "    for i in os.listdir(data_dir):\n",
    "        if 'good' in i and phase in i and data in i:\n",
    "            G_train_X = np.load(os.path.join(data_dir, i))\n",
    "        elif 'bad' in i and phase in i and data in i:\n",
    "            B_train_X = np.load(os.path.join(data_dir, i))\n",
    "            \n",
    "    def add_ch(img):\n",
    "        \"\"\"\n",
    "        (sample #, height, width,) -> (sample #, height, width, channel)\n",
    "        \"\"\"\n",
    "        return np.expand_dims(img, axis = -1)\n",
    "\n",
    "    return add_ch(G_train_X), add_ch(B_train_X)\n",
    "\n",
    "def input_for_Pytorch(img):\n",
    "    \"\"\"\n",
    "    (sample #, height, width, channel) -> (sample #, channel, height, width)\n",
    "    \"\"\"\n",
    "    img = np.transpose(img, (0, 3, 1, 2))\n",
    "    return img\n",
    "\n",
    "def CreateLabel(data, cls):\n",
    "    label = cls*np.ones([data.shape[0]])\n",
    "    return label\n",
    "\n",
    "def Convert(G_test_X, B_test_X):\n",
    "    G_test_X = input_for_Pytorch(G_test_X)\n",
    "    B_test_X = input_for_Pytorch(B_test_X)\n",
    "    G_test_Y, B_test_Y = CreateLabel(G_test_X, 0), CreateLabel(B_test_X, 1)\n",
    "    print(\"Testing GOOD:\",G_test_X.shape, G_test_Y.shape, \"BAD:\", B_test_X.shape, B_test_Y.shape)\n",
    "    GB_test_X, GB_test_Y = np.vstack([G_test_X, B_test_X]), np.hstack([G_test_Y, B_test_Y])\n",
    "    print(\"Testing:\", GB_test_X.shape, GB_test_Y.shape, '\\n')\n",
    "    return GB_test_X, GB_test_Y"
   ]
  },
  {
   "cell_type": "code",
   "execution_count": 4,
   "metadata": {
    "ExecuteTime": {
     "end_time": "2020-03-26T00:58:49.582128Z",
     "start_time": "2020-03-26T00:58:49.486347Z"
    }
   },
   "outputs": [
    {
     "name": "stdout",
     "output_type": "stream",
     "text": [
      "Testing GOOD: (684, 1, 40, 40) (684,) BAD: (685, 1, 40, 40) (685,)\n",
      "Testing: (1369, 1, 40, 40) (1369,) \n",
      "\n",
      "Testing GOOD: (684, 1, 40, 40) (684,) BAD: (685, 1, 40, 40) (685,)\n",
      "Testing: (1369, 1, 40, 40) (1369,) \n",
      "\n",
      "Testing GOOD: (684, 2, 40, 40) (684,) BAD: (685, 2, 40, 40) (685,)\n",
      "Testing: (1369, 2, 40, 40) (1369,) \n",
      "\n"
     ]
    }
   ],
   "source": [
    "Data_dir = '/mnt/disk2/data/private_data/SSM/2_Mockup/1_AE_Accel_Data/3_Loc1'\n",
    "        \n",
    "AE_G_test_X, AE_B_test_X = GBdataLoad(Data_dir, data = 'AE')\n",
    "AE_GB_test_X, AE_GB_test_Y = Convert(AE_G_test_X, AE_B_test_X)\n",
    "\n",
    "Accel_G_test_X, Accel_B_test_X = GBdataLoad(Data_dir, data = 'accel')\n",
    "Accel_GB_test_X, Accel_GB_test_Y = Convert(Accel_G_test_X, Accel_B_test_X)\n",
    "\n",
    "A2_G_test_X = np.concatenate((AE_G_test_X, Accel_G_test_X), axis = -1)\n",
    "A2_B_test_X = np.concatenate((AE_B_test_X, Accel_B_test_X), axis = -1)\n",
    "A2_GB_test_X, A2_GB_test_Y = Convert(A2_G_test_X, A2_B_test_X)"
   ]
  },
  {
   "cell_type": "markdown",
   "metadata": {},
   "source": [
    "# 2. Import Model"
   ]
  },
  {
   "cell_type": "code",
   "execution_count": 5,
   "metadata": {
    "ExecuteTime": {
     "end_time": "2020-03-26T00:59:00.149188Z",
     "start_time": "2020-03-26T00:59:00.123030Z"
    }
   },
   "outputs": [],
   "source": [
    "class ConvNet(nn.Module):\n",
    "    def __init__(self, n_ch, n_cls):\n",
    "        super().__init__()\n",
    "        # RGB세개 1채널, 20개 특징 추출, filter 크기, stride 1\n",
    "        self.conv1_1 = nn.Conv2d(n_ch, 64, 3, 1, padding=1)\n",
    "        self.conv1_2 = nn.Conv2d(64, 64, 3, 1, padding=1)\n",
    "        self.conv1_bn = nn.BatchNorm2d(64)\n",
    "        \n",
    "        self.conv2_1 = nn.Conv2d(64, 64, 3, 1, padding=1)\n",
    "        self.conv2_2 = nn.Conv2d(64, 64, 3, 1, padding=1)\n",
    "        self.conv2_bn = nn.BatchNorm2d(64)\n",
    "        \n",
    "        self.conv3_1 = nn.Conv2d(64, 64, 3, 1, padding=1)\n",
    "        self.conv3_2 = nn.Conv2d(64, 64, 3, 1, padding=1)\n",
    "        self.conv3_bn = nn.BatchNorm2d(64)\n",
    "        \n",
    "        self.conv4_1 = nn.Conv2d(64, 64, 3, 1, padding=1)\n",
    "        self.conv4_2 = nn.Conv2d(64, 64, 3, 1, padding=1)\n",
    "        self.conv4_bn = nn.BatchNorm2d(64)\n",
    "        \n",
    "        self.dense1 = nn.Linear(2*2*64, 128)\n",
    "        # 0.5 가 권장 할 만하대\n",
    "        self.dropout1 = nn.Dropout(0.5)\n",
    "        self.dense2 = nn.Linear(128, n_cls)  \n",
    "        \n",
    "    def forward(self, x):\n",
    "        x = F.relu(self.conv1_1(x))\n",
    "        x = F.relu(self.conv1_bn(self.conv1_2(x)))\n",
    "        x = F.max_pool2d(x, 2, 2)\n",
    "        x = F.relu(self.conv2_1(x))\n",
    "        x = F.relu(self.conv2_bn(self.conv2_2(x)))\n",
    "        x = F.max_pool2d(x, 2, 2)\n",
    "        x = F.relu(self.conv3_1(x))\n",
    "        x = F.relu(self.conv3_bn(self.conv3_2(x)))\n",
    "        x = F.max_pool2d(x, 2, 2)\n",
    "        x = F.relu(self.conv4_1(x))\n",
    "        x = F.relu(self.conv4_bn(self.conv4_2(x)))\n",
    "        x = F.max_pool2d(x, 2, 2)\n",
    "        # flatten\n",
    "        x = x.view(-1, 2*2*64)\n",
    "        x = F.relu(self.dense1(x))\n",
    "        x = self.dropout1(x)\n",
    "        x = self.dense2(x)\n",
    "        return x"
   ]
  },
  {
   "cell_type": "code",
   "execution_count": 6,
   "metadata": {
    "ExecuteTime": {
     "end_time": "2020-03-26T00:59:07.676787Z",
     "start_time": "2020-03-26T00:59:07.665193Z"
    },
    "scrolled": true
   },
   "outputs": [
    {
     "data": {
      "text/plain": [
       "['.ipynb_checkpoints',\n",
       " 'AE_1_GB_2003260951_01160_loss_0.029520_val_loss_0.129516.pt']"
      ]
     },
     "execution_count": 6,
     "metadata": {},
     "output_type": "execute_result"
    }
   ],
   "source": [
    "model_files = sorted([i for i in os.listdir('./model/3_Loc1')])\n",
    "model_files"
   ]
  },
  {
   "cell_type": "code",
   "execution_count": 9,
   "metadata": {
    "ExecuteTime": {
     "end_time": "2020-03-26T01:01:37.478685Z",
     "start_time": "2020-03-26T01:01:37.464267Z"
    }
   },
   "outputs": [],
   "source": [
    "def model_import(ConvNet, n_ch, n_cls, model_pt, device):\n",
    "    model = ConvNet(n_ch, n_cls)\n",
    "    model = model.to(device)\n",
    "    model.load_state_dict(torch.load('./model/3_Loc1/' + model_pt))\n",
    "    model.eval()\n",
    "    return model\n",
    "\n",
    "def model_pt(model_files, name = 'AE'):\n",
    "    return [i for i in model_files if name in i][0]"
   ]
  },
  {
   "cell_type": "code",
   "execution_count": 10,
   "metadata": {
    "ExecuteTime": {
     "end_time": "2020-03-26T01:01:37.633161Z",
     "start_time": "2020-03-26T01:01:37.598266Z"
    }
   },
   "outputs": [],
   "source": [
    "AE_GB_model = model_import(ConvNet, 1, 2, model_pt(model_files, 'AE'), device)\n",
    "# Accel_GB_model = model_import(ConvNet, 1, 2, model_pt(model_files, 'Accel'), device)\n",
    "# A2_GB_model = model_import(ConvNet, 2, 2, model_pt(model_files, 'A2'), device)"
   ]
  },
  {
   "cell_type": "markdown",
   "metadata": {},
   "source": [
    "# 3. Evaluation"
   ]
  },
  {
   "cell_type": "markdown",
   "metadata": {},
   "source": [
    "## 3.1. Accuracy"
   ]
  },
  {
   "cell_type": "code",
   "execution_count": 11,
   "metadata": {
    "ExecuteTime": {
     "end_time": "2020-03-26T01:01:40.051068Z",
     "start_time": "2020-03-26T01:01:40.024878Z"
    }
   },
   "outputs": [],
   "source": [
    "def model_pred(model, model_name, test_X, test_Y):\n",
    "    test_X, test_Y = torch.tensor(test_X, device=device).float(), torch.tensor(test_Y, device=device).long()\n",
    "    output = model(test_X)\n",
    "    \n",
    "    _, pred = torch.max(output, 1)\n",
    "    num_correct = torch.sum(pred == test_Y.data).tolist()\n",
    "    accr = num_correct / len(test_Y)\n",
    "    \n",
    "    print(\"{} - Accuracy: {:.2f} % ({} / {})\".format(model_name, 100*accr, num_correct, len(test_Y)))\n",
    "    \n",
    "    return pred.tolist()\n",
    "\n",
    "def test_batch_idxs(data, batch_size = 250):\n",
    "    \"\"\"generate the serial batch of data on index-level.\n",
    "       Usually, the data is too large to be evaluated at once.\n",
    "    \n",
    "    Args:\n",
    "      data: A list or array of target dataset e.g. data_x we use\n",
    "      batchsize: A integer\n",
    "      \n",
    "    Returns:\n",
    "      batch_idxs: A list, \n",
    "    \"\"\"\n",
    "    total_size = len(data)\n",
    "    batch_idxs = []\n",
    "    start = 0\n",
    "    while True:\n",
    "        if total_size >= start + batch_size:\n",
    "            batch_idxs.append([start + i for i in range(batch_size)])\n",
    "        elif total_size < start + batch_size:\n",
    "            batch_idxs.append([start + i for i in range(total_size - start)])\n",
    "        start += batch_size\n",
    "        if total_size <= start:\n",
    "            break\n",
    "    return batch_idxs\n",
    "\n",
    "def model_pred_batch(model, model_name, test_X, test_Y, batch_size = 100):\n",
    "    test_idxs = test_batch_idxs(test_X, batch_size)\n",
    "    pred = []\n",
    "    for i in test_idxs:\n",
    "        pred.append(model_pred(model, 'model', test_X[i], test_Y[i]))\n",
    "    pred = np.concatenate(pred)\n",
    "    num_correct = np.sum(pred == test_Y)\n",
    "    accr = num_correct / len(test_Y)\n",
    "    print(\"Accuracy: {:.2f} % ({} / {})\".format(100*accr, num_correct, len(test_Y)))\n",
    "    return pred"
   ]
  },
  {
   "cell_type": "code",
   "execution_count": 12,
   "metadata": {
    "ExecuteTime": {
     "end_time": "2020-03-26T01:01:42.289371Z",
     "start_time": "2020-03-26T01:01:42.210481Z"
    }
   },
   "outputs": [
    {
     "name": "stdout",
     "output_type": "stream",
     "text": [
      "AE - Accuracy: 49.96 % (684 / 1369)\n"
     ]
    }
   ],
   "source": [
    "AE_pred = model_pred(AE_GB_model, 'AE', AE_GB_test_X, AE_GB_test_Y)"
   ]
  },
  {
   "cell_type": "code",
   "execution_count": 11,
   "metadata": {
    "ExecuteTime": {
     "end_time": "2020-03-25T19:08:20.934688Z",
     "start_time": "2020-03-25T19:08:20.867703Z"
    }
   },
   "outputs": [
    {
     "name": "stdout",
     "output_type": "stream",
     "text": [
      "Accel - Accuracy: 55.63 % (776 / 1395)\n"
     ]
    }
   ],
   "source": [
    "Accel_pred = model_pred(Accel_GB_model, 'Accel', Accel_GB_test_X, Accel_GB_test_Y)"
   ]
  },
  {
   "cell_type": "code",
   "execution_count": 12,
   "metadata": {
    "ExecuteTime": {
     "end_time": "2020-03-25T19:08:21.120685Z",
     "start_time": "2020-03-25T19:08:21.040475Z"
    }
   },
   "outputs": [
    {
     "name": "stdout",
     "output_type": "stream",
     "text": [
      "A2 - Accuracy: 50.11 % (699 / 1395)\n"
     ]
    }
   ],
   "source": [
    "A2_pred = model_pred(A2_GB_model, 'A2', A2_GB_test_X, A2_GB_test_Y)"
   ]
  },
  {
   "cell_type": "markdown",
   "metadata": {},
   "source": [
    "## 3.2. Confusion Matrix"
   ]
  },
  {
   "cell_type": "code",
   "execution_count": 13,
   "metadata": {
    "ExecuteTime": {
     "end_time": "2020-03-25T19:08:27.493430Z",
     "start_time": "2020-03-25T19:08:27.464829Z"
    }
   },
   "outputs": [],
   "source": [
    "def CMsave(test_Y, pred, save_name = 'AE'):\n",
    "\n",
    "    def plotCM(cm, class_name, value_size, label_size, mode):\n",
    "\n",
    "        plt.imshow(cm, interpolation = 'nearest', cmap = plt.cm.Blues)\n",
    "        thresh = cm.max()/2.\n",
    "        for i, j in itertools.product(range(cm.shape[0]), range(cm.shape[1])):\n",
    "            if mode == 'percent':\n",
    "                value = np.round(cm[i, j]/(np.sum(cm, 1)[i]), 3)\n",
    "            if mode == 'num':\n",
    "                value = cm[i, j]\n",
    "            plt.text(j, i, value,\n",
    "                     fontsize = value_size,\n",
    "                     horizontalalignment = 'center',\n",
    "                     color = 'white' if cm[i, j] > thresh else 'black')\n",
    "        plt.ylabel('True label', fontsize = label_size)\n",
    "        plt.xlabel('Predicted', fontsize = label_size)\n",
    "        plt.xticks([i for i in range(len(class_name))], class_name, rotation=0, fontsize = label_size)\n",
    "        plt.yticks([i for i in range(len(class_name))], class_name, rotation=0, fontsize = label_size)\n",
    "\n",
    "    cm = confusion_matrix(test_Y, pred)\n",
    "    class_name = ['GOOD', 'BAD']\n",
    "\n",
    "    fig = plt.figure(figsize = (13, 10))\n",
    "    plotCM(cm, class_name, value_size = 20, label_size = 15, mode = 'percent')\n",
    "    plt.show()\n",
    "    fig.savefig('./results/1_confusion_mat/{}_CM_percent.png'.format(save_name), bbox_inches='tight')\n",
    "    plt.close(fig)\n",
    "    fig = plt.figure(figsize = (13, 10))\n",
    "    plotCM(cm, class_name, value_size = 20, label_size = 15, mode = 'num')\n",
    "    plt.show()\n",
    "    fig.savefig('./results/1_confusion_mat/{}_CM_num.png'.format(save_name), bbox_inches='tight')\n",
    "    plt.close(fig)"
   ]
  },
  {
   "cell_type": "code",
   "execution_count": 14,
   "metadata": {
    "ExecuteTime": {
     "end_time": "2020-03-25T19:08:29.265246Z",
     "start_time": "2020-03-25T19:08:28.460166Z"
    }
   },
   "outputs": [
    {
     "data": {
      "image/png": "[encoded data removed]",
      "text/plain": [
       "<Figure size 936x720 with 1 Axes>"
      ]
     },
     "metadata": {
      "needs_background": "light"
     },
     "output_type": "display_data"
    },
    {
     "data": {
      "image/png": "[encoded data removed]",
      "text/plain": [
       "<Figure size 936x720 with 1 Axes>"
      ]
     },
     "metadata": {
      "needs_background": "light"
     },
     "output_type": "display_data"
    }
   ],
   "source": [
    "CMsave(AE_GB_test_Y, AE_pred, 'AE_Noise')"
   ]
  },
  {
   "cell_type": "code",
   "execution_count": 15,
   "metadata": {
    "ExecuteTime": {
     "end_time": "2020-03-25T19:08:30.029774Z",
     "start_time": "2020-03-25T19:08:29.267155Z"
    }
   },
   "outputs": [
    {
     "data": {
      "image/png": "[encoded data removed]",
      "text/plain": [
       "<Figure size 936x720 with 1 Axes>"
      ]
     },
     "metadata": {
      "needs_background": "light"
     },
     "output_type": "display_data"
    },
    {
     "data": {
      "image/png": "[encoded data removed]",
      "text/plain": [
       "<Figure size 936x720 with 1 Axes>"
      ]
     },
     "metadata": {
      "needs_background": "light"
     },
     "output_type": "display_data"
    }
   ],
   "source": [
    "CMsave(Accel_GB_test_Y, Accel_pred, 'Accel_Noise')"
   ]
  },
  {
   "cell_type": "code",
   "execution_count": 16,
   "metadata": {
    "ExecuteTime": {
     "end_time": "2020-03-25T19:08:30.820653Z",
     "start_time": "2020-03-25T19:08:30.031731Z"
    }
   },
   "outputs": [
    {
     "data": {
      "image/png": "[encoded data removed]",
      "text/plain": [
       "<Figure size 936x720 with 1 Axes>"
      ]
     },
     "metadata": {
      "needs_background": "light"
     },
     "output_type": "display_data"
    },
    {
     "data": {
      "image/png": "[encoded data removed]",
      "text/plain": [
       "<Figure size 936x720 with 1 Axes>"
      ]
     },
     "metadata": {
      "needs_background": "light"
     },
     "output_type": "display_data"
    }
   ],
   "source": [
    "CMsave(A2_GB_test_Y, A2_pred, 'A2_Noise')"
   ]
  }
 ],
 "metadata": {
  "hide_input": false,
  "kernelspec": {
   "display_name": "Pytorch",
   "language": "python",
   "name": "pytorch"
  },
  "language_info": {
   "codemirror_mode": {
    "name": "ipython",
    "version": 3
   },
   "file_extension": ".py",
   "mimetype": "text/x-python",
   "name": "python",
   "nbconvert_exporter": "python",
   "pygments_lexer": "ipython3",
   "version": "3.5.2"
  },
  "toc": {
   "base_numbering": 1,
   "nav_menu": {},
   "number_sections": false,
   "sideBar": true,
   "skip_h1_title": false,
   "title_cell": "Table of Contents",
   "title_sidebar": "Contents",
   "toc_cell": false,
   "toc_position": {},
   "toc_section_display": true,
   "toc_window_display": false
  }
 },
 "nbformat": 4,
 "nbformat_minor": 2
}
