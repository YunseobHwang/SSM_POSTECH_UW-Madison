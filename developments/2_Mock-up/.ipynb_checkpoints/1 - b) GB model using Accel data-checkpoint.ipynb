{
 "cells": [
  {
   "cell_type": "code",
   "execution_count": 1,
   "metadata": {
    "ExecuteTime": {
     "end_time": "2020-03-25T14:27:22.972205Z",
     "start_time": "2020-03-25T14:27:22.393875Z"
    }
   },
   "outputs": [],
   "source": [
    "import numpy as np\n",
    "import matplotlib.pyplot as plt\n",
    "%matplotlib inline\n",
    "\n",
    "import os\n",
    "import time, datetime\n",
    "\n",
    "import torch\n",
    "from torch import nn\n",
    "from torch.nn import functional as F\n",
    "from torchsummary import summary"
   ]
  },
  {
   "cell_type": "code",
   "execution_count": 2,
   "metadata": {
    "ExecuteTime": {
     "end_time": "2020-03-25T14:27:27.535397Z",
     "start_time": "2020-03-25T14:27:23.590121Z"
    }
   },
   "outputs": [],
   "source": [
    "device = torch.device(\"cuda:3\" if torch.cuda.is_available() else \"cpu\")"
   ]
  },
  {
   "cell_type": "markdown",
   "metadata": {},
   "source": [
    "# Load Data"
   ]
  },
  {
   "cell_type": "code",
   "execution_count": 3,
   "metadata": {
    "ExecuteTime": {
     "end_time": "2020-03-25T14:27:27.544669Z",
     "start_time": "2020-03-25T14:27:27.538234Z"
    }
   },
   "outputs": [
    {
     "data": {
      "text/plain": [
       "['bad_die_accel_test.npy',\n",
       " 'bad_die_accel_train.npy',\n",
       " 'good_die_accel_test.npy',\n",
       " 'good_die_accel_train.npy']"
      ]
     },
     "execution_count": 3,
     "metadata": {},
     "output_type": "execute_result"
    }
   ],
   "source": [
    "data_dir = '/mnt/disk2/data/private_data/SSM/2_Mockup/1_AE_Accel_Data/1_Die_Fixture/Acceleration'\n",
    "\n",
    "os.listdir(data_dir)"
   ]
  },
  {
   "cell_type": "code",
   "execution_count": 4,
   "metadata": {
    "ExecuteTime": {
     "end_time": "2020-03-25T15:16:29.528331Z",
     "start_time": "2020-03-25T15:16:29.481964Z"
    }
   },
   "outputs": [],
   "source": [
    "for i in os.listdir(data_dir):\n",
    "    if 'good' in i and 'train' in i:\n",
    "        G_train_X = np.load(os.path.join(data_dir, i))\n",
    "    elif 'bad' in i and 'train' in i:\n",
    "        B_train_X = np.load(os.path.join(data_dir, i))"
   ]
  },
  {
   "cell_type": "code",
   "execution_count": 5,
   "metadata": {
    "ExecuteTime": {
     "end_time": "2020-03-25T15:16:30.792114Z",
     "start_time": "2020-03-25T15:16:30.783917Z"
    }
   },
   "outputs": [
    {
     "data": {
      "text/plain": [
       "((2822, 40, 40), (2510, 40, 40))"
      ]
     },
     "execution_count": 5,
     "metadata": {},
     "output_type": "execute_result"
    }
   ],
   "source": [
    "G_train_X.shape, B_train_X.shape"
   ]
  },
  {
   "cell_type": "code",
   "execution_count": 6,
   "metadata": {
    "ExecuteTime": {
     "end_time": "2020-03-25T15:16:35.452840Z",
     "start_time": "2020-03-25T15:16:35.441548Z"
    },
    "scrolled": true
   },
   "outputs": [
    {
     "data": {
      "text/plain": [
       "((2822, 40, 40, 1), (2510, 40, 40, 1))"
      ]
     },
     "execution_count": 6,
     "metadata": {},
     "output_type": "execute_result"
    }
   ],
   "source": [
    "def add_ch(img):\n",
    "    \"\"\"\n",
    "    (sample #, height, width,) -> (sample #, height, width, channel)\n",
    "    \"\"\"\n",
    "    return np.expand_dims(img, axis = -1)\n",
    "\n",
    "G_train_X = add_ch(G_train_X)\n",
    "B_train_X = add_ch(B_train_X)\n",
    "\n",
    "G_train_X.shape, B_train_X.shape"
   ]
  },
  {
   "cell_type": "code",
   "execution_count": 7,
   "metadata": {
    "ExecuteTime": {
     "end_time": "2020-03-25T15:16:38.876051Z",
     "start_time": "2020-03-25T15:16:38.865246Z"
    }
   },
   "outputs": [
    {
     "data": {
      "text/plain": [
       "((2822, 1, 40, 40), (2510, 1, 40, 40))"
      ]
     },
     "execution_count": 7,
     "metadata": {},
     "output_type": "execute_result"
    }
   ],
   "source": [
    "def input_for_Pytorch(img):\n",
    "    \"\"\"\n",
    "    (sample #, height, width, channel) -> (sample #, channel, height, width)\n",
    "    \"\"\"\n",
    "    img = np.transpose(img, (0, 3, 1, 2))\n",
    "    return img\n",
    "\n",
    "G_train_X = input_for_Pytorch(G_train_X)\n",
    "B_train_X = input_for_Pytorch(B_train_X)\n",
    "\n",
    "G_train_X.shape, B_train_X.shape"
   ]
  },
  {
   "cell_type": "code",
   "execution_count": 8,
   "metadata": {
    "ExecuteTime": {
     "end_time": "2020-03-25T15:16:39.635741Z",
     "start_time": "2020-03-25T15:16:39.624156Z"
    }
   },
   "outputs": [
    {
     "data": {
      "text/plain": [
       "((2822, 1, 40, 40), (2822,), (2510, 1, 40, 40), (2510,))"
      ]
     },
     "execution_count": 8,
     "metadata": {},
     "output_type": "execute_result"
    }
   ],
   "source": [
    "def CreateLabel(data, cls):\n",
    "    label = cls*np.ones([data.shape[0]])\n",
    "    return label\n",
    "\n",
    "G_train_Y, B_train_Y = CreateLabel(G_train_X, 0), CreateLabel(B_train_X, 1)\n",
    "\n",
    "G_train_X.shape, G_train_Y.shape, B_train_X.shape, B_train_Y.shape"
   ]
  },
  {
   "cell_type": "code",
   "execution_count": 9,
   "metadata": {
    "ExecuteTime": {
     "end_time": "2020-03-25T15:16:42.401531Z",
     "start_time": "2020-03-25T15:16:42.349070Z"
    }
   },
   "outputs": [
    {
     "name": "stdout",
     "output_type": "stream",
     "text": [
      "Training: (2539, 1, 40, 40) (2539,) (2259, 1, 40, 40) (2259,)\n",
      "Validation: (283, 1, 40, 40) (283,) (251, 1, 40, 40) (251,)\n"
     ]
    }
   ],
   "source": [
    "def train_valid_split(data, label, rate_t_v = 0.9):\n",
    "    data_num = len(data)\n",
    "    train_idx = np.random.choice(data_num, int(rate_t_v*data_num), replace = False)\n",
    "    valid_idx = np.setdiff1d(np.arange(data_num), train_idx)\n",
    "    return data[train_idx], label[train_idx], data[valid_idx], label[valid_idx]\n",
    "\n",
    "G_train_X, G_train_Y, G_valid_X, G_valid_Y = train_valid_split(G_train_X, G_train_Y)\n",
    "B_train_X, B_train_Y, B_valid_X, B_valid_Y = train_valid_split(B_train_X, B_train_Y)\n",
    "\n",
    "print(\"Training:\", G_train_X.shape, G_train_Y.shape, B_train_X.shape, B_train_Y.shape)\n",
    "print(\"Validation:\", G_valid_X.shape, G_valid_Y.shape, B_valid_X.shape, B_valid_Y.shape)"
   ]
  },
  {
   "cell_type": "markdown",
   "metadata": {},
   "source": [
    "# Model"
   ]
  },
  {
   "cell_type": "code",
   "execution_count": 10,
   "metadata": {
    "ExecuteTime": {
     "end_time": "2020-03-25T15:16:47.067008Z",
     "start_time": "2020-03-25T15:16:47.042638Z"
    }
   },
   "outputs": [],
   "source": [
    "class ConvNet(nn.Module):\n",
    "    def __init__(self):\n",
    "        super().__init__()\n",
    "        # RGB세개 1채널, 20개 특징 추출, filter 크기, stride 1\n",
    "        self.conv1_1 = nn.Conv2d(1, 64, 3, 1, padding=1)\n",
    "        self.conv1_2 = nn.Conv2d(64, 64, 3, 1, padding=1)\n",
    "        self.conv1_bn = nn.BatchNorm2d(64)\n",
    "        \n",
    "        self.conv2_1 = nn.Conv2d(64, 64, 3, 1, padding=1)\n",
    "        self.conv2_2 = nn.Conv2d(64, 64, 3, 1, padding=1)\n",
    "        self.conv2_bn = nn.BatchNorm2d(64)\n",
    "        \n",
    "        self.conv3_1 = nn.Conv2d(64, 64, 3, 1, padding=1)\n",
    "        self.conv3_2 = nn.Conv2d(64, 64, 3, 1, padding=1)\n",
    "        self.conv3_bn = nn.BatchNorm2d(64)\n",
    "        \n",
    "        self.conv4_1 = nn.Conv2d(64, 64, 3, 1, padding=1)\n",
    "        self.conv4_2 = nn.Conv2d(64, 64, 3, 1, padding=1)\n",
    "        self.conv4_bn = nn.BatchNorm2d(64)\n",
    "        \n",
    "        self.dense1 = nn.Linear(2*2*64, 128)\n",
    "        # 0.5 가 권장 할 만하대\n",
    "        self.dropout1 = nn.Dropout(0.5)\n",
    "        self.dense2 = nn.Linear(128, 2)  \n",
    "        \n",
    "    def forward(self, x):\n",
    "        x = F.relu(self.conv1_1(x))\n",
    "        x = F.relu(self.conv1_bn(self.conv1_2(x)))\n",
    "        x = F.max_pool2d(x, 2, 2)\n",
    "        x = F.relu(self.conv2_1(x))\n",
    "        x = F.relu(self.conv2_bn(self.conv2_2(x)))\n",
    "        x = F.max_pool2d(x, 2, 2)\n",
    "        x = F.relu(self.conv3_1(x))\n",
    "        x = F.relu(self.conv3_bn(self.conv3_2(x)))\n",
    "        x = F.max_pool2d(x, 2, 2)\n",
    "        x = F.relu(self.conv4_1(x))\n",
    "        x = F.relu(self.conv4_bn(self.conv4_2(x)))\n",
    "        x = F.max_pool2d(x, 2, 2)\n",
    "        # flatten\n",
    "        x = x.view(-1, 2*2*64)\n",
    "        x = F.relu(self.dense1(x))\n",
    "        x = self.dropout1(x)\n",
    "        x = self.dense2(x)\n",
    "        return x"
   ]
  },
  {
   "cell_type": "code",
   "execution_count": 11,
   "metadata": {
    "ExecuteTime": {
     "end_time": "2020-03-25T15:16:51.270963Z",
     "start_time": "2020-03-25T15:16:47.193683Z"
    }
   },
   "outputs": [
    {
     "name": "stdout",
     "output_type": "stream",
     "text": [
      "----------------------------------------------------------------\n",
      "        Layer (type)               Output Shape         Param #\n",
      "================================================================\n",
      "            Conv2d-1           [-1, 64, 40, 40]             640\n",
      "            Conv2d-2           [-1, 64, 40, 40]          36,928\n",
      "       BatchNorm2d-3           [-1, 64, 40, 40]             128\n",
      "            Conv2d-4           [-1, 64, 20, 20]          36,928\n",
      "            Conv2d-5           [-1, 64, 20, 20]          36,928\n",
      "       BatchNorm2d-6           [-1, 64, 20, 20]             128\n",
      "            Conv2d-7           [-1, 64, 10, 10]          36,928\n",
      "            Conv2d-8           [-1, 64, 10, 10]          36,928\n",
      "       BatchNorm2d-9           [-1, 64, 10, 10]             128\n",
      "           Conv2d-10             [-1, 64, 5, 5]          36,928\n",
      "           Conv2d-11             [-1, 64, 5, 5]          36,928\n",
      "      BatchNorm2d-12             [-1, 64, 5, 5]             128\n",
      "           Linear-13                  [-1, 128]          32,896\n",
      "          Dropout-14                  [-1, 128]               0\n",
      "           Linear-15                    [-1, 2]             258\n",
      "          ConvNet-16                    [-1, 2]               0\n",
      "================================================================\n",
      "Total params: 292,802\n",
      "Trainable params: 292,802\n",
      "Non-trainable params: 0\n",
      "----------------------------------------------------------------\n",
      "Input size (MB): 0.01\n",
      "Forward/backward pass size (MB): 3.11\n",
      "Params size (MB): 1.12\n",
      "Estimated Total Size (MB): 4.24\n",
      "----------------------------------------------------------------\n",
      "\n"
     ]
    },
    {
     "data": {
      "text/plain": [
       "(tensor(292802), tensor(292802))"
      ]
     },
     "execution_count": 11,
     "metadata": {},
     "output_type": "execute_result"
    }
   ],
   "source": [
    "model = ConvNet()\n",
    "# model = model.cuda()\n",
    "model = model.to(device)\n",
    "# if device == 'cuda':\n",
    "#     net = torch.nn.DataParallel(net)\n",
    "#     cudnn.benchmark = True\n",
    "criterion = nn.CrossEntropyLoss()\n",
    "optimizer = torch.optim.Adam(model.parameters(), lr=0.00001)\n",
    "\n",
    "summary(model, (1, 40, 40), device = device)"
   ]
  },
  {
   "cell_type": "markdown",
   "metadata": {},
   "source": [
    "# Training"
   ]
  },
  {
   "cell_type": "code",
   "execution_count": 12,
   "metadata": {
    "ExecuteTime": {
     "end_time": "2020-03-25T15:24:39.975494Z",
     "start_time": "2020-03-25T15:24:39.955339Z"
    }
   },
   "outputs": [
    {
     "name": "stdout",
     "output_type": "stream",
     "text": [
      "Training: (100, 1, 40, 40) (100,) (100, 1, 40, 40) (100,)\n",
      "Validation: (100, 1, 40, 40) (100,) (100, 1, 40, 40) (100,)\n"
     ]
    }
   ],
   "source": [
    "def RandomMinibatch(data, label, n_batch = 100):\n",
    "    batch_idx = np.random.choice(len(data), n_batch, replace = False)\n",
    "    return data[batch_idx], label[batch_idx]\n",
    "\n",
    "G_train_x, G_train_y = RandomMinibatch(G_train_X, G_train_Y, 100)\n",
    "B_train_x, B_train_y = RandomMinibatch(B_train_X, B_train_Y, 100)\n",
    "\n",
    "G_valid_x, G_valid_y = RandomMinibatch(G_valid_X, G_valid_Y, 100)\n",
    "B_valid_x, B_valid_y = RandomMinibatch(B_valid_X, B_valid_Y, 100)\n",
    "\n",
    "print(\"Training:\", G_train_x.shape, G_train_y.shape, B_train_x.shape, B_train_y.shape)\n",
    "print(\"Validation:\", G_valid_x.shape, G_valid_y.shape, B_valid_x.shape, B_valid_y.shape)"
   ]
  },
  {
   "cell_type": "code",
   "execution_count": 13,
   "metadata": {
    "ExecuteTime": {
     "end_time": "2020-03-25T15:24:41.015899Z",
     "start_time": "2020-03-25T15:24:40.994792Z"
    }
   },
   "outputs": [
    {
     "name": "stdout",
     "output_type": "stream",
     "text": [
      "Training (200, 1, 40, 40) (200,)\n"
     ]
    }
   ],
   "source": [
    "def shuffle(x, y):\n",
    "    \"\"\"\n",
    "    random shuffle of two paired data -> x, y = shuffle(x, y)\n",
    "    but, available of one data -> x = shuffle(x, None)\n",
    "    \"\"\"\n",
    "    idx = np.arange(len(x))\n",
    "    np.random.shuffle(idx)\n",
    "    if type(x) == type(y):\n",
    "        return x[idx], y[idx] \n",
    "    else:\n",
    "        return x[idx]\n",
    "    \n",
    "G_train_x, G_train_y = RandomMinibatch(G_train_X, G_train_Y, 100)\n",
    "B_train_x, B_train_y = RandomMinibatch(B_train_X, B_train_Y, 100)\n",
    "    \n",
    "train_x, train_y = np.vstack([G_train_x, B_train_x]), np.hstack([G_train_y, B_train_y])\n",
    "train_x, train_y = shuffle(train_x, train_y)\n",
    "\n",
    "print(\"Training\", train_x.shape, train_y.shape)"
   ]
  },
  {
   "cell_type": "code",
   "execution_count": 14,
   "metadata": {
    "ExecuteTime": {
     "end_time": "2020-03-25T15:27:41.380340Z",
     "start_time": "2020-03-25T15:24:58.559921Z"
    },
    "scrolled": false
   },
   "outputs": [
    {
     "name": "stdout",
     "output_type": "stream",
     "text": [
      "00010 | train_loss: 0.67050, train_accr: 0.605 | val_loss: 0.65844, val_accr: 0.615\n",
      "00020 | train_loss: 0.63513, train_accr: 0.630 | val_loss: 0.65375, val_accr: 0.610\n",
      "00030 | train_loss: 0.61480, train_accr: 0.700 | val_loss: 0.62148, val_accr: 0.650\n",
      "00040 | train_loss: 0.61699, train_accr: 0.695 | val_loss: 0.62666, val_accr: 0.665\n",
      "00050 | train_loss: 0.60183, train_accr: 0.725 | val_loss: 0.61379, val_accr: 0.705\n",
      "00060 | train_loss: 0.62331, train_accr: 0.670 | val_loss: 0.60939, val_accr: 0.715\n",
      "00070 | train_loss: 0.57639, train_accr: 0.715 | val_loss: 0.59976, val_accr: 0.705\n",
      "00080 | train_loss: 0.56486, train_accr: 0.735 | val_loss: 0.55861, val_accr: 0.745\n",
      "00090 | train_loss: 0.52479, train_accr: 0.790 | val_loss: 0.58256, val_accr: 0.665\n",
      "00100 | train_loss: 0.55136, train_accr: 0.745 | val_loss: 0.55583, val_accr: 0.780\n",
      "00110 | train_loss: 0.52465, train_accr: 0.800 | val_loss: 0.53243, val_accr: 0.785\n",
      "00120 | train_loss: 0.51669, train_accr: 0.775 | val_loss: 0.50543, val_accr: 0.805\n",
      "00130 | train_loss: 0.49016, train_accr: 0.835 | val_loss: 0.50540, val_accr: 0.790\n",
      "00140 | train_loss: 0.46939, train_accr: 0.840 | val_loss: 0.47841, val_accr: 0.845\n",
      "00150 | train_loss: 0.43893, train_accr: 0.895 | val_loss: 0.44540, val_accr: 0.870\n",
      "00160 | train_loss: 0.41006, train_accr: 0.905 | val_loss: 0.43067, val_accr: 0.885\n",
      "00170 | train_loss: 0.42022, train_accr: 0.895 | val_loss: 0.41243, val_accr: 0.905\n",
      "00180 | train_loss: 0.39399, train_accr: 0.880 | val_loss: 0.39715, val_accr: 0.875\n",
      "00190 | train_loss: 0.35732, train_accr: 0.925 | val_loss: 0.35204, val_accr: 0.930\n",
      "00200 | train_loss: 0.32337, train_accr: 0.935 | val_loss: 0.36879, val_accr: 0.910\n",
      "00210 | train_loss: 0.32430, train_accr: 0.940 | val_loss: 0.36331, val_accr: 0.910\n",
      "00220 | train_loss: 0.29047, train_accr: 0.945 | val_loss: 0.30915, val_accr: 0.955\n",
      "00230 | train_loss: 0.30849, train_accr: 0.945 | val_loss: 0.27441, val_accr: 0.940\n",
      "00240 | train_loss: 0.25753, train_accr: 0.965 | val_loss: 0.27614, val_accr: 0.950\n",
      "00250 | train_loss: 0.26710, train_accr: 0.945 | val_loss: 0.23750, val_accr: 0.970\n",
      "00260 | train_loss: 0.21385, train_accr: 0.970 | val_loss: 0.23920, val_accr: 0.955\n",
      "00270 | train_loss: 0.18786, train_accr: 0.975 | val_loss: 0.20506, val_accr: 0.985\n",
      "00280 | train_loss: 0.19895, train_accr: 0.965 | val_loss: 0.19906, val_accr: 0.955\n",
      "00290 | train_loss: 0.19720, train_accr: 0.950 | val_loss: 0.19768, val_accr: 0.945\n",
      "00300 | train_loss: 0.14420, train_accr: 0.995 | val_loss: 0.16702, val_accr: 0.975\n",
      "00310 | train_loss: 0.15598, train_accr: 0.975 | val_loss: 0.17831, val_accr: 0.955\n",
      "00320 | train_loss: 0.13781, train_accr: 0.990 | val_loss: 0.16170, val_accr: 0.975\n",
      "00330 | train_loss: 0.12609, train_accr: 0.975 | val_loss: 0.12258, val_accr: 0.990\n",
      "00340 | train_loss: 0.12905, train_accr: 0.975 | val_loss: 0.13180, val_accr: 0.975\n",
      "00350 | train_loss: 0.13088, train_accr: 0.980 | val_loss: 0.11978, val_accr: 0.985\n",
      "00360 | train_loss: 0.10091, train_accr: 0.990 | val_loss: 0.11528, val_accr: 0.980\n",
      "00370 | train_loss: 0.10472, train_accr: 0.985 | val_loss: 0.10915, val_accr: 0.975\n",
      "00380 | train_loss: 0.08376, train_accr: 0.985 | val_loss: 0.11477, val_accr: 0.985\n",
      "00390 | train_loss: 0.09547, train_accr: 0.980 | val_loss: 0.10052, val_accr: 0.980\n",
      "00400 | train_loss: 0.10060, train_accr: 0.985 | val_loss: 0.08732, val_accr: 0.985\n",
      "00410 | train_loss: 0.06539, train_accr: 1.000 | val_loss: 0.08282, val_accr: 0.980\n",
      "00420 | train_loss: 0.07130, train_accr: 0.990 | val_loss: 0.07353, val_accr: 0.990\n",
      "00430 | train_loss: 0.07221, train_accr: 0.990 | val_loss: 0.06459, val_accr: 1.000\n",
      "00440 | train_loss: 0.07321, train_accr: 0.985 | val_loss: 0.06451, val_accr: 0.995\n",
      "00450 | train_loss: 0.08568, train_accr: 0.990 | val_loss: 0.07844, val_accr: 0.995\n",
      "00460 | train_loss: 0.06327, train_accr: 0.990 | val_loss: 0.08359, val_accr: 0.975\n",
      "00470 | train_loss: 0.07284, train_accr: 0.985 | val_loss: 0.07550, val_accr: 0.980\n",
      "00480 | train_loss: 0.05082, train_accr: 0.995 | val_loss: 0.06546, val_accr: 0.990\n",
      "00490 | train_loss: 0.05786, train_accr: 0.990 | val_loss: 0.06060, val_accr: 0.980\n",
      "00500 | train_loss: 0.04196, train_accr: 0.995 | val_loss: 0.04641, val_accr: 1.000\n",
      "00510 | train_loss: 0.03820, train_accr: 1.000 | val_loss: 0.05156, val_accr: 0.995\n",
      "00520 | train_loss: 0.05159, train_accr: 0.985 | val_loss: 0.05336, val_accr: 0.995\n",
      "00530 | train_loss: 0.04883, train_accr: 0.990 | val_loss: 0.04298, val_accr: 1.000\n",
      "00540 | train_loss: 0.03786, train_accr: 0.995 | val_loss: 0.05046, val_accr: 0.990\n",
      "00550 | train_loss: 0.04203, train_accr: 0.995 | val_loss: 0.07237, val_accr: 0.985\n",
      "00560 | train_loss: 0.04380, train_accr: 0.995 | val_loss: 0.04993, val_accr: 0.990\n",
      "00570 | train_loss: 0.04704, train_accr: 0.995 | val_loss: 0.03360, val_accr: 0.995\n",
      "00580 | train_loss: 0.03825, train_accr: 0.990 | val_loss: 0.03762, val_accr: 0.990\n",
      "00590 | train_loss: 0.03337, train_accr: 0.995 | val_loss: 0.03310, val_accr: 1.000\n",
      "00600 | train_loss: 0.04238, train_accr: 0.990 | val_loss: 0.03768, val_accr: 0.995\n",
      "00610 | train_loss: 0.02820, train_accr: 0.995 | val_loss: 0.03658, val_accr: 0.995\n",
      "00620 | train_loss: 0.02472, train_accr: 1.000 | val_loss: 0.03028, val_accr: 1.000\n",
      "00630 | train_loss: 0.02369, train_accr: 1.000 | val_loss: 0.03807, val_accr: 0.995\n",
      "00640 | train_loss: 0.03340, train_accr: 0.995 | val_loss: 0.02726, val_accr: 1.000\n",
      "00650 | train_loss: 0.01915, train_accr: 1.000 | val_loss: 0.02765, val_accr: 1.000\n",
      "00660 | train_loss: 0.01624, train_accr: 1.000 | val_loss: 0.02647, val_accr: 1.000\n",
      "00670 | train_loss: 0.02060, train_accr: 0.995 | val_loss: 0.02667, val_accr: 0.995\n",
      "00680 | train_loss: 0.02390, train_accr: 1.000 | val_loss: 0.02505, val_accr: 1.000\n",
      "00690 | train_loss: 0.03437, train_accr: 0.995 | val_loss: 0.02622, val_accr: 0.995\n",
      "00700 | train_loss: 0.02841, train_accr: 0.995 | val_loss: 0.03307, val_accr: 0.990\n",
      "00710 | train_loss: 0.02085, train_accr: 0.995 | val_loss: 0.02327, val_accr: 0.995\n",
      "00720 | train_loss: 0.03422, train_accr: 0.995 | val_loss: 0.03027, val_accr: 0.990\n",
      "00730 | train_loss: 0.02466, train_accr: 0.995 | val_loss: 0.02288, val_accr: 0.995\n",
      "00740 | train_loss: 0.01733, train_accr: 1.000 | val_loss: 0.02938, val_accr: 0.995\n",
      "00750 | train_loss: 0.01766, train_accr: 1.000 | val_loss: 0.01771, val_accr: 1.000\n",
      "00760 | train_loss: 0.01412, train_accr: 1.000 | val_loss: 0.04468, val_accr: 0.990\n",
      "00770 | train_loss: 0.01491, train_accr: 1.000 | val_loss: 0.03282, val_accr: 0.995\n",
      "00780 | train_loss: 0.01183, train_accr: 1.000 | val_loss: 0.01775, val_accr: 1.000\n",
      "00790 | train_loss: 0.01145, train_accr: 1.000 | val_loss: 0.02188, val_accr: 0.995\n",
      "00800 | train_loss: 0.01765, train_accr: 1.000 | val_loss: 0.02975, val_accr: 0.995\n",
      "00810 | train_loss: 0.01083, train_accr: 1.000 | val_loss: 0.02519, val_accr: 0.995\n",
      "00820 | train_loss: 0.01664, train_accr: 1.000 | val_loss: 0.01956, val_accr: 0.995\n",
      "00830 | train_loss: 0.01402, train_accr: 1.000 | val_loss: 0.01479, val_accr: 1.000\n",
      "00840 | train_loss: 0.01467, train_accr: 1.000 | val_loss: 0.03177, val_accr: 0.995\n",
      "00850 | train_loss: 0.01406, train_accr: 1.000 | val_loss: 0.02129, val_accr: 0.995\n",
      "00860 | train_loss: 0.01339, train_accr: 1.000 | val_loss: 0.01236, val_accr: 1.000\n",
      "00870 | train_loss: 0.01103, train_accr: 1.000 | val_loss: 0.02580, val_accr: 0.995\n",
      "00880 | train_loss: 0.00908, train_accr: 1.000 | val_loss: 0.02712, val_accr: 0.995\n",
      "00890 | train_loss: 0.00809, train_accr: 1.000 | val_loss: 0.01388, val_accr: 1.000\n",
      "00900 | train_loss: 0.01143, train_accr: 1.000 | val_loss: 0.02717, val_accr: 0.995\n",
      "00910 | train_loss: 0.00821, train_accr: 1.000 | val_loss: 0.02113, val_accr: 0.995\n",
      "00920 | train_loss: 0.01196, train_accr: 1.000 | val_loss: 0.01102, val_accr: 1.000\n",
      "00930 | train_loss: 0.01620, train_accr: 0.995 | val_loss: 0.03758, val_accr: 0.985\n",
      "00940 | train_loss: 0.00743, train_accr: 1.000 | val_loss: 0.00819, val_accr: 1.000\n",
      "00950 | train_loss: 0.00713, train_accr: 1.000 | val_loss: 0.02142, val_accr: 0.995\n",
      "00960 | train_loss: 0.01013, train_accr: 1.000 | val_loss: 0.02229, val_accr: 0.995\n",
      "00970 | train_loss: 0.00967, train_accr: 1.000 | val_loss: 0.03121, val_accr: 0.990\n",
      "00980 | train_loss: 0.00505, train_accr: 1.000 | val_loss: 0.02303, val_accr: 0.995\n"
     ]
    },
    {
     "name": "stdout",
     "output_type": "stream",
     "text": [
      "00990 | train_loss: 0.00789, train_accr: 1.000 | val_loss: 0.03889, val_accr: 0.990\n",
      "01000 | train_loss: 0.00753, train_accr: 1.000 | val_loss: 0.02797, val_accr: 0.995\n",
      "01010 | train_loss: 0.00793, train_accr: 1.000 | val_loss: 0.00818, val_accr: 1.000\n",
      "01020 | train_loss: 0.01166, train_accr: 1.000 | val_loss: 0.00960, val_accr: 1.000\n",
      "01030 | train_loss: 0.00611, train_accr: 1.000 | val_loss: 0.02100, val_accr: 0.995\n",
      "01040 | train_loss: 0.00581, train_accr: 1.000 | val_loss: 0.02504, val_accr: 0.995\n",
      "01050 | train_loss: 0.00458, train_accr: 1.000 | val_loss: 0.00941, val_accr: 1.000\n",
      "01060 | train_loss: 0.00406, train_accr: 1.000 | val_loss: 0.00772, val_accr: 1.000\n",
      "01070 | train_loss: 0.00565, train_accr: 1.000 | val_loss: 0.01175, val_accr: 1.000\n",
      "01080 | train_loss: 0.00490, train_accr: 1.000 | val_loss: 0.02170, val_accr: 0.995\n",
      "01090 | train_loss: 0.00555, train_accr: 1.000 | val_loss: 0.03064, val_accr: 0.990\n",
      "01100 | train_loss: 0.00330, train_accr: 1.000 | val_loss: 0.02066, val_accr: 0.995\n",
      "01110 | train_loss: 0.00517, train_accr: 1.000 | val_loss: 0.00750, val_accr: 1.000\n",
      "01120 | train_loss: 0.00408, train_accr: 1.000 | val_loss: 0.00653, val_accr: 1.000\n",
      "01130 | train_loss: 0.00452, train_accr: 1.000 | val_loss: 0.00845, val_accr: 1.000\n",
      "01140 | train_loss: 0.00721, train_accr: 1.000 | val_loss: 0.00753, val_accr: 1.000\n",
      "01150 | train_loss: 0.00649, train_accr: 1.000 | val_loss: 0.00476, val_accr: 1.000\n",
      "01160 | train_loss: 0.00477, train_accr: 1.000 | val_loss: 0.02244, val_accr: 0.995\n",
      "01170 | train_loss: 0.00467, train_accr: 1.000 | val_loss: 0.03463, val_accr: 0.990\n",
      "01180 | train_loss: 0.00484, train_accr: 1.000 | val_loss: 0.02877, val_accr: 0.990\n",
      "01190 | train_loss: 0.00412, train_accr: 1.000 | val_loss: 0.02037, val_accr: 0.995\n",
      "01200 | train_loss: 0.00457, train_accr: 1.000 | val_loss: 0.00678, val_accr: 1.000\n",
      "01210 | train_loss: 0.00310, train_accr: 1.000 | val_loss: 0.02068, val_accr: 0.995\n",
      "01220 | train_loss: 0.00332, train_accr: 1.000 | val_loss: 0.01717, val_accr: 0.995\n",
      "01230 | train_loss: 0.00391, train_accr: 1.000 | val_loss: 0.02191, val_accr: 0.995\n",
      "01240 | train_loss: 0.00450, train_accr: 1.000 | val_loss: 0.00314, val_accr: 1.000\n",
      "01250 | train_loss: 0.00742, train_accr: 1.000 | val_loss: 0.03724, val_accr: 0.990\n",
      "01260 | train_loss: 0.00385, train_accr: 1.000 | val_loss: 0.01372, val_accr: 0.995\n",
      "01270 | train_loss: 0.00336, train_accr: 1.000 | val_loss: 0.01883, val_accr: 0.995\n",
      "01280 | train_loss: 0.00363, train_accr: 1.000 | val_loss: 0.00656, val_accr: 1.000\n",
      "01290 | train_loss: 0.00386, train_accr: 1.000 | val_loss: 0.03530, val_accr: 0.990\n",
      "01300 | train_loss: 0.00423, train_accr: 1.000 | val_loss: 0.00546, val_accr: 1.000\n",
      "01310 | train_loss: 0.00292, train_accr: 1.000 | val_loss: 0.00551, val_accr: 1.000\n",
      "01320 | train_loss: 0.00245, train_accr: 1.000 | val_loss: 0.00411, val_accr: 1.000\n",
      "01330 | train_loss: 0.00383, train_accr: 1.000 | val_loss: 0.00441, val_accr: 1.000\n",
      "01340 | train_loss: 0.00212, train_accr: 1.000 | val_loss: 0.00476, val_accr: 1.000\n",
      "01350 | train_loss: 0.00303, train_accr: 1.000 | val_loss: 0.03013, val_accr: 0.990\n",
      "01360 | train_loss: 0.00316, train_accr: 1.000 | val_loss: 0.00381, val_accr: 1.000\n",
      "01370 | train_loss: 0.00313, train_accr: 1.000 | val_loss: 0.00783, val_accr: 1.000\n",
      "01380 | train_loss: 0.00215, train_accr: 1.000 | val_loss: 0.03180, val_accr: 0.990\n",
      "01390 | train_loss: 0.00312, train_accr: 1.000 | val_loss: 0.01259, val_accr: 0.995\n",
      "01400 | train_loss: 0.00199, train_accr: 1.000 | val_loss: 0.00403, val_accr: 1.000\n",
      "01410 | train_loss: 0.00225, train_accr: 1.000 | val_loss: 0.00752, val_accr: 1.000\n",
      "01420 | train_loss: 0.00343, train_accr: 1.000 | val_loss: 0.02053, val_accr: 0.995\n",
      "01430 | train_loss: 0.00197, train_accr: 1.000 | val_loss: 0.03045, val_accr: 0.990\n",
      "01440 | train_loss: 0.00270, train_accr: 1.000 | val_loss: 0.00585, val_accr: 1.000\n",
      "01450 | train_loss: 0.00218, train_accr: 1.000 | val_loss: 0.00397, val_accr: 1.000\n",
      "01460 | train_loss: 0.00184, train_accr: 1.000 | val_loss: 0.01770, val_accr: 0.995\n",
      "01470 | train_loss: 0.00178, train_accr: 1.000 | val_loss: 0.01715, val_accr: 0.995\n",
      "01480 | train_loss: 0.00153, train_accr: 1.000 | val_loss: 0.00177, val_accr: 1.000\n",
      "01490 | train_loss: 0.00253, train_accr: 1.000 | val_loss: 0.01457, val_accr: 0.995\n",
      "01500 | train_loss: 0.00240, train_accr: 1.000 | val_loss: 0.00486, val_accr: 1.000\n",
      "01510 | train_loss: 0.00300, train_accr: 1.000 | val_loss: 0.01882, val_accr: 0.995\n",
      "01520 | train_loss: 0.00251, train_accr: 1.000 | val_loss: 0.00470, val_accr: 1.000\n",
      "01530 | train_loss: 0.00211, train_accr: 1.000 | val_loss: 0.00426, val_accr: 1.000\n",
      "01540 | train_loss: 0.00221, train_accr: 1.000 | val_loss: 0.02044, val_accr: 0.995\n",
      "01550 | train_loss: 0.00113, train_accr: 1.000 | val_loss: 0.01869, val_accr: 0.995\n",
      "01560 | train_loss: 0.00159, train_accr: 1.000 | val_loss: 0.01842, val_accr: 0.995\n",
      "01570 | train_loss: 0.00196, train_accr: 1.000 | val_loss: 0.01576, val_accr: 0.995\n",
      "01580 | train_loss: 0.00248, train_accr: 1.000 | val_loss: 0.02937, val_accr: 0.990\n",
      "01590 | train_loss: 0.00181, train_accr: 1.000 | val_loss: 0.00387, val_accr: 1.000\n",
      "01600 | train_loss: 0.00155, train_accr: 1.000 | val_loss: 0.01992, val_accr: 0.995\n",
      "01610 | train_loss: 0.00215, train_accr: 1.000 | val_loss: 0.02493, val_accr: 0.995\n",
      "01620 | train_loss: 0.00344, train_accr: 1.000 | val_loss: 0.00382, val_accr: 1.000\n",
      "01630 | train_loss: 0.00210, train_accr: 1.000 | val_loss: 0.02009, val_accr: 0.995\n",
      "01640 | train_loss: 0.00202, train_accr: 1.000 | val_loss: 0.00490, val_accr: 1.000\n",
      "01650 | train_loss: 0.00184, train_accr: 1.000 | val_loss: 0.00341, val_accr: 1.000\n",
      "01660 | train_loss: 0.00165, train_accr: 1.000 | val_loss: 0.00266, val_accr: 1.000\n",
      "01670 | train_loss: 0.00182, train_accr: 1.000 | val_loss: 0.00483, val_accr: 1.000\n",
      "01680 | train_loss: 0.00112, train_accr: 1.000 | val_loss: 0.00414, val_accr: 1.000\n",
      "01690 | train_loss: 0.00103, train_accr: 1.000 | val_loss: 0.00555, val_accr: 1.000\n",
      "01700 | train_loss: 0.00101, train_accr: 1.000 | val_loss: 0.03377, val_accr: 0.990\n",
      "01710 | train_loss: 0.00126, train_accr: 1.000 | val_loss: 0.00510, val_accr: 1.000\n",
      "01720 | train_loss: 0.00166, train_accr: 1.000 | val_loss: 0.00398, val_accr: 1.000\n",
      "01730 | train_loss: 0.00419, train_accr: 1.000 | val_loss: 0.00415, val_accr: 1.000\n",
      "01740 | train_loss: 0.00132, train_accr: 1.000 | val_loss: 0.01700, val_accr: 0.995\n",
      "01750 | train_loss: 0.00150, train_accr: 1.000 | val_loss: 0.00985, val_accr: 0.995\n",
      "01760 | train_loss: 0.00197, train_accr: 1.000 | val_loss: 0.02510, val_accr: 0.995\n",
      "01770 | train_loss: 0.00158, train_accr: 1.000 | val_loss: 0.01643, val_accr: 0.995\n",
      "01780 | train_loss: 0.00180, train_accr: 1.000 | val_loss: 0.01507, val_accr: 0.995\n",
      "01790 | train_loss: 0.00086, train_accr: 1.000 | val_loss: 0.01928, val_accr: 0.995\n",
      "01800 | train_loss: 0.00127, train_accr: 1.000 | val_loss: 0.00216, val_accr: 1.000\n",
      "01810 | train_loss: 0.00198, train_accr: 1.000 | val_loss: 0.00364, val_accr: 1.000\n",
      "01820 | train_loss: 0.00114, train_accr: 1.000 | val_loss: 0.00182, val_accr: 1.000\n",
      "01830 | train_loss: 0.00108, train_accr: 1.000 | val_loss: 0.00850, val_accr: 0.995\n",
      "01840 | train_loss: 0.00185, train_accr: 1.000 | val_loss: 0.02283, val_accr: 0.995\n",
      "01850 | train_loss: 0.00139, train_accr: 1.000 | val_loss: 0.00400, val_accr: 1.000\n",
      "01860 | train_loss: 0.00111, train_accr: 1.000 | val_loss: 0.01495, val_accr: 0.995\n",
      "01870 | train_loss: 0.00126, train_accr: 1.000 | val_loss: 0.02231, val_accr: 0.995\n",
      "01880 | train_loss: 0.00129, train_accr: 1.000 | val_loss: 0.00363, val_accr: 1.000\n",
      "01890 | train_loss: 0.00167, train_accr: 1.000 | val_loss: 0.01996, val_accr: 0.995\n",
      "01900 | train_loss: 0.00090, train_accr: 1.000 | val_loss: 0.00247, val_accr: 1.000\n",
      "01910 | train_loss: 0.00113, train_accr: 1.000 | val_loss: 0.00129, val_accr: 1.000\n",
      "01920 | train_loss: 0.00098, train_accr: 1.000 | val_loss: 0.01831, val_accr: 0.995\n",
      "01930 | train_loss: 0.00116, train_accr: 1.000 | val_loss: 0.00287, val_accr: 1.000\n",
      "01940 | train_loss: 0.00104, train_accr: 1.000 | val_loss: 0.02490, val_accr: 0.990\n",
      "01950 | train_loss: 0.00138, train_accr: 1.000 | val_loss: 0.02338, val_accr: 0.995\n",
      "01960 | train_loss: 0.00147, train_accr: 1.000 | val_loss: 0.00261, val_accr: 1.000\n"
     ]
    },
    {
     "name": "stdout",
     "output_type": "stream",
     "text": [
      "01970 | train_loss: 0.00096, train_accr: 1.000 | val_loss: 0.02189, val_accr: 0.995\n",
      "01980 | train_loss: 0.00110, train_accr: 1.000 | val_loss: 0.01637, val_accr: 0.995\n",
      "01990 | train_loss: 0.00088, train_accr: 1.000 | val_loss: 0.00305, val_accr: 1.000\n",
      "02000 | train_loss: 0.00116, train_accr: 1.000 | val_loss: 0.01956, val_accr: 0.995\n",
      "02010 | train_loss: 0.00090, train_accr: 1.000 | val_loss: 0.01487, val_accr: 0.995\n",
      "02020 | train_loss: 0.00116, train_accr: 1.000 | val_loss: 0.01493, val_accr: 0.995\n",
      "02030 | train_loss: 0.00085, train_accr: 1.000 | val_loss: 0.00146, val_accr: 1.000\n",
      "02040 | train_loss: 0.00094, train_accr: 1.000 | val_loss: 0.01764, val_accr: 0.995\n",
      "02050 | train_loss: 0.00120, train_accr: 1.000 | val_loss: 0.02157, val_accr: 0.995\n",
      "02060 | train_loss: 0.00098, train_accr: 1.000 | val_loss: 0.00184, val_accr: 1.000\n",
      "02070 | train_loss: 0.00096, train_accr: 1.000 | val_loss: 0.00173, val_accr: 1.000\n",
      "02080 | train_loss: 0.00053, train_accr: 1.000 | val_loss: 0.01698, val_accr: 0.995\n",
      "02090 | train_loss: 0.00118, train_accr: 1.000 | val_loss: 0.00250, val_accr: 1.000\n",
      "02100 | train_loss: 0.00087, train_accr: 1.000 | val_loss: 0.01979, val_accr: 0.995\n",
      "02110 | train_loss: 0.00097, train_accr: 1.000 | val_loss: 0.00389, val_accr: 1.000\n",
      "02120 | train_loss: 0.00065, train_accr: 1.000 | val_loss: 0.01965, val_accr: 0.995\n",
      "02130 | train_loss: 0.00080, train_accr: 1.000 | val_loss: 0.00111, val_accr: 1.000\n",
      "02140 | train_loss: 0.00097, train_accr: 1.000 | val_loss: 0.00112, val_accr: 1.000\n",
      "02150 | train_loss: 0.00117, train_accr: 1.000 | val_loss: 0.00364, val_accr: 1.000\n",
      "02160 | train_loss: 0.00073, train_accr: 1.000 | val_loss: 0.00162, val_accr: 1.000\n",
      "02170 | train_loss: 0.00100, train_accr: 1.000 | val_loss: 0.00191, val_accr: 1.000\n",
      "02180 | train_loss: 0.00072, train_accr: 1.000 | val_loss: 0.02406, val_accr: 0.990\n",
      "02190 | train_loss: 0.00132, train_accr: 1.000 | val_loss: 0.02958, val_accr: 0.990\n",
      "02200 | train_loss: 0.00089, train_accr: 1.000 | val_loss: 0.00279, val_accr: 1.000\n",
      "02210 | train_loss: 0.00064, train_accr: 1.000 | val_loss: 0.00212, val_accr: 1.000\n",
      "02220 | train_loss: 0.00073, train_accr: 1.000 | val_loss: 0.03001, val_accr: 0.990\n",
      "02230 | train_loss: 0.00079, train_accr: 1.000 | val_loss: 0.01833, val_accr: 0.995\n",
      "02240 | train_loss: 0.00076, train_accr: 1.000 | val_loss: 0.00577, val_accr: 0.995\n",
      "02250 | train_loss: 0.00047, train_accr: 1.000 | val_loss: 0.00112, val_accr: 1.000\n",
      "02260 | train_loss: 0.00155, train_accr: 1.000 | val_loss: 0.00253, val_accr: 1.000\n",
      "02270 | train_loss: 0.00070, train_accr: 1.000 | val_loss: 0.02665, val_accr: 0.990\n",
      "02280 | train_loss: 0.00050, train_accr: 1.000 | val_loss: 0.03040, val_accr: 0.990\n",
      "02290 | train_loss: 0.00081, train_accr: 1.000 | val_loss: 0.00099, val_accr: 1.000\n",
      "02300 | train_loss: 0.00068, train_accr: 1.000 | val_loss: 0.01952, val_accr: 0.995\n",
      "02310 | train_loss: 0.00074, train_accr: 1.000 | val_loss: 0.00130, val_accr: 1.000\n",
      "02320 | train_loss: 0.00063, train_accr: 1.000 | val_loss: 0.03867, val_accr: 0.990\n",
      "02330 | train_loss: 0.00059, train_accr: 1.000 | val_loss: 0.02512, val_accr: 0.995\n",
      "02340 | train_loss: 0.00061, train_accr: 1.000 | val_loss: 0.01554, val_accr: 0.995\n",
      "02350 | train_loss: 0.00089, train_accr: 1.000 | val_loss: 0.00304, val_accr: 1.000\n",
      "02360 | train_loss: 0.00069, train_accr: 1.000 | val_loss: 0.00177, val_accr: 1.000\n",
      "02370 | train_loss: 0.00066, train_accr: 1.000 | val_loss: 0.00356, val_accr: 1.000\n",
      "02380 | train_loss: 0.00065, train_accr: 1.000 | val_loss: 0.01513, val_accr: 0.995\n",
      "02390 | train_loss: 0.00067, train_accr: 1.000 | val_loss: 0.00081, val_accr: 1.000\n",
      "02400 | train_loss: 0.00065, train_accr: 1.000 | val_loss: 0.01148, val_accr: 0.995\n",
      "02410 | train_loss: 0.00042, train_accr: 1.000 | val_loss: 0.00228, val_accr: 1.000\n",
      "02420 | train_loss: 0.00058, train_accr: 1.000 | val_loss: 0.00174, val_accr: 1.000\n",
      "02430 | train_loss: 0.00046, train_accr: 1.000 | val_loss: 0.02092, val_accr: 0.995\n",
      "02440 | train_loss: 0.00059, train_accr: 1.000 | val_loss: 0.01629, val_accr: 0.990\n",
      "02450 | train_loss: 0.00058, train_accr: 1.000 | val_loss: 0.01607, val_accr: 0.995\n",
      "02460 | train_loss: 0.00053, train_accr: 1.000 | val_loss: 0.02989, val_accr: 0.990\n",
      "02470 | train_loss: 0.00050, train_accr: 1.000 | val_loss: 0.02043, val_accr: 0.995\n",
      "02480 | train_loss: 0.00065, train_accr: 1.000 | val_loss: 0.00101, val_accr: 1.000\n",
      "02490 | train_loss: 0.00069, train_accr: 1.000 | val_loss: 0.01722, val_accr: 0.995\n",
      "02500 | train_loss: 0.00079, train_accr: 1.000 | val_loss: 0.02277, val_accr: 0.990\n",
      "02510 | train_loss: 0.00062, train_accr: 1.000 | val_loss: 0.02906, val_accr: 0.990\n",
      "02520 | train_loss: 0.00075, train_accr: 1.000 | val_loss: 0.00238, val_accr: 1.000\n",
      "02530 | train_loss: 0.00046, train_accr: 1.000 | val_loss: 0.00328, val_accr: 1.000\n",
      "02540 | train_loss: 0.00049, train_accr: 1.000 | val_loss: 0.01821, val_accr: 0.995\n",
      "02550 | train_loss: 0.00047, train_accr: 1.000 | val_loss: 0.04077, val_accr: 0.990\n",
      "02560 | train_loss: 0.00040, train_accr: 1.000 | val_loss: 0.03126, val_accr: 0.990\n",
      "02570 | train_loss: 0.00043, train_accr: 1.000 | val_loss: 0.00812, val_accr: 0.995\n",
      "02580 | train_loss: 0.00070, train_accr: 1.000 | val_loss: 0.00088, val_accr: 1.000\n",
      "02590 | train_loss: 0.00074, train_accr: 1.000 | val_loss: 0.00306, val_accr: 1.000\n",
      "02600 | train_loss: 0.00083, train_accr: 1.000 | val_loss: 0.02023, val_accr: 0.995\n",
      "02610 | train_loss: 0.00048, train_accr: 1.000 | val_loss: 0.02476, val_accr: 0.990\n",
      "02620 | train_loss: 0.00053, train_accr: 1.000 | val_loss: 0.00756, val_accr: 0.995\n",
      "02630 | train_loss: 0.00045, train_accr: 1.000 | val_loss: 0.02285, val_accr: 0.990\n",
      "02640 | train_loss: 0.00028, train_accr: 1.000 | val_loss: 0.01784, val_accr: 0.995\n",
      "02650 | train_loss: 0.00052, train_accr: 1.000 | val_loss: 0.00174, val_accr: 1.000\n",
      "02660 | train_loss: 0.00060, train_accr: 1.000 | val_loss: 0.01275, val_accr: 0.995\n",
      "02670 | train_loss: 0.00070, train_accr: 1.000 | val_loss: 0.02568, val_accr: 0.990\n",
      "02680 | train_loss: 0.00050, train_accr: 1.000 | val_loss: 0.01909, val_accr: 0.995\n",
      "02690 | train_loss: 0.00042, train_accr: 1.000 | val_loss: 0.03324, val_accr: 0.990\n",
      "02700 | train_loss: 0.00057, train_accr: 1.000 | val_loss: 0.01906, val_accr: 0.995\n",
      "02710 | train_loss: 0.00040, train_accr: 1.000 | val_loss: 0.00350, val_accr: 1.000\n",
      "02720 | train_loss: 0.00042, train_accr: 1.000 | val_loss: 0.02657, val_accr: 0.990\n",
      "02730 | train_loss: 0.00036, train_accr: 1.000 | val_loss: 0.01295, val_accr: 0.995\n",
      "02740 | train_loss: 0.00070, train_accr: 1.000 | val_loss: 0.02534, val_accr: 0.995\n",
      "02750 | train_loss: 0.00057, train_accr: 1.000 | val_loss: 0.01781, val_accr: 0.995\n",
      "02760 | train_loss: 0.00054, train_accr: 1.000 | val_loss: 0.00094, val_accr: 1.000\n",
      "02770 | train_loss: 0.00048, train_accr: 1.000 | val_loss: 0.00086, val_accr: 1.000\n",
      "02780 | train_loss: 0.00049, train_accr: 1.000 | val_loss: 0.02070, val_accr: 0.995\n",
      "02790 | train_loss: 0.00048, train_accr: 1.000 | val_loss: 0.04373, val_accr: 0.990\n",
      "02800 | train_loss: 0.00074, train_accr: 1.000 | val_loss: 0.00164, val_accr: 1.000\n",
      "02810 | train_loss: 0.00063, train_accr: 1.000 | val_loss: 0.00309, val_accr: 1.000\n",
      "02820 | train_loss: 0.00065, train_accr: 1.000 | val_loss: 0.01841, val_accr: 0.995\n",
      "02830 | train_loss: 0.00040, train_accr: 1.000 | val_loss: 0.00184, val_accr: 1.000\n",
      "02840 | train_loss: 0.00045, train_accr: 1.000 | val_loss: 0.01955, val_accr: 0.995\n",
      "02850 | train_loss: 0.00057, train_accr: 1.000 | val_loss: 0.01631, val_accr: 0.995\n",
      "02860 | train_loss: 0.00045, train_accr: 1.000 | val_loss: 0.00076, val_accr: 1.000\n",
      "02870 | train_loss: 0.00040, train_accr: 1.000 | val_loss: 0.00121, val_accr: 1.000\n",
      "02880 | train_loss: 0.00044, train_accr: 1.000 | val_loss: 0.01702, val_accr: 0.995\n",
      "02890 | train_loss: 0.00055, train_accr: 1.000 | val_loss: 0.00191, val_accr: 1.000\n",
      "02900 | train_loss: 0.00034, train_accr: 1.000 | val_loss: 0.00246, val_accr: 1.000\n",
      "02910 | train_loss: 0.00050, train_accr: 1.000 | val_loss: 0.00153, val_accr: 1.000\n",
      "02920 | train_loss: 0.00037, train_accr: 1.000 | val_loss: 0.00057, val_accr: 1.000\n",
      "02930 | train_loss: 0.00029, train_accr: 1.000 | val_loss: 0.02108, val_accr: 0.995\n",
      "02940 | train_loss: 0.00038, train_accr: 1.000 | val_loss: 0.02592, val_accr: 0.995\n"
     ]
    },
    {
     "name": "stdout",
     "output_type": "stream",
     "text": [
      "02950 | train_loss: 0.00038, train_accr: 1.000 | val_loss: 0.03039, val_accr: 0.990\n",
      "02960 | train_loss: 0.00049, train_accr: 1.000 | val_loss: 0.02989, val_accr: 0.990\n",
      "02970 | train_loss: 0.00042, train_accr: 1.000 | val_loss: 0.02389, val_accr: 0.995\n",
      "02980 | train_loss: 0.00033, train_accr: 1.000 | val_loss: 0.02685, val_accr: 0.995\n",
      "02990 | train_loss: 0.00028, train_accr: 1.000 | val_loss: 0.00189, val_accr: 1.000\n",
      "03000 | train_loss: 0.00042, train_accr: 1.000 | val_loss: 0.04785, val_accr: 0.990\n",
      "03010 | train_loss: 0.00028, train_accr: 1.000 | val_loss: 0.00077, val_accr: 1.000\n",
      "03020 | train_loss: 0.00033, train_accr: 1.000 | val_loss: 0.04061, val_accr: 0.990\n",
      "03030 | train_loss: 0.00047, train_accr: 1.000 | val_loss: 0.01445, val_accr: 0.995\n",
      "03040 | train_loss: 0.00036, train_accr: 1.000 | val_loss: 0.02073, val_accr: 0.995\n",
      "03050 | train_loss: 0.00035, train_accr: 1.000 | val_loss: 0.01590, val_accr: 0.995\n",
      "03060 | train_loss: 0.00038, train_accr: 1.000 | val_loss: 0.00090, val_accr: 1.000\n",
      "03070 | train_loss: 0.00032, train_accr: 1.000 | val_loss: 0.00060, val_accr: 1.000\n",
      "03080 | train_loss: 0.00026, train_accr: 1.000 | val_loss: 0.02056, val_accr: 0.995\n",
      "03090 | train_loss: 0.00041, train_accr: 1.000 | val_loss: 0.01980, val_accr: 0.995\n",
      "03100 | train_loss: 0.00022, train_accr: 1.000 | val_loss: 0.00090, val_accr: 1.000\n",
      "03110 | train_loss: 0.00035, train_accr: 1.000 | val_loss: 0.01732, val_accr: 0.995\n",
      "03120 | train_loss: 0.00035, train_accr: 1.000 | val_loss: 0.02907, val_accr: 0.995\n",
      "03130 | train_loss: 0.00027, train_accr: 1.000 | val_loss: 0.01867, val_accr: 0.995\n",
      "03140 | train_loss: 0.00046, train_accr: 1.000 | val_loss: 0.01699, val_accr: 0.995\n",
      "03150 | train_loss: 0.00025, train_accr: 1.000 | val_loss: 0.00147, val_accr: 1.000\n",
      "03160 | train_loss: 0.00030, train_accr: 1.000 | val_loss: 0.00149, val_accr: 1.000\n",
      "03170 | train_loss: 0.00041, train_accr: 1.000 | val_loss: 0.00049, val_accr: 1.000\n",
      "03180 | train_loss: 0.00039, train_accr: 1.000 | val_loss: 0.01935, val_accr: 0.995\n",
      "03190 | train_loss: 0.00031, train_accr: 1.000 | val_loss: 0.02198, val_accr: 0.990\n",
      "03200 | train_loss: 0.00023, train_accr: 1.000 | val_loss: 0.00116, val_accr: 1.000\n",
      "03210 | train_loss: 0.00042, train_accr: 1.000 | val_loss: 0.01721, val_accr: 0.995\n",
      "03220 | train_loss: 0.00026, train_accr: 1.000 | val_loss: 0.04236, val_accr: 0.990\n",
      "03230 | train_loss: 0.00026, train_accr: 1.000 | val_loss: 0.00329, val_accr: 1.000\n",
      "03240 | train_loss: 0.00032, train_accr: 1.000 | val_loss: 0.01481, val_accr: 0.995\n",
      "03250 | train_loss: 0.00035, train_accr: 1.000 | val_loss: 0.01854, val_accr: 0.995\n",
      "03260 | train_loss: 0.00035, train_accr: 1.000 | val_loss: 0.00101, val_accr: 1.000\n",
      "03270 | train_loss: 0.00027, train_accr: 1.000 | val_loss: 0.00162, val_accr: 1.000\n",
      "03280 | train_loss: 0.00026, train_accr: 1.000 | val_loss: 0.01717, val_accr: 0.995\n",
      "03290 | train_loss: 0.00023, train_accr: 1.000 | val_loss: 0.01943, val_accr: 0.995\n",
      "03300 | train_loss: 0.00026, train_accr: 1.000 | val_loss: 0.00103, val_accr: 1.000\n",
      "03310 | train_loss: 0.00034, train_accr: 1.000 | val_loss: 0.01186, val_accr: 0.995\n",
      "03320 | train_loss: 0.00027, train_accr: 1.000 | val_loss: 0.00082, val_accr: 1.000\n",
      "03330 | train_loss: 0.00032, train_accr: 1.000 | val_loss: 0.01995, val_accr: 0.995\n",
      "03340 | train_loss: 0.00030, train_accr: 1.000 | val_loss: 0.00060, val_accr: 1.000\n",
      "03350 | train_loss: 0.00036, train_accr: 1.000 | val_loss: 0.03064, val_accr: 0.990\n",
      "03360 | train_loss: 0.00039, train_accr: 1.000 | val_loss: 0.00152, val_accr: 1.000\n",
      "03370 | train_loss: 0.00061, train_accr: 1.000 | val_loss: 0.00087, val_accr: 1.000\n",
      "03380 | train_loss: 0.00046, train_accr: 1.000 | val_loss: 0.00059, val_accr: 1.000\n",
      "03390 | train_loss: 0.00030, train_accr: 1.000 | val_loss: 0.02919, val_accr: 0.995\n",
      "03400 | train_loss: 0.00021, train_accr: 1.000 | val_loss: 0.03412, val_accr: 0.990\n",
      "03410 | train_loss: 0.00051, train_accr: 1.000 | val_loss: 0.04408, val_accr: 0.990\n",
      "03420 | train_loss: 0.00032, train_accr: 1.000 | val_loss: 0.02909, val_accr: 0.990\n",
      "03430 | train_loss: 0.00028, train_accr: 1.000 | val_loss: 0.00092, val_accr: 1.000\n",
      "03440 | train_loss: 0.00033, train_accr: 1.000 | val_loss: 0.00078, val_accr: 1.000\n",
      "03450 | train_loss: 0.00017, train_accr: 1.000 | val_loss: 0.01742, val_accr: 0.995\n",
      "03460 | train_loss: 0.00042, train_accr: 1.000 | val_loss: 0.01550, val_accr: 0.995\n",
      "03470 | train_loss: 0.00024, train_accr: 1.000 | val_loss: 0.02265, val_accr: 0.995\n",
      "03480 | train_loss: 0.00028, train_accr: 1.000 | val_loss: 0.02054, val_accr: 0.995\n",
      "03490 | train_loss: 0.00017, train_accr: 1.000 | val_loss: 0.00076, val_accr: 1.000\n",
      "03500 | train_loss: 0.00022, train_accr: 1.000 | val_loss: 0.01719, val_accr: 0.995\n",
      "03510 | train_loss: 0.00038, train_accr: 1.000 | val_loss: 0.00065, val_accr: 1.000\n",
      "03520 | train_loss: 0.00041, train_accr: 1.000 | val_loss: 0.00060, val_accr: 1.000\n",
      "03530 | train_loss: 0.00014, train_accr: 1.000 | val_loss: 0.00054, val_accr: 1.000\n",
      "03540 | train_loss: 0.00027, train_accr: 1.000 | val_loss: 0.00090, val_accr: 1.000\n",
      "03550 | train_loss: 0.00019, train_accr: 1.000 | val_loss: 0.02192, val_accr: 0.995\n",
      "03560 | train_loss: 0.00023, train_accr: 1.000 | val_loss: 0.00047, val_accr: 1.000\n",
      "03570 | train_loss: 0.00019, train_accr: 1.000 | val_loss: 0.01512, val_accr: 0.995\n",
      "03580 | train_loss: 0.00017, train_accr: 1.000 | val_loss: 0.00203, val_accr: 1.000\n",
      "03590 | train_loss: 0.00029, train_accr: 1.000 | val_loss: 0.00154, val_accr: 1.000\n",
      "03600 | train_loss: 0.00033, train_accr: 1.000 | val_loss: 0.00089, val_accr: 1.000\n",
      "03610 | train_loss: 0.00019, train_accr: 1.000 | val_loss: 0.03094, val_accr: 0.990\n",
      "03620 | train_loss: 0.00026, train_accr: 1.000 | val_loss: 0.00102, val_accr: 1.000\n",
      "03630 | train_loss: 0.00023, train_accr: 1.000 | val_loss: 0.00087, val_accr: 1.000\n",
      "03640 | train_loss: 0.00009, train_accr: 1.000 | val_loss: 0.03237, val_accr: 0.990\n",
      "03650 | train_loss: 0.00038, train_accr: 1.000 | val_loss: 0.02070, val_accr: 0.995\n",
      "03660 | train_loss: 0.00022, train_accr: 1.000 | val_loss: 0.03738, val_accr: 0.990\n",
      "03670 | train_loss: 0.00019, train_accr: 1.000 | val_loss: 0.01333, val_accr: 0.995\n",
      "03680 | train_loss: 0.00023, train_accr: 1.000 | val_loss: 0.00062, val_accr: 1.000\n",
      "03690 | train_loss: 0.00027, train_accr: 1.000 | val_loss: 0.01191, val_accr: 0.995\n",
      "03700 | train_loss: 0.00016, train_accr: 1.000 | val_loss: 0.01725, val_accr: 0.995\n",
      "03710 | train_loss: 0.00016, train_accr: 1.000 | val_loss: 0.02091, val_accr: 0.995\n",
      "03720 | train_loss: 0.00012, train_accr: 1.000 | val_loss: 0.01019, val_accr: 0.995\n",
      "03730 | train_loss: 0.00017, train_accr: 1.000 | val_loss: 0.00032, val_accr: 1.000\n",
      "03740 | train_loss: 0.00017, train_accr: 1.000 | val_loss: 0.03884, val_accr: 0.990\n",
      "03750 | train_loss: 0.00019, train_accr: 1.000 | val_loss: 0.02974, val_accr: 0.990\n",
      "03760 | train_loss: 0.00031, train_accr: 1.000 | val_loss: 0.00132, val_accr: 1.000\n",
      "03770 | train_loss: 0.00023, train_accr: 1.000 | val_loss: 0.01484, val_accr: 0.995\n",
      "03780 | train_loss: 0.00019, train_accr: 1.000 | val_loss: 0.01288, val_accr: 0.995\n",
      "03790 | train_loss: 0.00015, train_accr: 1.000 | val_loss: 0.02512, val_accr: 0.995\n",
      "03800 | train_loss: 0.00031, train_accr: 1.000 | val_loss: 0.00037, val_accr: 1.000\n",
      "03810 | train_loss: 0.00027, train_accr: 1.000 | val_loss: 0.00029, val_accr: 1.000\n",
      "03820 | train_loss: 0.00028, train_accr: 1.000 | val_loss: 0.01553, val_accr: 0.995\n",
      "03830 | train_loss: 0.00024, train_accr: 1.000 | val_loss: 0.00138, val_accr: 1.000\n",
      "03840 | train_loss: 0.00016, train_accr: 1.000 | val_loss: 0.00069, val_accr: 1.000\n",
      "03850 | train_loss: 0.00015, train_accr: 1.000 | val_loss: 0.02177, val_accr: 0.995\n",
      "03860 | train_loss: 0.00014, train_accr: 1.000 | val_loss: 0.02034, val_accr: 0.995\n",
      "03870 | train_loss: 0.00016, train_accr: 1.000 | val_loss: 0.02047, val_accr: 0.995\n",
      "03880 | train_loss: 0.00014, train_accr: 1.000 | val_loss: 0.01303, val_accr: 0.995\n",
      "03890 | train_loss: 0.00032, train_accr: 1.000 | val_loss: 0.00067, val_accr: 1.000\n",
      "03900 | train_loss: 0.00019, train_accr: 1.000 | val_loss: 0.01999, val_accr: 0.995\n",
      "03910 | train_loss: 0.00014, train_accr: 1.000 | val_loss: 0.03366, val_accr: 0.995\n",
      "03920 | train_loss: 0.00009, train_accr: 1.000 | val_loss: 0.00080, val_accr: 1.000\n"
     ]
    },
    {
     "name": "stdout",
     "output_type": "stream",
     "text": [
      "03930 | train_loss: 0.00015, train_accr: 1.000 | val_loss: 0.00030, val_accr: 1.000\n",
      "03940 | train_loss: 0.00014, train_accr: 1.000 | val_loss: 0.00133, val_accr: 1.000\n",
      "03950 | train_loss: 0.00033, train_accr: 1.000 | val_loss: 0.00038, val_accr: 1.000\n",
      "03960 | train_loss: 0.00018, train_accr: 1.000 | val_loss: 0.01346, val_accr: 0.995\n",
      "03970 | train_loss: 0.00019, train_accr: 1.000 | val_loss: 0.00070, val_accr: 1.000\n",
      "03980 | train_loss: 0.00016, train_accr: 1.000 | val_loss: 0.01984, val_accr: 0.995\n",
      "03990 | train_loss: 0.00023, train_accr: 1.000 | val_loss: 0.00021, val_accr: 1.000\n",
      "04000 | train_loss: 0.00016, train_accr: 1.000 | val_loss: 0.00060, val_accr: 1.000\n",
      "04010 | train_loss: 0.00016, train_accr: 1.000 | val_loss: 0.00043, val_accr: 1.000\n",
      "04020 | train_loss: 0.00014, train_accr: 1.000 | val_loss: 0.00110, val_accr: 1.000\n",
      "04030 | train_loss: 0.00011, train_accr: 1.000 | val_loss: 0.00052, val_accr: 1.000\n",
      "04040 | train_loss: 0.00012, train_accr: 1.000 | val_loss: 0.00067, val_accr: 1.000\n",
      "04050 | train_loss: 0.00016, train_accr: 1.000 | val_loss: 0.01339, val_accr: 0.995\n",
      "04060 | train_loss: 0.00026, train_accr: 1.000 | val_loss: 0.00109, val_accr: 1.000\n",
      "04070 | train_loss: 0.00014, train_accr: 1.000 | val_loss: 0.01578, val_accr: 0.995\n",
      "04080 | train_loss: 0.00013, train_accr: 1.000 | val_loss: 0.00054, val_accr: 1.000\n",
      "04090 | train_loss: 0.00017, train_accr: 1.000 | val_loss: 0.00050, val_accr: 1.000\n",
      "04100 | train_loss: 0.00036, train_accr: 1.000 | val_loss: 0.00075, val_accr: 1.000\n",
      "04110 | train_loss: 0.00026, train_accr: 1.000 | val_loss: 0.01267, val_accr: 0.995\n",
      "04120 | train_loss: 0.00029, train_accr: 1.000 | val_loss: 0.00079, val_accr: 1.000\n",
      "04130 | train_loss: 0.00012, train_accr: 1.000 | val_loss: 0.00177, val_accr: 1.000\n",
      "04140 | train_loss: 0.00014, train_accr: 1.000 | val_loss: 0.02694, val_accr: 0.995\n",
      "04150 | train_loss: 0.00015, train_accr: 1.000 | val_loss: 0.01830, val_accr: 0.990\n",
      "04160 | train_loss: 0.00020, train_accr: 1.000 | val_loss: 0.00037, val_accr: 1.000\n",
      "04170 | train_loss: 0.00017, train_accr: 1.000 | val_loss: 0.00064, val_accr: 1.000\n",
      "04180 | train_loss: 0.00015, train_accr: 1.000 | val_loss: 0.01134, val_accr: 0.995\n",
      "04190 | train_loss: 0.00011, train_accr: 1.000 | val_loss: 0.01821, val_accr: 0.995\n",
      "04200 | train_loss: 0.00011, train_accr: 1.000 | val_loss: 0.05194, val_accr: 0.990\n",
      "04210 | train_loss: 0.00011, train_accr: 1.000 | val_loss: 0.04107, val_accr: 0.990\n",
      "04220 | train_loss: 0.00011, train_accr: 1.000 | val_loss: 0.02324, val_accr: 0.995\n",
      "04230 | train_loss: 0.00010, train_accr: 1.000 | val_loss: 0.01890, val_accr: 0.995\n",
      "04240 | train_loss: 0.00016, train_accr: 1.000 | val_loss: 0.02420, val_accr: 0.995\n",
      "04250 | train_loss: 0.00012, train_accr: 1.000 | val_loss: 0.04619, val_accr: 0.990\n",
      "04260 | train_loss: 0.00016, train_accr: 1.000 | val_loss: 0.00042, val_accr: 1.000\n",
      "04270 | train_loss: 0.00010, train_accr: 1.000 | val_loss: 0.02127, val_accr: 0.995\n",
      "04280 | train_loss: 0.00009, train_accr: 1.000 | val_loss: 0.00899, val_accr: 0.995\n",
      "04290 | train_loss: 0.00010, train_accr: 1.000 | val_loss: 0.01258, val_accr: 0.995\n",
      "04300 | train_loss: 0.00017, train_accr: 1.000 | val_loss: 0.01568, val_accr: 0.995\n",
      "04310 | train_loss: 0.00016, train_accr: 1.000 | val_loss: 0.00021, val_accr: 1.000\n",
      "04320 | train_loss: 0.00013, train_accr: 1.000 | val_loss: 0.00103, val_accr: 1.000\n",
      "04330 | train_loss: 0.00014, train_accr: 1.000 | val_loss: 0.00070, val_accr: 1.000\n",
      "04340 | train_loss: 0.00011, train_accr: 1.000 | val_loss: 0.00122, val_accr: 1.000\n",
      "04350 | train_loss: 0.00016, train_accr: 1.000 | val_loss: 0.00021, val_accr: 1.000\n",
      "04360 | train_loss: 0.00020, train_accr: 1.000 | val_loss: 0.01265, val_accr: 0.995\n",
      "04370 | train_loss: 0.00010, train_accr: 1.000 | val_loss: 0.01351, val_accr: 0.995\n",
      "04380 | train_loss: 0.00011, train_accr: 1.000 | val_loss: 0.00292, val_accr: 1.000\n",
      "04390 | train_loss: 0.00011, train_accr: 1.000 | val_loss: 0.00128, val_accr: 1.000\n",
      "04400 | train_loss: 0.00013, train_accr: 1.000 | val_loss: 0.02141, val_accr: 0.995\n",
      "04410 | train_loss: 0.00027, train_accr: 1.000 | val_loss: 0.01538, val_accr: 0.995\n",
      "04420 | train_loss: 0.00008, train_accr: 1.000 | val_loss: 0.02579, val_accr: 0.995\n",
      "04430 | train_loss: 0.00013, train_accr: 1.000 | val_loss: 0.00013, val_accr: 1.000\n",
      "04440 | train_loss: 0.00018, train_accr: 1.000 | val_loss: 0.02859, val_accr: 0.995\n",
      "04450 | train_loss: 0.00016, train_accr: 1.000 | val_loss: 0.00186, val_accr: 1.000\n",
      "04460 | train_loss: 0.00014, train_accr: 1.000 | val_loss: 0.03962, val_accr: 0.990\n",
      "04470 | train_loss: 0.00011, train_accr: 1.000 | val_loss: 0.00028, val_accr: 1.000\n",
      "04480 | train_loss: 0.00011, train_accr: 1.000 | val_loss: 0.01722, val_accr: 0.995\n",
      "04490 | train_loss: 0.00017, train_accr: 1.000 | val_loss: 0.01821, val_accr: 0.995\n",
      "04500 | train_loss: 0.00012, train_accr: 1.000 | val_loss: 0.01984, val_accr: 0.995\n",
      "04510 | train_loss: 0.00008, train_accr: 1.000 | val_loss: 0.00059, val_accr: 1.000\n",
      "04520 | train_loss: 0.00010, train_accr: 1.000 | val_loss: 0.03986, val_accr: 0.990\n",
      "04530 | train_loss: 0.00009, train_accr: 1.000 | val_loss: 0.00017, val_accr: 1.000\n",
      "04540 | train_loss: 0.00009, train_accr: 1.000 | val_loss: 0.01049, val_accr: 0.995\n",
      "04550 | train_loss: 0.00009, train_accr: 1.000 | val_loss: 0.01569, val_accr: 0.995\n",
      "04560 | train_loss: 0.00010, train_accr: 1.000 | val_loss: 0.00039, val_accr: 1.000\n",
      "04570 | train_loss: 0.00022, train_accr: 1.000 | val_loss: 0.02657, val_accr: 0.995\n",
      "04580 | train_loss: 0.00017, train_accr: 1.000 | val_loss: 0.02158, val_accr: 0.995\n",
      "04590 | train_loss: 0.00015, train_accr: 1.000 | val_loss: 0.00020, val_accr: 1.000\n",
      "04600 | train_loss: 0.00011, train_accr: 1.000 | val_loss: 0.00948, val_accr: 0.995\n",
      "04610 | train_loss: 0.00026, train_accr: 1.000 | val_loss: 0.00856, val_accr: 0.995\n",
      "04620 | train_loss: 0.00013, train_accr: 1.000 | val_loss: 0.00091, val_accr: 1.000\n",
      "04630 | train_loss: 0.00012, train_accr: 1.000 | val_loss: 0.00016, val_accr: 1.000\n",
      "04640 | train_loss: 0.00008, train_accr: 1.000 | val_loss: 0.00011, val_accr: 1.000\n",
      "04650 | train_loss: 0.00017, train_accr: 1.000 | val_loss: 0.00065, val_accr: 1.000\n",
      "04660 | train_loss: 0.00009, train_accr: 1.000 | val_loss: 0.00127, val_accr: 1.000\n",
      "04670 | train_loss: 0.00024, train_accr: 1.000 | val_loss: 0.03025, val_accr: 0.995\n",
      "04680 | train_loss: 0.00013, train_accr: 1.000 | val_loss: 0.01731, val_accr: 0.995\n",
      "04690 | train_loss: 0.00016, train_accr: 1.000 | val_loss: 0.00022, val_accr: 1.000\n",
      "04700 | train_loss: 0.00013, train_accr: 1.000 | val_loss: 0.00038, val_accr: 1.000\n",
      "04710 | train_loss: 0.00009, train_accr: 1.000 | val_loss: 0.01904, val_accr: 0.995\n",
      "04720 | train_loss: 0.00014, train_accr: 1.000 | val_loss: 0.01931, val_accr: 0.995\n",
      "04730 | train_loss: 0.00012, train_accr: 1.000 | val_loss: 0.01013, val_accr: 0.995\n",
      "04740 | train_loss: 0.00010, train_accr: 1.000 | val_loss: 0.02870, val_accr: 0.995\n",
      "04750 | train_loss: 0.00008, train_accr: 1.000 | val_loss: 0.00033, val_accr: 1.000\n",
      "04760 | train_loss: 0.00008, train_accr: 1.000 | val_loss: 0.03631, val_accr: 0.990\n",
      "04770 | train_loss: 0.00008, train_accr: 1.000 | val_loss: 0.01509, val_accr: 0.995\n",
      "04780 | train_loss: 0.00007, train_accr: 1.000 | val_loss: 0.00065, val_accr: 1.000\n",
      "04790 | train_loss: 0.00012, train_accr: 1.000 | val_loss: 0.00074, val_accr: 1.000\n",
      "04800 | train_loss: 0.00007, train_accr: 1.000 | val_loss: 0.02526, val_accr: 0.995\n",
      "04810 | train_loss: 0.00021, train_accr: 1.000 | val_loss: 0.00049, val_accr: 1.000\n",
      "04820 | train_loss: 0.00009, train_accr: 1.000 | val_loss: 0.01584, val_accr: 0.995\n",
      "04830 | train_loss: 0.00008, train_accr: 1.000 | val_loss: 0.00856, val_accr: 0.995\n",
      "04840 | train_loss: 0.00011, train_accr: 1.000 | val_loss: 0.01023, val_accr: 0.995\n",
      "04850 | train_loss: 0.00013, train_accr: 1.000 | val_loss: 0.04360, val_accr: 0.990\n",
      "04860 | train_loss: 0.00009, train_accr: 1.000 | val_loss: 0.04730, val_accr: 0.990\n",
      "04870 | train_loss: 0.00010, train_accr: 1.000 | val_loss: 0.02807, val_accr: 0.995\n",
      "04880 | train_loss: 0.00010, train_accr: 1.000 | val_loss: 0.03923, val_accr: 0.990\n",
      "04890 | train_loss: 0.00009, train_accr: 1.000 | val_loss: 0.03382, val_accr: 0.990\n",
      "04900 | train_loss: 0.00009, train_accr: 1.000 | val_loss: 0.03382, val_accr: 0.990\n"
     ]
    },
    {
     "name": "stdout",
     "output_type": "stream",
     "text": [
      "04910 | train_loss: 0.00009, train_accr: 1.000 | val_loss: 0.02184, val_accr: 0.995\n",
      "04920 | train_loss: 0.00008, train_accr: 1.000 | val_loss: 0.01418, val_accr: 0.995\n",
      "04930 | train_loss: 0.00010, train_accr: 1.000 | val_loss: 0.01674, val_accr: 0.995\n",
      "04940 | train_loss: 0.00010, train_accr: 1.000 | val_loss: 0.02367, val_accr: 0.995\n",
      "04950 | train_loss: 0.00009, train_accr: 1.000 | val_loss: 0.00084, val_accr: 1.000\n",
      "04960 | train_loss: 0.00009, train_accr: 1.000 | val_loss: 0.01902, val_accr: 0.995\n",
      "04970 | train_loss: 0.00009, train_accr: 1.000 | val_loss: 0.00022, val_accr: 1.000\n",
      "04980 | train_loss: 0.00009, train_accr: 1.000 | val_loss: 0.02154, val_accr: 0.995\n",
      "04990 | train_loss: 0.00007, train_accr: 1.000 | val_loss: 0.01100, val_accr: 0.995\n",
      "05000 | train_loss: 0.00013, train_accr: 1.000 | val_loss: 0.00009, val_accr: 1.000\n"
     ]
    }
   ],
   "source": [
    "loss_history, accr_history = [], []\n",
    "val_loss_history, val_accr_history = [], []\n",
    "\n",
    "iter_i = 0\n",
    "\n",
    "while True:\n",
    "    iter_i += 1\n",
    "    \n",
    "    G_train_x, G_train_y = RandomMinibatch(G_train_X, G_train_Y, 100)\n",
    "    B_train_x, B_train_y = RandomMinibatch(B_train_X, B_train_Y, 100)\n",
    "    \n",
    "    train_x, train_y = np.vstack([G_train_x, B_train_x]), np.hstack([G_train_y, B_train_y])\n",
    "\n",
    "    train_x, train_y = shuffle(train_x, train_y)\n",
    "    \n",
    "#     train_x, train_y = train_x.to(device), train_y.to(device)\n",
    "    train_x, train_y = torch.tensor(train_x, device=device).float(), torch.tensor(train_y, device=device).long()\n",
    "    \n",
    "    output = model(train_x)\n",
    "    loss = criterion(output, train_y)\n",
    "    \n",
    "    optimizer.zero_grad()\n",
    "    loss.backward()\n",
    "    optimizer.step()\n",
    "    \n",
    "    if iter_i % 10 == 0:\n",
    "        \n",
    "        _, pred = torch.max(output, 1)\n",
    "        \n",
    "        loss_history.append(loss.tolist())\n",
    "        accr_history.append((torch.sum(pred == train_y.data).tolist() / len(train_y)))\n",
    "        \n",
    "        with torch.no_grad():\n",
    "    \n",
    "            G_valid_x, G_valid_y = RandomMinibatch(G_valid_X, G_valid_Y, 100)\n",
    "            B_valid_x, B_valid_y = RandomMinibatch(B_valid_X, B_valid_Y, 100)\n",
    "\n",
    "            valid_x, valid_y = np.vstack([G_valid_x, B_valid_x]), np.hstack([G_valid_y, B_valid_y])\n",
    "#             valid_x, valid_y = valid_x.to(device), valid_y.to(device)\n",
    "            valid_x, valid_y = torch.tensor(valid_x, device=device).float(), torch.tensor(valid_y, device=device).long()\n",
    "\n",
    "            valid_output = model(valid_x)\n",
    "            valid_loss = criterion(valid_output, valid_y)\n",
    "            \n",
    "            _, valid_pred = torch.max(valid_output, 1)\n",
    "        \n",
    "            val_loss_history.append(valid_loss.tolist())\n",
    "            val_accr_history.append((torch.sum(valid_pred == valid_y.data).tolist() / len(valid_y)))\n",
    "        \n",
    "        \n",
    "        print(\"{:05d} | train_loss: {:.5f}, train_accr: {:.3f} | val_loss: {:.5f}, val_accr: {:.3f}\".format(iter_i, \n",
    "                                                                                                            loss_history[-1], \n",
    "                                                                                                            accr_history[-1], \n",
    "                                                                                                            val_loss_history[-1], \n",
    "                                                                                                            val_accr_history[-1]))\n",
    "        \n",
    "        if iter_i >= 100:  \n",
    "#             if np.mean(val_loss_history[-5 :]) >= np.mean(val_loss_history[-10:]):\n",
    "#                 print('')\n",
    "#                 print('Early stopping!!')\n",
    "#                 print('..val_loss (avg. within 5): {:.5f} >= val_loss (avg. within 10) {:.5f}'.format(np.mean(val_loss_history[-5 :]),\n",
    "#                                                                                                   np.mean(val_loss_history[-10:])))\n",
    "                \n",
    "            if val_loss_history[-1] == np.min(val_loss_history):\n",
    "\n",
    "                now = datetime.datetime.now()\n",
    "                nowDatetime = now.strftime('%y%m%d%H%M')\n",
    "                model_name = 'Accel_GB_{}_{:05d}_loss_{:.6f}_val_loss_{:.6f}.pt'.format(nowDatetime, iter_i, \n",
    "                                                                                     np.mean(loss_history[-3:]),\n",
    "                                                                                     np.mean(val_loss_history[-3:]))\n",
    "                torch.save(model.state_dict(), './model/' + model_name)\n",
    "#                 break                   \n",
    "        if iter_i == 5000:\n",
    "            break"
   ]
  },
  {
   "cell_type": "code",
   "execution_count": 15,
   "metadata": {
    "ExecuteTime": {
     "end_time": "2020-03-25T15:27:48.454623Z",
     "start_time": "2020-03-25T15:27:47.901315Z"
    }
   },
   "outputs": [
    {
     "name": "stderr",
     "output_type": "stream",
     "text": [
      "/home/yunseob/Pytorch/lib/python3.5/site-packages/matplotlib/cbook/__init__.py:424: MatplotlibDeprecationWarning: \n",
      "Passing one of 'on', 'true', 'off', 'false' as a boolean is deprecated; use an actual boolean (True/False) instead.\n",
      "  warn_deprecated(\"2.2\", \"Passing one of 'on', 'true', 'off', 'false' as a \"\n"
     ]
    },
    {
     "data": {
      "image/png": "[encoded data removed]",
      "text/plain": [
       "<Figure size 1080x1224 with 2 Axes>"
      ]
     },
     "metadata": {
      "needs_background": "light"
     },
     "output_type": "display_data"
    }
   ],
   "source": [
    "fig = plt.figure(figsize = (15,17))\n",
    "plt.suptitle('Training History', y = 0.92, fontsize = 20)\n",
    "\n",
    "# x_axis = range(1, 10*len(accr_history)+1, 10)\n",
    "x_axis = np.arange(10, 10*len(accr_history)+1, 10)\n",
    "\n",
    "plt.subplot(2, 1, 1)\n",
    "plt.plot(x_axis, accr_history, 'b-', label = 'Training Accuracy')\n",
    "plt.plot(x_axis, val_accr_history, 'r-', label = 'Validation Accuracy')\n",
    "plt.xlabel('Iteration', fontsize = 15)\n",
    "plt.ylabel('Accuracy', fontsize = 15)\n",
    "plt.legend(fontsize = 10)\n",
    "plt.grid('on')\n",
    "plt.subplot(2, 1, 2)\n",
    "plt.plot(x_axis, loss_history, 'b-', label = 'Training Loss')\n",
    "plt.plot(x_axis, val_loss_history, 'r-', label = 'Validation Loss')\n",
    "plt.xlabel('Iteration', fontsize = 15)\n",
    "plt.ylabel('Loss', fontsize = 15)\n",
    "# plt.yticks(np.arange(0, 0.25, step=0.025))\n",
    "plt.legend(fontsize = 12)\n",
    "plt.grid('on')\n",
    "plt.show()\n",
    "\n",
    "# if save == True:\n",
    "#     fig.savefig(hist_path + filename)\n",
    "#     plt.close(fig)"
   ]
  },
  {
   "cell_type": "code",
   "execution_count": 16,
   "metadata": {
    "ExecuteTime": {
     "end_time": "2020-03-25T15:39:10.679434Z",
     "start_time": "2020-03-25T15:39:10.668994Z"
    }
   },
   "outputs": [],
   "source": [
    "np.save('./results/0_train_hist/Accel_GB_accr_history', accr_history)\n",
    "np.save('./results/0_train_hist/Accel_GB_val_accr_history', val_accr_history)\n",
    "np.save('./results/0_train_hist/Accel_GB_loss_history', loss_history)\n",
    "np.save('./results/0_train_hist/Accel_GB_val_loss_history', val_loss_history)"
   ]
  }
 ],
 "metadata": {
  "hide_input": false,
  "kernelspec": {
   "display_name": "Pytorch",
   "language": "python",
   "name": "pytorch"
  },
  "language_info": {
   "codemirror_mode": {
    "name": "ipython",
    "version": 3
   },
   "file_extension": ".py",
   "mimetype": "text/x-python",
   "name": "python",
   "nbconvert_exporter": "python",
   "pygments_lexer": "ipython3",
   "version": "3.5.2"
  },
  "toc": {
   "base_numbering": 1,
   "nav_menu": {},
   "number_sections": true,
   "sideBar": true,
   "skip_h1_title": false,
   "title_cell": "Table of Contents",
   "title_sidebar": "Contents",
   "toc_cell": false,
   "toc_position": {},
   "toc_section_display": true,
   "toc_window_display": false
  }
 },
 "nbformat": 4,
 "nbformat_minor": 2
}
