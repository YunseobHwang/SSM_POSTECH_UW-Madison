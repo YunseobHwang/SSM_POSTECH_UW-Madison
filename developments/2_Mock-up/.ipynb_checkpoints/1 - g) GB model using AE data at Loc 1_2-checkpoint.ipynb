{
 "cells": [
  {
   "cell_type": "code",
   "execution_count": 1,
   "metadata": {
    "ExecuteTime": {
     "end_time": "2020-03-27T16:01:42.105766Z",
     "start_time": "2020-03-27T16:01:41.530715Z"
    }
   },
   "outputs": [],
   "source": [
    "import numpy as np\n",
    "import matplotlib.pyplot as plt\n",
    "%matplotlib inline\n",
    "\n",
    "import os\n",
    "import time, datetime\n",
    "\n",
    "import torch\n",
    "from torch import nn\n",
    "from torch.nn import functional as F\n",
    "from torchsummary import summary"
   ]
  },
  {
   "cell_type": "code",
   "execution_count": 2,
   "metadata": {
    "ExecuteTime": {
     "end_time": "2020-03-27T16:01:47.608936Z",
     "start_time": "2020-03-27T16:01:42.108726Z"
    }
   },
   "outputs": [],
   "source": [
    "device = torch.device(\"cuda:3\" if torch.cuda.is_available() else \"cpu\")"
   ]
  },
  {
   "cell_type": "markdown",
   "metadata": {},
   "source": [
    "# Load Data"
   ]
  },
  {
   "cell_type": "code",
   "execution_count": 3,
   "metadata": {
    "ExecuteTime": {
     "end_time": "2020-03-27T16:01:47.618495Z",
     "start_time": "2020-03-27T16:01:47.612144Z"
    }
   },
   "outputs": [],
   "source": [
    "def GBdataLoad2(data_dir, phase = 'train', data = 'AE'):\n",
    "    for i in os.listdir(data_dir):\n",
    "        if 'good' in i and phase in i and data in i:\n",
    "            G_train_X = np.load(os.path.join(data_dir, i))\n",
    "        elif 'bad' in i and phase in i and data in i:\n",
    "            B_train_X = np.load(os.path.join(data_dir, i))\n",
    "            \n",
    "    def add_ch(img):\n",
    "        \"\"\"\n",
    "        (sample #, height, width,) -> (sample #, height, width, channel)\n",
    "        \"\"\"\n",
    "        return np.expand_dims(img, axis = -1)\n",
    "\n",
    "    return add_ch(G_train_X), add_ch(B_train_X)"
   ]
  },
  {
   "cell_type": "code",
   "execution_count": 4,
   "metadata": {
    "ExecuteTime": {
     "end_time": "2020-03-27T16:01:51.375208Z",
     "start_time": "2020-03-27T16:01:51.361867Z"
    }
   },
   "outputs": [
    {
     "data": {
      "text/plain": [
       "['bad_die_accel_test.npy',\n",
       " 'bad_die_accel_train.npy',\n",
       " 'bad_die_AE_test.npy',\n",
       " 'bad_die_AE_train.npy',\n",
       " 'good_die_accel_test.npy',\n",
       " 'good_die_accel_train.npy',\n",
       " 'good_die_AE_test.npy',\n",
       " 'good_die_AE_train.npy']"
      ]
     },
     "execution_count": 4,
     "metadata": {},
     "output_type": "execute_result"
    }
   ],
   "source": [
    "data_dir = '/mnt/disk2/data/private_data/SSM/2_Mockup/1_AE_Accel_Data/3_Loc1_2'\n",
    "os.listdir(data_dir)"
   ]
  },
  {
   "cell_type": "code",
   "execution_count": 5,
   "metadata": {
    "ExecuteTime": {
     "end_time": "2020-03-27T16:01:53.784175Z",
     "start_time": "2020-03-27T16:01:53.744585Z"
    }
   },
   "outputs": [
    {
     "data": {
      "text/plain": [
       "((1224, 40, 40, 1), (1028, 40, 40, 1))"
      ]
     },
     "execution_count": 5,
     "metadata": {},
     "output_type": "execute_result"
    }
   ],
   "source": [
    "G_train_X, B_train_X = GBdataLoad2(data_dir, phase = 'train', data = 'AE')\n",
    "G_train_X.shape, B_train_X.shape"
   ]
  },
  {
   "cell_type": "code",
   "execution_count": 6,
   "metadata": {
    "ExecuteTime": {
     "end_time": "2020-03-27T16:01:55.753226Z",
     "start_time": "2020-03-27T16:01:55.740988Z"
    }
   },
   "outputs": [
    {
     "data": {
      "text/plain": [
       "((1224, 1, 40, 40), (1028, 1, 40, 40))"
      ]
     },
     "execution_count": 6,
     "metadata": {},
     "output_type": "execute_result"
    }
   ],
   "source": [
    "def input_for_Pytorch(img):\n",
    "    \"\"\"\n",
    "    (sample #, height, width, channel) -> (sample #, channel, height, width)\n",
    "    \"\"\"\n",
    "    img = np.transpose(img, (0, 3, 1, 2))\n",
    "    return img\n",
    "\n",
    "G_train_X = input_for_Pytorch(G_train_X)\n",
    "B_train_X = input_for_Pytorch(B_train_X)\n",
    "\n",
    "G_train_X.shape, B_train_X.shape"
   ]
  },
  {
   "cell_type": "code",
   "execution_count": 7,
   "metadata": {
    "ExecuteTime": {
     "end_time": "2020-03-27T16:01:56.542879Z",
     "start_time": "2020-03-27T16:01:56.531128Z"
    }
   },
   "outputs": [
    {
     "data": {
      "text/plain": [
       "((1224, 1, 40, 40), (1224,), (1028, 1, 40, 40), (1028,))"
      ]
     },
     "execution_count": 7,
     "metadata": {},
     "output_type": "execute_result"
    }
   ],
   "source": [
    "def CreateLabel(data, cls):\n",
    "    label = cls*np.ones([data.shape[0]])\n",
    "    return label\n",
    "\n",
    "G_train_Y, B_train_Y = CreateLabel(G_train_X, 0), CreateLabel(B_train_X, 1)\n",
    "\n",
    "G_train_X.shape, G_train_Y.shape, B_train_X.shape, B_train_Y.shape"
   ]
  },
  {
   "cell_type": "code",
   "execution_count": 8,
   "metadata": {
    "ExecuteTime": {
     "end_time": "2020-03-27T16:01:57.380463Z",
     "start_time": "2020-03-27T16:01:57.341772Z"
    }
   },
   "outputs": [
    {
     "name": "stdout",
     "output_type": "stream",
     "text": [
      "Training: (1101, 1, 40, 40) (1101,) (925, 1, 40, 40) (925,)\n",
      "Validation: (123, 1, 40, 40) (123,) (103, 1, 40, 40) (103,)\n"
     ]
    }
   ],
   "source": [
    "def train_valid_split(data, label, rate_t_v = 0.9):\n",
    "    data_num = len(data)\n",
    "    train_idx = np.random.choice(data_num, int(rate_t_v*data_num), replace = False)\n",
    "    valid_idx = np.setdiff1d(np.arange(data_num), train_idx)\n",
    "    return data[train_idx], label[train_idx], data[valid_idx], label[valid_idx]\n",
    "\n",
    "G_train_X, G_train_Y, G_valid_X, G_valid_Y = train_valid_split(G_train_X, G_train_Y)\n",
    "B_train_X, B_train_Y, B_valid_X, B_valid_Y = train_valid_split(B_train_X, B_train_Y)\n",
    "\n",
    "print(\"Training:\", G_train_X.shape, G_train_Y.shape, B_train_X.shape, B_train_Y.shape)\n",
    "print(\"Validation:\", G_valid_X.shape, G_valid_Y.shape, B_valid_X.shape, B_valid_Y.shape)"
   ]
  },
  {
   "cell_type": "markdown",
   "metadata": {},
   "source": [
    "# Model"
   ]
  },
  {
   "cell_type": "code",
   "execution_count": 9,
   "metadata": {
    "ExecuteTime": {
     "end_time": "2020-03-27T16:01:59.886853Z",
     "start_time": "2020-03-27T16:01:59.860949Z"
    }
   },
   "outputs": [],
   "source": [
    "class ConvNet(nn.Module):\n",
    "    def __init__(self):\n",
    "        super().__init__()\n",
    "        # RGB세개 1채널, 20개 특징 추출, filter 크기, stride 1\n",
    "        self.conv1_1 = nn.Conv2d(1, 64, 3, 1, padding=1)\n",
    "        self.conv1_2 = nn.Conv2d(64, 64, 3, 1, padding=1)\n",
    "        self.conv1_bn = nn.BatchNorm2d(64)\n",
    "        \n",
    "        self.conv2_1 = nn.Conv2d(64, 64, 3, 1, padding=1)\n",
    "        self.conv2_2 = nn.Conv2d(64, 64, 3, 1, padding=1)\n",
    "        self.conv2_bn = nn.BatchNorm2d(64)\n",
    "        \n",
    "        self.conv3_1 = nn.Conv2d(64, 64, 3, 1, padding=1)\n",
    "        self.conv3_2 = nn.Conv2d(64, 64, 3, 1, padding=1)\n",
    "        self.conv3_bn = nn.BatchNorm2d(64)\n",
    "        \n",
    "        self.conv4_1 = nn.Conv2d(64, 64, 3, 1, padding=1)\n",
    "        self.conv4_2 = nn.Conv2d(64, 64, 3, 1, padding=1)\n",
    "        self.conv4_bn = nn.BatchNorm2d(64)\n",
    "        \n",
    "        self.dense1 = nn.Linear(2*2*64, 128)\n",
    "        # 0.5 가 권장 할 만하대\n",
    "        self.dropout1 = nn.Dropout(0.5)\n",
    "        self.dense2 = nn.Linear(128, 2)  \n",
    "        \n",
    "    def forward(self, x):\n",
    "        x = F.relu(self.conv1_1(x))\n",
    "        x = F.relu(self.conv1_bn(self.conv1_2(x)))\n",
    "        x = F.max_pool2d(x, 2, 2)\n",
    "        x = F.relu(self.conv2_1(x))\n",
    "        x = F.relu(self.conv2_bn(self.conv2_2(x)))\n",
    "        x = F.max_pool2d(x, 2, 2)\n",
    "        x = F.relu(self.conv3_1(x))\n",
    "        x = F.relu(self.conv3_bn(self.conv3_2(x)))\n",
    "        x = F.max_pool2d(x, 2, 2)\n",
    "        x = F.relu(self.conv4_1(x))\n",
    "        x = F.relu(self.conv4_bn(self.conv4_2(x)))\n",
    "        x = F.max_pool2d(x, 2, 2)\n",
    "        # flatten\n",
    "        x = x.view(-1, 2*2*64)\n",
    "        x = F.relu(self.dense1(x))\n",
    "        x = self.dropout1(x)\n",
    "        x = self.dense2(x)\n",
    "        return x"
   ]
  },
  {
   "cell_type": "code",
   "execution_count": 10,
   "metadata": {
    "ExecuteTime": {
     "end_time": "2020-03-27T16:02:04.086177Z",
     "start_time": "2020-03-27T16:01:59.992707Z"
    }
   },
   "outputs": [
    {
     "name": "stdout",
     "output_type": "stream",
     "text": [
      "----------------------------------------------------------------\n",
      "        Layer (type)               Output Shape         Param #\n",
      "================================================================\n",
      "            Conv2d-1           [-1, 64, 40, 40]             640\n",
      "            Conv2d-2           [-1, 64, 40, 40]          36,928\n",
      "       BatchNorm2d-3           [-1, 64, 40, 40]             128\n",
      "            Conv2d-4           [-1, 64, 20, 20]          36,928\n",
      "            Conv2d-5           [-1, 64, 20, 20]          36,928\n",
      "       BatchNorm2d-6           [-1, 64, 20, 20]             128\n",
      "            Conv2d-7           [-1, 64, 10, 10]          36,928\n",
      "            Conv2d-8           [-1, 64, 10, 10]          36,928\n",
      "       BatchNorm2d-9           [-1, 64, 10, 10]             128\n",
      "           Conv2d-10             [-1, 64, 5, 5]          36,928\n",
      "           Conv2d-11             [-1, 64, 5, 5]          36,928\n",
      "      BatchNorm2d-12             [-1, 64, 5, 5]             128\n",
      "           Linear-13                  [-1, 128]          32,896\n",
      "          Dropout-14                  [-1, 128]               0\n",
      "           Linear-15                    [-1, 2]             258\n",
      "          ConvNet-16                    [-1, 2]               0\n",
      "================================================================\n",
      "Total params: 292,802\n",
      "Trainable params: 292,802\n",
      "Non-trainable params: 0\n",
      "----------------------------------------------------------------\n",
      "Input size (MB): 0.01\n",
      "Forward/backward pass size (MB): 3.11\n",
      "Params size (MB): 1.12\n",
      "Estimated Total Size (MB): 4.24\n",
      "----------------------------------------------------------------\n",
      "\n"
     ]
    },
    {
     "data": {
      "text/plain": [
       "(tensor(292802), tensor(292802))"
      ]
     },
     "execution_count": 10,
     "metadata": {},
     "output_type": "execute_result"
    }
   ],
   "source": [
    "model = ConvNet()\n",
    "# model = model.cuda()\n",
    "model = model.to(device)\n",
    "# if device == 'cuda':\n",
    "#     net = torch.nn.DataParallel(net)\n",
    "#     cudnn.benchmark = True\n",
    "criterion = nn.CrossEntropyLoss()\n",
    "optimizer = torch.optim.Adam(model.parameters(), lr=0.00001)\n",
    "\n",
    "summary(model, (1, 40, 40), device = device)"
   ]
  },
  {
   "cell_type": "markdown",
   "metadata": {},
   "source": [
    "# Training"
   ]
  },
  {
   "cell_type": "code",
   "execution_count": 11,
   "metadata": {
    "ExecuteTime": {
     "end_time": "2020-03-27T16:02:07.276933Z",
     "start_time": "2020-03-27T16:02:07.243732Z"
    }
   },
   "outputs": [
    {
     "name": "stdout",
     "output_type": "stream",
     "text": [
      "Training: (100, 1, 40, 40) (100,) (100, 1, 40, 40) (100,)\n",
      "Validation: (100, 1, 40, 40) (100,) (100, 1, 40, 40) (100,)\n"
     ]
    }
   ],
   "source": [
    "def RandomMinibatch(data, label, n_batch = 100):\n",
    "    batch_idx = np.random.choice(len(data), n_batch, replace = False)\n",
    "    return data[batch_idx], label[batch_idx]\n",
    "\n",
    "G_train_x, G_train_y = RandomMinibatch(G_train_X, G_train_Y, 100)\n",
    "B_train_x, B_train_y = RandomMinibatch(B_train_X, B_train_Y, 100)\n",
    "\n",
    "G_valid_x, G_valid_y = RandomMinibatch(G_valid_X, G_valid_Y, 100)\n",
    "B_valid_x, B_valid_y = RandomMinibatch(B_valid_X, B_valid_Y, 100)\n",
    "\n",
    "print(\"Training:\", G_train_x.shape, G_train_y.shape, B_train_x.shape, B_train_y.shape)\n",
    "print(\"Validation:\", G_valid_x.shape, G_valid_y.shape, B_valid_x.shape, B_valid_y.shape)"
   ]
  },
  {
   "cell_type": "code",
   "execution_count": 12,
   "metadata": {
    "ExecuteTime": {
     "end_time": "2020-03-27T16:02:07.407200Z",
     "start_time": "2020-03-27T16:02:07.384903Z"
    }
   },
   "outputs": [
    {
     "name": "stdout",
     "output_type": "stream",
     "text": [
      "Training (200, 1, 40, 40) (200,)\n"
     ]
    }
   ],
   "source": [
    "def shuffle(x, y):\n",
    "    \"\"\"\n",
    "    random shuffle of two paired data -> x, y = shuffle(x, y)\n",
    "    but, available of one data -> x = shuffle(x, None)\n",
    "    \"\"\"\n",
    "    idx = np.arange(len(x))\n",
    "    np.random.shuffle(idx)\n",
    "    if type(x) == type(y):\n",
    "        return x[idx], y[idx] \n",
    "    else:\n",
    "        return x[idx]\n",
    "    \n",
    "G_train_x, G_train_y = RandomMinibatch(G_train_X, G_train_Y, 100)\n",
    "B_train_x, B_train_y = RandomMinibatch(B_train_X, B_train_Y, 100)\n",
    "    \n",
    "train_x, train_y = np.vstack([G_train_x, B_train_x]), np.hstack([G_train_y, B_train_y])\n",
    "train_x, train_y = shuffle(train_x, train_y)\n",
    "\n",
    "print(\"Training\", train_x.shape, train_y.shape)"
   ]
  },
  {
   "cell_type": "code",
   "execution_count": 13,
   "metadata": {
    "ExecuteTime": {
     "end_time": "2020-03-27T16:05:54.222981Z",
     "start_time": "2020-03-27T16:03:11.774483Z"
    },
    "scrolled": false
   },
   "outputs": [
    {
     "name": "stdout",
     "output_type": "stream",
     "text": [
      "00010 | train_loss: 0.68485, train_accr: 0.540 | val_loss: 0.66800, val_accr: 0.585\n",
      "00020 | train_loss: 0.62805, train_accr: 0.675 | val_loss: 0.63462, val_accr: 0.630\n",
      "00030 | train_loss: 0.58056, train_accr: 0.785 | val_loss: 0.59084, val_accr: 0.745\n",
      "00040 | train_loss: 0.58099, train_accr: 0.740 | val_loss: 0.55121, val_accr: 0.775\n",
      "00050 | train_loss: 0.52024, train_accr: 0.825 | val_loss: 0.53249, val_accr: 0.795\n",
      "00060 | train_loss: 0.50306, train_accr: 0.835 | val_loss: 0.48868, val_accr: 0.830\n",
      "00070 | train_loss: 0.44114, train_accr: 0.840 | val_loss: 0.44572, val_accr: 0.835\n",
      "00080 | train_loss: 0.38192, train_accr: 0.900 | val_loss: 0.43469, val_accr: 0.820\n",
      "00090 | train_loss: 0.36547, train_accr: 0.875 | val_loss: 0.39291, val_accr: 0.860\n",
      "00100 | train_loss: 0.37374, train_accr: 0.880 | val_loss: 0.37838, val_accr: 0.875\n",
      "00110 | train_loss: 0.33561, train_accr: 0.885 | val_loss: 0.37037, val_accr: 0.875\n",
      "00120 | train_loss: 0.33537, train_accr: 0.875 | val_loss: 0.34405, val_accr: 0.870\n",
      "00130 | train_loss: 0.33893, train_accr: 0.875 | val_loss: 0.36859, val_accr: 0.825\n",
      "00140 | train_loss: 0.26973, train_accr: 0.920 | val_loss: 0.31237, val_accr: 0.865\n",
      "00150 | train_loss: 0.26174, train_accr: 0.915 | val_loss: 0.29201, val_accr: 0.880\n",
      "00160 | train_loss: 0.30614, train_accr: 0.885 | val_loss: 0.29167, val_accr: 0.880\n",
      "00170 | train_loss: 0.26307, train_accr: 0.905 | val_loss: 0.28259, val_accr: 0.895\n",
      "00180 | train_loss: 0.26768, train_accr: 0.915 | val_loss: 0.29650, val_accr: 0.875\n",
      "00190 | train_loss: 0.27134, train_accr: 0.900 | val_loss: 0.26379, val_accr: 0.895\n",
      "00200 | train_loss: 0.26084, train_accr: 0.900 | val_loss: 0.26632, val_accr: 0.885\n",
      "00210 | train_loss: 0.29827, train_accr: 0.885 | val_loss: 0.25222, val_accr: 0.905\n",
      "00220 | train_loss: 0.25790, train_accr: 0.895 | val_loss: 0.25188, val_accr: 0.895\n",
      "00230 | train_loss: 0.22832, train_accr: 0.915 | val_loss: 0.24660, val_accr: 0.880\n",
      "00240 | train_loss: 0.25096, train_accr: 0.920 | val_loss: 0.24454, val_accr: 0.905\n",
      "00250 | train_loss: 0.20962, train_accr: 0.920 | val_loss: 0.23434, val_accr: 0.895\n",
      "00260 | train_loss: 0.21287, train_accr: 0.915 | val_loss: 0.25703, val_accr: 0.885\n",
      "00270 | train_loss: 0.20185, train_accr: 0.945 | val_loss: 0.23997, val_accr: 0.905\n",
      "00280 | train_loss: 0.20095, train_accr: 0.940 | val_loss: 0.21094, val_accr: 0.930\n",
      "00290 | train_loss: 0.20393, train_accr: 0.945 | val_loss: 0.24482, val_accr: 0.890\n",
      "00300 | train_loss: 0.19300, train_accr: 0.935 | val_loss: 0.21858, val_accr: 0.920\n",
      "00310 | train_loss: 0.16701, train_accr: 0.935 | val_loss: 0.20387, val_accr: 0.900\n",
      "00320 | train_loss: 0.19848, train_accr: 0.950 | val_loss: 0.19827, val_accr: 0.910\n",
      "00330 | train_loss: 0.15754, train_accr: 0.960 | val_loss: 0.18628, val_accr: 0.935\n",
      "00340 | train_loss: 0.14786, train_accr: 0.955 | val_loss: 0.20661, val_accr: 0.920\n",
      "00350 | train_loss: 0.13452, train_accr: 0.960 | val_loss: 0.21562, val_accr: 0.905\n",
      "00360 | train_loss: 0.14565, train_accr: 0.965 | val_loss: 0.19619, val_accr: 0.910\n",
      "00370 | train_loss: 0.13825, train_accr: 0.970 | val_loss: 0.20062, val_accr: 0.930\n",
      "00380 | train_loss: 0.15836, train_accr: 0.940 | val_loss: 0.18613, val_accr: 0.920\n",
      "00390 | train_loss: 0.15161, train_accr: 0.960 | val_loss: 0.18205, val_accr: 0.930\n",
      "00400 | train_loss: 0.10821, train_accr: 0.985 | val_loss: 0.18219, val_accr: 0.940\n",
      "00410 | train_loss: 0.12642, train_accr: 0.965 | val_loss: 0.16916, val_accr: 0.945\n",
      "00420 | train_loss: 0.11145, train_accr: 0.985 | val_loss: 0.19985, val_accr: 0.930\n",
      "00430 | train_loss: 0.11978, train_accr: 0.955 | val_loss: 0.18296, val_accr: 0.925\n",
      "00440 | train_loss: 0.10792, train_accr: 0.975 | val_loss: 0.17122, val_accr: 0.935\n",
      "00450 | train_loss: 0.13178, train_accr: 0.960 | val_loss: 0.17624, val_accr: 0.930\n",
      "00460 | train_loss: 0.08655, train_accr: 0.980 | val_loss: 0.19823, val_accr: 0.925\n",
      "00470 | train_loss: 0.07582, train_accr: 0.990 | val_loss: 0.16590, val_accr: 0.920\n",
      "00480 | train_loss: 0.10108, train_accr: 0.970 | val_loss: 0.17962, val_accr: 0.930\n",
      "00490 | train_loss: 0.08216, train_accr: 0.970 | val_loss: 0.18819, val_accr: 0.925\n",
      "00500 | train_loss: 0.07069, train_accr: 0.980 | val_loss: 0.18612, val_accr: 0.935\n",
      "00510 | train_loss: 0.09824, train_accr: 0.955 | val_loss: 0.13991, val_accr: 0.940\n",
      "00520 | train_loss: 0.07350, train_accr: 0.985 | val_loss: 0.17722, val_accr: 0.925\n",
      "00530 | train_loss: 0.08485, train_accr: 0.970 | val_loss: 0.16499, val_accr: 0.920\n",
      "00540 | train_loss: 0.09627, train_accr: 0.975 | val_loss: 0.17188, val_accr: 0.930\n",
      "00550 | train_loss: 0.08234, train_accr: 0.985 | val_loss: 0.17514, val_accr: 0.935\n",
      "00560 | train_loss: 0.07971, train_accr: 0.985 | val_loss: 0.18338, val_accr: 0.930\n",
      "00570 | train_loss: 0.05934, train_accr: 0.980 | val_loss: 0.17165, val_accr: 0.940\n",
      "00580 | train_loss: 0.05101, train_accr: 0.990 | val_loss: 0.17551, val_accr: 0.935\n",
      "00590 | train_loss: 0.05969, train_accr: 0.990 | val_loss: 0.13037, val_accr: 0.945\n",
      "00600 | train_loss: 0.05293, train_accr: 0.995 | val_loss: 0.18330, val_accr: 0.920\n",
      "00610 | train_loss: 0.06720, train_accr: 0.995 | val_loss: 0.15408, val_accr: 0.930\n",
      "00620 | train_loss: 0.05134, train_accr: 1.000 | val_loss: 0.14700, val_accr: 0.930\n",
      "00630 | train_loss: 0.04564, train_accr: 1.000 | val_loss: 0.17307, val_accr: 0.910\n",
      "00640 | train_loss: 0.05826, train_accr: 0.990 | val_loss: 0.16490, val_accr: 0.930\n",
      "00650 | train_loss: 0.04925, train_accr: 0.995 | val_loss: 0.16393, val_accr: 0.920\n",
      "00660 | train_loss: 0.05351, train_accr: 0.995 | val_loss: 0.15632, val_accr: 0.930\n",
      "00670 | train_loss: 0.03933, train_accr: 1.000 | val_loss: 0.14483, val_accr: 0.940\n",
      "00680 | train_loss: 0.05002, train_accr: 0.985 | val_loss: 0.16684, val_accr: 0.925\n",
      "00690 | train_loss: 0.03956, train_accr: 0.990 | val_loss: 0.18710, val_accr: 0.915\n",
      "00700 | train_loss: 0.03521, train_accr: 1.000 | val_loss: 0.13882, val_accr: 0.965\n",
      "00710 | train_loss: 0.03469, train_accr: 0.995 | val_loss: 0.18565, val_accr: 0.920\n",
      "00720 | train_loss: 0.03332, train_accr: 1.000 | val_loss: 0.14997, val_accr: 0.935\n",
      "00730 | train_loss: 0.03606, train_accr: 1.000 | val_loss: 0.19015, val_accr: 0.920\n",
      "00740 | train_loss: 0.03227, train_accr: 1.000 | val_loss: 0.16329, val_accr: 0.940\n",
      "00750 | train_loss: 0.02887, train_accr: 1.000 | val_loss: 0.14669, val_accr: 0.940\n",
      "00760 | train_loss: 0.03344, train_accr: 1.000 | val_loss: 0.16984, val_accr: 0.905\n",
      "00770 | train_loss: 0.03634, train_accr: 0.995 | val_loss: 0.16772, val_accr: 0.940\n",
      "00780 | train_loss: 0.02728, train_accr: 1.000 | val_loss: 0.16319, val_accr: 0.935\n",
      "00790 | train_loss: 0.02464, train_accr: 1.000 | val_loss: 0.14842, val_accr: 0.935\n",
      "00800 | train_loss: 0.03404, train_accr: 0.990 | val_loss: 0.18078, val_accr: 0.935\n",
      "00810 | train_loss: 0.02431, train_accr: 1.000 | val_loss: 0.15817, val_accr: 0.930\n",
      "00820 | train_loss: 0.02382, train_accr: 1.000 | val_loss: 0.18581, val_accr: 0.935\n",
      "00830 | train_loss: 0.02296, train_accr: 1.000 | val_loss: 0.13154, val_accr: 0.950\n",
      "00840 | train_loss: 0.01707, train_accr: 1.000 | val_loss: 0.14854, val_accr: 0.915\n",
      "00850 | train_loss: 0.02516, train_accr: 1.000 | val_loss: 0.12465, val_accr: 0.945\n",
      "00860 | train_loss: 0.01870, train_accr: 1.000 | val_loss: 0.16878, val_accr: 0.935\n",
      "00870 | train_loss: 0.02139, train_accr: 1.000 | val_loss: 0.16206, val_accr: 0.940\n",
      "00880 | train_loss: 0.01911, train_accr: 1.000 | val_loss: 0.16305, val_accr: 0.925\n",
      "00890 | train_loss: 0.01576, train_accr: 1.000 | val_loss: 0.18986, val_accr: 0.925\n",
      "00900 | train_loss: 0.01404, train_accr: 1.000 | val_loss: 0.16723, val_accr: 0.930\n",
      "00910 | train_loss: 0.01915, train_accr: 1.000 | val_loss: 0.15584, val_accr: 0.940\n",
      "00920 | train_loss: 0.02008, train_accr: 0.995 | val_loss: 0.17461, val_accr: 0.925\n",
      "00930 | train_loss: 0.01759, train_accr: 1.000 | val_loss: 0.14809, val_accr: 0.940\n",
      "00940 | train_loss: 0.02513, train_accr: 0.995 | val_loss: 0.18400, val_accr: 0.925\n",
      "00950 | train_loss: 0.01476, train_accr: 1.000 | val_loss: 0.18360, val_accr: 0.915\n",
      "00960 | train_loss: 0.02047, train_accr: 0.995 | val_loss: 0.14174, val_accr: 0.930\n",
      "00970 | train_loss: 0.01742, train_accr: 1.000 | val_loss: 0.15559, val_accr: 0.935\n",
      "00980 | train_loss: 0.01452, train_accr: 1.000 | val_loss: 0.18003, val_accr: 0.930\n"
     ]
    },
    {
     "name": "stdout",
     "output_type": "stream",
     "text": [
      "00990 | train_loss: 0.01648, train_accr: 1.000 | val_loss: 0.16695, val_accr: 0.930\n",
      "01000 | train_loss: 0.01368, train_accr: 1.000 | val_loss: 0.15212, val_accr: 0.945\n",
      "01010 | train_loss: 0.02229, train_accr: 1.000 | val_loss: 0.12475, val_accr: 0.955\n",
      "01020 | train_loss: 0.01599, train_accr: 1.000 | val_loss: 0.14492, val_accr: 0.920\n",
      "01030 | train_loss: 0.01264, train_accr: 1.000 | val_loss: 0.16966, val_accr: 0.940\n",
      "01040 | train_loss: 0.01533, train_accr: 1.000 | val_loss: 0.16095, val_accr: 0.935\n",
      "01050 | train_loss: 0.01928, train_accr: 1.000 | val_loss: 0.18967, val_accr: 0.925\n",
      "01060 | train_loss: 0.01212, train_accr: 1.000 | val_loss: 0.15161, val_accr: 0.935\n",
      "01070 | train_loss: 0.01857, train_accr: 0.995 | val_loss: 0.14138, val_accr: 0.925\n",
      "01080 | train_loss: 0.01275, train_accr: 1.000 | val_loss: 0.10339, val_accr: 0.955\n",
      "01090 | train_loss: 0.01541, train_accr: 1.000 | val_loss: 0.16567, val_accr: 0.930\n",
      "01100 | train_loss: 0.01243, train_accr: 1.000 | val_loss: 0.16011, val_accr: 0.930\n",
      "01110 | train_loss: 0.01009, train_accr: 1.000 | val_loss: 0.14195, val_accr: 0.930\n",
      "01120 | train_loss: 0.00756, train_accr: 1.000 | val_loss: 0.14446, val_accr: 0.940\n",
      "01130 | train_loss: 0.00683, train_accr: 1.000 | val_loss: 0.13330, val_accr: 0.950\n",
      "01140 | train_loss: 0.01104, train_accr: 1.000 | val_loss: 0.13970, val_accr: 0.940\n",
      "01150 | train_loss: 0.00757, train_accr: 1.000 | val_loss: 0.16962, val_accr: 0.930\n",
      "01160 | train_loss: 0.00663, train_accr: 1.000 | val_loss: 0.17224, val_accr: 0.930\n",
      "01170 | train_loss: 0.00984, train_accr: 1.000 | val_loss: 0.18981, val_accr: 0.920\n",
      "01180 | train_loss: 0.00865, train_accr: 1.000 | val_loss: 0.15126, val_accr: 0.930\n",
      "01190 | train_loss: 0.00806, train_accr: 1.000 | val_loss: 0.13607, val_accr: 0.945\n",
      "01200 | train_loss: 0.01093, train_accr: 1.000 | val_loss: 0.18048, val_accr: 0.920\n",
      "01210 | train_loss: 0.00619, train_accr: 1.000 | val_loss: 0.16397, val_accr: 0.940\n",
      "01220 | train_loss: 0.00986, train_accr: 1.000 | val_loss: 0.16207, val_accr: 0.940\n",
      "01230 | train_loss: 0.00692, train_accr: 1.000 | val_loss: 0.20492, val_accr: 0.930\n",
      "01240 | train_loss: 0.00763, train_accr: 1.000 | val_loss: 0.13686, val_accr: 0.925\n",
      "01250 | train_loss: 0.00693, train_accr: 1.000 | val_loss: 0.15519, val_accr: 0.935\n",
      "01260 | train_loss: 0.00652, train_accr: 1.000 | val_loss: 0.18027, val_accr: 0.915\n",
      "01270 | train_loss: 0.00664, train_accr: 1.000 | val_loss: 0.13556, val_accr: 0.940\n",
      "01280 | train_loss: 0.00960, train_accr: 1.000 | val_loss: 0.17942, val_accr: 0.935\n",
      "01290 | train_loss: 0.00726, train_accr: 1.000 | val_loss: 0.13565, val_accr: 0.945\n",
      "01300 | train_loss: 0.00733, train_accr: 1.000 | val_loss: 0.15008, val_accr: 0.925\n",
      "01310 | train_loss: 0.00709, train_accr: 1.000 | val_loss: 0.14584, val_accr: 0.945\n",
      "01320 | train_loss: 0.00624, train_accr: 1.000 | val_loss: 0.16962, val_accr: 0.935\n",
      "01330 | train_loss: 0.00443, train_accr: 1.000 | val_loss: 0.17924, val_accr: 0.925\n",
      "01340 | train_loss: 0.00760, train_accr: 1.000 | val_loss: 0.20299, val_accr: 0.920\n",
      "01350 | train_loss: 0.00683, train_accr: 1.000 | val_loss: 0.13519, val_accr: 0.940\n",
      "01360 | train_loss: 0.00530, train_accr: 1.000 | val_loss: 0.17066, val_accr: 0.935\n",
      "01370 | train_loss: 0.00867, train_accr: 1.000 | val_loss: 0.19440, val_accr: 0.915\n",
      "01380 | train_loss: 0.00758, train_accr: 1.000 | val_loss: 0.14904, val_accr: 0.940\n",
      "01390 | train_loss: 0.00464, train_accr: 1.000 | val_loss: 0.17640, val_accr: 0.920\n",
      "01400 | train_loss: 0.00545, train_accr: 1.000 | val_loss: 0.17984, val_accr: 0.925\n",
      "01410 | train_loss: 0.00410, train_accr: 1.000 | val_loss: 0.16251, val_accr: 0.940\n",
      "01420 | train_loss: 0.00912, train_accr: 1.000 | val_loss: 0.15134, val_accr: 0.945\n",
      "01430 | train_loss: 0.00658, train_accr: 1.000 | val_loss: 0.16698, val_accr: 0.940\n",
      "01440 | train_loss: 0.00535, train_accr: 1.000 | val_loss: 0.14844, val_accr: 0.945\n",
      "01450 | train_loss: 0.00742, train_accr: 1.000 | val_loss: 0.12956, val_accr: 0.955\n",
      "01460 | train_loss: 0.00445, train_accr: 1.000 | val_loss: 0.17511, val_accr: 0.930\n",
      "01470 | train_loss: 0.00619, train_accr: 1.000 | val_loss: 0.15722, val_accr: 0.940\n",
      "01480 | train_loss: 0.00266, train_accr: 1.000 | val_loss: 0.16208, val_accr: 0.940\n",
      "01490 | train_loss: 0.00352, train_accr: 1.000 | val_loss: 0.15644, val_accr: 0.935\n",
      "01500 | train_loss: 0.00381, train_accr: 1.000 | val_loss: 0.15813, val_accr: 0.930\n",
      "01510 | train_loss: 0.00455, train_accr: 1.000 | val_loss: 0.17619, val_accr: 0.940\n",
      "01520 | train_loss: 0.00573, train_accr: 1.000 | val_loss: 0.14471, val_accr: 0.935\n",
      "01530 | train_loss: 0.00491, train_accr: 1.000 | val_loss: 0.17812, val_accr: 0.935\n",
      "01540 | train_loss: 0.00387, train_accr: 1.000 | val_loss: 0.17275, val_accr: 0.935\n",
      "01550 | train_loss: 0.00349, train_accr: 1.000 | val_loss: 0.15094, val_accr: 0.940\n",
      "01560 | train_loss: 0.00608, train_accr: 1.000 | val_loss: 0.19315, val_accr: 0.925\n",
      "01570 | train_loss: 0.00323, train_accr: 1.000 | val_loss: 0.16306, val_accr: 0.925\n",
      "01580 | train_loss: 0.00502, train_accr: 1.000 | val_loss: 0.18771, val_accr: 0.925\n",
      "01590 | train_loss: 0.00339, train_accr: 1.000 | val_loss: 0.19143, val_accr: 0.920\n",
      "01600 | train_loss: 0.00252, train_accr: 1.000 | val_loss: 0.13000, val_accr: 0.930\n",
      "01610 | train_loss: 0.00424, train_accr: 1.000 | val_loss: 0.17992, val_accr: 0.915\n",
      "01620 | train_loss: 0.00355, train_accr: 1.000 | val_loss: 0.18243, val_accr: 0.935\n",
      "01630 | train_loss: 0.00368, train_accr: 1.000 | val_loss: 0.18467, val_accr: 0.935\n",
      "01640 | train_loss: 0.00295, train_accr: 1.000 | val_loss: 0.17238, val_accr: 0.950\n",
      "01650 | train_loss: 0.00259, train_accr: 1.000 | val_loss: 0.16822, val_accr: 0.945\n",
      "01660 | train_loss: 0.00202, train_accr: 1.000 | val_loss: 0.17844, val_accr: 0.930\n",
      "01670 | train_loss: 0.00258, train_accr: 1.000 | val_loss: 0.16497, val_accr: 0.945\n",
      "01680 | train_loss: 0.00256, train_accr: 1.000 | val_loss: 0.16304, val_accr: 0.950\n",
      "01690 | train_loss: 0.00163, train_accr: 1.000 | val_loss: 0.16542, val_accr: 0.935\n",
      "01700 | train_loss: 0.00350, train_accr: 1.000 | val_loss: 0.15221, val_accr: 0.945\n",
      "01710 | train_loss: 0.00301, train_accr: 1.000 | val_loss: 0.17660, val_accr: 0.925\n",
      "01720 | train_loss: 0.00322, train_accr: 1.000 | val_loss: 0.17121, val_accr: 0.925\n",
      "01730 | train_loss: 0.00339, train_accr: 1.000 | val_loss: 0.19495, val_accr: 0.920\n",
      "01740 | train_loss: 0.00320, train_accr: 1.000 | val_loss: 0.17391, val_accr: 0.935\n",
      "01750 | train_loss: 0.00352, train_accr: 1.000 | val_loss: 0.17682, val_accr: 0.935\n",
      "01760 | train_loss: 0.00291, train_accr: 1.000 | val_loss: 0.18371, val_accr: 0.950\n",
      "01770 | train_loss: 0.00211, train_accr: 1.000 | val_loss: 0.20925, val_accr: 0.930\n",
      "01780 | train_loss: 0.00306, train_accr: 1.000 | val_loss: 0.18310, val_accr: 0.940\n",
      "01790 | train_loss: 0.00319, train_accr: 1.000 | val_loss: 0.21916, val_accr: 0.920\n",
      "01800 | train_loss: 0.00177, train_accr: 1.000 | val_loss: 0.17788, val_accr: 0.940\n",
      "01810 | train_loss: 0.00315, train_accr: 1.000 | val_loss: 0.17363, val_accr: 0.940\n",
      "01820 | train_loss: 0.00273, train_accr: 1.000 | val_loss: 0.16767, val_accr: 0.930\n",
      "01830 | train_loss: 0.00240, train_accr: 1.000 | val_loss: 0.16602, val_accr: 0.935\n",
      "01840 | train_loss: 0.00341, train_accr: 1.000 | val_loss: 0.17512, val_accr: 0.940\n",
      "01850 | train_loss: 0.00221, train_accr: 1.000 | val_loss: 0.20035, val_accr: 0.925\n",
      "01860 | train_loss: 0.00182, train_accr: 1.000 | val_loss: 0.18526, val_accr: 0.940\n",
      "01870 | train_loss: 0.00208, train_accr: 1.000 | val_loss: 0.20047, val_accr: 0.930\n",
      "01880 | train_loss: 0.00235, train_accr: 1.000 | val_loss: 0.17091, val_accr: 0.935\n",
      "01890 | train_loss: 0.00210, train_accr: 1.000 | val_loss: 0.19171, val_accr: 0.930\n",
      "01900 | train_loss: 0.00172, train_accr: 1.000 | val_loss: 0.18642, val_accr: 0.935\n",
      "01910 | train_loss: 0.00179, train_accr: 1.000 | val_loss: 0.21745, val_accr: 0.920\n",
      "01920 | train_loss: 0.00243, train_accr: 1.000 | val_loss: 0.19038, val_accr: 0.925\n",
      "01930 | train_loss: 0.00109, train_accr: 1.000 | val_loss: 0.17789, val_accr: 0.950\n",
      "01940 | train_loss: 0.00280, train_accr: 1.000 | val_loss: 0.19837, val_accr: 0.925\n",
      "01950 | train_loss: 0.00182, train_accr: 1.000 | val_loss: 0.16794, val_accr: 0.925\n",
      "01960 | train_loss: 0.00247, train_accr: 1.000 | val_loss: 0.21852, val_accr: 0.920\n"
     ]
    },
    {
     "name": "stdout",
     "output_type": "stream",
     "text": [
      "01970 | train_loss: 0.00177, train_accr: 1.000 | val_loss: 0.18901, val_accr: 0.925\n",
      "01980 | train_loss: 0.00160, train_accr: 1.000 | val_loss: 0.21071, val_accr: 0.935\n",
      "01990 | train_loss: 0.00167, train_accr: 1.000 | val_loss: 0.20235, val_accr: 0.935\n",
      "02000 | train_loss: 0.00180, train_accr: 1.000 | val_loss: 0.17171, val_accr: 0.930\n",
      "02010 | train_loss: 0.00170, train_accr: 1.000 | val_loss: 0.20201, val_accr: 0.925\n",
      "02020 | train_loss: 0.00146, train_accr: 1.000 | val_loss: 0.20049, val_accr: 0.925\n",
      "02030 | train_loss: 0.00232, train_accr: 1.000 | val_loss: 0.19402, val_accr: 0.925\n",
      "02040 | train_loss: 0.00133, train_accr: 1.000 | val_loss: 0.17256, val_accr: 0.935\n",
      "02050 | train_loss: 0.00173, train_accr: 1.000 | val_loss: 0.20029, val_accr: 0.935\n",
      "02060 | train_loss: 0.00180, train_accr: 1.000 | val_loss: 0.19073, val_accr: 0.930\n",
      "02070 | train_loss: 0.00172, train_accr: 1.000 | val_loss: 0.16901, val_accr: 0.930\n",
      "02080 | train_loss: 0.00227, train_accr: 1.000 | val_loss: 0.13406, val_accr: 0.955\n",
      "02090 | train_loss: 0.00107, train_accr: 1.000 | val_loss: 0.21644, val_accr: 0.925\n",
      "02100 | train_loss: 0.00150, train_accr: 1.000 | val_loss: 0.19248, val_accr: 0.930\n",
      "02110 | train_loss: 0.00174, train_accr: 1.000 | val_loss: 0.15343, val_accr: 0.940\n",
      "02120 | train_loss: 0.00159, train_accr: 1.000 | val_loss: 0.21945, val_accr: 0.920\n",
      "02130 | train_loss: 0.00158, train_accr: 1.000 | val_loss: 0.19808, val_accr: 0.935\n",
      "02140 | train_loss: 0.00235, train_accr: 1.000 | val_loss: 0.17778, val_accr: 0.940\n",
      "02150 | train_loss: 0.00233, train_accr: 1.000 | val_loss: 0.17177, val_accr: 0.935\n",
      "02160 | train_loss: 0.00165, train_accr: 1.000 | val_loss: 0.16788, val_accr: 0.955\n",
      "02170 | train_loss: 0.00141, train_accr: 1.000 | val_loss: 0.21263, val_accr: 0.930\n",
      "02180 | train_loss: 0.00125, train_accr: 1.000 | val_loss: 0.17644, val_accr: 0.940\n",
      "02190 | train_loss: 0.00172, train_accr: 1.000 | val_loss: 0.20545, val_accr: 0.930\n",
      "02200 | train_loss: 0.00105, train_accr: 1.000 | val_loss: 0.18921, val_accr: 0.940\n",
      "02210 | train_loss: 0.00206, train_accr: 1.000 | val_loss: 0.19098, val_accr: 0.945\n",
      "02220 | train_loss: 0.00174, train_accr: 1.000 | val_loss: 0.18996, val_accr: 0.930\n",
      "02230 | train_loss: 0.00127, train_accr: 1.000 | val_loss: 0.13787, val_accr: 0.935\n",
      "02240 | train_loss: 0.00152, train_accr: 1.000 | val_loss: 0.18081, val_accr: 0.930\n",
      "02250 | train_loss: 0.00112, train_accr: 1.000 | val_loss: 0.17482, val_accr: 0.940\n",
      "02260 | train_loss: 0.00133, train_accr: 1.000 | val_loss: 0.21263, val_accr: 0.935\n",
      "02270 | train_loss: 0.00103, train_accr: 1.000 | val_loss: 0.20081, val_accr: 0.925\n",
      "02280 | train_loss: 0.00101, train_accr: 1.000 | val_loss: 0.21707, val_accr: 0.935\n",
      "02290 | train_loss: 0.00132, train_accr: 1.000 | val_loss: 0.19563, val_accr: 0.930\n",
      "02300 | train_loss: 0.00131, train_accr: 1.000 | val_loss: 0.19444, val_accr: 0.935\n",
      "02310 | train_loss: 0.00195, train_accr: 1.000 | val_loss: 0.21509, val_accr: 0.915\n",
      "02320 | train_loss: 0.00143, train_accr: 1.000 | val_loss: 0.21189, val_accr: 0.930\n",
      "02330 | train_loss: 0.00199, train_accr: 1.000 | val_loss: 0.20272, val_accr: 0.935\n",
      "02340 | train_loss: 0.00101, train_accr: 1.000 | val_loss: 0.14675, val_accr: 0.950\n",
      "02350 | train_loss: 0.00141, train_accr: 1.000 | val_loss: 0.20767, val_accr: 0.940\n",
      "02360 | train_loss: 0.00137, train_accr: 1.000 | val_loss: 0.16027, val_accr: 0.940\n",
      "02370 | train_loss: 0.00103, train_accr: 1.000 | val_loss: 0.21636, val_accr: 0.925\n",
      "02380 | train_loss: 0.00092, train_accr: 1.000 | val_loss: 0.24284, val_accr: 0.920\n",
      "02390 | train_loss: 0.00135, train_accr: 1.000 | val_loss: 0.18485, val_accr: 0.935\n",
      "02400 | train_loss: 0.00111, train_accr: 1.000 | val_loss: 0.24563, val_accr: 0.930\n",
      "02410 | train_loss: 0.00076, train_accr: 1.000 | val_loss: 0.14664, val_accr: 0.935\n",
      "02420 | train_loss: 0.00130, train_accr: 1.000 | val_loss: 0.17753, val_accr: 0.945\n",
      "02430 | train_loss: 0.00091, train_accr: 1.000 | val_loss: 0.14169, val_accr: 0.955\n",
      "02440 | train_loss: 0.00086, train_accr: 1.000 | val_loss: 0.17042, val_accr: 0.940\n",
      "02450 | train_loss: 0.00101, train_accr: 1.000 | val_loss: 0.19191, val_accr: 0.935\n",
      "02460 | train_loss: 0.00076, train_accr: 1.000 | val_loss: 0.18801, val_accr: 0.935\n",
      "02470 | train_loss: 0.00082, train_accr: 1.000 | val_loss: 0.20327, val_accr: 0.935\n",
      "02480 | train_loss: 0.00119, train_accr: 1.000 | val_loss: 0.20395, val_accr: 0.925\n",
      "02490 | train_loss: 0.00126, train_accr: 1.000 | val_loss: 0.17754, val_accr: 0.945\n",
      "02500 | train_loss: 0.00113, train_accr: 1.000 | val_loss: 0.19614, val_accr: 0.940\n",
      "02510 | train_loss: 0.00072, train_accr: 1.000 | val_loss: 0.18631, val_accr: 0.940\n",
      "02520 | train_loss: 0.00098, train_accr: 1.000 | val_loss: 0.22892, val_accr: 0.935\n",
      "02530 | train_loss: 0.00109, train_accr: 1.000 | val_loss: 0.15752, val_accr: 0.950\n",
      "02540 | train_loss: 0.00063, train_accr: 1.000 | val_loss: 0.19400, val_accr: 0.925\n",
      "02550 | train_loss: 0.00073, train_accr: 1.000 | val_loss: 0.21993, val_accr: 0.935\n",
      "02560 | train_loss: 0.00135, train_accr: 1.000 | val_loss: 0.20463, val_accr: 0.930\n",
      "02570 | train_loss: 0.00066, train_accr: 1.000 | val_loss: 0.23327, val_accr: 0.920\n",
      "02580 | train_loss: 0.00097, train_accr: 1.000 | val_loss: 0.16515, val_accr: 0.940\n",
      "02590 | train_loss: 0.00123, train_accr: 1.000 | val_loss: 0.16846, val_accr: 0.935\n",
      "02600 | train_loss: 0.00135, train_accr: 1.000 | val_loss: 0.23732, val_accr: 0.920\n",
      "02610 | train_loss: 0.00087, train_accr: 1.000 | val_loss: 0.19559, val_accr: 0.940\n",
      "02620 | train_loss: 0.00116, train_accr: 1.000 | val_loss: 0.20906, val_accr: 0.925\n",
      "02630 | train_loss: 0.00077, train_accr: 1.000 | val_loss: 0.20785, val_accr: 0.935\n",
      "02640 | train_loss: 0.00092, train_accr: 1.000 | val_loss: 0.19544, val_accr: 0.940\n",
      "02650 | train_loss: 0.00075, train_accr: 1.000 | val_loss: 0.19548, val_accr: 0.940\n",
      "02660 | train_loss: 0.00104, train_accr: 1.000 | val_loss: 0.18732, val_accr: 0.935\n",
      "02670 | train_loss: 0.00064, train_accr: 1.000 | val_loss: 0.20025, val_accr: 0.940\n",
      "02680 | train_loss: 0.00114, train_accr: 1.000 | val_loss: 0.19447, val_accr: 0.935\n",
      "02690 | train_loss: 0.00094, train_accr: 1.000 | val_loss: 0.18714, val_accr: 0.935\n",
      "02700 | train_loss: 0.00105, train_accr: 1.000 | val_loss: 0.17726, val_accr: 0.935\n",
      "02710 | train_loss: 0.00107, train_accr: 1.000 | val_loss: 0.22156, val_accr: 0.925\n",
      "02720 | train_loss: 0.00078, train_accr: 1.000 | val_loss: 0.22822, val_accr: 0.930\n",
      "02730 | train_loss: 0.00096, train_accr: 1.000 | val_loss: 0.17311, val_accr: 0.940\n",
      "02740 | train_loss: 0.00108, train_accr: 1.000 | val_loss: 0.18807, val_accr: 0.945\n",
      "02750 | train_loss: 0.00060, train_accr: 1.000 | val_loss: 0.19579, val_accr: 0.930\n",
      "02760 | train_loss: 0.00102, train_accr: 1.000 | val_loss: 0.21015, val_accr: 0.930\n",
      "02770 | train_loss: 0.00076, train_accr: 1.000 | val_loss: 0.19394, val_accr: 0.935\n",
      "02780 | train_loss: 0.00081, train_accr: 1.000 | val_loss: 0.13322, val_accr: 0.945\n",
      "02790 | train_loss: 0.00067, train_accr: 1.000 | val_loss: 0.16921, val_accr: 0.940\n",
      "02800 | train_loss: 0.00072, train_accr: 1.000 | val_loss: 0.22040, val_accr: 0.915\n",
      "02810 | train_loss: 0.00053, train_accr: 1.000 | val_loss: 0.16730, val_accr: 0.935\n",
      "02820 | train_loss: 0.00129, train_accr: 1.000 | val_loss: 0.15644, val_accr: 0.935\n",
      "02830 | train_loss: 0.00059, train_accr: 1.000 | val_loss: 0.22008, val_accr: 0.920\n",
      "02840 | train_loss: 0.00043, train_accr: 1.000 | val_loss: 0.16581, val_accr: 0.945\n",
      "02850 | train_loss: 0.00099, train_accr: 1.000 | val_loss: 0.19509, val_accr: 0.935\n",
      "02860 | train_loss: 0.00087, train_accr: 1.000 | val_loss: 0.16636, val_accr: 0.935\n",
      "02870 | train_loss: 0.00065, train_accr: 1.000 | val_loss: 0.13964, val_accr: 0.960\n",
      "02880 | train_loss: 0.00082, train_accr: 1.000 | val_loss: 0.20891, val_accr: 0.930\n",
      "02890 | train_loss: 0.00060, train_accr: 1.000 | val_loss: 0.18665, val_accr: 0.935\n",
      "02900 | train_loss: 0.00057, train_accr: 1.000 | val_loss: 0.18331, val_accr: 0.935\n",
      "02910 | train_loss: 0.00045, train_accr: 1.000 | val_loss: 0.15616, val_accr: 0.935\n",
      "02920 | train_loss: 0.00063, train_accr: 1.000 | val_loss: 0.21380, val_accr: 0.925\n",
      "02930 | train_loss: 0.00069, train_accr: 1.000 | val_loss: 0.20738, val_accr: 0.935\n",
      "02940 | train_loss: 0.00109, train_accr: 1.000 | val_loss: 0.22147, val_accr: 0.940\n"
     ]
    },
    {
     "name": "stdout",
     "output_type": "stream",
     "text": [
      "02950 | train_loss: 0.00065, train_accr: 1.000 | val_loss: 0.19009, val_accr: 0.945\n",
      "02960 | train_loss: 0.00048, train_accr: 1.000 | val_loss: 0.17304, val_accr: 0.945\n",
      "02970 | train_loss: 0.00069, train_accr: 1.000 | val_loss: 0.21932, val_accr: 0.940\n",
      "02980 | train_loss: 0.00074, train_accr: 1.000 | val_loss: 0.21834, val_accr: 0.930\n",
      "02990 | train_loss: 0.00045, train_accr: 1.000 | val_loss: 0.18730, val_accr: 0.940\n",
      "03000 | train_loss: 0.00042, train_accr: 1.000 | val_loss: 0.20072, val_accr: 0.940\n",
      "03010 | train_loss: 0.00049, train_accr: 1.000 | val_loss: 0.15312, val_accr: 0.945\n",
      "03020 | train_loss: 0.00040, train_accr: 1.000 | val_loss: 0.20836, val_accr: 0.940\n",
      "03030 | train_loss: 0.00057, train_accr: 1.000 | val_loss: 0.15861, val_accr: 0.955\n",
      "03040 | train_loss: 0.00079, train_accr: 1.000 | val_loss: 0.20362, val_accr: 0.935\n",
      "03050 | train_loss: 0.00074, train_accr: 1.000 | val_loss: 0.20964, val_accr: 0.935\n",
      "03060 | train_loss: 0.00051, train_accr: 1.000 | val_loss: 0.21706, val_accr: 0.930\n",
      "03070 | train_loss: 0.00084, train_accr: 1.000 | val_loss: 0.18998, val_accr: 0.935\n",
      "03080 | train_loss: 0.00055, train_accr: 1.000 | val_loss: 0.17124, val_accr: 0.940\n",
      "03090 | train_loss: 0.00042, train_accr: 1.000 | val_loss: 0.19496, val_accr: 0.940\n",
      "03100 | train_loss: 0.00039, train_accr: 1.000 | val_loss: 0.22268, val_accr: 0.935\n",
      "03110 | train_loss: 0.00054, train_accr: 1.000 | val_loss: 0.19542, val_accr: 0.925\n",
      "03120 | train_loss: 0.00075, train_accr: 1.000 | val_loss: 0.20904, val_accr: 0.930\n",
      "03130 | train_loss: 0.00060, train_accr: 1.000 | val_loss: 0.16402, val_accr: 0.950\n",
      "03140 | train_loss: 0.00044, train_accr: 1.000 | val_loss: 0.19123, val_accr: 0.935\n",
      "03150 | train_loss: 0.00067, train_accr: 1.000 | val_loss: 0.12198, val_accr: 0.940\n",
      "03160 | train_loss: 0.00058, train_accr: 1.000 | val_loss: 0.21660, val_accr: 0.930\n",
      "03170 | train_loss: 0.00055, train_accr: 1.000 | val_loss: 0.21797, val_accr: 0.925\n",
      "03180 | train_loss: 0.00069, train_accr: 1.000 | val_loss: 0.24725, val_accr: 0.930\n",
      "03190 | train_loss: 0.00037, train_accr: 1.000 | val_loss: 0.19494, val_accr: 0.940\n",
      "03200 | train_loss: 0.00043, train_accr: 1.000 | val_loss: 0.16979, val_accr: 0.950\n",
      "03210 | train_loss: 0.00057, train_accr: 1.000 | val_loss: 0.17491, val_accr: 0.935\n",
      "03220 | train_loss: 0.00080, train_accr: 1.000 | val_loss: 0.22265, val_accr: 0.935\n",
      "03230 | train_loss: 0.00048, train_accr: 1.000 | val_loss: 0.20313, val_accr: 0.935\n",
      "03240 | train_loss: 0.00049, train_accr: 1.000 | val_loss: 0.17612, val_accr: 0.940\n",
      "03250 | train_loss: 0.00049, train_accr: 1.000 | val_loss: 0.25529, val_accr: 0.920\n",
      "03260 | train_loss: 0.00038, train_accr: 1.000 | val_loss: 0.19497, val_accr: 0.940\n",
      "03270 | train_loss: 0.00075, train_accr: 1.000 | val_loss: 0.17998, val_accr: 0.940\n",
      "03280 | train_loss: 0.00059, train_accr: 1.000 | val_loss: 0.18039, val_accr: 0.940\n",
      "03290 | train_loss: 0.00033, train_accr: 1.000 | val_loss: 0.18496, val_accr: 0.945\n",
      "03300 | train_loss: 0.00039, train_accr: 1.000 | val_loss: 0.19799, val_accr: 0.930\n",
      "03310 | train_loss: 0.00030, train_accr: 1.000 | val_loss: 0.16203, val_accr: 0.930\n",
      "03320 | train_loss: 0.00061, train_accr: 1.000 | val_loss: 0.22396, val_accr: 0.925\n",
      "03330 | train_loss: 0.00090, train_accr: 1.000 | val_loss: 0.20698, val_accr: 0.940\n",
      "03340 | train_loss: 0.00059, train_accr: 1.000 | val_loss: 0.18565, val_accr: 0.955\n",
      "03350 | train_loss: 0.00062, train_accr: 1.000 | val_loss: 0.18327, val_accr: 0.935\n",
      "03360 | train_loss: 0.00051, train_accr: 1.000 | val_loss: 0.24523, val_accr: 0.935\n",
      "03370 | train_loss: 0.00079, train_accr: 1.000 | val_loss: 0.20987, val_accr: 0.930\n",
      "03380 | train_loss: 0.00034, train_accr: 1.000 | val_loss: 0.18595, val_accr: 0.950\n",
      "03390 | train_loss: 0.00067, train_accr: 1.000 | val_loss: 0.24514, val_accr: 0.930\n",
      "03400 | train_loss: 0.00042, train_accr: 1.000 | val_loss: 0.22430, val_accr: 0.920\n",
      "03410 | train_loss: 0.00033, train_accr: 1.000 | val_loss: 0.19202, val_accr: 0.925\n",
      "03420 | train_loss: 0.00043, train_accr: 1.000 | val_loss: 0.20983, val_accr: 0.930\n",
      "03430 | train_loss: 0.00029, train_accr: 1.000 | val_loss: 0.20353, val_accr: 0.935\n",
      "03440 | train_loss: 0.00065, train_accr: 1.000 | val_loss: 0.16479, val_accr: 0.955\n",
      "03450 | train_loss: 0.00037, train_accr: 1.000 | val_loss: 0.19032, val_accr: 0.940\n",
      "03460 | train_loss: 0.00038, train_accr: 1.000 | val_loss: 0.18372, val_accr: 0.935\n",
      "03470 | train_loss: 0.00029, train_accr: 1.000 | val_loss: 0.21572, val_accr: 0.930\n",
      "03480 | train_loss: 0.00035, train_accr: 1.000 | val_loss: 0.22132, val_accr: 0.935\n",
      "03490 | train_loss: 0.00039, train_accr: 1.000 | val_loss: 0.21760, val_accr: 0.925\n",
      "03500 | train_loss: 0.00033, train_accr: 1.000 | val_loss: 0.22908, val_accr: 0.935\n",
      "03510 | train_loss: 0.00060, train_accr: 1.000 | val_loss: 0.18465, val_accr: 0.935\n",
      "03520 | train_loss: 0.00030, train_accr: 1.000 | val_loss: 0.25021, val_accr: 0.925\n",
      "03530 | train_loss: 0.00028, train_accr: 1.000 | val_loss: 0.22809, val_accr: 0.920\n",
      "03540 | train_loss: 0.00051, train_accr: 1.000 | val_loss: 0.14792, val_accr: 0.940\n",
      "03550 | train_loss: 0.00047, train_accr: 1.000 | val_loss: 0.19968, val_accr: 0.940\n",
      "03560 | train_loss: 0.00046, train_accr: 1.000 | val_loss: 0.22416, val_accr: 0.945\n",
      "03570 | train_loss: 0.00023, train_accr: 1.000 | val_loss: 0.16577, val_accr: 0.940\n",
      "03580 | train_loss: 0.00036, train_accr: 1.000 | val_loss: 0.18325, val_accr: 0.940\n",
      "03590 | train_loss: 0.00032, train_accr: 1.000 | val_loss: 0.21194, val_accr: 0.930\n",
      "03600 | train_loss: 0.00029, train_accr: 1.000 | val_loss: 0.18639, val_accr: 0.950\n",
      "03610 | train_loss: 0.00050, train_accr: 1.000 | val_loss: 0.15378, val_accr: 0.950\n",
      "03620 | train_loss: 0.00039, train_accr: 1.000 | val_loss: 0.22501, val_accr: 0.925\n",
      "03630 | train_loss: 0.00036, train_accr: 1.000 | val_loss: 0.16099, val_accr: 0.940\n",
      "03640 | train_loss: 0.00043, train_accr: 1.000 | val_loss: 0.18794, val_accr: 0.940\n",
      "03650 | train_loss: 0.00027, train_accr: 1.000 | val_loss: 0.16705, val_accr: 0.945\n",
      "03660 | train_loss: 0.00041, train_accr: 1.000 | val_loss: 0.21443, val_accr: 0.925\n",
      "03670 | train_loss: 0.00034, train_accr: 1.000 | val_loss: 0.20480, val_accr: 0.935\n",
      "03680 | train_loss: 0.00022, train_accr: 1.000 | val_loss: 0.17909, val_accr: 0.935\n",
      "03690 | train_loss: 0.00045, train_accr: 1.000 | val_loss: 0.18623, val_accr: 0.925\n",
      "03700 | train_loss: 0.00031, train_accr: 1.000 | val_loss: 0.24283, val_accr: 0.925\n",
      "03710 | train_loss: 0.00033, train_accr: 1.000 | val_loss: 0.23131, val_accr: 0.935\n",
      "03720 | train_loss: 0.00036, train_accr: 1.000 | val_loss: 0.21605, val_accr: 0.950\n",
      "03730 | train_loss: 0.00042, train_accr: 1.000 | val_loss: 0.15740, val_accr: 0.950\n",
      "03740 | train_loss: 0.00043, train_accr: 1.000 | val_loss: 0.22327, val_accr: 0.940\n",
      "03750 | train_loss: 0.00036, train_accr: 1.000 | val_loss: 0.20546, val_accr: 0.935\n",
      "03760 | train_loss: 0.00044, train_accr: 1.000 | val_loss: 0.19763, val_accr: 0.940\n",
      "03770 | train_loss: 0.00036, train_accr: 1.000 | val_loss: 0.20749, val_accr: 0.945\n",
      "03780 | train_loss: 0.00036, train_accr: 1.000 | val_loss: 0.20145, val_accr: 0.940\n",
      "03790 | train_loss: 0.00023, train_accr: 1.000 | val_loss: 0.20025, val_accr: 0.940\n",
      "03800 | train_loss: 0.00031, train_accr: 1.000 | val_loss: 0.24105, val_accr: 0.930\n",
      "03810 | train_loss: 0.00045, train_accr: 1.000 | val_loss: 0.18845, val_accr: 0.935\n",
      "03820 | train_loss: 0.00030, train_accr: 1.000 | val_loss: 0.20186, val_accr: 0.945\n",
      "03830 | train_loss: 0.00027, train_accr: 1.000 | val_loss: 0.19340, val_accr: 0.940\n",
      "03840 | train_loss: 0.00021, train_accr: 1.000 | val_loss: 0.23247, val_accr: 0.930\n",
      "03850 | train_loss: 0.00029, train_accr: 1.000 | val_loss: 0.23339, val_accr: 0.935\n",
      "03860 | train_loss: 0.00047, train_accr: 1.000 | val_loss: 0.23320, val_accr: 0.935\n",
      "03870 | train_loss: 0.00032, train_accr: 1.000 | val_loss: 0.24320, val_accr: 0.940\n",
      "03880 | train_loss: 0.00028, train_accr: 1.000 | val_loss: 0.20377, val_accr: 0.940\n",
      "03890 | train_loss: 0.00020, train_accr: 1.000 | val_loss: 0.22401, val_accr: 0.935\n",
      "03900 | train_loss: 0.00026, train_accr: 1.000 | val_loss: 0.25074, val_accr: 0.920\n",
      "03910 | train_loss: 0.00039, train_accr: 1.000 | val_loss: 0.18047, val_accr: 0.940\n",
      "03920 | train_loss: 0.00018, train_accr: 1.000 | val_loss: 0.20330, val_accr: 0.945\n"
     ]
    },
    {
     "name": "stdout",
     "output_type": "stream",
     "text": [
      "03930 | train_loss: 0.00026, train_accr: 1.000 | val_loss: 0.21032, val_accr: 0.945\n",
      "03940 | train_loss: 0.00022, train_accr: 1.000 | val_loss: 0.18165, val_accr: 0.940\n",
      "03950 | train_loss: 0.00022, train_accr: 1.000 | val_loss: 0.20211, val_accr: 0.940\n",
      "03960 | train_loss: 0.00021, train_accr: 1.000 | val_loss: 0.16945, val_accr: 0.940\n",
      "03970 | train_loss: 0.00024, train_accr: 1.000 | val_loss: 0.18843, val_accr: 0.945\n",
      "03980 | train_loss: 0.00024, train_accr: 1.000 | val_loss: 0.21924, val_accr: 0.935\n",
      "03990 | train_loss: 0.00023, train_accr: 1.000 | val_loss: 0.18513, val_accr: 0.940\n",
      "04000 | train_loss: 0.00033, train_accr: 1.000 | val_loss: 0.22064, val_accr: 0.930\n",
      "04010 | train_loss: 0.00024, train_accr: 1.000 | val_loss: 0.24074, val_accr: 0.920\n",
      "04020 | train_loss: 0.00044, train_accr: 1.000 | val_loss: 0.22447, val_accr: 0.940\n",
      "04030 | train_loss: 0.00029, train_accr: 1.000 | val_loss: 0.21657, val_accr: 0.930\n",
      "04040 | train_loss: 0.00021, train_accr: 1.000 | val_loss: 0.18159, val_accr: 0.930\n",
      "04050 | train_loss: 0.00031, train_accr: 1.000 | val_loss: 0.24152, val_accr: 0.925\n",
      "04060 | train_loss: 0.00032, train_accr: 1.000 | val_loss: 0.22418, val_accr: 0.930\n",
      "04070 | train_loss: 0.00031, train_accr: 1.000 | val_loss: 0.18894, val_accr: 0.945\n",
      "04080 | train_loss: 0.00021, train_accr: 1.000 | val_loss: 0.17996, val_accr: 0.945\n",
      "04090 | train_loss: 0.00021, train_accr: 1.000 | val_loss: 0.22691, val_accr: 0.925\n",
      "04100 | train_loss: 0.00022, train_accr: 1.000 | val_loss: 0.19809, val_accr: 0.930\n",
      "04110 | train_loss: 0.00020, train_accr: 1.000 | val_loss: 0.14941, val_accr: 0.950\n",
      "04120 | train_loss: 0.00032, train_accr: 1.000 | val_loss: 0.24763, val_accr: 0.930\n",
      "04130 | train_loss: 0.00028, train_accr: 1.000 | val_loss: 0.22348, val_accr: 0.930\n",
      "04140 | train_loss: 0.00074, train_accr: 1.000 | val_loss: 0.24974, val_accr: 0.925\n",
      "04150 | train_loss: 0.00033, train_accr: 1.000 | val_loss: 0.21914, val_accr: 0.940\n",
      "04160 | train_loss: 0.00028, train_accr: 1.000 | val_loss: 0.26065, val_accr: 0.930\n",
      "04170 | train_loss: 0.00029, train_accr: 1.000 | val_loss: 0.19089, val_accr: 0.945\n",
      "04180 | train_loss: 0.00016, train_accr: 1.000 | val_loss: 0.25380, val_accr: 0.935\n",
      "04190 | train_loss: 0.00032, train_accr: 1.000 | val_loss: 0.26184, val_accr: 0.925\n",
      "04200 | train_loss: 0.00018, train_accr: 1.000 | val_loss: 0.25718, val_accr: 0.940\n",
      "04210 | train_loss: 0.00030, train_accr: 1.000 | val_loss: 0.19258, val_accr: 0.930\n",
      "04220 | train_loss: 0.00028, train_accr: 1.000 | val_loss: 0.21631, val_accr: 0.930\n",
      "04230 | train_loss: 0.00018, train_accr: 1.000 | val_loss: 0.16290, val_accr: 0.940\n",
      "04240 | train_loss: 0.00021, train_accr: 1.000 | val_loss: 0.24834, val_accr: 0.925\n",
      "04250 | train_loss: 0.00022, train_accr: 1.000 | val_loss: 0.18290, val_accr: 0.940\n",
      "04260 | train_loss: 0.00036, train_accr: 1.000 | val_loss: 0.22816, val_accr: 0.935\n",
      "04270 | train_loss: 0.00016, train_accr: 1.000 | val_loss: 0.24262, val_accr: 0.915\n",
      "04280 | train_loss: 0.00017, train_accr: 1.000 | val_loss: 0.23061, val_accr: 0.940\n",
      "04290 | train_loss: 0.00009, train_accr: 1.000 | val_loss: 0.23289, val_accr: 0.935\n",
      "04300 | train_loss: 0.00030, train_accr: 1.000 | val_loss: 0.21575, val_accr: 0.935\n",
      "04310 | train_loss: 0.00017, train_accr: 1.000 | val_loss: 0.21466, val_accr: 0.940\n",
      "04320 | train_loss: 0.00027, train_accr: 1.000 | val_loss: 0.21630, val_accr: 0.930\n",
      "04330 | train_loss: 0.00027, train_accr: 1.000 | val_loss: 0.22886, val_accr: 0.920\n",
      "04340 | train_loss: 0.00013, train_accr: 1.000 | val_loss: 0.23858, val_accr: 0.925\n",
      "04350 | train_loss: 0.00012, train_accr: 1.000 | val_loss: 0.20311, val_accr: 0.940\n",
      "04360 | train_loss: 0.00022, train_accr: 1.000 | val_loss: 0.18990, val_accr: 0.945\n",
      "04370 | train_loss: 0.00021, train_accr: 1.000 | val_loss: 0.22289, val_accr: 0.925\n",
      "04380 | train_loss: 0.00015, train_accr: 1.000 | val_loss: 0.20623, val_accr: 0.930\n",
      "04390 | train_loss: 0.00016, train_accr: 1.000 | val_loss: 0.22196, val_accr: 0.935\n",
      "04400 | train_loss: 0.00015, train_accr: 1.000 | val_loss: 0.19064, val_accr: 0.935\n",
      "04410 | train_loss: 0.00022, train_accr: 1.000 | val_loss: 0.17543, val_accr: 0.940\n",
      "04420 | train_loss: 0.00021, train_accr: 1.000 | val_loss: 0.21552, val_accr: 0.925\n",
      "04430 | train_loss: 0.00017, train_accr: 1.000 | val_loss: 0.16905, val_accr: 0.945\n",
      "04440 | train_loss: 0.00012, train_accr: 1.000 | val_loss: 0.20016, val_accr: 0.935\n",
      "04450 | train_loss: 0.00018, train_accr: 1.000 | val_loss: 0.22848, val_accr: 0.940\n",
      "04460 | train_loss: 0.00021, train_accr: 1.000 | val_loss: 0.21863, val_accr: 0.935\n",
      "04470 | train_loss: 0.00015, train_accr: 1.000 | val_loss: 0.20502, val_accr: 0.955\n",
      "04480 | train_loss: 0.00017, train_accr: 1.000 | val_loss: 0.21785, val_accr: 0.930\n",
      "04490 | train_loss: 0.00010, train_accr: 1.000 | val_loss: 0.21112, val_accr: 0.945\n",
      "04500 | train_loss: 0.00019, train_accr: 1.000 | val_loss: 0.20138, val_accr: 0.930\n",
      "04510 | train_loss: 0.00015, train_accr: 1.000 | val_loss: 0.22636, val_accr: 0.925\n",
      "04520 | train_loss: 0.00024, train_accr: 1.000 | val_loss: 0.19863, val_accr: 0.935\n",
      "04530 | train_loss: 0.00017, train_accr: 1.000 | val_loss: 0.25194, val_accr: 0.930\n",
      "04540 | train_loss: 0.00013, train_accr: 1.000 | val_loss: 0.18606, val_accr: 0.955\n",
      "04550 | train_loss: 0.00019, train_accr: 1.000 | val_loss: 0.20559, val_accr: 0.935\n",
      "04560 | train_loss: 0.00022, train_accr: 1.000 | val_loss: 0.20885, val_accr: 0.925\n",
      "04570 | train_loss: 0.00013, train_accr: 1.000 | val_loss: 0.19890, val_accr: 0.940\n",
      "04580 | train_loss: 0.00027, train_accr: 1.000 | val_loss: 0.19788, val_accr: 0.945\n",
      "04590 | train_loss: 0.00011, train_accr: 1.000 | val_loss: 0.21769, val_accr: 0.935\n",
      "04600 | train_loss: 0.00013, train_accr: 1.000 | val_loss: 0.12611, val_accr: 0.960\n",
      "04610 | train_loss: 0.00017, train_accr: 1.000 | val_loss: 0.22414, val_accr: 0.930\n",
      "04620 | train_loss: 0.00015, train_accr: 1.000 | val_loss: 0.18019, val_accr: 0.935\n",
      "04630 | train_loss: 0.00022, train_accr: 1.000 | val_loss: 0.19026, val_accr: 0.940\n",
      "04640 | train_loss: 0.00012, train_accr: 1.000 | val_loss: 0.25798, val_accr: 0.915\n",
      "04650 | train_loss: 0.00014, train_accr: 1.000 | val_loss: 0.17945, val_accr: 0.965\n",
      "04660 | train_loss: 0.00018, train_accr: 1.000 | val_loss: 0.18070, val_accr: 0.935\n",
      "04670 | train_loss: 0.00019, train_accr: 1.000 | val_loss: 0.22139, val_accr: 0.930\n",
      "04680 | train_loss: 0.00017, train_accr: 1.000 | val_loss: 0.18273, val_accr: 0.935\n",
      "04690 | train_loss: 0.00013, train_accr: 1.000 | val_loss: 0.24440, val_accr: 0.920\n",
      "04700 | train_loss: 0.00012, train_accr: 1.000 | val_loss: 0.19613, val_accr: 0.935\n",
      "04710 | train_loss: 0.00012, train_accr: 1.000 | val_loss: 0.26134, val_accr: 0.925\n",
      "04720 | train_loss: 0.00019, train_accr: 1.000 | val_loss: 0.20439, val_accr: 0.930\n",
      "04730 | train_loss: 0.00025, train_accr: 1.000 | val_loss: 0.21067, val_accr: 0.940\n",
      "04740 | train_loss: 0.00013, train_accr: 1.000 | val_loss: 0.24817, val_accr: 0.930\n",
      "04750 | train_loss: 0.00013, train_accr: 1.000 | val_loss: 0.24601, val_accr: 0.935\n",
      "04760 | train_loss: 0.00011, train_accr: 1.000 | val_loss: 0.20984, val_accr: 0.935\n",
      "04770 | train_loss: 0.00015, train_accr: 1.000 | val_loss: 0.20608, val_accr: 0.935\n",
      "04780 | train_loss: 0.00021, train_accr: 1.000 | val_loss: 0.22906, val_accr: 0.925\n",
      "04790 | train_loss: 0.00010, train_accr: 1.000 | val_loss: 0.20628, val_accr: 0.940\n",
      "04800 | train_loss: 0.00010, train_accr: 1.000 | val_loss: 0.17735, val_accr: 0.945\n",
      "04810 | train_loss: 0.00021, train_accr: 1.000 | val_loss: 0.21281, val_accr: 0.940\n",
      "04820 | train_loss: 0.00009, train_accr: 1.000 | val_loss: 0.21446, val_accr: 0.945\n",
      "04830 | train_loss: 0.00006, train_accr: 1.000 | val_loss: 0.23669, val_accr: 0.930\n",
      "04840 | train_loss: 0.00016, train_accr: 1.000 | val_loss: 0.20204, val_accr: 0.930\n",
      "04850 | train_loss: 0.00011, train_accr: 1.000 | val_loss: 0.20945, val_accr: 0.935\n",
      "04860 | train_loss: 0.00014, train_accr: 1.000 | val_loss: 0.22059, val_accr: 0.950\n",
      "04870 | train_loss: 0.00020, train_accr: 1.000 | val_loss: 0.16837, val_accr: 0.940\n",
      "04880 | train_loss: 0.00018, train_accr: 1.000 | val_loss: 0.27045, val_accr: 0.920\n",
      "04890 | train_loss: 0.00012, train_accr: 1.000 | val_loss: 0.21117, val_accr: 0.940\n",
      "04900 | train_loss: 0.00009, train_accr: 1.000 | val_loss: 0.19065, val_accr: 0.940\n"
     ]
    },
    {
     "name": "stdout",
     "output_type": "stream",
     "text": [
      "04910 | train_loss: 0.00008, train_accr: 1.000 | val_loss: 0.21864, val_accr: 0.940\n",
      "04920 | train_loss: 0.00017, train_accr: 1.000 | val_loss: 0.25290, val_accr: 0.940\n",
      "04930 | train_loss: 0.00011, train_accr: 1.000 | val_loss: 0.18313, val_accr: 0.935\n",
      "04940 | train_loss: 0.00017, train_accr: 1.000 | val_loss: 0.17831, val_accr: 0.935\n",
      "04950 | train_loss: 0.00011, train_accr: 1.000 | val_loss: 0.22049, val_accr: 0.930\n",
      "04960 | train_loss: 0.00012, train_accr: 1.000 | val_loss: 0.18581, val_accr: 0.945\n",
      "04970 | train_loss: 0.00008, train_accr: 1.000 | val_loss: 0.24743, val_accr: 0.920\n",
      "04980 | train_loss: 0.00008, train_accr: 1.000 | val_loss: 0.24229, val_accr: 0.940\n",
      "04990 | train_loss: 0.00017, train_accr: 1.000 | val_loss: 0.15842, val_accr: 0.945\n",
      "05000 | train_loss: 0.00012, train_accr: 1.000 | val_loss: 0.20695, val_accr: 0.930\n"
     ]
    }
   ],
   "source": [
    "loss_history, accr_history = [], []\n",
    "val_loss_history, val_accr_history = [], []\n",
    "\n",
    "iter_i = 0\n",
    "\n",
    "while True:\n",
    "    iter_i += 1\n",
    "    \n",
    "    G_train_x, G_train_y = RandomMinibatch(G_train_X, G_train_Y, 100)\n",
    "    B_train_x, B_train_y = RandomMinibatch(B_train_X, B_train_Y, 100)\n",
    "    \n",
    "    train_x, train_y = np.vstack([G_train_x, B_train_x]), np.hstack([G_train_y, B_train_y])\n",
    "\n",
    "    train_x, train_y = shuffle(train_x, train_y)\n",
    "    \n",
    "#     train_x, train_y = train_x.to(device), train_y.to(device)\n",
    "    train_x, train_y = torch.tensor(train_x, device=device).float(), torch.tensor(train_y, device=device).long()\n",
    "    \n",
    "    output = model(train_x)\n",
    "    loss = criterion(output, train_y)\n",
    "    \n",
    "    optimizer.zero_grad()\n",
    "    loss.backward()\n",
    "    optimizer.step()\n",
    "    \n",
    "    if iter_i % 10 == 0:\n",
    "        \n",
    "        _, pred = torch.max(output, 1)\n",
    "        \n",
    "        loss_history.append(loss.tolist())\n",
    "        accr_history.append((torch.sum(pred == train_y.data).tolist() / len(train_y)))\n",
    "        \n",
    "        with torch.no_grad():\n",
    "    \n",
    "            G_valid_x, G_valid_y = RandomMinibatch(G_valid_X, G_valid_Y, 100)\n",
    "            B_valid_x, B_valid_y = RandomMinibatch(B_valid_X, B_valid_Y, 100)\n",
    "\n",
    "            valid_x, valid_y = np.vstack([G_valid_x, B_valid_x]), np.hstack([G_valid_y, B_valid_y])\n",
    "#             valid_x, valid_y = valid_x.to(device), valid_y.to(device)\n",
    "            valid_x, valid_y = torch.tensor(valid_x, device=device).float(), torch.tensor(valid_y, device=device).long()\n",
    "\n",
    "            valid_output = model(valid_x)\n",
    "            valid_loss = criterion(valid_output, valid_y)\n",
    "            \n",
    "            _, valid_pred = torch.max(valid_output, 1)\n",
    "        \n",
    "            val_loss_history.append(valid_loss.tolist())\n",
    "            val_accr_history.append((torch.sum(valid_pred == valid_y.data).tolist() / len(valid_y)))\n",
    "        \n",
    "        \n",
    "        print(\"{:05d} | train_loss: {:.5f}, train_accr: {:.3f} | val_loss: {:.5f}, val_accr: {:.3f}\".format(iter_i, \n",
    "                                                                                                            loss_history[-1], \n",
    "                                                                                                            accr_history[-1], \n",
    "                                                                                                            val_loss_history[-1], \n",
    "                                                                                                            val_accr_history[-1]))\n",
    "        \n",
    "        if iter_i >= 100:  \n",
    "#             if np.mean(val_loss_history[-5 :]) >= np.mean(val_loss_history[-10:]):\n",
    "#                 print('')\n",
    "#                 print('Early stopping!!')\n",
    "#                 print('..val_loss (avg. within 5): {:.5f} >= val_loss (avg. within 10) {:.5f}'.format(np.mean(val_loss_history[-5 :]),\n",
    "#                                                                                                   np.mean(val_loss_history[-10:])))\n",
    "                \n",
    "            if val_loss_history[-1] == np.min(val_loss_history):\n",
    "\n",
    "                now = datetime.datetime.now()\n",
    "                nowDatetime = now.strftime('%y%m%d%H%M')\n",
    "                model_name = 'AE_1_GB_{}_{:05d}_loss_{:.6f}_val_loss_{:.6f}.pt'.format(nowDatetime, iter_i, \n",
    "                                                                                     np.mean(loss_history[-3:]),\n",
    "                                                                                     np.mean(val_loss_history[-3:]))\n",
    "                torch.save(model.state_dict(), './model/3_Loc1/' + model_name)\n",
    "#                 break                   \n",
    "        if iter_i == 5000:\n",
    "            break"
   ]
  },
  {
   "cell_type": "code",
   "execution_count": 14,
   "metadata": {
    "ExecuteTime": {
     "end_time": "2020-03-27T16:05:58.435802Z",
     "start_time": "2020-03-27T16:05:57.894002Z"
    }
   },
   "outputs": [
    {
     "name": "stderr",
     "output_type": "stream",
     "text": [
      "/home/yunseob/Pytorch/lib/python3.5/site-packages/matplotlib/cbook/__init__.py:424: MatplotlibDeprecationWarning: \n",
      "Passing one of 'on', 'true', 'off', 'false' as a boolean is deprecated; use an actual boolean (True/False) instead.\n",
      "  warn_deprecated(\"2.2\", \"Passing one of 'on', 'true', 'off', 'false' as a \"\n"
     ]
    },
    {
     "data": {
      "image/png": "[encoded data removed]",
      "text/plain": [
       "<Figure size 1080x1224 with 2 Axes>"
      ]
     },
     "metadata": {
      "needs_background": "light"
     },
     "output_type": "display_data"
    }
   ],
   "source": [
    "fig = plt.figure(figsize = (15,17))\n",
    "plt.suptitle('Training History', y = 0.92, fontsize = 20)\n",
    "\n",
    "# x_axis = range(1, 10*len(accr_history)+1, 10)\n",
    "x_axis = np.arange(10, 10*len(accr_history)+1, 10)\n",
    "\n",
    "plt.subplot(2, 1, 1)\n",
    "plt.plot(x_axis, accr_history, 'b-', label = 'Training Accuracy')\n",
    "plt.plot(x_axis, val_accr_history, 'r-', label = 'Validation Accuracy')\n",
    "plt.xlabel('Iteration', fontsize = 15)\n",
    "plt.ylabel('Accuracy', fontsize = 15)\n",
    "plt.legend(fontsize = 10)\n",
    "plt.grid('on')\n",
    "plt.subplot(2, 1, 2)\n",
    "plt.plot(x_axis, loss_history, 'b-', label = 'Training Loss')\n",
    "plt.plot(x_axis, val_loss_history, 'r-', label = 'Validation Loss')\n",
    "plt.xlabel('Iteration', fontsize = 15)\n",
    "plt.ylabel('Loss', fontsize = 15)\n",
    "# plt.yticks(np.arange(0, 0.25, step=0.025))\n",
    "plt.legend(fontsize = 12)\n",
    "plt.grid('on')\n",
    "plt.show()\n",
    "\n",
    "# if save == True:\n",
    "#     fig.savefig(hist_path + filename)\n",
    "#     plt.close(fig)"
   ]
  },
  {
   "cell_type": "code",
   "execution_count": 15,
   "metadata": {
    "ExecuteTime": {
     "end_time": "2020-03-27T16:06:07.290566Z",
     "start_time": "2020-03-27T16:06:07.280204Z"
    }
   },
   "outputs": [],
   "source": [
    "np.save('./results/0_train_hist/npy/AE_1_GB_accr_history', accr_history)\n",
    "np.save('./results/0_train_hist/npy/AE_1_GB_val_accr_history', val_accr_history)\n",
    "np.save('./results/0_train_hist/npy/AE_1_GB_loss_history', loss_history)\n",
    "np.save('./results/0_train_hist/npy/AE_1_GB_val_loss_history', val_loss_history)"
   ]
  }
 ],
 "metadata": {
  "hide_input": false,
  "kernelspec": {
   "display_name": "Pytorch",
   "language": "python",
   "name": "pytorch"
  },
  "language_info": {
   "codemirror_mode": {
    "name": "ipython",
    "version": 3
   },
   "file_extension": ".py",
   "mimetype": "text/x-python",
   "name": "python",
   "nbconvert_exporter": "python",
   "pygments_lexer": "ipython3",
   "version": "3.5.2"
  },
  "toc": {
   "base_numbering": 1,
   "nav_menu": {},
   "number_sections": true,
   "sideBar": true,
   "skip_h1_title": false,
   "title_cell": "Table of Contents",
   "title_sidebar": "Contents",
   "toc_cell": false,
   "toc_position": {},
   "toc_section_display": true,
   "toc_window_display": false
  }
 },
 "nbformat": 4,
 "nbformat_minor": 2
}
