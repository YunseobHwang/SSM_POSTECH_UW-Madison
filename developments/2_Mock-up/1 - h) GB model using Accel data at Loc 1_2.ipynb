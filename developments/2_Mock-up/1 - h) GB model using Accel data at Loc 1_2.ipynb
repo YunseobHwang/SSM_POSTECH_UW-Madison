{
 "cells": [
  {
   "cell_type": "code",
   "execution_count": 1,
   "metadata": {
    "ExecuteTime": {
     "end_time": "2020-03-27T16:06:52.874111Z",
     "start_time": "2020-03-27T16:06:52.270289Z"
    }
   },
   "outputs": [],
   "source": [
    "import numpy as np\n",
    "import matplotlib.pyplot as plt\n",
    "%matplotlib inline\n",
    "\n",
    "import os\n",
    "import time, datetime\n",
    "\n",
    "import torch\n",
    "from torch import nn\n",
    "from torch.nn import functional as F\n",
    "from torchsummary import summary"
   ]
  },
  {
   "cell_type": "code",
   "execution_count": 2,
   "metadata": {
    "ExecuteTime": {
     "end_time": "2020-03-27T16:06:58.370950Z",
     "start_time": "2020-03-27T16:06:52.876303Z"
    }
   },
   "outputs": [],
   "source": [
    "device = torch.device(\"cuda:3\" if torch.cuda.is_available() else \"cpu\")"
   ]
  },
  {
   "cell_type": "markdown",
   "metadata": {},
   "source": [
    "# Load Data"
   ]
  },
  {
   "cell_type": "code",
   "execution_count": 3,
   "metadata": {
    "ExecuteTime": {
     "end_time": "2020-03-27T16:06:58.379630Z",
     "start_time": "2020-03-27T16:06:58.374184Z"
    }
   },
   "outputs": [],
   "source": [
    "def GBdataLoad2(data_dir, phase = 'train', data = 'AE'):\n",
    "    for i in os.listdir(data_dir):\n",
    "        if 'good' in i and phase in i and data in i:\n",
    "            G_train_X = np.load(os.path.join(data_dir, i))\n",
    "        elif 'bad' in i and phase in i and data in i:\n",
    "            B_train_X = np.load(os.path.join(data_dir, i))\n",
    "            \n",
    "    def add_ch(img):\n",
    "        \"\"\"\n",
    "        (sample #, height, width,) -> (sample #, height, width, channel)\n",
    "        \"\"\"\n",
    "        return np.expand_dims(img, axis = -1)\n",
    "\n",
    "    return add_ch(G_train_X), add_ch(B_train_X)"
   ]
  },
  {
   "cell_type": "code",
   "execution_count": 4,
   "metadata": {
    "ExecuteTime": {
     "end_time": "2020-03-27T16:06:58.786878Z",
     "start_time": "2020-03-27T16:06:58.775788Z"
    }
   },
   "outputs": [
    {
     "data": {
      "text/plain": [
       "['bad_die_accel_test.npy',\n",
       " 'bad_die_accel_train.npy',\n",
       " 'bad_die_AE_test.npy',\n",
       " 'bad_die_AE_train.npy',\n",
       " 'good_die_accel_test.npy',\n",
       " 'good_die_accel_train.npy',\n",
       " 'good_die_AE_test.npy',\n",
       " 'good_die_AE_train.npy']"
      ]
     },
     "execution_count": 4,
     "metadata": {},
     "output_type": "execute_result"
    }
   ],
   "source": [
    "data_dir = '/mnt/disk2/data/private_data/SSM/2_Mockup/1_AE_Accel_Data/3_Loc1_2'\n",
    "os.listdir(data_dir)"
   ]
  },
  {
   "cell_type": "code",
   "execution_count": 6,
   "metadata": {
    "ExecuteTime": {
     "end_time": "2020-03-27T16:07:07.413637Z",
     "start_time": "2020-03-27T16:07:07.379893Z"
    }
   },
   "outputs": [
    {
     "data": {
      "text/plain": [
       "((1224, 40, 40, 1), (1028, 40, 40, 1))"
      ]
     },
     "execution_count": 6,
     "metadata": {},
     "output_type": "execute_result"
    }
   ],
   "source": [
    "G_train_X, B_train_X = GBdataLoad2(data_dir, phase = 'train', data = 'accel')\n",
    "G_train_X.shape, B_train_X.shape"
   ]
  },
  {
   "cell_type": "code",
   "execution_count": 7,
   "metadata": {
    "ExecuteTime": {
     "end_time": "2020-03-27T16:07:09.602463Z",
     "start_time": "2020-03-27T16:07:09.591411Z"
    }
   },
   "outputs": [
    {
     "data": {
      "text/plain": [
       "((1224, 1, 40, 40), (1028, 1, 40, 40))"
      ]
     },
     "execution_count": 7,
     "metadata": {},
     "output_type": "execute_result"
    }
   ],
   "source": [
    "def input_for_Pytorch(img):\n",
    "    \"\"\"\n",
    "    (sample #, height, width, channel) -> (sample #, channel, height, width)\n",
    "    \"\"\"\n",
    "    img = np.transpose(img, (0, 3, 1, 2))\n",
    "    return img\n",
    "\n",
    "G_train_X = input_for_Pytorch(G_train_X)\n",
    "B_train_X = input_for_Pytorch(B_train_X)\n",
    "\n",
    "G_train_X.shape, B_train_X.shape"
   ]
  },
  {
   "cell_type": "code",
   "execution_count": 8,
   "metadata": {
    "ExecuteTime": {
     "end_time": "2020-03-27T16:07:09.744240Z",
     "start_time": "2020-03-27T16:07:09.732693Z"
    }
   },
   "outputs": [
    {
     "data": {
      "text/plain": [
       "((1224, 1, 40, 40), (1224,), (1028, 1, 40, 40), (1028,))"
      ]
     },
     "execution_count": 8,
     "metadata": {},
     "output_type": "execute_result"
    }
   ],
   "source": [
    "def CreateLabel(data, cls):\n",
    "    label = cls*np.ones([data.shape[0]])\n",
    "    return label\n",
    "\n",
    "G_train_Y, B_train_Y = CreateLabel(G_train_X, 0), CreateLabel(B_train_X, 1)\n",
    "\n",
    "G_train_X.shape, G_train_Y.shape, B_train_X.shape, B_train_Y.shape"
   ]
  },
  {
   "cell_type": "code",
   "execution_count": 9,
   "metadata": {
    "ExecuteTime": {
     "end_time": "2020-03-27T16:07:10.620153Z",
     "start_time": "2020-03-27T16:07:10.586555Z"
    }
   },
   "outputs": [
    {
     "name": "stdout",
     "output_type": "stream",
     "text": [
      "Training: (1101, 1, 40, 40) (1101,) (925, 1, 40, 40) (925,)\n",
      "Validation: (123, 1, 40, 40) (123,) (103, 1, 40, 40) (103,)\n"
     ]
    }
   ],
   "source": [
    "def train_valid_split(data, label, rate_t_v = 0.9):\n",
    "    data_num = len(data)\n",
    "    train_idx = np.random.choice(data_num, int(rate_t_v*data_num), replace = False)\n",
    "    valid_idx = np.setdiff1d(np.arange(data_num), train_idx)\n",
    "    return data[train_idx], label[train_idx], data[valid_idx], label[valid_idx]\n",
    "\n",
    "G_train_X, G_train_Y, G_valid_X, G_valid_Y = train_valid_split(G_train_X, G_train_Y)\n",
    "B_train_X, B_train_Y, B_valid_X, B_valid_Y = train_valid_split(B_train_X, B_train_Y)\n",
    "\n",
    "print(\"Training:\", G_train_X.shape, G_train_Y.shape, B_train_X.shape, B_train_Y.shape)\n",
    "print(\"Validation:\", G_valid_X.shape, G_valid_Y.shape, B_valid_X.shape, B_valid_Y.shape)"
   ]
  },
  {
   "cell_type": "markdown",
   "metadata": {},
   "source": [
    "# Model"
   ]
  },
  {
   "cell_type": "code",
   "execution_count": 10,
   "metadata": {
    "ExecuteTime": {
     "end_time": "2020-03-27T16:07:11.692019Z",
     "start_time": "2020-03-27T16:07:11.666045Z"
    }
   },
   "outputs": [],
   "source": [
    "class ConvNet(nn.Module):\n",
    "    def __init__(self):\n",
    "        super().__init__()\n",
    "        # RGB세개 1채널, 20개 특징 추출, filter 크기, stride 1\n",
    "        self.conv1_1 = nn.Conv2d(1, 64, 3, 1, padding=1)\n",
    "        self.conv1_2 = nn.Conv2d(64, 64, 3, 1, padding=1)\n",
    "        self.conv1_bn = nn.BatchNorm2d(64)\n",
    "        \n",
    "        self.conv2_1 = nn.Conv2d(64, 64, 3, 1, padding=1)\n",
    "        self.conv2_2 = nn.Conv2d(64, 64, 3, 1, padding=1)\n",
    "        self.conv2_bn = nn.BatchNorm2d(64)\n",
    "        \n",
    "        self.conv3_1 = nn.Conv2d(64, 64, 3, 1, padding=1)\n",
    "        self.conv3_2 = nn.Conv2d(64, 64, 3, 1, padding=1)\n",
    "        self.conv3_bn = nn.BatchNorm2d(64)\n",
    "        \n",
    "        self.conv4_1 = nn.Conv2d(64, 64, 3, 1, padding=1)\n",
    "        self.conv4_2 = nn.Conv2d(64, 64, 3, 1, padding=1)\n",
    "        self.conv4_bn = nn.BatchNorm2d(64)\n",
    "        \n",
    "        self.dense1 = nn.Linear(2*2*64, 128)\n",
    "        # 0.5 가 권장 할 만하대\n",
    "        self.dropout1 = nn.Dropout(0.5)\n",
    "        self.dense2 = nn.Linear(128, 2)  \n",
    "        \n",
    "    def forward(self, x):\n",
    "        x = F.relu(self.conv1_1(x))\n",
    "        x = F.relu(self.conv1_bn(self.conv1_2(x)))\n",
    "        x = F.max_pool2d(x, 2, 2)\n",
    "        x = F.relu(self.conv2_1(x))\n",
    "        x = F.relu(self.conv2_bn(self.conv2_2(x)))\n",
    "        x = F.max_pool2d(x, 2, 2)\n",
    "        x = F.relu(self.conv3_1(x))\n",
    "        x = F.relu(self.conv3_bn(self.conv3_2(x)))\n",
    "        x = F.max_pool2d(x, 2, 2)\n",
    "        x = F.relu(self.conv4_1(x))\n",
    "        x = F.relu(self.conv4_bn(self.conv4_2(x)))\n",
    "        x = F.max_pool2d(x, 2, 2)\n",
    "        # flatten\n",
    "        x = x.view(-1, 2*2*64)\n",
    "        x = F.relu(self.dense1(x))\n",
    "        x = self.dropout1(x)\n",
    "        x = self.dense2(x)\n",
    "        return x"
   ]
  },
  {
   "cell_type": "code",
   "execution_count": 11,
   "metadata": {
    "ExecuteTime": {
     "end_time": "2020-03-27T16:07:17.140343Z",
     "start_time": "2020-03-27T16:07:12.907691Z"
    }
   },
   "outputs": [
    {
     "name": "stdout",
     "output_type": "stream",
     "text": [
      "----------------------------------------------------------------\n",
      "        Layer (type)               Output Shape         Param #\n",
      "================================================================\n",
      "            Conv2d-1           [-1, 64, 40, 40]             640\n",
      "            Conv2d-2           [-1, 64, 40, 40]          36,928\n",
      "       BatchNorm2d-3           [-1, 64, 40, 40]             128\n",
      "            Conv2d-4           [-1, 64, 20, 20]          36,928\n",
      "            Conv2d-5           [-1, 64, 20, 20]          36,928\n",
      "       BatchNorm2d-6           [-1, 64, 20, 20]             128\n",
      "            Conv2d-7           [-1, 64, 10, 10]          36,928\n",
      "            Conv2d-8           [-1, 64, 10, 10]          36,928\n",
      "       BatchNorm2d-9           [-1, 64, 10, 10]             128\n",
      "           Conv2d-10             [-1, 64, 5, 5]          36,928\n",
      "           Conv2d-11             [-1, 64, 5, 5]          36,928\n",
      "      BatchNorm2d-12             [-1, 64, 5, 5]             128\n",
      "           Linear-13                  [-1, 128]          32,896\n",
      "          Dropout-14                  [-1, 128]               0\n",
      "           Linear-15                    [-1, 2]             258\n",
      "          ConvNet-16                    [-1, 2]               0\n",
      "================================================================\n",
      "Total params: 292,802\n",
      "Trainable params: 292,802\n",
      "Non-trainable params: 0\n",
      "----------------------------------------------------------------\n",
      "Input size (MB): 0.01\n",
      "Forward/backward pass size (MB): 3.11\n",
      "Params size (MB): 1.12\n",
      "Estimated Total Size (MB): 4.24\n",
      "----------------------------------------------------------------\n",
      "\n"
     ]
    },
    {
     "data": {
      "text/plain": [
       "(tensor(292802), tensor(292802))"
      ]
     },
     "execution_count": 11,
     "metadata": {},
     "output_type": "execute_result"
    }
   ],
   "source": [
    "model = ConvNet()\n",
    "# model = model.cuda()\n",
    "model = model.to(device)\n",
    "# if device == 'cuda':\n",
    "#     net = torch.nn.DataParallel(net)\n",
    "#     cudnn.benchmark = True\n",
    "criterion = nn.CrossEntropyLoss()\n",
    "optimizer = torch.optim.Adam(model.parameters(), lr=0.00001)\n",
    "\n",
    "summary(model, (1, 40, 40), device = device)"
   ]
  },
  {
   "cell_type": "markdown",
   "metadata": {},
   "source": [
    "# Training"
   ]
  },
  {
   "cell_type": "code",
   "execution_count": 12,
   "metadata": {
    "ExecuteTime": {
     "end_time": "2020-03-27T16:07:17.152554Z",
     "start_time": "2020-03-27T16:07:17.142369Z"
    }
   },
   "outputs": [
    {
     "name": "stdout",
     "output_type": "stream",
     "text": [
      "Training: (100, 1, 40, 40) (100,) (100, 1, 40, 40) (100,)\n",
      "Validation: (100, 1, 40, 40) (100,) (100, 1, 40, 40) (100,)\n"
     ]
    }
   ],
   "source": [
    "def RandomMinibatch(data, label, n_batch = 100):\n",
    "    batch_idx = np.random.choice(len(data), n_batch, replace = False)\n",
    "    return data[batch_idx], label[batch_idx]\n",
    "\n",
    "G_train_x, G_train_y = RandomMinibatch(G_train_X, G_train_Y, 100)\n",
    "B_train_x, B_train_y = RandomMinibatch(B_train_X, B_train_Y, 100)\n",
    "\n",
    "G_valid_x, G_valid_y = RandomMinibatch(G_valid_X, G_valid_Y, 100)\n",
    "B_valid_x, B_valid_y = RandomMinibatch(B_valid_X, B_valid_Y, 100)\n",
    "\n",
    "print(\"Training:\", G_train_x.shape, G_train_y.shape, B_train_x.shape, B_train_y.shape)\n",
    "print(\"Validation:\", G_valid_x.shape, G_valid_y.shape, B_valid_x.shape, B_valid_y.shape)"
   ]
  },
  {
   "cell_type": "code",
   "execution_count": 13,
   "metadata": {
    "ExecuteTime": {
     "end_time": "2020-03-27T16:07:17.164676Z",
     "start_time": "2020-03-27T16:07:17.154303Z"
    }
   },
   "outputs": [
    {
     "name": "stdout",
     "output_type": "stream",
     "text": [
      "Training (200, 1, 40, 40) (200,)\n"
     ]
    }
   ],
   "source": [
    "def shuffle(x, y):\n",
    "    \"\"\"\n",
    "    random shuffle of two paired data -> x, y = shuffle(x, y)\n",
    "    but, available of one data -> x = shuffle(x, None)\n",
    "    \"\"\"\n",
    "    idx = np.arange(len(x))\n",
    "    np.random.shuffle(idx)\n",
    "    if type(x) == type(y):\n",
    "        return x[idx], y[idx] \n",
    "    else:\n",
    "        return x[idx]\n",
    "    \n",
    "G_train_x, G_train_y = RandomMinibatch(G_train_X, G_train_Y, 100)\n",
    "B_train_x, B_train_y = RandomMinibatch(B_train_X, B_train_Y, 100)\n",
    "    \n",
    "train_x, train_y = np.vstack([G_train_x, B_train_x]), np.hstack([G_train_y, B_train_y])\n",
    "train_x, train_y = shuffle(train_x, train_y)\n",
    "\n",
    "print(\"Training\", train_x.shape, train_y.shape)"
   ]
  },
  {
   "cell_type": "code",
   "execution_count": 14,
   "metadata": {
    "ExecuteTime": {
     "end_time": "2020-03-27T16:10:03.242603Z",
     "start_time": "2020-03-27T16:07:20.946159Z"
    },
    "scrolled": false
   },
   "outputs": [
    {
     "name": "stdout",
     "output_type": "stream",
     "text": [
      "00010 | train_loss: 0.65724, train_accr: 0.615 | val_loss: 0.64187, val_accr: 0.590\n",
      "00020 | train_loss: 0.60600, train_accr: 0.625 | val_loss: 0.58091, val_accr: 0.685\n",
      "00030 | train_loss: 0.54156, train_accr: 0.720 | val_loss: 0.55456, val_accr: 0.720\n",
      "00040 | train_loss: 0.54301, train_accr: 0.740 | val_loss: 0.53592, val_accr: 0.715\n",
      "00050 | train_loss: 0.50022, train_accr: 0.765 | val_loss: 0.50807, val_accr: 0.730\n",
      "00060 | train_loss: 0.47687, train_accr: 0.830 | val_loss: 0.48146, val_accr: 0.825\n",
      "00070 | train_loss: 0.49986, train_accr: 0.780 | val_loss: 0.48819, val_accr: 0.785\n",
      "00080 | train_loss: 0.47844, train_accr: 0.815 | val_loss: 0.46200, val_accr: 0.815\n",
      "00090 | train_loss: 0.44329, train_accr: 0.830 | val_loss: 0.43243, val_accr: 0.835\n",
      "00100 | train_loss: 0.41781, train_accr: 0.880 | val_loss: 0.42365, val_accr: 0.860\n",
      "00110 | train_loss: 0.44402, train_accr: 0.810 | val_loss: 0.42737, val_accr: 0.845\n",
      "00120 | train_loss: 0.37527, train_accr: 0.890 | val_loss: 0.41368, val_accr: 0.845\n",
      "00130 | train_loss: 0.37853, train_accr: 0.875 | val_loss: 0.37086, val_accr: 0.885\n",
      "00140 | train_loss: 0.30222, train_accr: 0.925 | val_loss: 0.37929, val_accr: 0.865\n",
      "00150 | train_loss: 0.32932, train_accr: 0.910 | val_loss: 0.36917, val_accr: 0.875\n",
      "00160 | train_loss: 0.35338, train_accr: 0.875 | val_loss: 0.35296, val_accr: 0.870\n",
      "00170 | train_loss: 0.30268, train_accr: 0.915 | val_loss: 0.36770, val_accr: 0.860\n",
      "00180 | train_loss: 0.35751, train_accr: 0.870 | val_loss: 0.31840, val_accr: 0.875\n",
      "00190 | train_loss: 0.34605, train_accr: 0.875 | val_loss: 0.32405, val_accr: 0.875\n",
      "00200 | train_loss: 0.29043, train_accr: 0.910 | val_loss: 0.33066, val_accr: 0.880\n",
      "00210 | train_loss: 0.30541, train_accr: 0.915 | val_loss: 0.29764, val_accr: 0.905\n",
      "00220 | train_loss: 0.27068, train_accr: 0.920 | val_loss: 0.31016, val_accr: 0.880\n",
      "00230 | train_loss: 0.27265, train_accr: 0.915 | val_loss: 0.29612, val_accr: 0.895\n",
      "00240 | train_loss: 0.25065, train_accr: 0.900 | val_loss: 0.30778, val_accr: 0.885\n",
      "00250 | train_loss: 0.23991, train_accr: 0.925 | val_loss: 0.27487, val_accr: 0.895\n",
      "00260 | train_loss: 0.23437, train_accr: 0.930 | val_loss: 0.26894, val_accr: 0.910\n",
      "00270 | train_loss: 0.24474, train_accr: 0.930 | val_loss: 0.27499, val_accr: 0.905\n",
      "00280 | train_loss: 0.19900, train_accr: 0.955 | val_loss: 0.24067, val_accr: 0.915\n",
      "00290 | train_loss: 0.18867, train_accr: 0.925 | val_loss: 0.23885, val_accr: 0.925\n",
      "00300 | train_loss: 0.18726, train_accr: 0.955 | val_loss: 0.23788, val_accr: 0.930\n",
      "00310 | train_loss: 0.18134, train_accr: 0.960 | val_loss: 0.22798, val_accr: 0.925\n",
      "00320 | train_loss: 0.14919, train_accr: 0.980 | val_loss: 0.19920, val_accr: 0.925\n",
      "00330 | train_loss: 0.16051, train_accr: 0.960 | val_loss: 0.17863, val_accr: 0.940\n",
      "00340 | train_loss: 0.12676, train_accr: 0.985 | val_loss: 0.18059, val_accr: 0.950\n",
      "00350 | train_loss: 0.16310, train_accr: 0.950 | val_loss: 0.17087, val_accr: 0.950\n",
      "00360 | train_loss: 0.13665, train_accr: 0.970 | val_loss: 0.15912, val_accr: 0.955\n",
      "00370 | train_loss: 0.15498, train_accr: 0.960 | val_loss: 0.15013, val_accr: 0.960\n",
      "00380 | train_loss: 0.13559, train_accr: 0.965 | val_loss: 0.13901, val_accr: 0.965\n",
      "00390 | train_loss: 0.07958, train_accr: 0.980 | val_loss: 0.14078, val_accr: 0.960\n",
      "00400 | train_loss: 0.09101, train_accr: 0.980 | val_loss: 0.13377, val_accr: 0.970\n",
      "00410 | train_loss: 0.06597, train_accr: 0.995 | val_loss: 0.12136, val_accr: 0.970\n",
      "00420 | train_loss: 0.08600, train_accr: 0.980 | val_loss: 0.10621, val_accr: 0.970\n",
      "00430 | train_loss: 0.08336, train_accr: 0.985 | val_loss: 0.10756, val_accr: 0.975\n",
      "00440 | train_loss: 0.07550, train_accr: 0.990 | val_loss: 0.11190, val_accr: 0.965\n",
      "00450 | train_loss: 0.07409, train_accr: 0.990 | val_loss: 0.10737, val_accr: 0.970\n",
      "00460 | train_loss: 0.08190, train_accr: 0.985 | val_loss: 0.09772, val_accr: 0.975\n",
      "00470 | train_loss: 0.09625, train_accr: 0.960 | val_loss: 0.09239, val_accr: 0.975\n",
      "00480 | train_loss: 0.04505, train_accr: 0.990 | val_loss: 0.09793, val_accr: 0.965\n",
      "00490 | train_loss: 0.05242, train_accr: 0.990 | val_loss: 0.08645, val_accr: 0.970\n",
      "00500 | train_loss: 0.05875, train_accr: 0.980 | val_loss: 0.09284, val_accr: 0.970\n",
      "00510 | train_loss: 0.05183, train_accr: 0.995 | val_loss: 0.08524, val_accr: 0.975\n",
      "00520 | train_loss: 0.05811, train_accr: 0.990 | val_loss: 0.08189, val_accr: 0.980\n",
      "00530 | train_loss: 0.03701, train_accr: 1.000 | val_loss: 0.08243, val_accr: 0.980\n",
      "00540 | train_loss: 0.04711, train_accr: 0.990 | val_loss: 0.06205, val_accr: 0.980\n",
      "00550 | train_loss: 0.04481, train_accr: 0.995 | val_loss: 0.06913, val_accr: 0.985\n",
      "00560 | train_loss: 0.02349, train_accr: 1.000 | val_loss: 0.08824, val_accr: 0.975\n",
      "00570 | train_loss: 0.04307, train_accr: 0.985 | val_loss: 0.07155, val_accr: 0.975\n",
      "00580 | train_loss: 0.02582, train_accr: 0.995 | val_loss: 0.06949, val_accr: 0.975\n",
      "00590 | train_loss: 0.02093, train_accr: 1.000 | val_loss: 0.06391, val_accr: 0.980\n",
      "00600 | train_loss: 0.03881, train_accr: 0.985 | val_loss: 0.06953, val_accr: 0.975\n",
      "00610 | train_loss: 0.04655, train_accr: 0.990 | val_loss: 0.05066, val_accr: 0.990\n",
      "00620 | train_loss: 0.02780, train_accr: 1.000 | val_loss: 0.07611, val_accr: 0.975\n",
      "00630 | train_loss: 0.02793, train_accr: 0.990 | val_loss: 0.06079, val_accr: 0.975\n",
      "00640 | train_loss: 0.02171, train_accr: 0.995 | val_loss: 0.06588, val_accr: 0.980\n",
      "00650 | train_loss: 0.01634, train_accr: 1.000 | val_loss: 0.05604, val_accr: 0.980\n",
      "00660 | train_loss: 0.02173, train_accr: 1.000 | val_loss: 0.06450, val_accr: 0.980\n",
      "00670 | train_loss: 0.01958, train_accr: 1.000 | val_loss: 0.05319, val_accr: 0.985\n",
      "00680 | train_loss: 0.02198, train_accr: 1.000 | val_loss: 0.06007, val_accr: 0.975\n",
      "00690 | train_loss: 0.01397, train_accr: 1.000 | val_loss: 0.05750, val_accr: 0.980\n",
      "00700 | train_loss: 0.01658, train_accr: 1.000 | val_loss: 0.05438, val_accr: 0.990\n",
      "00710 | train_loss: 0.01391, train_accr: 1.000 | val_loss: 0.05437, val_accr: 0.985\n",
      "00720 | train_loss: 0.01454, train_accr: 1.000 | val_loss: 0.04278, val_accr: 0.990\n",
      "00730 | train_loss: 0.01712, train_accr: 1.000 | val_loss: 0.04053, val_accr: 0.990\n",
      "00740 | train_loss: 0.01580, train_accr: 1.000 | val_loss: 0.03818, val_accr: 0.995\n",
      "00750 | train_loss: 0.01271, train_accr: 1.000 | val_loss: 0.03954, val_accr: 0.995\n",
      "00760 | train_loss: 0.01044, train_accr: 1.000 | val_loss: 0.04728, val_accr: 0.985\n",
      "00770 | train_loss: 0.01343, train_accr: 1.000 | val_loss: 0.05517, val_accr: 0.980\n",
      "00780 | train_loss: 0.01256, train_accr: 1.000 | val_loss: 0.04299, val_accr: 0.995\n",
      "00790 | train_loss: 0.01367, train_accr: 1.000 | val_loss: 0.04545, val_accr: 0.985\n",
      "00800 | train_loss: 0.00810, train_accr: 1.000 | val_loss: 0.06039, val_accr: 0.985\n",
      "00810 | train_loss: 0.01216, train_accr: 1.000 | val_loss: 0.04723, val_accr: 0.985\n",
      "00820 | train_loss: 0.00727, train_accr: 1.000 | val_loss: 0.05586, val_accr: 0.980\n",
      "00830 | train_loss: 0.00828, train_accr: 1.000 | val_loss: 0.04031, val_accr: 0.990\n",
      "00840 | train_loss: 0.00614, train_accr: 1.000 | val_loss: 0.03287, val_accr: 0.990\n",
      "00850 | train_loss: 0.00836, train_accr: 1.000 | val_loss: 0.05028, val_accr: 0.980\n",
      "00860 | train_loss: 0.00746, train_accr: 1.000 | val_loss: 0.04876, val_accr: 0.980\n",
      "00870 | train_loss: 0.00643, train_accr: 1.000 | val_loss: 0.04325, val_accr: 0.985\n",
      "00880 | train_loss: 0.00697, train_accr: 1.000 | val_loss: 0.04045, val_accr: 0.980\n",
      "00890 | train_loss: 0.00773, train_accr: 1.000 | val_loss: 0.04225, val_accr: 0.980\n",
      "00900 | train_loss: 0.00641, train_accr: 1.000 | val_loss: 0.06749, val_accr: 0.975\n",
      "00910 | train_loss: 0.00787, train_accr: 1.000 | val_loss: 0.03464, val_accr: 0.980\n",
      "00920 | train_loss: 0.00650, train_accr: 1.000 | val_loss: 0.04702, val_accr: 0.990\n",
      "00930 | train_loss: 0.00747, train_accr: 1.000 | val_loss: 0.05625, val_accr: 0.980\n",
      "00940 | train_loss: 0.00416, train_accr: 1.000 | val_loss: 0.04710, val_accr: 0.980\n",
      "00950 | train_loss: 0.00581, train_accr: 1.000 | val_loss: 0.04802, val_accr: 0.985\n",
      "00960 | train_loss: 0.00479, train_accr: 1.000 | val_loss: 0.04195, val_accr: 0.985\n",
      "00970 | train_loss: 0.00524, train_accr: 1.000 | val_loss: 0.04590, val_accr: 0.980\n",
      "00980 | train_loss: 0.00504, train_accr: 1.000 | val_loss: 0.03927, val_accr: 0.985\n"
     ]
    },
    {
     "name": "stdout",
     "output_type": "stream",
     "text": [
      "00990 | train_loss: 0.00444, train_accr: 1.000 | val_loss: 0.03748, val_accr: 0.980\n",
      "01000 | train_loss: 0.00408, train_accr: 1.000 | val_loss: 0.05200, val_accr: 0.985\n",
      "01010 | train_loss: 0.00556, train_accr: 1.000 | val_loss: 0.05087, val_accr: 0.980\n",
      "01020 | train_loss: 0.00445, train_accr: 1.000 | val_loss: 0.03607, val_accr: 0.990\n",
      "01030 | train_loss: 0.00574, train_accr: 1.000 | val_loss: 0.04811, val_accr: 0.980\n",
      "01040 | train_loss: 0.00357, train_accr: 1.000 | val_loss: 0.03770, val_accr: 0.990\n",
      "01050 | train_loss: 0.00598, train_accr: 1.000 | val_loss: 0.05226, val_accr: 0.980\n",
      "01060 | train_loss: 0.00513, train_accr: 1.000 | val_loss: 0.04873, val_accr: 0.985\n",
      "01070 | train_loss: 0.00456, train_accr: 1.000 | val_loss: 0.04731, val_accr: 0.985\n",
      "01080 | train_loss: 0.00420, train_accr: 1.000 | val_loss: 0.04380, val_accr: 0.985\n",
      "01090 | train_loss: 0.00336, train_accr: 1.000 | val_loss: 0.04401, val_accr: 0.985\n",
      "01100 | train_loss: 0.00536, train_accr: 1.000 | val_loss: 0.04449, val_accr: 0.990\n",
      "01110 | train_loss: 0.00304, train_accr: 1.000 | val_loss: 0.04959, val_accr: 0.975\n",
      "01120 | train_loss: 0.00401, train_accr: 1.000 | val_loss: 0.05369, val_accr: 0.980\n",
      "01130 | train_loss: 0.00250, train_accr: 1.000 | val_loss: 0.04524, val_accr: 0.980\n",
      "01140 | train_loss: 0.00364, train_accr: 1.000 | val_loss: 0.05512, val_accr: 0.975\n",
      "01150 | train_loss: 0.00420, train_accr: 1.000 | val_loss: 0.03551, val_accr: 0.985\n",
      "01160 | train_loss: 0.00356, train_accr: 1.000 | val_loss: 0.05013, val_accr: 0.975\n",
      "01170 | train_loss: 0.00305, train_accr: 1.000 | val_loss: 0.03337, val_accr: 0.990\n",
      "01180 | train_loss: 0.00251, train_accr: 1.000 | val_loss: 0.03395, val_accr: 0.985\n",
      "01190 | train_loss: 0.00420, train_accr: 1.000 | val_loss: 0.04817, val_accr: 0.985\n",
      "01200 | train_loss: 0.00276, train_accr: 1.000 | val_loss: 0.05585, val_accr: 0.980\n",
      "01210 | train_loss: 0.00258, train_accr: 1.000 | val_loss: 0.05619, val_accr: 0.985\n",
      "01220 | train_loss: 0.00295, train_accr: 1.000 | val_loss: 0.04751, val_accr: 0.985\n",
      "01230 | train_loss: 0.00281, train_accr: 1.000 | val_loss: 0.04895, val_accr: 0.980\n",
      "01240 | train_loss: 0.00246, train_accr: 1.000 | val_loss: 0.03919, val_accr: 0.985\n",
      "01250 | train_loss: 0.00363, train_accr: 1.000 | val_loss: 0.03087, val_accr: 0.985\n",
      "01260 | train_loss: 0.00317, train_accr: 1.000 | val_loss: 0.05345, val_accr: 0.980\n",
      "01270 | train_loss: 0.00234, train_accr: 1.000 | val_loss: 0.05346, val_accr: 0.985\n",
      "01280 | train_loss: 0.00245, train_accr: 1.000 | val_loss: 0.04726, val_accr: 0.980\n",
      "01290 | train_loss: 0.00256, train_accr: 1.000 | val_loss: 0.04316, val_accr: 0.985\n",
      "01300 | train_loss: 0.00204, train_accr: 1.000 | val_loss: 0.04264, val_accr: 0.985\n",
      "01310 | train_loss: 0.00251, train_accr: 1.000 | val_loss: 0.05608, val_accr: 0.980\n",
      "01320 | train_loss: 0.00220, train_accr: 1.000 | val_loss: 0.03354, val_accr: 0.990\n",
      "01330 | train_loss: 0.00280, train_accr: 1.000 | val_loss: 0.02478, val_accr: 0.990\n",
      "01340 | train_loss: 0.00217, train_accr: 1.000 | val_loss: 0.05004, val_accr: 0.970\n",
      "01350 | train_loss: 0.00275, train_accr: 1.000 | val_loss: 0.04411, val_accr: 0.985\n",
      "01360 | train_loss: 0.00214, train_accr: 1.000 | val_loss: 0.04605, val_accr: 0.990\n",
      "01370 | train_loss: 0.00182, train_accr: 1.000 | val_loss: 0.04953, val_accr: 0.975\n",
      "01380 | train_loss: 0.00267, train_accr: 1.000 | val_loss: 0.05981, val_accr: 0.980\n",
      "01390 | train_loss: 0.00168, train_accr: 1.000 | val_loss: 0.05721, val_accr: 0.980\n",
      "01400 | train_loss: 0.00226, train_accr: 1.000 | val_loss: 0.03616, val_accr: 0.985\n",
      "01410 | train_loss: 0.00262, train_accr: 1.000 | val_loss: 0.04463, val_accr: 0.985\n",
      "01420 | train_loss: 0.00160, train_accr: 1.000 | val_loss: 0.03557, val_accr: 0.985\n",
      "01430 | train_loss: 0.00154, train_accr: 1.000 | val_loss: 0.04099, val_accr: 0.985\n",
      "01440 | train_loss: 0.00219, train_accr: 1.000 | val_loss: 0.03582, val_accr: 0.990\n",
      "01450 | train_loss: 0.00173, train_accr: 1.000 | val_loss: 0.03724, val_accr: 0.985\n",
      "01460 | train_loss: 0.00232, train_accr: 1.000 | val_loss: 0.04067, val_accr: 0.985\n",
      "01470 | train_loss: 0.00201, train_accr: 1.000 | val_loss: 0.04129, val_accr: 0.990\n",
      "01480 | train_loss: 0.00148, train_accr: 1.000 | val_loss: 0.03977, val_accr: 0.985\n",
      "01490 | train_loss: 0.00241, train_accr: 1.000 | val_loss: 0.03789, val_accr: 0.985\n",
      "01500 | train_loss: 0.00160, train_accr: 1.000 | val_loss: 0.03941, val_accr: 0.990\n",
      "01510 | train_loss: 0.00143, train_accr: 1.000 | val_loss: 0.04656, val_accr: 0.985\n",
      "01520 | train_loss: 0.00124, train_accr: 1.000 | val_loss: 0.03319, val_accr: 0.985\n",
      "01530 | train_loss: 0.00250, train_accr: 1.000 | val_loss: 0.04745, val_accr: 0.985\n",
      "01540 | train_loss: 0.00186, train_accr: 1.000 | val_loss: 0.04831, val_accr: 0.980\n",
      "01550 | train_loss: 0.00170, train_accr: 1.000 | val_loss: 0.04577, val_accr: 0.985\n",
      "01560 | train_loss: 0.00150, train_accr: 1.000 | val_loss: 0.04110, val_accr: 0.985\n",
      "01570 | train_loss: 0.00126, train_accr: 1.000 | val_loss: 0.03168, val_accr: 0.985\n",
      "01580 | train_loss: 0.00175, train_accr: 1.000 | val_loss: 0.04198, val_accr: 0.985\n",
      "01590 | train_loss: 0.00191, train_accr: 1.000 | val_loss: 0.04347, val_accr: 0.985\n",
      "01600 | train_loss: 0.00168, train_accr: 1.000 | val_loss: 0.04432, val_accr: 0.980\n",
      "01610 | train_loss: 0.00151, train_accr: 1.000 | val_loss: 0.04241, val_accr: 0.980\n",
      "01620 | train_loss: 0.00115, train_accr: 1.000 | val_loss: 0.05136, val_accr: 0.980\n",
      "01630 | train_loss: 0.00134, train_accr: 1.000 | val_loss: 0.04874, val_accr: 0.980\n",
      "01640 | train_loss: 0.00143, train_accr: 1.000 | val_loss: 0.03974, val_accr: 0.990\n",
      "01650 | train_loss: 0.00160, train_accr: 1.000 | val_loss: 0.05309, val_accr: 0.980\n",
      "01660 | train_loss: 0.00128, train_accr: 1.000 | val_loss: 0.04075, val_accr: 0.990\n",
      "01670 | train_loss: 0.00106, train_accr: 1.000 | val_loss: 0.04000, val_accr: 0.980\n",
      "01680 | train_loss: 0.00131, train_accr: 1.000 | val_loss: 0.04828, val_accr: 0.975\n",
      "01690 | train_loss: 0.00117, train_accr: 1.000 | val_loss: 0.03933, val_accr: 0.990\n",
      "01700 | train_loss: 0.00112, train_accr: 1.000 | val_loss: 0.03845, val_accr: 0.990\n",
      "01710 | train_loss: 0.00133, train_accr: 1.000 | val_loss: 0.04246, val_accr: 0.990\n",
      "01720 | train_loss: 0.00111, train_accr: 1.000 | val_loss: 0.04231, val_accr: 0.985\n",
      "01730 | train_loss: 0.00065, train_accr: 1.000 | val_loss: 0.05582, val_accr: 0.975\n",
      "01740 | train_loss: 0.00090, train_accr: 1.000 | val_loss: 0.03359, val_accr: 0.985\n",
      "01750 | train_loss: 0.00085, train_accr: 1.000 | val_loss: 0.04295, val_accr: 0.985\n",
      "01760 | train_loss: 0.00135, train_accr: 1.000 | val_loss: 0.04441, val_accr: 0.985\n",
      "01770 | train_loss: 0.00099, train_accr: 1.000 | val_loss: 0.03853, val_accr: 0.980\n",
      "01780 | train_loss: 0.00103, train_accr: 1.000 | val_loss: 0.05650, val_accr: 0.980\n",
      "01790 | train_loss: 0.00130, train_accr: 1.000 | val_loss: 0.03020, val_accr: 0.990\n",
      "01800 | train_loss: 0.00176, train_accr: 1.000 | val_loss: 0.05703, val_accr: 0.985\n",
      "01810 | train_loss: 0.00099, train_accr: 1.000 | val_loss: 0.03941, val_accr: 0.985\n",
      "01820 | train_loss: 0.00133, train_accr: 1.000 | val_loss: 0.03967, val_accr: 0.985\n",
      "01830 | train_loss: 0.00089, train_accr: 1.000 | val_loss: 0.05624, val_accr: 0.985\n",
      "01840 | train_loss: 0.00089, train_accr: 1.000 | val_loss: 0.03835, val_accr: 0.985\n",
      "01850 | train_loss: 0.00115, train_accr: 1.000 | val_loss: 0.03600, val_accr: 0.985\n",
      "01860 | train_loss: 0.00081, train_accr: 1.000 | val_loss: 0.04811, val_accr: 0.985\n",
      "01870 | train_loss: 0.00088, train_accr: 1.000 | val_loss: 0.05804, val_accr: 0.980\n",
      "01880 | train_loss: 0.00103, train_accr: 1.000 | val_loss: 0.04177, val_accr: 0.990\n",
      "01890 | train_loss: 0.00119, train_accr: 1.000 | val_loss: 0.04310, val_accr: 0.985\n",
      "01900 | train_loss: 0.00103, train_accr: 1.000 | val_loss: 0.04567, val_accr: 0.980\n",
      "01910 | train_loss: 0.00104, train_accr: 1.000 | val_loss: 0.05620, val_accr: 0.980\n",
      "01920 | train_loss: 0.00076, train_accr: 1.000 | val_loss: 0.03508, val_accr: 0.990\n",
      "01930 | train_loss: 0.00088, train_accr: 1.000 | val_loss: 0.04003, val_accr: 0.990\n",
      "01940 | train_loss: 0.00072, train_accr: 1.000 | val_loss: 0.04697, val_accr: 0.985\n",
      "01950 | train_loss: 0.00099, train_accr: 1.000 | val_loss: 0.04341, val_accr: 0.985\n",
      "01960 | train_loss: 0.00081, train_accr: 1.000 | val_loss: 0.04668, val_accr: 0.980\n"
     ]
    },
    {
     "name": "stdout",
     "output_type": "stream",
     "text": [
      "01970 | train_loss: 0.00081, train_accr: 1.000 | val_loss: 0.02780, val_accr: 0.990\n",
      "01980 | train_loss: 0.00086, train_accr: 1.000 | val_loss: 0.04421, val_accr: 0.985\n",
      "01990 | train_loss: 0.00065, train_accr: 1.000 | val_loss: 0.04179, val_accr: 0.985\n",
      "02000 | train_loss: 0.00069, train_accr: 1.000 | val_loss: 0.04026, val_accr: 0.990\n",
      "02010 | train_loss: 0.00100, train_accr: 1.000 | val_loss: 0.04806, val_accr: 0.980\n",
      "02020 | train_loss: 0.00083, train_accr: 1.000 | val_loss: 0.04309, val_accr: 0.985\n",
      "02030 | train_loss: 0.00061, train_accr: 1.000 | val_loss: 0.04203, val_accr: 0.980\n",
      "02040 | train_loss: 0.00055, train_accr: 1.000 | val_loss: 0.03773, val_accr: 0.990\n",
      "02050 | train_loss: 0.00065, train_accr: 1.000 | val_loss: 0.05347, val_accr: 0.985\n",
      "02060 | train_loss: 0.00085, train_accr: 1.000 | val_loss: 0.04811, val_accr: 0.985\n",
      "02070 | train_loss: 0.00073, train_accr: 1.000 | val_loss: 0.03801, val_accr: 0.990\n",
      "02080 | train_loss: 0.00065, train_accr: 1.000 | val_loss: 0.04308, val_accr: 0.980\n",
      "02090 | train_loss: 0.00050, train_accr: 1.000 | val_loss: 0.02601, val_accr: 0.990\n",
      "02100 | train_loss: 0.00093, train_accr: 1.000 | val_loss: 0.06111, val_accr: 0.975\n",
      "02110 | train_loss: 0.00091, train_accr: 1.000 | val_loss: 0.03842, val_accr: 0.985\n",
      "02120 | train_loss: 0.00050, train_accr: 1.000 | val_loss: 0.04254, val_accr: 0.990\n",
      "02130 | train_loss: 0.00059, train_accr: 1.000 | val_loss: 0.06087, val_accr: 0.985\n",
      "02140 | train_loss: 0.00057, train_accr: 1.000 | val_loss: 0.06046, val_accr: 0.980\n",
      "02150 | train_loss: 0.00070, train_accr: 1.000 | val_loss: 0.03579, val_accr: 0.985\n",
      "02160 | train_loss: 0.00062, train_accr: 1.000 | val_loss: 0.04247, val_accr: 0.985\n",
      "02170 | train_loss: 0.00075, train_accr: 1.000 | val_loss: 0.04590, val_accr: 0.980\n",
      "02180 | train_loss: 0.00060, train_accr: 1.000 | val_loss: 0.04376, val_accr: 0.985\n",
      "02190 | train_loss: 0.00051, train_accr: 1.000 | val_loss: 0.03555, val_accr: 0.985\n",
      "02200 | train_loss: 0.00062, train_accr: 1.000 | val_loss: 0.03808, val_accr: 0.985\n",
      "02210 | train_loss: 0.00051, train_accr: 1.000 | val_loss: 0.05900, val_accr: 0.980\n",
      "02220 | train_loss: 0.00065, train_accr: 1.000 | val_loss: 0.04707, val_accr: 0.985\n",
      "02230 | train_loss: 0.00101, train_accr: 1.000 | val_loss: 0.04900, val_accr: 0.985\n",
      "02240 | train_loss: 0.00051, train_accr: 1.000 | val_loss: 0.04167, val_accr: 0.985\n",
      "02250 | train_loss: 0.00061, train_accr: 1.000 | val_loss: 0.05714, val_accr: 0.985\n",
      "02260 | train_loss: 0.00067, train_accr: 1.000 | val_loss: 0.05601, val_accr: 0.980\n",
      "02270 | train_loss: 0.00071, train_accr: 1.000 | val_loss: 0.03532, val_accr: 0.990\n",
      "02280 | train_loss: 0.00075, train_accr: 1.000 | val_loss: 0.04166, val_accr: 0.990\n",
      "02290 | train_loss: 0.00072, train_accr: 1.000 | val_loss: 0.04401, val_accr: 0.985\n",
      "02300 | train_loss: 0.00046, train_accr: 1.000 | val_loss: 0.05230, val_accr: 0.985\n",
      "02310 | train_loss: 0.00052, train_accr: 1.000 | val_loss: 0.02816, val_accr: 0.990\n",
      "02320 | train_loss: 0.00042, train_accr: 1.000 | val_loss: 0.06260, val_accr: 0.985\n",
      "02330 | train_loss: 0.00055, train_accr: 1.000 | val_loss: 0.05242, val_accr: 0.980\n",
      "02340 | train_loss: 0.00066, train_accr: 1.000 | val_loss: 0.04871, val_accr: 0.985\n",
      "02350 | train_loss: 0.00044, train_accr: 1.000 | val_loss: 0.03510, val_accr: 0.985\n",
      "02360 | train_loss: 0.00037, train_accr: 1.000 | val_loss: 0.04597, val_accr: 0.980\n",
      "02370 | train_loss: 0.00073, train_accr: 1.000 | val_loss: 0.03581, val_accr: 0.990\n",
      "02380 | train_loss: 0.00096, train_accr: 1.000 | val_loss: 0.04773, val_accr: 0.985\n",
      "02390 | train_loss: 0.00053, train_accr: 1.000 | val_loss: 0.02920, val_accr: 0.990\n",
      "02400 | train_loss: 0.00045, train_accr: 1.000 | val_loss: 0.05478, val_accr: 0.985\n",
      "02410 | train_loss: 0.00044, train_accr: 1.000 | val_loss: 0.04905, val_accr: 0.985\n",
      "02420 | train_loss: 0.00061, train_accr: 1.000 | val_loss: 0.02743, val_accr: 0.985\n",
      "02430 | train_loss: 0.00055, train_accr: 1.000 | val_loss: 0.04803, val_accr: 0.980\n",
      "02440 | train_loss: 0.00042, train_accr: 1.000 | val_loss: 0.04664, val_accr: 0.985\n",
      "02450 | train_loss: 0.00079, train_accr: 1.000 | val_loss: 0.05295, val_accr: 0.985\n",
      "02460 | train_loss: 0.00055, train_accr: 1.000 | val_loss: 0.05617, val_accr: 0.985\n",
      "02470 | train_loss: 0.00040, train_accr: 1.000 | val_loss: 0.04431, val_accr: 0.985\n",
      "02480 | train_loss: 0.00044, train_accr: 1.000 | val_loss: 0.04695, val_accr: 0.985\n",
      "02490 | train_loss: 0.00068, train_accr: 1.000 | val_loss: 0.05726, val_accr: 0.980\n",
      "02500 | train_loss: 0.00059, train_accr: 1.000 | val_loss: 0.05540, val_accr: 0.985\n",
      "02510 | train_loss: 0.00048, train_accr: 1.000 | val_loss: 0.05678, val_accr: 0.985\n",
      "02520 | train_loss: 0.00047, train_accr: 1.000 | val_loss: 0.04941, val_accr: 0.985\n",
      "02530 | train_loss: 0.00037, train_accr: 1.000 | val_loss: 0.04201, val_accr: 0.985\n",
      "02540 | train_loss: 0.00072, train_accr: 1.000 | val_loss: 0.05644, val_accr: 0.980\n",
      "02550 | train_loss: 0.00041, train_accr: 1.000 | val_loss: 0.04287, val_accr: 0.985\n",
      "02560 | train_loss: 0.00029, train_accr: 1.000 | val_loss: 0.04943, val_accr: 0.985\n",
      "02570 | train_loss: 0.00030, train_accr: 1.000 | val_loss: 0.04878, val_accr: 0.985\n",
      "02580 | train_loss: 0.00039, train_accr: 1.000 | val_loss: 0.06365, val_accr: 0.980\n",
      "02590 | train_loss: 0.00034, train_accr: 1.000 | val_loss: 0.06017, val_accr: 0.985\n",
      "02600 | train_loss: 0.00047, train_accr: 1.000 | val_loss: 0.04971, val_accr: 0.985\n",
      "02610 | train_loss: 0.00036, train_accr: 1.000 | val_loss: 0.04647, val_accr: 0.970\n",
      "02620 | train_loss: 0.00042, train_accr: 1.000 | val_loss: 0.05905, val_accr: 0.975\n",
      "02630 | train_loss: 0.00032, train_accr: 1.000 | val_loss: 0.04733, val_accr: 0.980\n",
      "02640 | train_loss: 0.00047, train_accr: 1.000 | val_loss: 0.03307, val_accr: 0.985\n",
      "02650 | train_loss: 0.00031, train_accr: 1.000 | val_loss: 0.04886, val_accr: 0.980\n",
      "02660 | train_loss: 0.00049, train_accr: 1.000 | val_loss: 0.05018, val_accr: 0.980\n",
      "02670 | train_loss: 0.00043, train_accr: 1.000 | val_loss: 0.05281, val_accr: 0.985\n",
      "02680 | train_loss: 0.00052, train_accr: 1.000 | val_loss: 0.04600, val_accr: 0.990\n",
      "02690 | train_loss: 0.00040, train_accr: 1.000 | val_loss: 0.05118, val_accr: 0.985\n",
      "02700 | train_loss: 0.00029, train_accr: 1.000 | val_loss: 0.04730, val_accr: 0.990\n",
      "02710 | train_loss: 0.00035, train_accr: 1.000 | val_loss: 0.04407, val_accr: 0.985\n",
      "02720 | train_loss: 0.00034, train_accr: 1.000 | val_loss: 0.05825, val_accr: 0.980\n",
      "02730 | train_loss: 0.00031, train_accr: 1.000 | val_loss: 0.04424, val_accr: 0.980\n",
      "02740 | train_loss: 0.00030, train_accr: 1.000 | val_loss: 0.04813, val_accr: 0.985\n",
      "02750 | train_loss: 0.00062, train_accr: 1.000 | val_loss: 0.05540, val_accr: 0.985\n",
      "02760 | train_loss: 0.00034, train_accr: 1.000 | val_loss: 0.05346, val_accr: 0.985\n",
      "02770 | train_loss: 0.00044, train_accr: 1.000 | val_loss: 0.03584, val_accr: 0.980\n",
      "02780 | train_loss: 0.00054, train_accr: 1.000 | val_loss: 0.04794, val_accr: 0.985\n",
      "02790 | train_loss: 0.00037, train_accr: 1.000 | val_loss: 0.05309, val_accr: 0.990\n",
      "02800 | train_loss: 0.00048, train_accr: 1.000 | val_loss: 0.05237, val_accr: 0.975\n",
      "02810 | train_loss: 0.00037, train_accr: 1.000 | val_loss: 0.04044, val_accr: 0.985\n",
      "02820 | train_loss: 0.00028, train_accr: 1.000 | val_loss: 0.05688, val_accr: 0.985\n",
      "02830 | train_loss: 0.00028, train_accr: 1.000 | val_loss: 0.04283, val_accr: 0.980\n",
      "02840 | train_loss: 0.00042, train_accr: 1.000 | val_loss: 0.04542, val_accr: 0.985\n",
      "02850 | train_loss: 0.00042, train_accr: 1.000 | val_loss: 0.04051, val_accr: 0.985\n",
      "02860 | train_loss: 0.00031, train_accr: 1.000 | val_loss: 0.04257, val_accr: 0.985\n",
      "02870 | train_loss: 0.00023, train_accr: 1.000 | val_loss: 0.04384, val_accr: 0.985\n",
      "02880 | train_loss: 0.00024, train_accr: 1.000 | val_loss: 0.03931, val_accr: 0.990\n",
      "02890 | train_loss: 0.00036, train_accr: 1.000 | val_loss: 0.06702, val_accr: 0.975\n",
      "02900 | train_loss: 0.00026, train_accr: 1.000 | val_loss: 0.03705, val_accr: 0.985\n",
      "02910 | train_loss: 0.00027, train_accr: 1.000 | val_loss: 0.06205, val_accr: 0.985\n",
      "02920 | train_loss: 0.00035, train_accr: 1.000 | val_loss: 0.04646, val_accr: 0.985\n",
      "02930 | train_loss: 0.00034, train_accr: 1.000 | val_loss: 0.02804, val_accr: 0.990\n",
      "02940 | train_loss: 0.00025, train_accr: 1.000 | val_loss: 0.05376, val_accr: 0.985\n"
     ]
    },
    {
     "name": "stdout",
     "output_type": "stream",
     "text": [
      "02950 | train_loss: 0.00041, train_accr: 1.000 | val_loss: 0.04202, val_accr: 0.990\n",
      "02960 | train_loss: 0.00039, train_accr: 1.000 | val_loss: 0.04571, val_accr: 0.985\n",
      "02970 | train_loss: 0.00036, train_accr: 1.000 | val_loss: 0.03731, val_accr: 0.990\n",
      "02980 | train_loss: 0.00028, train_accr: 1.000 | val_loss: 0.05664, val_accr: 0.985\n",
      "02990 | train_loss: 0.00020, train_accr: 1.000 | val_loss: 0.02441, val_accr: 0.995\n",
      "03000 | train_loss: 0.00042, train_accr: 1.000 | val_loss: 0.04644, val_accr: 0.990\n",
      "03010 | train_loss: 0.00026, train_accr: 1.000 | val_loss: 0.03967, val_accr: 0.985\n",
      "03020 | train_loss: 0.00024, train_accr: 1.000 | val_loss: 0.04315, val_accr: 0.990\n",
      "03030 | train_loss: 0.00020, train_accr: 1.000 | val_loss: 0.03768, val_accr: 0.985\n",
      "03040 | train_loss: 0.00039, train_accr: 1.000 | val_loss: 0.05305, val_accr: 0.985\n",
      "03050 | train_loss: 0.00032, train_accr: 1.000 | val_loss: 0.05517, val_accr: 0.980\n",
      "03060 | train_loss: 0.00029, train_accr: 1.000 | val_loss: 0.04403, val_accr: 0.980\n",
      "03070 | train_loss: 0.00028, train_accr: 1.000 | val_loss: 0.04713, val_accr: 0.980\n",
      "03080 | train_loss: 0.00029, train_accr: 1.000 | val_loss: 0.06578, val_accr: 0.980\n",
      "03090 | train_loss: 0.00020, train_accr: 1.000 | val_loss: 0.05662, val_accr: 0.985\n",
      "03100 | train_loss: 0.00028, train_accr: 1.000 | val_loss: 0.05724, val_accr: 0.985\n",
      "03110 | train_loss: 0.00025, train_accr: 1.000 | val_loss: 0.05031, val_accr: 0.985\n",
      "03120 | train_loss: 0.00030, train_accr: 1.000 | val_loss: 0.03681, val_accr: 0.985\n",
      "03130 | train_loss: 0.00023, train_accr: 1.000 | val_loss: 0.02804, val_accr: 0.990\n",
      "03140 | train_loss: 0.00021, train_accr: 1.000 | val_loss: 0.06346, val_accr: 0.985\n",
      "03150 | train_loss: 0.00024, train_accr: 1.000 | val_loss: 0.04918, val_accr: 0.980\n",
      "03160 | train_loss: 0.00019, train_accr: 1.000 | val_loss: 0.06574, val_accr: 0.985\n",
      "03170 | train_loss: 0.00025, train_accr: 1.000 | val_loss: 0.04728, val_accr: 0.985\n",
      "03180 | train_loss: 0.00020, train_accr: 1.000 | val_loss: 0.03726, val_accr: 0.990\n",
      "03190 | train_loss: 0.00039, train_accr: 1.000 | val_loss: 0.05014, val_accr: 0.990\n",
      "03200 | train_loss: 0.00018, train_accr: 1.000 | val_loss: 0.03805, val_accr: 0.990\n",
      "03210 | train_loss: 0.00022, train_accr: 1.000 | val_loss: 0.03522, val_accr: 0.985\n",
      "03220 | train_loss: 0.00024, train_accr: 1.000 | val_loss: 0.03854, val_accr: 0.985\n",
      "03230 | train_loss: 0.00024, train_accr: 1.000 | val_loss: 0.05154, val_accr: 0.985\n",
      "03240 | train_loss: 0.00046, train_accr: 1.000 | val_loss: 0.02873, val_accr: 0.990\n",
      "03250 | train_loss: 0.00018, train_accr: 1.000 | val_loss: 0.05620, val_accr: 0.985\n",
      "03260 | train_loss: 0.00019, train_accr: 1.000 | val_loss: 0.05059, val_accr: 0.980\n",
      "03270 | train_loss: 0.00028, train_accr: 1.000 | val_loss: 0.06132, val_accr: 0.980\n",
      "03280 | train_loss: 0.00016, train_accr: 1.000 | val_loss: 0.01142, val_accr: 1.000\n",
      "03290 | train_loss: 0.00024, train_accr: 1.000 | val_loss: 0.03020, val_accr: 0.990\n",
      "03300 | train_loss: 0.00040, train_accr: 1.000 | val_loss: 0.06026, val_accr: 0.985\n",
      "03310 | train_loss: 0.00031, train_accr: 1.000 | val_loss: 0.04005, val_accr: 0.985\n",
      "03320 | train_loss: 0.00027, train_accr: 1.000 | val_loss: 0.04941, val_accr: 0.985\n",
      "03330 | train_loss: 0.00025, train_accr: 1.000 | val_loss: 0.02898, val_accr: 0.990\n",
      "03340 | train_loss: 0.00017, train_accr: 1.000 | val_loss: 0.05638, val_accr: 0.980\n",
      "03350 | train_loss: 0.00018, train_accr: 1.000 | val_loss: 0.03822, val_accr: 0.985\n",
      "03360 | train_loss: 0.00013, train_accr: 1.000 | val_loss: 0.03905, val_accr: 0.990\n",
      "03370 | train_loss: 0.00035, train_accr: 1.000 | val_loss: 0.05000, val_accr: 0.985\n",
      "03380 | train_loss: 0.00023, train_accr: 1.000 | val_loss: 0.06301, val_accr: 0.985\n",
      "03390 | train_loss: 0.00020, train_accr: 1.000 | val_loss: 0.05340, val_accr: 0.980\n",
      "03400 | train_loss: 0.00023, train_accr: 1.000 | val_loss: 0.02255, val_accr: 0.990\n",
      "03410 | train_loss: 0.00014, train_accr: 1.000 | val_loss: 0.05119, val_accr: 0.985\n",
      "03420 | train_loss: 0.00026, train_accr: 1.000 | val_loss: 0.04820, val_accr: 0.985\n",
      "03430 | train_loss: 0.00015, train_accr: 1.000 | val_loss: 0.05300, val_accr: 0.990\n",
      "03440 | train_loss: 0.00024, train_accr: 1.000 | val_loss: 0.04830, val_accr: 0.985\n",
      "03450 | train_loss: 0.00014, train_accr: 1.000 | val_loss: 0.05509, val_accr: 0.985\n",
      "03460 | train_loss: 0.00015, train_accr: 1.000 | val_loss: 0.04823, val_accr: 0.985\n",
      "03470 | train_loss: 0.00015, train_accr: 1.000 | val_loss: 0.06361, val_accr: 0.980\n",
      "03480 | train_loss: 0.00011, train_accr: 1.000 | val_loss: 0.07335, val_accr: 0.985\n",
      "03490 | train_loss: 0.00026, train_accr: 1.000 | val_loss: 0.03211, val_accr: 0.985\n",
      "03500 | train_loss: 0.00012, train_accr: 1.000 | val_loss: 0.04257, val_accr: 0.990\n",
      "03510 | train_loss: 0.00023, train_accr: 1.000 | val_loss: 0.05975, val_accr: 0.985\n",
      "03520 | train_loss: 0.00017, train_accr: 1.000 | val_loss: 0.03673, val_accr: 0.990\n",
      "03530 | train_loss: 0.00024, train_accr: 1.000 | val_loss: 0.06260, val_accr: 0.985\n",
      "03540 | train_loss: 0.00014, train_accr: 1.000 | val_loss: 0.04511, val_accr: 0.990\n",
      "03550 | train_loss: 0.00015, train_accr: 1.000 | val_loss: 0.07324, val_accr: 0.980\n",
      "03560 | train_loss: 0.00014, train_accr: 1.000 | val_loss: 0.05259, val_accr: 0.985\n",
      "03570 | train_loss: 0.00018, train_accr: 1.000 | val_loss: 0.06824, val_accr: 0.980\n",
      "03580 | train_loss: 0.00019, train_accr: 1.000 | val_loss: 0.04233, val_accr: 0.990\n",
      "03590 | train_loss: 0.00016, train_accr: 1.000 | val_loss: 0.05876, val_accr: 0.980\n",
      "03600 | train_loss: 0.00018, train_accr: 1.000 | val_loss: 0.05577, val_accr: 0.980\n",
      "03610 | train_loss: 0.00016, train_accr: 1.000 | val_loss: 0.06189, val_accr: 0.985\n",
      "03620 | train_loss: 0.00015, train_accr: 1.000 | val_loss: 0.05780, val_accr: 0.980\n",
      "03630 | train_loss: 0.00018, train_accr: 1.000 | val_loss: 0.03688, val_accr: 0.985\n",
      "03640 | train_loss: 0.00014, train_accr: 1.000 | val_loss: 0.06364, val_accr: 0.985\n",
      "03650 | train_loss: 0.00016, train_accr: 1.000 | val_loss: 0.06601, val_accr: 0.980\n",
      "03660 | train_loss: 0.00018, train_accr: 1.000 | val_loss: 0.03344, val_accr: 0.990\n",
      "03670 | train_loss: 0.00020, train_accr: 1.000 | val_loss: 0.03845, val_accr: 0.990\n",
      "03680 | train_loss: 0.00015, train_accr: 1.000 | val_loss: 0.06292, val_accr: 0.980\n",
      "03690 | train_loss: 0.00021, train_accr: 1.000 | val_loss: 0.05992, val_accr: 0.985\n",
      "03700 | train_loss: 0.00016, train_accr: 1.000 | val_loss: 0.04495, val_accr: 0.985\n",
      "03710 | train_loss: 0.00012, train_accr: 1.000 | val_loss: 0.04416, val_accr: 0.985\n",
      "03720 | train_loss: 0.00016, train_accr: 1.000 | val_loss: 0.02245, val_accr: 0.995\n",
      "03730 | train_loss: 0.00023, train_accr: 1.000 | val_loss: 0.04781, val_accr: 0.975\n",
      "03740 | train_loss: 0.00017, train_accr: 1.000 | val_loss: 0.04375, val_accr: 0.985\n",
      "03750 | train_loss: 0.00012, train_accr: 1.000 | val_loss: 0.03682, val_accr: 0.990\n",
      "03760 | train_loss: 0.00024, train_accr: 1.000 | val_loss: 0.05475, val_accr: 0.985\n",
      "03770 | train_loss: 0.00023, train_accr: 1.000 | val_loss: 0.04975, val_accr: 0.985\n",
      "03780 | train_loss: 0.00014, train_accr: 1.000 | val_loss: 0.04805, val_accr: 0.985\n",
      "03790 | train_loss: 0.00019, train_accr: 1.000 | val_loss: 0.05079, val_accr: 0.980\n",
      "03800 | train_loss: 0.00013, train_accr: 1.000 | val_loss: 0.05108, val_accr: 0.990\n",
      "03810 | train_loss: 0.00016, train_accr: 1.000 | val_loss: 0.05313, val_accr: 0.985\n",
      "03820 | train_loss: 0.00014, train_accr: 1.000 | val_loss: 0.03934, val_accr: 0.985\n",
      "03830 | train_loss: 0.00015, train_accr: 1.000 | val_loss: 0.04520, val_accr: 0.985\n",
      "03840 | train_loss: 0.00019, train_accr: 1.000 | val_loss: 0.06626, val_accr: 0.985\n",
      "03850 | train_loss: 0.00017, train_accr: 1.000 | val_loss: 0.02659, val_accr: 0.990\n",
      "03860 | train_loss: 0.00012, train_accr: 1.000 | val_loss: 0.05013, val_accr: 0.985\n",
      "03870 | train_loss: 0.00017, train_accr: 1.000 | val_loss: 0.03860, val_accr: 0.990\n",
      "03880 | train_loss: 0.00017, train_accr: 1.000 | val_loss: 0.06943, val_accr: 0.980\n",
      "03890 | train_loss: 0.00017, train_accr: 1.000 | val_loss: 0.03284, val_accr: 0.980\n",
      "03900 | train_loss: 0.00012, train_accr: 1.000 | val_loss: 0.04413, val_accr: 0.990\n",
      "03910 | train_loss: 0.00012, train_accr: 1.000 | val_loss: 0.07753, val_accr: 0.980\n",
      "03920 | train_loss: 0.00014, train_accr: 1.000 | val_loss: 0.03844, val_accr: 0.985\n"
     ]
    },
    {
     "name": "stdout",
     "output_type": "stream",
     "text": [
      "03930 | train_loss: 0.00015, train_accr: 1.000 | val_loss: 0.05897, val_accr: 0.980\n",
      "03940 | train_loss: 0.00020, train_accr: 1.000 | val_loss: 0.05741, val_accr: 0.985\n",
      "03950 | train_loss: 0.00020, train_accr: 1.000 | val_loss: 0.03971, val_accr: 0.985\n",
      "03960 | train_loss: 0.00017, train_accr: 1.000 | val_loss: 0.03699, val_accr: 0.995\n",
      "03970 | train_loss: 0.00019, train_accr: 1.000 | val_loss: 0.06007, val_accr: 0.985\n",
      "03980 | train_loss: 0.00012, train_accr: 1.000 | val_loss: 0.04948, val_accr: 0.985\n",
      "03990 | train_loss: 0.00009, train_accr: 1.000 | val_loss: 0.05035, val_accr: 0.985\n",
      "04000 | train_loss: 0.00021, train_accr: 1.000 | val_loss: 0.05600, val_accr: 0.980\n",
      "04010 | train_loss: 0.00010, train_accr: 1.000 | val_loss: 0.04319, val_accr: 0.980\n",
      "04020 | train_loss: 0.00008, train_accr: 1.000 | val_loss: 0.03189, val_accr: 0.990\n",
      "04030 | train_loss: 0.00008, train_accr: 1.000 | val_loss: 0.03281, val_accr: 0.990\n",
      "04040 | train_loss: 0.00015, train_accr: 1.000 | val_loss: 0.05810, val_accr: 0.985\n",
      "04050 | train_loss: 0.00012, train_accr: 1.000 | val_loss: 0.05228, val_accr: 0.990\n",
      "04060 | train_loss: 0.00019, train_accr: 1.000 | val_loss: 0.04809, val_accr: 0.990\n",
      "04070 | train_loss: 0.00007, train_accr: 1.000 | val_loss: 0.05779, val_accr: 0.985\n",
      "04080 | train_loss: 0.00010, train_accr: 1.000 | val_loss: 0.05950, val_accr: 0.985\n",
      "04090 | train_loss: 0.00010, train_accr: 1.000 | val_loss: 0.04962, val_accr: 0.985\n",
      "04100 | train_loss: 0.00011, train_accr: 1.000 | val_loss: 0.05184, val_accr: 0.985\n",
      "04110 | train_loss: 0.00013, train_accr: 1.000 | val_loss: 0.03311, val_accr: 0.990\n",
      "04120 | train_loss: 0.00012, train_accr: 1.000 | val_loss: 0.03304, val_accr: 0.990\n",
      "04130 | train_loss: 0.00012, train_accr: 1.000 | val_loss: 0.08201, val_accr: 0.985\n",
      "04140 | train_loss: 0.00010, train_accr: 1.000 | val_loss: 0.05812, val_accr: 0.980\n",
      "04150 | train_loss: 0.00013, train_accr: 1.000 | val_loss: 0.04706, val_accr: 0.990\n",
      "04160 | train_loss: 0.00010, train_accr: 1.000 | val_loss: 0.03115, val_accr: 0.995\n",
      "04170 | train_loss: 0.00010, train_accr: 1.000 | val_loss: 0.05961, val_accr: 0.985\n",
      "04180 | train_loss: 0.00008, train_accr: 1.000 | val_loss: 0.05355, val_accr: 0.990\n",
      "04190 | train_loss: 0.00014, train_accr: 1.000 | val_loss: 0.06249, val_accr: 0.985\n",
      "04200 | train_loss: 0.00009, train_accr: 1.000 | val_loss: 0.04296, val_accr: 0.990\n",
      "04210 | train_loss: 0.00008, train_accr: 1.000 | val_loss: 0.06690, val_accr: 0.985\n",
      "04220 | train_loss: 0.00018, train_accr: 1.000 | val_loss: 0.04846, val_accr: 0.990\n",
      "04230 | train_loss: 0.00009, train_accr: 1.000 | val_loss: 0.06902, val_accr: 0.985\n",
      "04240 | train_loss: 0.00006, train_accr: 1.000 | val_loss: 0.06012, val_accr: 0.985\n",
      "04250 | train_loss: 0.00016, train_accr: 1.000 | val_loss: 0.03769, val_accr: 0.985\n",
      "04260 | train_loss: 0.00010, train_accr: 1.000 | val_loss: 0.04016, val_accr: 0.985\n",
      "04270 | train_loss: 0.00012, train_accr: 1.000 | val_loss: 0.04247, val_accr: 0.985\n",
      "04280 | train_loss: 0.00009, train_accr: 1.000 | val_loss: 0.03836, val_accr: 0.985\n",
      "04290 | train_loss: 0.00010, train_accr: 1.000 | val_loss: 0.05411, val_accr: 0.985\n",
      "04300 | train_loss: 0.00010, train_accr: 1.000 | val_loss: 0.03837, val_accr: 0.990\n",
      "04310 | train_loss: 0.00019, train_accr: 1.000 | val_loss: 0.05183, val_accr: 0.985\n",
      "04320 | train_loss: 0.00010, train_accr: 1.000 | val_loss: 0.03945, val_accr: 0.990\n",
      "04330 | train_loss: 0.00009, train_accr: 1.000 | val_loss: 0.04728, val_accr: 0.985\n",
      "04340 | train_loss: 0.00010, train_accr: 1.000 | val_loss: 0.03015, val_accr: 0.990\n",
      "04350 | train_loss: 0.00009, train_accr: 1.000 | val_loss: 0.02332, val_accr: 0.990\n",
      "04360 | train_loss: 0.00008, train_accr: 1.000 | val_loss: 0.06632, val_accr: 0.990\n",
      "04370 | train_loss: 0.00015, train_accr: 1.000 | val_loss: 0.04288, val_accr: 0.985\n",
      "04380 | train_loss: 0.00031, train_accr: 1.000 | val_loss: 0.04203, val_accr: 0.990\n",
      "04390 | train_loss: 0.00011, train_accr: 1.000 | val_loss: 0.06448, val_accr: 0.985\n",
      "04400 | train_loss: 0.00012, train_accr: 1.000 | val_loss: 0.05270, val_accr: 0.985\n",
      "04410 | train_loss: 0.00013, train_accr: 1.000 | val_loss: 0.06286, val_accr: 0.985\n",
      "04420 | train_loss: 0.00008, train_accr: 1.000 | val_loss: 0.04556, val_accr: 0.990\n",
      "04430 | train_loss: 0.00014, train_accr: 1.000 | val_loss: 0.05562, val_accr: 0.990\n",
      "04440 | train_loss: 0.00011, train_accr: 1.000 | val_loss: 0.06516, val_accr: 0.985\n",
      "04450 | train_loss: 0.00007, train_accr: 1.000 | val_loss: 0.03147, val_accr: 0.990\n",
      "04460 | train_loss: 0.00012, train_accr: 1.000 | val_loss: 0.04751, val_accr: 0.990\n",
      "04470 | train_loss: 0.00007, train_accr: 1.000 | val_loss: 0.03653, val_accr: 0.985\n",
      "04480 | train_loss: 0.00011, train_accr: 1.000 | val_loss: 0.04639, val_accr: 0.985\n",
      "04490 | train_loss: 0.00009, train_accr: 1.000 | val_loss: 0.05418, val_accr: 0.980\n",
      "04500 | train_loss: 0.00012, train_accr: 1.000 | val_loss: 0.04170, val_accr: 0.990\n",
      "04510 | train_loss: 0.00006, train_accr: 1.000 | val_loss: 0.05521, val_accr: 0.985\n",
      "04520 | train_loss: 0.00006, train_accr: 1.000 | val_loss: 0.05576, val_accr: 0.985\n",
      "04530 | train_loss: 0.00006, train_accr: 1.000 | val_loss: 0.05249, val_accr: 0.985\n",
      "04540 | train_loss: 0.00008, train_accr: 1.000 | val_loss: 0.04904, val_accr: 0.980\n",
      "04550 | train_loss: 0.00006, train_accr: 1.000 | val_loss: 0.05722, val_accr: 0.985\n",
      "04560 | train_loss: 0.00013, train_accr: 1.000 | val_loss: 0.05982, val_accr: 0.985\n",
      "04570 | train_loss: 0.00006, train_accr: 1.000 | val_loss: 0.05368, val_accr: 0.985\n",
      "04580 | train_loss: 0.00005, train_accr: 1.000 | val_loss: 0.05655, val_accr: 0.985\n",
      "04590 | train_loss: 0.00009, train_accr: 1.000 | val_loss: 0.03041, val_accr: 0.990\n",
      "04600 | train_loss: 0.00009, train_accr: 1.000 | val_loss: 0.04485, val_accr: 0.985\n",
      "04610 | train_loss: 0.00009, train_accr: 1.000 | val_loss: 0.04373, val_accr: 0.990\n",
      "04620 | train_loss: 0.00006, train_accr: 1.000 | val_loss: 0.02720, val_accr: 0.990\n",
      "04630 | train_loss: 0.00006, train_accr: 1.000 | val_loss: 0.04528, val_accr: 0.985\n",
      "04640 | train_loss: 0.00011, train_accr: 1.000 | val_loss: 0.04938, val_accr: 0.985\n",
      "04650 | train_loss: 0.00011, train_accr: 1.000 | val_loss: 0.03280, val_accr: 0.985\n",
      "04660 | train_loss: 0.00005, train_accr: 1.000 | val_loss: 0.02856, val_accr: 0.995\n",
      "04670 | train_loss: 0.00014, train_accr: 1.000 | val_loss: 0.07137, val_accr: 0.985\n",
      "04680 | train_loss: 0.00008, train_accr: 1.000 | val_loss: 0.07889, val_accr: 0.985\n",
      "04690 | train_loss: 0.00008, train_accr: 1.000 | val_loss: 0.05438, val_accr: 0.985\n",
      "04700 | train_loss: 0.00007, train_accr: 1.000 | val_loss: 0.03842, val_accr: 0.985\n",
      "04710 | train_loss: 0.00008, train_accr: 1.000 | val_loss: 0.05847, val_accr: 0.985\n",
      "04720 | train_loss: 0.00008, train_accr: 1.000 | val_loss: 0.05321, val_accr: 0.985\n",
      "04730 | train_loss: 0.00005, train_accr: 1.000 | val_loss: 0.06160, val_accr: 0.985\n",
      "04740 | train_loss: 0.00005, train_accr: 1.000 | val_loss: 0.05419, val_accr: 0.985\n",
      "04750 | train_loss: 0.00008, train_accr: 1.000 | val_loss: 0.07992, val_accr: 0.985\n",
      "04760 | train_loss: 0.00007, train_accr: 1.000 | val_loss: 0.05972, val_accr: 0.985\n",
      "04770 | train_loss: 0.00005, train_accr: 1.000 | val_loss: 0.03378, val_accr: 0.985\n",
      "04780 | train_loss: 0.00006, train_accr: 1.000 | val_loss: 0.05453, val_accr: 0.985\n",
      "04790 | train_loss: 0.00007, train_accr: 1.000 | val_loss: 0.03555, val_accr: 0.990\n",
      "04800 | train_loss: 0.00008, train_accr: 1.000 | val_loss: 0.05107, val_accr: 0.985\n",
      "04810 | train_loss: 0.00012, train_accr: 1.000 | val_loss: 0.05631, val_accr: 0.990\n",
      "04820 | train_loss: 0.00008, train_accr: 1.000 | val_loss: 0.05081, val_accr: 0.980\n",
      "04830 | train_loss: 0.00009, train_accr: 1.000 | val_loss: 0.05498, val_accr: 0.980\n",
      "04840 | train_loss: 0.00010, train_accr: 1.000 | val_loss: 0.04538, val_accr: 0.985\n",
      "04850 | train_loss: 0.00006, train_accr: 1.000 | val_loss: 0.06041, val_accr: 0.990\n",
      "04860 | train_loss: 0.00006, train_accr: 1.000 | val_loss: 0.04710, val_accr: 0.990\n",
      "04870 | train_loss: 0.00007, train_accr: 1.000 | val_loss: 0.05531, val_accr: 0.985\n",
      "04880 | train_loss: 0.00009, train_accr: 1.000 | val_loss: 0.07016, val_accr: 0.985\n",
      "04890 | train_loss: 0.00005, train_accr: 1.000 | val_loss: 0.04645, val_accr: 0.990\n",
      "04900 | train_loss: 0.00008, train_accr: 1.000 | val_loss: 0.05450, val_accr: 0.985\n"
     ]
    },
    {
     "name": "stdout",
     "output_type": "stream",
     "text": [
      "04910 | train_loss: 0.00004, train_accr: 1.000 | val_loss: 0.05327, val_accr: 0.980\n",
      "04920 | train_loss: 0.00015, train_accr: 1.000 | val_loss: 0.04520, val_accr: 0.985\n",
      "04930 | train_loss: 0.00008, train_accr: 1.000 | val_loss: 0.04326, val_accr: 0.980\n",
      "04940 | train_loss: 0.00005, train_accr: 1.000 | val_loss: 0.04613, val_accr: 0.990\n",
      "04950 | train_loss: 0.00013, train_accr: 1.000 | val_loss: 0.04517, val_accr: 0.990\n",
      "04960 | train_loss: 0.00010, train_accr: 1.000 | val_loss: 0.03924, val_accr: 0.990\n",
      "04970 | train_loss: 0.00006, train_accr: 1.000 | val_loss: 0.05145, val_accr: 0.980\n",
      "04980 | train_loss: 0.00007, train_accr: 1.000 | val_loss: 0.04737, val_accr: 0.985\n",
      "04990 | train_loss: 0.00005, train_accr: 1.000 | val_loss: 0.06720, val_accr: 0.980\n",
      "05000 | train_loss: 0.00009, train_accr: 1.000 | val_loss: 0.00950, val_accr: 0.995\n"
     ]
    }
   ],
   "source": [
    "loss_history, accr_history = [], []\n",
    "val_loss_history, val_accr_history = [], []\n",
    "\n",
    "iter_i = 0\n",
    "\n",
    "while True:\n",
    "    iter_i += 1\n",
    "    \n",
    "    G_train_x, G_train_y = RandomMinibatch(G_train_X, G_train_Y, 100)\n",
    "    B_train_x, B_train_y = RandomMinibatch(B_train_X, B_train_Y, 100)\n",
    "    \n",
    "    train_x, train_y = np.vstack([G_train_x, B_train_x]), np.hstack([G_train_y, B_train_y])\n",
    "\n",
    "    train_x, train_y = shuffle(train_x, train_y)\n",
    "    \n",
    "#     train_x, train_y = train_x.to(device), train_y.to(device)\n",
    "    train_x, train_y = torch.tensor(train_x, device=device).float(), torch.tensor(train_y, device=device).long()\n",
    "    \n",
    "    output = model(train_x)\n",
    "    loss = criterion(output, train_y)\n",
    "    \n",
    "    optimizer.zero_grad()\n",
    "    loss.backward()\n",
    "    optimizer.step()\n",
    "    \n",
    "    if iter_i % 10 == 0:\n",
    "        \n",
    "        _, pred = torch.max(output, 1)\n",
    "        \n",
    "        loss_history.append(loss.tolist())\n",
    "        accr_history.append((torch.sum(pred == train_y.data).tolist() / len(train_y)))\n",
    "        \n",
    "        with torch.no_grad():\n",
    "    \n",
    "            G_valid_x, G_valid_y = RandomMinibatch(G_valid_X, G_valid_Y, 100)\n",
    "            B_valid_x, B_valid_y = RandomMinibatch(B_valid_X, B_valid_Y, 100)\n",
    "\n",
    "            valid_x, valid_y = np.vstack([G_valid_x, B_valid_x]), np.hstack([G_valid_y, B_valid_y])\n",
    "#             valid_x, valid_y = valid_x.to(device), valid_y.to(device)\n",
    "            valid_x, valid_y = torch.tensor(valid_x, device=device).float(), torch.tensor(valid_y, device=device).long()\n",
    "\n",
    "            valid_output = model(valid_x)\n",
    "            valid_loss = criterion(valid_output, valid_y)\n",
    "            \n",
    "            _, valid_pred = torch.max(valid_output, 1)\n",
    "        \n",
    "            val_loss_history.append(valid_loss.tolist())\n",
    "            val_accr_history.append((torch.sum(valid_pred == valid_y.data).tolist() / len(valid_y)))\n",
    "        \n",
    "        \n",
    "        print(\"{:05d} | train_loss: {:.5f}, train_accr: {:.3f} | val_loss: {:.5f}, val_accr: {:.3f}\".format(iter_i, \n",
    "                                                                                                            loss_history[-1], \n",
    "                                                                                                            accr_history[-1], \n",
    "                                                                                                            val_loss_history[-1], \n",
    "                                                                                                            val_accr_history[-1]))\n",
    "        \n",
    "        if iter_i >= 100:  \n",
    "#             if np.mean(val_loss_history[-5 :]) >= np.mean(val_loss_history[-10:]):\n",
    "#                 print('')\n",
    "#                 print('Early stopping!!')\n",
    "#                 print('..val_loss (avg. within 5): {:.5f} >= val_loss (avg. within 10) {:.5f}'.format(np.mean(val_loss_history[-5 :]),\n",
    "#                                                                                                   np.mean(val_loss_history[-10:])))\n",
    "                \n",
    "            if val_loss_history[-1] == np.min(val_loss_history):\n",
    "\n",
    "                now = datetime.datetime.now()\n",
    "                nowDatetime = now.strftime('%y%m%d%H%M')\n",
    "                model_name = 'Accel_1_GB_{}_{:05d}_loss_{:.6f}_val_loss_{:.6f}.pt'.format(nowDatetime, iter_i, \n",
    "                                                                                     np.mean(loss_history[-3:]),\n",
    "                                                                                     np.mean(val_loss_history[-3:]))\n",
    "                torch.save(model.state_dict(), './model/3_Loc1/' + model_name)\n",
    "#                 break                   \n",
    "        if iter_i == 5000:\n",
    "            break"
   ]
  },
  {
   "cell_type": "code",
   "execution_count": 15,
   "metadata": {
    "ExecuteTime": {
     "end_time": "2020-03-27T16:15:53.210408Z",
     "start_time": "2020-03-27T16:15:52.675744Z"
    }
   },
   "outputs": [
    {
     "name": "stderr",
     "output_type": "stream",
     "text": [
      "/home/yunseob/Pytorch/lib/python3.5/site-packages/matplotlib/cbook/__init__.py:424: MatplotlibDeprecationWarning: \n",
      "Passing one of 'on', 'true', 'off', 'false' as a boolean is deprecated; use an actual boolean (True/False) instead.\n",
      "  warn_deprecated(\"2.2\", \"Passing one of 'on', 'true', 'off', 'false' as a \"\n"
     ]
    },
    {
     "data": {
      "image/png": "[encoded data removed]",
      "text/plain": [
       "<Figure size 1080x1224 with 2 Axes>"
      ]
     },
     "metadata": {
      "needs_background": "light"
     },
     "output_type": "display_data"
    }
   ],
   "source": [
    "fig = plt.figure(figsize = (15,17))\n",
    "plt.suptitle('Training History', y = 0.92, fontsize = 20)\n",
    "\n",
    "# x_axis = range(1, 10*len(accr_history)+1, 10)\n",
    "x_axis = np.arange(10, 10*len(accr_history)+1, 10)\n",
    "\n",
    "plt.subplot(2, 1, 1)\n",
    "plt.plot(x_axis, accr_history, 'b-', label = 'Training Accuracy')\n",
    "plt.plot(x_axis, val_accr_history, 'r-', label = 'Validation Accuracy')\n",
    "plt.xlabel('Iteration', fontsize = 15)\n",
    "plt.ylabel('Accuracy', fontsize = 15)\n",
    "plt.legend(fontsize = 10)\n",
    "plt.grid('on')\n",
    "plt.subplot(2, 1, 2)\n",
    "plt.plot(x_axis, loss_history, 'b-', label = 'Training Loss')\n",
    "plt.plot(x_axis, val_loss_history, 'r-', label = 'Validation Loss')\n",
    "plt.xlabel('Iteration', fontsize = 15)\n",
    "plt.ylabel('Loss', fontsize = 15)\n",
    "# plt.yticks(np.arange(0, 0.25, step=0.025))\n",
    "plt.legend(fontsize = 12)\n",
    "plt.grid('on')\n",
    "plt.show()\n",
    "\n",
    "# if save == True:\n",
    "#     fig.savefig(hist_path + filename)\n",
    "#     plt.close(fig)"
   ]
  },
  {
   "cell_type": "code",
   "execution_count": 16,
   "metadata": {
    "ExecuteTime": {
     "end_time": "2020-03-27T16:16:26.177031Z",
     "start_time": "2020-03-27T16:16:26.166910Z"
    }
   },
   "outputs": [],
   "source": [
    "np.save('./results/0_train_hist/npy/Accel_1_GB_accr_history', accr_history)\n",
    "np.save('./results/0_train_hist/npy/Accel_1_GB_val_accr_history', val_accr_history)\n",
    "np.save('./results/0_train_hist/npy/Accel_1_GB_loss_history', loss_history)\n",
    "np.save('./results/0_train_hist/npy/Accel_1_GB_val_loss_history', val_loss_history)"
   ]
  }
 ],
 "metadata": {
  "hide_input": false,
  "kernelspec": {
   "display_name": "Pytorch",
   "language": "python",
   "name": "pytorch"
  },
  "language_info": {
   "codemirror_mode": {
    "name": "ipython",
    "version": 3
   },
   "file_extension": ".py",
   "mimetype": "text/x-python",
   "name": "python",
   "nbconvert_exporter": "python",
   "pygments_lexer": "ipython3",
   "version": "3.5.2"
  },
  "toc": {
   "base_numbering": 1,
   "nav_menu": {},
   "number_sections": true,
   "sideBar": true,
   "skip_h1_title": false,
   "title_cell": "Table of Contents",
   "title_sidebar": "Contents",
   "toc_cell": false,
   "toc_position": {},
   "toc_section_display": true,
   "toc_window_display": false
  }
 },
 "nbformat": 4,
 "nbformat_minor": 2
}
