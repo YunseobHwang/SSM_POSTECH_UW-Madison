{
 "cells": [
  {
   "cell_type": "code",
   "execution_count": 1,
   "metadata": {
    "ExecuteTime": {
     "end_time": "2020-05-22T04:33:10.449408Z",
     "start_time": "2020-05-22T04:33:09.349857Z"
    }
   },
   "outputs": [],
   "source": [
    "import numpy as np\n",
    "import matplotlib.pyplot as plt\n",
    "import pandas as pd\n",
    "import itertools\n",
    "\n",
    "import sys\n",
    "sys.path.append('/mnt/disk1/yunseob/Pytorch/SSM/0_modules')\n",
    "from SSM_utils import GBdataLoad, B6dataLoad\n",
    "from SSM_DL_evl import SSM_Model\n",
    "\n",
    "import seaborn as sns\n",
    "sns.set(style=\"whitegrid\")"
   ]
  },
  {
   "cell_type": "markdown",
   "metadata": {},
   "source": [
    "# 1. Fault diagnosis"
   ]
  },
  {
   "cell_type": "code",
   "execution_count": 2,
   "metadata": {
    "ExecuteTime": {
     "end_time": "2020-05-22T04:33:10.454460Z",
     "start_time": "2020-05-22T04:33:10.451852Z"
    }
   },
   "outputs": [],
   "source": [
    "class_name = ['Good', 'Bad']"
   ]
  },
  {
   "cell_type": "code",
   "execution_count": 3,
   "metadata": {
    "ExecuteTime": {
     "end_time": "2020-05-22T04:33:10.461193Z",
     "start_time": "2020-05-22T04:33:10.457805Z"
    }
   },
   "outputs": [],
   "source": [
    "model_dir = './model/'\n",
    "data_dir = '/mnt/disk1/yunseob/Pytorch/SSM/1_Semblex/08_shorten_length/SemblexData'"
   ]
  },
  {
   "cell_type": "code",
   "execution_count": 5,
   "metadata": {
    "ExecuteTime": {
     "end_time": "2020-05-22T04:34:07.694994Z",
     "start_time": "2020-05-22T04:33:40.619762Z"
    }
   },
   "outputs": [
    {
     "name": "stdout",
     "output_type": "stream",
     "text": [
      "Model: 01_GB_00p_025_A_0.01_128_2005210722_114_t_accr_1.0000_t_loss_0.000000_v_accr_0.9915_v_loss_0.094954.pt \n",
      "\n",
      "Accuracy: 98.71 % (4960 / 5025)\n",
      "\n",
      "Model: 01_GB_00p_025_B_0.001_64_2005210455_089_t_accr_0.9997_t_loss_0.000873_v_accr_0.9925_v_loss_0.032171.pt \n",
      "\n",
      "Accuracy: 98.87 % (4968 / 5025)\n",
      "\n",
      "Model: 01_GB_00p_025_AB_0.01_16_2005201409_053_t_accr_0.9997_t_loss_0.001460_v_accr_0.9970_v_loss_0.011669.pt \n",
      "\n",
      "Accuracy: 99.46 % (4998 / 5025)\n",
      "\n",
      "Model: 01_GB_00p_050_A_0.001_128_2005211111_208_t_accr_0.9999_t_loss_0.000344_v_accr_0.9900_v_loss_0.068247.pt \n",
      "\n",
      "Accuracy: 98.21 % (2465 / 2510)\n",
      "\n",
      "Model: 01_GB_00p_050_B_0.001_32_2005211023_245_t_accr_0.9997_t_loss_0.001186_v_accr_0.9980_v_loss_0.007854.pt \n",
      "\n",
      "Accuracy: 98.96 % (2484 / 2510)\n",
      "\n",
      "Model: 01_GB_00p_050_AB_0.001_16_2005201625_202_t_accr_1.0000_t_loss_0.000012_v_accr_0.9990_v_loss_0.006638.pt \n",
      "\n",
      "Accuracy: 99.60 % (2500 / 2510)\n",
      "\n",
      "Model: 01_GB_00p_075_A_0.001_64_2005211520_307_t_accr_1.0000_t_loss_0.000256_v_accr_0.9880_v_loss_0.076724.pt \n",
      "\n",
      "Accuracy: 98.27 % (1649 / 1678)\n",
      "\n",
      "Model: 01_GB_00p_075_B_0.01_32_2005211646_186_t_accr_1.0000_t_loss_0.000104_v_accr_0.9985_v_loss_0.005586.pt \n",
      "\n",
      "Accuracy: 99.05 % (1662 / 1678)\n",
      "\n",
      "Model: 01_GB_00p_075_AB_0.01_32_2005201948_254_t_accr_1.0000_t_loss_0.000030_v_accr_1.0000_v_loss_0.000498.pt \n",
      "\n",
      "Accuracy: 99.40 % (1668 / 1678)\n",
      "\n",
      "Model: 01_GB_00p_100_A_0.01_64_2005220708_141_t_accr_1.0000_t_loss_0.000439_v_accr_0.9880_v_loss_0.055344.pt \n",
      "\n",
      "Accuracy: 97.69 % (1229 / 1258)\n",
      "\n",
      "Model: 01_GB_00p_100_B_0.001_16_2005220928_406_t_accr_1.0000_t_loss_0.000030_v_accr_1.0000_v_loss_0.001682.pt \n",
      "\n",
      "Accuracy: 98.65 % (1241 / 1258)\n",
      "\n",
      "Model: 01_GB_00p_100_AB_0.01_32_2005220643_182_t_accr_1.0000_t_loss_0.000257_v_accr_0.9960_v_loss_0.010500.pt \n",
      "\n",
      "Accuracy: 98.57 % (1240 / 1258)\n",
      "\n"
     ]
    }
   ],
   "source": [
    "GB_accrs = []\n",
    "\n",
    "Lengths = [25, 50, 75, 100]\n",
    "\n",
    "for ls in Lengths:\n",
    "    \n",
    "    GB_test_X, GB_test_Y = GBdataLoad(data_dir + '/{:03d}s'.format(ls), ch = [0, 1], data_type = '4_test_data')\n",
    "    \n",
    "    GB_00p_A_model = SSM_Model(np.expand_dims(GB_test_X[:,0,:,:], axis = 1), GB_test_Y, n_ch = 1, n_cls = 2, \n",
    "                               class_name = class_name, model_dir = model_dir, model_name = '01_GB_00p_{:03d}_A'.format(ls), \n",
    "                               batch_size = 20, GPU_idx = 3)\n",
    "\n",
    "    GB_00p_B_model = SSM_Model(np.expand_dims(GB_test_X[:,1,:,:], axis = 1), GB_test_Y, n_ch = 1, n_cls = 2, \n",
    "                               class_name = class_name, model_dir = model_dir, model_name = '01_GB_00p_{:03d}_B'.format(ls), \n",
    "                               batch_size = 20, GPU_idx = 3)\n",
    "    \n",
    "    GB_00p_AB_model = SSM_Model(GB_test_X, GB_test_Y, n_ch = 2, n_cls = 2, class_name = class_name, \n",
    "                                model_dir = model_dir, model_name = '01_GB_00p_{:03d}_AB'.format(ls), batch_size = 20, GPU_idx = 3)\n",
    "    \n",
    "    GB_00p_A_model.Evaluation()\n",
    "    GB_00p_B_model.Evaluation()\n",
    "    GB_00p_AB_model.Evaluation()\n",
    "    GB_accrs.append([GB_00p_A_model.accr, GB_00p_B_model.accr, GB_00p_AB_model.accr])"
   ]
  },
  {
   "cell_type": "code",
   "execution_count": 11,
   "metadata": {
    "ExecuteTime": {
     "end_time": "2020-05-22T04:40:16.425080Z",
     "start_time": "2020-05-22T04:40:16.351370Z"
    }
   },
   "outputs": [
    {
     "data": {
      "text/html": [
       "<div>\n",
       "<style scoped>\n",
       "    .dataframe tbody tr th:only-of-type {\n",
       "        vertical-align: middle;\n",
       "    }\n",
       "\n",
       "    .dataframe tbody tr th {\n",
       "        vertical-align: top;\n",
       "    }\n",
       "\n",
       "    .dataframe thead th {\n",
       "        text-align: right;\n",
       "    }\n",
       "</style>\n",
       "<table border=\"1\" class=\"dataframe\">\n",
       "  <thead>\n",
       "    <tr style=\"text-align: right;\">\n",
       "      <th></th>\n",
       "      <th>Segment Length</th>\n",
       "      <th>Model</th>\n",
       "      <th>Accuracy (%)</th>\n",
       "    </tr>\n",
       "  </thead>\n",
       "  <tbody>\n",
       "    <tr>\n",
       "      <th>0</th>\n",
       "      <td>0.25s</td>\n",
       "      <td>A1</td>\n",
       "      <td>98.71</td>\n",
       "    </tr>\n",
       "    <tr>\n",
       "      <th>1</th>\n",
       "      <td>0.25s</td>\n",
       "      <td>A2</td>\n",
       "      <td>98.87</td>\n",
       "    </tr>\n",
       "    <tr>\n",
       "      <th>2</th>\n",
       "      <td>0.25s</td>\n",
       "      <td>A1 &amp; A2</td>\n",
       "      <td>99.46</td>\n",
       "    </tr>\n",
       "    <tr>\n",
       "      <th>3</th>\n",
       "      <td>0.50s</td>\n",
       "      <td>A1</td>\n",
       "      <td>98.21</td>\n",
       "    </tr>\n",
       "    <tr>\n",
       "      <th>4</th>\n",
       "      <td>0.50s</td>\n",
       "      <td>A2</td>\n",
       "      <td>98.96</td>\n",
       "    </tr>\n",
       "    <tr>\n",
       "      <th>5</th>\n",
       "      <td>0.50s</td>\n",
       "      <td>A1 &amp; A2</td>\n",
       "      <td>99.60</td>\n",
       "    </tr>\n",
       "    <tr>\n",
       "      <th>6</th>\n",
       "      <td>0.75s</td>\n",
       "      <td>A1</td>\n",
       "      <td>98.27</td>\n",
       "    </tr>\n",
       "    <tr>\n",
       "      <th>7</th>\n",
       "      <td>0.75s</td>\n",
       "      <td>A2</td>\n",
       "      <td>99.05</td>\n",
       "    </tr>\n",
       "    <tr>\n",
       "      <th>8</th>\n",
       "      <td>0.75s</td>\n",
       "      <td>A1 &amp; A2</td>\n",
       "      <td>99.40</td>\n",
       "    </tr>\n",
       "    <tr>\n",
       "      <th>9</th>\n",
       "      <td>1.00s</td>\n",
       "      <td>A1</td>\n",
       "      <td>97.69</td>\n",
       "    </tr>\n",
       "    <tr>\n",
       "      <th>10</th>\n",
       "      <td>1.00s</td>\n",
       "      <td>A2</td>\n",
       "      <td>98.65</td>\n",
       "    </tr>\n",
       "    <tr>\n",
       "      <th>11</th>\n",
       "      <td>1.00s</td>\n",
       "      <td>A1 &amp; A2</td>\n",
       "      <td>98.57</td>\n",
       "    </tr>\n",
       "  </tbody>\n",
       "</table>\n",
       "</div>"
      ],
      "text/plain": [
       "   Segment Length    Model  Accuracy (%)\n",
       "0           0.25s       A1         98.71\n",
       "1           0.25s       A2         98.87\n",
       "2           0.25s  A1 & A2         99.46\n",
       "3           0.50s       A1         98.21\n",
       "4           0.50s       A2         98.96\n",
       "5           0.50s  A1 & A2         99.60\n",
       "6           0.75s       A1         98.27\n",
       "7           0.75s       A2         99.05\n",
       "8           0.75s  A1 & A2         99.40\n",
       "9           1.00s       A1         97.69\n",
       "10          1.00s       A2         98.65\n",
       "11          1.00s  A1 & A2         98.57"
      ]
     },
     "execution_count": 11,
     "metadata": {},
     "output_type": "execute_result"
    }
   ],
   "source": [
    "GB_df = pd.DataFrame(columns = ['Segment Length', 'Model', 'Accuracy (%)'])\n",
    "\n",
    "for i, ls, accrs in zip(range(4), Lengths, GB_accrs):\n",
    "    if i < 3:\n",
    "        GB_df.loc[3*i] = ['0.{}s'.format(ls), 'A1', accrs[0]]\n",
    "        GB_df.loc[3*i+1] = ['0.{}s'.format(ls), 'A2', accrs[1]]\n",
    "        GB_df.loc[3*i+2] = ['0.{}s'.format(ls), 'A1 & A2', accrs[2]]\n",
    "    else:\n",
    "        GB_df.loc[3*i] = ['1.00s', 'A1', accrs[0]]\n",
    "        GB_df.loc[3*i+1] = ['1.00s', 'A2', accrs[1]]\n",
    "        GB_df.loc[3*i+2] = ['1.00s', 'A1 & A2', accrs[2]]\n",
    "GB_df"
   ]
  },
  {
   "cell_type": "code",
   "execution_count": 12,
   "metadata": {
    "ExecuteTime": {
     "end_time": "2020-05-22T04:40:31.833128Z",
     "start_time": "2020-05-22T04:40:31.547683Z"
    }
   },
   "outputs": [
    {
     "data": {
      "image/png": "[encoded data removed]",
      "text/plain": [
       "<Figure size 720x576 with 1 Axes>"
      ]
     },
     "metadata": {
      "needs_background": "light"
     },
     "output_type": "display_data"
    }
   ],
   "source": [
    "fig = plt.figure(figsize = (10, 8))\n",
    "sns.barplot(x = 'Segment Length', y = 'Accuracy (%)', hue = 'Model', data = GB_df, palette = 'Paired', alpha = 0.85)\n",
    "plt.legend(bbox_to_anchor=(1.02, 1), loc=2, borderaxespad=0., fontsize = 15)\n",
    "plt.xticks(fontsize = 15)\n",
    "plt.yticks(fontsize = 15)\n",
    "plt.ylim([0, 100])\n",
    "plt.xlabel('Segment Length', fontsize = 18)\n",
    "plt.ylabel('Accuracy (%)', fontsize = 18)\n",
    "plt.show()"
   ]
  },
  {
   "cell_type": "markdown",
   "metadata": {},
   "source": [
    "# 2. Fault classification"
   ]
  },
  {
   "cell_type": "code",
   "execution_count": 13,
   "metadata": {
    "ExecuteTime": {
     "end_time": "2020-05-22T04:40:43.354316Z",
     "start_time": "2020-05-22T04:40:43.348487Z"
    }
   },
   "outputs": [],
   "source": [
    "class_name = ['Heavy Oil', 'Die Punch', 'Scrapped Wire', 'Die Chip', 'Die Internal', 'PIN']"
   ]
  },
  {
   "cell_type": "code",
   "execution_count": 14,
   "metadata": {
    "ExecuteTime": {
     "end_time": "2020-05-22T04:41:02.484308Z",
     "start_time": "2020-05-22T04:40:43.515222Z"
    }
   },
   "outputs": [
    {
     "name": "stdout",
     "output_type": "stream",
     "text": [
      "Model: 01_B6_00p_025_A_0.01_32_2005210452_121_t_accr_0.9972_t_loss_0.009616_v_accr_0.9144_v_loss_0.927969.pt \n",
      "\n",
      "Accuracy: 89.79 % (2753 / 3066)\n",
      "\n",
      "Model: 01_B6_00p_025_B_0.001_32_2005220144_101_t_accr_0.9983_t_loss_0.004942_v_accr_0.9348_v_loss_0.549196.pt \n",
      "\n",
      "Accuracy: 91.59 % (2808 / 3066)\n",
      "\n",
      "Model: 01_B6_00p_025_AB_0.001_32_2005211614_102_t_accr_0.9971_t_loss_0.010975_v_accr_0.9707_v_loss_1.922117.pt \n",
      "\n",
      "Accuracy: 95.08 % (2915 / 3066)\n",
      "\n",
      "Model: 01_B6_00p_050_A_0.01_16_2005210748_225_t_accr_0.9996_t_loss_0.001537_v_accr_0.9349_v_loss_0.539604.pt \n",
      "\n",
      "Accuracy: 89.36 % (1369 / 1532)\n",
      "\n",
      "Model: 01_B6_00p_050_B_0.001_8_2005220356_218_t_accr_1.0000_t_loss_0.000036_v_accr_0.9495_v_loss_0.429538.pt \n",
      "\n",
      "Accuracy: 91.19 % (1397 / 1532)\n",
      "\n",
      "Model: 01_B6_00p_050_AB_0.01_8_2005211843_165_t_accr_1.0000_t_loss_0.000013_v_accr_0.9577_v_loss_0.404131.pt \n",
      "\n",
      "Accuracy: 95.04 % (1456 / 1532)\n",
      "\n",
      "Model: 01_B6_00p_075_A_0.001_32_2005211019_361_t_accr_1.0000_t_loss_0.000006_v_accr_0.8732_v_loss_1.262063.pt \n",
      "\n",
      "Accuracy: 83.69 % (857 / 1024)\n",
      "\n",
      "Model: 01_B6_00p_075_B_0.01_16_2005220819_207_t_accr_1.0000_t_loss_0.000090_v_accr_0.9415_v_loss_0.441775.pt \n",
      "\n",
      "Accuracy: 90.82 % (930 / 1024)\n",
      "\n",
      "Model: 01_B6_00p_075_AB_0.01_8_2005212003_261_t_accr_1.0000_t_loss_0.000025_v_accr_0.9463_v_loss_0.473631.pt \n",
      "\n",
      "Accuracy: 92.38 % (946 / 1024)\n",
      "\n"
     ]
    }
   ],
   "source": [
    "data_dir = '/mnt/disk1/yunseob/Pytorch/SSM/1_Semblex/08_shorten_length/SemblexData'\n",
    "model = './model/'\n",
    "\n",
    "B6_accrs = []\n",
    "\n",
    "Lengths = [25, 50, 75]\n",
    "\n",
    "for ls in Lengths:\n",
    "    \n",
    "    B6_test_X, B6_test_Y = B6dataLoad(data_dir + '/0{}s'.format(ls), ch = [0, 1], data_type = '4_test_data')\n",
    "    \n",
    "    B6_00p_A_model = SSM_Model(np.expand_dims(B6_test_X[:,0,:,:], axis = 1), B6_test_Y, n_ch = 1, n_cls = 6, \n",
    "                               class_name = class_name, model_dir = model_dir, model_name = '01_B6_00p_0{}_A'.format(ls), \n",
    "                               batch_size = 20, GPU_idx = 3)\n",
    "\n",
    "    B6_00p_B_model = SSM_Model(np.expand_dims(B6_test_X[:,1,:,:], axis = 1), B6_test_Y, n_ch = 1, n_cls = 6, \n",
    "                               class_name = class_name, model_dir = model_dir, model_name = '01_B6_00p_0{}_B'.format(ls), \n",
    "                               batch_size = 20, GPU_idx = 3)\n",
    "    \n",
    "    B6_00p_AB_model = SSM_Model(B6_test_X, B6_test_Y, n_ch = 2, n_cls = 6, class_name = class_name, \n",
    "                                model_dir = model_dir, model_name = '01_B6_00p_0{}_AB'.format(ls), batch_size = 20, GPU_idx = 3)\n",
    "    \n",
    "    B6_00p_A_model.Evaluation()\n",
    "    B6_00p_B_model.Evaluation()\n",
    "    B6_00p_AB_model.Evaluation()\n",
    "    B6_accrs.append([B6_00p_A_model.accr, B6_00p_B_model.accr, B6_00p_AB_model.accr])"
   ]
  },
  {
   "cell_type": "code",
   "execution_count": 15,
   "metadata": {
    "ExecuteTime": {
     "end_time": "2020-05-22T04:41:10.187026Z",
     "start_time": "2020-05-22T04:41:10.137509Z"
    }
   },
   "outputs": [
    {
     "data": {
      "text/html": [
       "<div>\n",
       "<style scoped>\n",
       "    .dataframe tbody tr th:only-of-type {\n",
       "        vertical-align: middle;\n",
       "    }\n",
       "\n",
       "    .dataframe tbody tr th {\n",
       "        vertical-align: top;\n",
       "    }\n",
       "\n",
       "    .dataframe thead th {\n",
       "        text-align: right;\n",
       "    }\n",
       "</style>\n",
       "<table border=\"1\" class=\"dataframe\">\n",
       "  <thead>\n",
       "    <tr style=\"text-align: right;\">\n",
       "      <th></th>\n",
       "      <th>Segment Length</th>\n",
       "      <th>Model</th>\n",
       "      <th>Accuracy (%)</th>\n",
       "    </tr>\n",
       "  </thead>\n",
       "  <tbody>\n",
       "    <tr>\n",
       "      <th>0</th>\n",
       "      <td>0.25s</td>\n",
       "      <td>A1</td>\n",
       "      <td>89.79</td>\n",
       "    </tr>\n",
       "    <tr>\n",
       "      <th>1</th>\n",
       "      <td>0.25s</td>\n",
       "      <td>A2</td>\n",
       "      <td>91.59</td>\n",
       "    </tr>\n",
       "    <tr>\n",
       "      <th>2</th>\n",
       "      <td>0.25s</td>\n",
       "      <td>A1 &amp; A2</td>\n",
       "      <td>95.08</td>\n",
       "    </tr>\n",
       "    <tr>\n",
       "      <th>3</th>\n",
       "      <td>0.50s</td>\n",
       "      <td>A1</td>\n",
       "      <td>89.36</td>\n",
       "    </tr>\n",
       "    <tr>\n",
       "      <th>4</th>\n",
       "      <td>0.50s</td>\n",
       "      <td>A2</td>\n",
       "      <td>91.19</td>\n",
       "    </tr>\n",
       "    <tr>\n",
       "      <th>5</th>\n",
       "      <td>0.50s</td>\n",
       "      <td>A1 &amp; A2</td>\n",
       "      <td>95.04</td>\n",
       "    </tr>\n",
       "    <tr>\n",
       "      <th>6</th>\n",
       "      <td>0.75s</td>\n",
       "      <td>A1</td>\n",
       "      <td>83.69</td>\n",
       "    </tr>\n",
       "    <tr>\n",
       "      <th>7</th>\n",
       "      <td>0.75s</td>\n",
       "      <td>A2</td>\n",
       "      <td>90.82</td>\n",
       "    </tr>\n",
       "    <tr>\n",
       "      <th>8</th>\n",
       "      <td>0.75s</td>\n",
       "      <td>A1 &amp; A2</td>\n",
       "      <td>92.38</td>\n",
       "    </tr>\n",
       "  </tbody>\n",
       "</table>\n",
       "</div>"
      ],
      "text/plain": [
       "  Segment Length    Model  Accuracy (%)\n",
       "0          0.25s       A1         89.79\n",
       "1          0.25s       A2         91.59\n",
       "2          0.25s  A1 & A2         95.08\n",
       "3          0.50s       A1         89.36\n",
       "4          0.50s       A2         91.19\n",
       "5          0.50s  A1 & A2         95.04\n",
       "6          0.75s       A1         83.69\n",
       "7          0.75s       A2         90.82\n",
       "8          0.75s  A1 & A2         92.38"
      ]
     },
     "execution_count": 15,
     "metadata": {},
     "output_type": "execute_result"
    }
   ],
   "source": [
    "B6_df = pd.DataFrame(columns = ['Segment Length', 'Model', 'Accuracy (%)'])\n",
    "\n",
    "for i, ls, accrs in zip(range(5), Lengths, B6_accrs):\n",
    "    B6_df.loc[3*i] = ['0.{}s'.format(ls), 'A1', accrs[0]]\n",
    "    B6_df.loc[3*i+1] = ['0.{}s'.format(ls), 'A2', accrs[1]]\n",
    "    B6_df.loc[3*i+2] = ['0.{}s'.format(ls), 'A1 & A2', accrs[2]]\n",
    "    \n",
    "B6_df"
   ]
  },
  {
   "cell_type": "code",
   "execution_count": null,
   "metadata": {
    "ExecuteTime": {
     "end_time": "2020-05-22T04:24:18.882453Z",
     "start_time": "2020-05-22T04:24:11.071Z"
    }
   },
   "outputs": [],
   "source": [
    "data_dir = '/mnt/disk1/yunseob/Pytorch/SSM/1_Semblex/06_no_overlap/SemblexData/wt_4040/'\n",
    "model_dir = '/mnt/disk1/yunseob/Pytorch/SSM/1_Semblex/07_number_of_training_sample/model/'\n",
    "\n",
    "B6_test_X, B6_test_Y = B6dataLoad(data_dir, ch = [0, 1], data_type = '4_test_data')\n",
    "\n",
    "sr = 1\n",
    "\n",
    "B6_00p_A_model = SSM_Model(np.expand_dims(B6_test_X[:,0,:,:], axis = 1), B6_test_Y, n_ch = 1, n_cls = 6, \n",
    "                               class_name = class_name, model_dir = model_dir, model_name = '01_B6_00p_{}_A'.format(sr), \n",
    "                               batch_size = 20, GPU_idx = 3)\n",
    "\n",
    "B6_00p_B_model = SSM_Model(np.expand_dims(B6_test_X[:,1,:,:], axis = 1), B6_test_Y, n_ch = 1, n_cls = 6, \n",
    "                           class_name = class_name, model_dir = model_dir, model_name = '01_B6_00p_{}_B'.format(sr), \n",
    "                           batch_size = 20, GPU_idx = 3)\n",
    "\n",
    "B6_00p_AB_model = SSM_Model(B6_test_X, B6_test_Y, n_ch = 2, n_cls = 6, class_name = class_name, \n",
    "                            model_dir = model_dir, model_name = '01_B6_00p_{}_AB'.format(sr), batch_size = 20, GPU_idx = 3)\n",
    "\n",
    "B6_00p_A_model.Evaluation()\n",
    "B6_00p_B_model.Evaluation()\n",
    "B6_00p_AB_model.Evaluation()\n",
    "B6_accrs.append([B6_00p_A_model.accr, B6_00p_B_model.accr, B6_00p_AB_model.accr])"
   ]
  },
  {
   "cell_type": "code",
   "execution_count": null,
   "metadata": {
    "ExecuteTime": {
     "end_time": "2020-05-22T04:24:18.883202Z",
     "start_time": "2020-05-22T04:24:11.525Z"
    }
   },
   "outputs": [],
   "source": [
    "for i, accrs in zip(range(3,4), B6_accrs[3:]):\n",
    "    B6_df.loc[3*i] = ['1.00s', 'A1', accrs[0]]\n",
    "    B6_df.loc[3*i+1] = ['1.00s', 'A2', accrs[1]]\n",
    "    B6_df.loc[3*i+2] = ['1.00s', 'A1 & A2', accrs[2]]\n",
    "    \n",
    "B6_df"
   ]
  },
  {
   "cell_type": "code",
   "execution_count": null,
   "metadata": {
    "ExecuteTime": {
     "end_time": "2020-05-22T04:24:18.883896Z",
     "start_time": "2020-05-22T04:24:11.946Z"
    }
   },
   "outputs": [],
   "source": [
    "fig = plt.figure(figsize = (10, 8))\n",
    "sns.barplot(x = 'Segment Length', y = 'Accuracy (%)', hue = 'Model', data = B6_df, palette = 'Paired', alpha = 0.85)\n",
    "plt.legend(bbox_to_anchor=(1.02, 1), loc=2, borderaxespad=0., fontsize = 15)\n",
    "plt.xticks(fontsize = 15)\n",
    "plt.yticks(fontsize = 15)\n",
    "plt.ylim([0, 100])\n",
    "plt.xlabel('Segment Length', fontsize = 18)\n",
    "plt.ylabel('Accuracy (%)', fontsize = 18)\n",
    "plt.show()"
   ]
  },
  {
   "cell_type": "code",
   "execution_count": null,
   "metadata": {},
   "outputs": [],
   "source": []
  }
 ],
 "metadata": {
  "hide_input": false,
  "kernelspec": {
   "display_name": "Pytorch",
   "language": "python",
   "name": "pytorch"
  },
  "language_info": {
   "codemirror_mode": {
    "name": "ipython",
    "version": 3
   },
   "file_extension": ".py",
   "mimetype": "text/x-python",
   "name": "python",
   "nbconvert_exporter": "python",
   "pygments_lexer": "ipython3",
   "version": "3.5.2"
  },
  "toc": {
   "base_numbering": 1,
   "nav_menu": {},
   "number_sections": false,
   "sideBar": true,
   "skip_h1_title": false,
   "title_cell": "Table of Contents",
   "title_sidebar": "Contents",
   "toc_cell": false,
   "toc_position": {},
   "toc_section_display": true,
   "toc_window_display": false
  }
 },
 "nbformat": 4,
 "nbformat_minor": 2
}
