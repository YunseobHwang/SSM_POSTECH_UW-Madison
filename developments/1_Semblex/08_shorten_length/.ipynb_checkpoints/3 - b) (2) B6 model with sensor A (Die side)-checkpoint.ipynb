{
 "cells": [
  {
   "cell_type": "code",
   "execution_count": 1,
   "metadata": {
    "ExecuteTime": {
     "end_time": "2020-05-20T16:34:07.796339Z",
     "start_time": "2020-05-20T16:34:07.123599Z"
    }
   },
   "outputs": [],
   "source": [
    "import sys\n",
    "sys.path.append('/mnt/disk1/yunseob/Pytorch/SSM/0_modules')\n",
    "from SSM_utils import B6dataLoad\n",
    "from SSM_DL_training import CNN_Training\n",
    "\n",
    "import numpy as np\n",
    "from itertools import product"
   ]
  },
  {
   "cell_type": "code",
   "execution_count": null,
   "metadata": {
    "ExecuteTime": {
     "start_time": "2020-05-20T16:34:07.977Z"
    }
   },
   "outputs": [
    {
     "name": "stdout",
     "output_type": "stream",
     "text": [
      "Segment Length: 25 Learning rate: 0.0001 Batch size: 8 \n",
      "\n",
      "0 (744, 1, 40, 40) (744,)\n",
      "0 train: (669, 1, 40, 40) (669,) valid: (75, 1, 40, 40) (75,)\n",
      "1 (2326, 1, 40, 40) (2326,)\n",
      "1 train: (2093, 1, 40, 40) (2093,) valid: (233, 1, 40, 40) (233,)\n",
      "2 (1321, 1, 40, 40) (1321,)\n",
      "2 train: (1188, 1, 40, 40) (1188,) valid: (133, 1, 40, 40) (133,)\n",
      "3 (3470, 1, 40, 40) (3470,)\n",
      "3 train: (3123, 1, 40, 40) (3123,) valid: (347, 1, 40, 40) (347,)\n",
      "4 (2119, 1, 40, 40) (2119,)\n",
      "4 train: (1907, 1, 40, 40) (1907,) valid: (212, 1, 40, 40) (212,)\n",
      "5 (2262, 1, 40, 40) (2262,)\n",
      "5 train: (2035, 1, 40, 40) (2035,) valid: (227, 1, 40, 40) (227,)\n",
      "\n",
      "Device: GeForce RTX 2080 Ti \n",
      "\n",
      "----------------------------------------------------------------\n",
      "        Layer (type)               Output Shape         Param #\n",
      "================================================================\n",
      "            Conv2d-1           [-1, 64, 40, 40]             640\n",
      "            Conv2d-2           [-1, 64, 40, 40]          36,928\n",
      "       BatchNorm2d-3           [-1, 64, 40, 40]             128\n",
      "         MaxPool2d-4           [-1, 64, 20, 20]               0\n",
      "            Conv2d-5           [-1, 64, 20, 20]          36,928\n",
      "            Conv2d-6           [-1, 64, 20, 20]          36,928\n",
      "       BatchNorm2d-7           [-1, 64, 20, 20]             128\n",
      "         MaxPool2d-8           [-1, 64, 10, 10]               0\n",
      "            Conv2d-9           [-1, 64, 10, 10]          36,928\n",
      "           Conv2d-10           [-1, 64, 10, 10]          36,928\n",
      "      BatchNorm2d-11           [-1, 64, 10, 10]             128\n",
      "        MaxPool2d-12             [-1, 64, 5, 5]               0\n",
      "           Conv2d-13             [-1, 64, 5, 5]          36,928\n",
      "           Conv2d-14             [-1, 64, 5, 5]          36,928\n",
      "      BatchNorm2d-15             [-1, 64, 5, 5]             128\n",
      "        MaxPool2d-16             [-1, 64, 2, 2]               0\n",
      "           Linear-17                  [-1, 128]          32,896\n",
      "          Dropout-18                  [-1, 128]               0\n",
      "           Linear-19                    [-1, 6]             774\n",
      "          ConvNet-20                    [-1, 6]               0\n",
      "================================================================\n",
      "Total params: 293,318\n",
      "Trainable params: 293,318\n",
      "Non-trainable params: 0\n",
      "----------------------------------------------------------------\n",
      "Input size (MB): 0.01\n",
      "Forward/backward pass size (MB): 3.37\n",
      "Params size (MB): 1.12\n",
      "Estimated Total Size (MB): 4.50\n",
      "----------------------------------------------------------------\n",
      "\n",
      "Epoch |######---------------------------------------------------------------- | 11 / 125"
     ]
    }
   ],
   "source": [
    "lengths = [25, 50, 75]\n",
    "epochs = [125, 250, 375]\n",
    "\n",
    "for length, epoch in zip(lengths, epochs):\n",
    "    data_dir = '/mnt/disk1/yunseob/Pytorch/SSM/1_Semblex/08_shorten_length/SemblexData/0{}s'.format(length)\n",
    "\n",
    "    B6_Xs, B6_Ys = B6dataLoad(data_dir, ch = 0, data_type = '3_train_data')\n",
    "    \n",
    "    LRs = [0.0001, 0.001, 0.01]\n",
    "    BSs = [8, 16, 32]\n",
    "\n",
    "    Params = list(product(*[LRs, BSs]))\n",
    "\n",
    "    n = 0; model_spec = 1\n",
    "    for i in range(1, 2):\n",
    "        for lr, bs in Params:\n",
    "            n += 1\n",
    "            if n != 1: model_spec = 0\n",
    "            print('Segment Length: 0.{} s'.format(length), 'Learning rate:', lr, 'Batch size:', bs, '\\n')\n",
    "\n",
    "            CT = CNN_Training(B6_Xs, B6_Ys, n_ch = 1, n_cls = 6, lr = lr, n_batch_per_cls = bs, \n",
    "                              n_epoch = epoch, model_name = '{:02d}_B6_00p_0{}_A'.format(i, length), GPU_idx = 3)\n",
    "\n",
    "            CT.Run(model_spec = model_spec, verbose = 2, model_dir = './model/')\n",
    "            print('')"
   ]
  },
  {
   "cell_type": "code",
   "execution_count": null,
   "metadata": {},
   "outputs": [],
   "source": []
  }
 ],
 "metadata": {
  "hide_input": false,
  "kernelspec": {
   "display_name": "Pytorch",
   "language": "python",
   "name": "pytorch"
  },
  "language_info": {
   "codemirror_mode": {
    "name": "ipython",
    "version": 3
   },
   "file_extension": ".py",
   "mimetype": "text/x-python",
   "name": "python",
   "nbconvert_exporter": "python",
   "pygments_lexer": "ipython3",
   "version": "3.5.2"
  },
  "toc": {
   "base_numbering": 1,
   "nav_menu": {},
   "number_sections": false,
   "sideBar": true,
   "skip_h1_title": false,
   "title_cell": "Table of Contents",
   "title_sidebar": "Contents",
   "toc_cell": false,
   "toc_position": {},
   "toc_section_display": true,
   "toc_window_display": false
  }
 },
 "nbformat": 4,
 "nbformat_minor": 2
}
