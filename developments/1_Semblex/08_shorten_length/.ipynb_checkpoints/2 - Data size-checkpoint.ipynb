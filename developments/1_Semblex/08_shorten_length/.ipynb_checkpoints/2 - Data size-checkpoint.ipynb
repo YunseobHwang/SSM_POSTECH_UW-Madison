{
 "cells": [
  {
   "cell_type": "code",
   "execution_count": 1,
   "metadata": {
    "ExecuteTime": {
     "end_time": "2020-06-05T17:01:51.508467Z",
     "start_time": "2020-06-05T17:01:51.372452Z"
    }
   },
   "outputs": [],
   "source": [
    "import numpy as np\n",
    "import sys\n",
    "import os\n",
    "import pickle\n",
    "import gzip"
   ]
  },
  {
   "cell_type": "code",
   "execution_count": 2,
   "metadata": {
    "ExecuteTime": {
     "end_time": "2020-06-05T17:01:51.530157Z",
     "start_time": "2020-06-05T17:01:51.510798Z"
    }
   },
   "outputs": [],
   "source": [
    "def concat(data):\n",
    "    return np.concatenate(data)\n",
    "\n",
    "def add_ch(img):\n",
    "    \"\"\"\n",
    "    (sample #, height, width,) -> (sample #, height, width, channel)\n",
    "    \"\"\"\n",
    "    return np.expand_dims(img, axis = -1)\n",
    "\n",
    "def Reshape4torch(img):\n",
    "    \"\"\"\n",
    "    (sample #, height, width, channel) -> (sample #, channel, height, width)\n",
    "    \"\"\"\n",
    "    img = np.transpose(img, (0, 3, 1, 2))\n",
    "    return img\n",
    "    \n",
    "def GenerateLabel(data, cls):\n",
    "    label = cls*np.ones([data.shape[0]])\n",
    "    return label\n",
    "\n",
    "\n",
    "def GBdataLoad(data_dir, ch = [0, 1], data_type = '3_train_data'):\n",
    "    \n",
    "    with gzip.open(data_dir + '/SemblexData_config.pickle', 'rb') as f:\n",
    "        data = pickle.load(f)\n",
    "       \n",
    "    G_X, B_X = [], []\n",
    "    for cls, data_bunch in data.items():\n",
    "        for data_i in data_bunch:\n",
    "            if cls == 'GOOD':\n",
    "                G_X.append(data_i[data_type][:, :, :, ch])\n",
    "            elif cls == 'BAD':\n",
    "                B_X.append(data_i[data_type][:, :, :, ch])\n",
    "     \n",
    "    G_X, B_X = concat(G_X), concat(B_X)\n",
    "    \n",
    "    if len(G_X.shape) != 4:\n",
    "        G_X, B_X = add_ch(G_X), add_ch(B_X)\n",
    "    G_X, B_X = Reshape4torch(G_X), Reshape4torch(B_X)\n",
    "    GB_Xs, GB_Ys = [G_X, B_X], []\n",
    "    for i, GB_X in zip(range(len(GB_Xs)), GB_Xs):\n",
    "        GB_Ys.append(GenerateLabel(GB_X, i))\n",
    "        \n",
    "    return GB_Xs, GB_Ys\n",
    "        \n",
    "def B6dataLoad(data_dir, ch = [0, 1], data_type = '3_train_data'):\n",
    "    \n",
    "    with gzip.open(data_dir + '/SemblexData_config.pickle', 'rb') as f:\n",
    "        data = pickle.load(f)\n",
    "        \n",
    "    BAD_cls = {0: 'OIL', 1: 'PUNCH', 2: 'SCRAPPED', 3: 'DIE_CHIP', 4: 'DIE_INTERNAL', 5: 'PIN'}\n",
    "\n",
    "    B_X1, B_X2, B_X3, B_X4, B_X5, B_X6 = [], [], [], [], [], []\n",
    "    for cls, data_bunch in data.items():\n",
    "        for data_i in data_bunch:\n",
    "            if cls == 'BAD':\n",
    "                if BAD_cls[0] in data_i['1_file']: B_X1.append(data_i[data_type][:, :, :, ch])\n",
    "                if BAD_cls[1] in data_i['1_file']: B_X2.append(data_i[data_type][:, :, :, ch])\n",
    "                if BAD_cls[2] in data_i['1_file']: B_X3.append(data_i[data_type][:, :, :, ch])\n",
    "                if BAD_cls[3] in data_i['1_file']: B_X4.append(data_i[data_type][:, :, :, ch])\n",
    "                if BAD_cls[4] in data_i['1_file']: B_X5.append(data_i[data_type][:, :, :, ch])\n",
    "                if BAD_cls[5] in data_i['1_file']: B_X6.append(data_i[data_type][:, :, :, ch])\n",
    "\n",
    "    B_X1, B_X2, B_X3, B_X4, B_X5, B_X6 = concat(B_X1), concat(B_X2), concat(B_X3), concat(B_X4), concat(B_X5), concat(B_X6)\n",
    "    \n",
    "    if len(B_X1.shape) != 4:\n",
    "        B_X1, B_X2, B_X3, B_X4, B_X5, B_X6 = add_ch(B_X1), add_ch(B_X2), add_ch(B_X3), add_ch(B_X4), add_ch(B_X5), add_ch(B_X6)\n",
    "    \n",
    "    B_X1, B_X2, B_X3, B_X4, B_X5, B_X6 = (Reshape4torch(B_X1), Reshape4torch(B_X2), Reshape4torch(B_X3), \n",
    "                                          Reshape4torch(B_X4), Reshape4torch(B_X5), Reshape4torch(B_X6))\n",
    "    \n",
    "    B6_Xs = [B_X1, B_X2, B_X3, B_X4, B_X5, B_X6]\n",
    "    B6_Ys = []\n",
    "    for i, B6_X in zip(range(len(B6_Xs)), B6_Xs):\n",
    "        B6_Ys.append(GenerateLabel(B6_X, i))\n",
    "\n",
    "    return B6_Xs, B6_Ys"
   ]
  },
  {
   "cell_type": "code",
   "execution_count": 7,
   "metadata": {
    "ExecuteTime": {
     "end_time": "2020-06-05T17:06:45.838305Z",
     "start_time": "2020-06-05T17:06:25.438842Z"
    },
    "code_folding": []
   },
   "outputs": [
    {
     "name": "stdout",
     "output_type": "stream",
     "text": [
      "0.25s [7826, 12242] 20068\n",
      "0.50s [3907, 6110] 10017\n",
      "0.75s [2604, 4070] 6674\n",
      "1.00s [1952, 3050] 5002\n"
     ]
    }
   ],
   "source": [
    "for length in [25, 50, 75, 100]:\n",
    "    seg_len = '{:03d}s'.format(length)\n",
    "    data_dir = '/mnt/disk1/yunseob/Pytorch/SSM/1_Semblex/08_shorten_length/SemblexData/' + seg_len\n",
    "\n",
    "    GB_Xs, GB_Ys = GBdataLoad(data_dir, ch = [0, 1], data_type = '3_train_data')\n",
    "\n",
    "    LEN = []\n",
    "    for GB_X, GB_Y in zip(GB_Xs, GB_Ys):\n",
    "        LEN.append(len(GB_X))\n",
    "    print(seg_len[0] + '.' + seg_len[1:], LEN, np.sum(LEN))"
   ]
  },
  {
   "cell_type": "code",
   "execution_count": 9,
   "metadata": {
    "ExecuteTime": {
     "end_time": "2020-06-05T17:10:18.050529Z",
     "start_time": "2020-06-05T17:09:58.557126Z"
    }
   },
   "outputs": [
    {
     "name": "stdout",
     "output_type": "stream",
     "text": [
      "0.25s [1959, 3066] 5025\n",
      "0.50s [978, 1532] 2510\n",
      "0.75s [654, 1024] 1678\n",
      "1.00s [490, 768] 1258\n"
     ]
    }
   ],
   "source": [
    "for length in [25, 50, 75, 100]:\n",
    "    seg_len = '{:03d}s'.format(length)\n",
    "    data_dir = '/mnt/disk1/yunseob/Pytorch/SSM/1_Semblex/08_shorten_length/SemblexData/' + seg_len\n",
    "\n",
    "    GB_Xs, GB_Ys = GBdataLoad(data_dir, ch = [0, 1], data_type = '4_test_data')\n",
    "\n",
    "    LEN = []\n",
    "    for GB_X, GB_Y in zip(GB_Xs, GB_Ys):\n",
    "        LEN.append(len(GB_X))\n",
    "    print(seg_len[0] + '.' + seg_len[1:], LEN, np.sum(LEN))"
   ]
  },
  {
   "cell_type": "code",
   "execution_count": 8,
   "metadata": {
    "ExecuteTime": {
     "end_time": "2020-06-05T17:07:19.163397Z",
     "start_time": "2020-06-05T17:06:57.661644Z"
    }
   },
   "outputs": [
    {
     "name": "stdout",
     "output_type": "stream",
     "text": [
      "0.25s [744, 2326, 1321, 3470, 2119, 2262] 12242\n",
      "0.50s [372, 1161, 659, 1733, 1056, 1129] 6110\n",
      "0.75s [248, 773, 438, 1154, 705, 752] 4070\n",
      "1.00s [185, 579, 329, 865, 528, 564] 3050\n"
     ]
    }
   ],
   "source": [
    "for length in [25, 50, 75, 100]:\n",
    "    seg_len = '{:03d}s'.format(length)\n",
    "    data_dir = '/mnt/disk1/yunseob/Pytorch/SSM/1_Semblex/08_shorten_length/SemblexData/' + seg_len\n",
    "\n",
    "    B6_Xs, B6_Ys = B6dataLoad(data_dir, ch = [0, 1], data_type = '3_train_data')\n",
    "\n",
    "    LEN = []\n",
    "    for B6_X, B6_Y in zip(B6_Xs, B6_Ys):\n",
    "        LEN.append(len(B6_X))\n",
    "    print(seg_len[0] + '.' + seg_len[1:], LEN, np.sum(LEN))"
   ]
  },
  {
   "cell_type": "code",
   "execution_count": 11,
   "metadata": {
    "ExecuteTime": {
     "end_time": "2020-06-05T17:11:03.535231Z",
     "start_time": "2020-06-05T17:10:44.193905Z"
    }
   },
   "outputs": [
    {
     "name": "stdout",
     "output_type": "stream",
     "text": [
      "0.25s [187, 582, 331, 869, 530, 567] 3066\n",
      "0.50s [93, 291, 165, 434, 266, 283] 1532\n",
      "0.75s [62, 195, 111, 290, 177, 189] 1024\n",
      "1.00s [47, 146, 83, 218, 132, 142] 768\n"
     ]
    }
   ],
   "source": [
    "for length in [25, 50, 75, 100]:\n",
    "    seg_len = '{:03d}s'.format(length)\n",
    "    data_dir = '/mnt/disk1/yunseob/Pytorch/SSM/1_Semblex/08_shorten_length/SemblexData/' + seg_len\n",
    "\n",
    "    B6_Xs, B6_Ys = B6dataLoad(data_dir, ch = [0, 1], data_type = '4_test_data')\n",
    "\n",
    "    LEN = []\n",
    "    for B6_X, B6_Y in zip(B6_Xs, B6_Ys):\n",
    "        LEN.append(len(B6_X))\n",
    "    print(seg_len[0] + '.' + seg_len[1:], LEN, np.sum(LEN))"
   ]
  }
 ],
 "metadata": {
  "hide_input": false,
  "kernelspec": {
   "display_name": "Pytorch",
   "language": "python",
   "name": "pytorch"
  },
  "language_info": {
   "codemirror_mode": {
    "name": "ipython",
    "version": 3
   },
   "file_extension": ".py",
   "mimetype": "text/x-python",
   "name": "python",
   "nbconvert_exporter": "python",
   "pygments_lexer": "ipython3",
   "version": "3.5.2"
  },
  "toc": {
   "base_numbering": 1,
   "nav_menu": {},
   "number_sections": false,
   "sideBar": true,
   "skip_h1_title": false,
   "title_cell": "Table of Contents",
   "title_sidebar": "Contents",
   "toc_cell": false,
   "toc_position": {},
   "toc_section_display": true,
   "toc_window_display": false
  }
 },
 "nbformat": 4,
 "nbformat_minor": 2
}
