{
 "cells": [
  {
   "cell_type": "code",
   "execution_count": 1,
   "metadata": {
    "ExecuteTime": {
     "end_time": "2020-05-18T16:01:15.285831Z",
     "start_time": "2020-05-18T16:01:14.704854Z"
    }
   },
   "outputs": [],
   "source": [
    "import sys\n",
    "sys.path.append('/mnt/disk1/yunseob/Pytorch/SSM/0_modules')\n",
    "from SSM_utils import B6dataLoad\n",
    "from SSM_DL_training import CNN_Training\n",
    "\n",
    "import numpy as np\n",
    "from itertools import product"
   ]
  },
  {
   "cell_type": "code",
   "execution_count": 2,
   "metadata": {
    "ExecuteTime": {
     "end_time": "2020-05-18T16:01:17.733703Z",
     "start_time": "2020-05-18T16:01:15.291210Z"
    }
   },
   "outputs": [],
   "source": [
    "data_dir = '/mnt/disk1/yunseob/Pytorch/SSM/1_Semblex/06_no_overlap/SemblexData/wt_4040'\n",
    "\n",
    "B6_Xs, B6_Ys = B6dataLoad(data_dir, ch = [0, 1], data_type = '3_train_data')"
   ]
  },
  {
   "cell_type": "code",
   "execution_count": 3,
   "metadata": {
    "ExecuteTime": {
     "end_time": "2020-05-18T16:01:19.675383Z",
     "start_time": "2020-05-18T16:01:19.668232Z"
    }
   },
   "outputs": [],
   "source": [
    "def ReduceSegments(x, y, rate):\n",
    "    idx = np.random.choice(len(x), int(rate*len(x)), replace = False)\n",
    "    return x[idx], y[idx]"
   ]
  },
  {
   "cell_type": "code",
   "execution_count": null,
   "metadata": {
    "ExecuteTime": {
     "start_time": "2020-05-18T16:02:25.092Z"
    }
   },
   "outputs": [
    {
     "name": "stdout",
     "output_type": "stream",
     "text": [
      "Segments rate: 0.2 Learning rate: 1e-05 Batch size: 8 \n",
      "\n",
      "0 (37, 2, 40, 40) (37,)\n",
      "0 train: (33, 2, 40, 40) (33,) valid: (4, 2, 40, 40) (4,)\n",
      "1 (115, 2, 40, 40) (115,)\n",
      "1 train: (103, 2, 40, 40) (103,) valid: (12, 2, 40, 40) (12,)\n",
      "2 (65, 2, 40, 40) (65,)\n",
      "2 train: (58, 2, 40, 40) (58,) valid: (7, 2, 40, 40) (7,)\n",
      "3 (173, 2, 40, 40) (173,)\n",
      "3 train: (155, 2, 40, 40) (155,) valid: (18, 2, 40, 40) (18,)\n",
      "4 (105, 2, 40, 40) (105,)\n",
      "4 train: (94, 2, 40, 40) (94,) valid: (11, 2, 40, 40) (11,)\n",
      "5 (112, 2, 40, 40) (112,)\n",
      "5 train: (100, 2, 40, 40) (100,) valid: (12, 2, 40, 40) (12,)\n",
      "\n",
      "Device: GeForce RTX 2080 Ti \n",
      "\n",
      "----------------------------------------------------------------\n",
      "        Layer (type)               Output Shape         Param #\n",
      "================================================================\n",
      "            Conv2d-1           [-1, 64, 40, 40]           1,216\n",
      "            Conv2d-2           [-1, 64, 40, 40]          36,928\n",
      "       BatchNorm2d-3           [-1, 64, 40, 40]             128\n",
      "         MaxPool2d-4           [-1, 64, 20, 20]               0\n",
      "            Conv2d-5           [-1, 64, 20, 20]          36,928\n",
      "            Conv2d-6           [-1, 64, 20, 20]          36,928\n",
      "       BatchNorm2d-7           [-1, 64, 20, 20]             128\n",
      "         MaxPool2d-8           [-1, 64, 10, 10]               0\n",
      "            Conv2d-9           [-1, 64, 10, 10]          36,928\n",
      "           Conv2d-10           [-1, 64, 10, 10]          36,928\n",
      "      BatchNorm2d-11           [-1, 64, 10, 10]             128\n",
      "        MaxPool2d-12             [-1, 64, 5, 5]               0\n",
      "           Conv2d-13             [-1, 64, 5, 5]          36,928\n",
      "           Conv2d-14             [-1, 64, 5, 5]          36,928\n",
      "      BatchNorm2d-15             [-1, 64, 5, 5]             128\n",
      "        MaxPool2d-16             [-1, 64, 2, 2]               0\n",
      "           Linear-17                  [-1, 128]          32,896\n",
      "          Dropout-18                  [-1, 128]               0\n",
      "           Linear-19                    [-1, 6]             774\n",
      "          ConvNet-20                    [-1, 6]               0\n",
      "================================================================\n",
      "Total params: 293,894\n",
      "Trainable params: 293,894\n",
      "Non-trainable params: 0\n",
      "----------------------------------------------------------------\n",
      "Input size (MB): 0.01\n",
      "Forward/backward pass size (MB): 3.37\n",
      "Params size (MB): 1.12\n",
      "Estimated Total Size (MB): 4.51\n",
      "----------------------------------------------------------------\n",
      "\n",
      "Epoch |######---------------------------------------------------------------- | 43 / 500"
     ]
    }
   ],
   "source": [
    "SRs = [0.2, 0.4, 0.6, 0.8, 1]\n",
    "LRs = [0.00001, 0.0001, 0.001, 0.01, 0.1]\n",
    "BSs = [8, 16, 32]\n",
    "\n",
    "Params = list(product(*[SRs, LRs, BSs]))\n",
    "\n",
    "n = 0; model_spec = 1\n",
    "for i in range(1, 2):\n",
    "    for sr, lr, bs in Params:\n",
    "        n += 1\n",
    "        if n != 1: model_spec = 0\n",
    "        print('Segments rate:', sr, 'Learning rate:', lr, 'Batch size:', bs, '\\n')\n",
    "        Xs, Ys = [], []\n",
    "        for B6_X, B6_Y in zip(B6_Xs, B6_Ys):\n",
    "            B6_X_, B6_Y_ = ReduceSegments(B6_X, B6_Y, rate = sr)\n",
    "            Xs.append(B6_X_), Ys.append(B6_Y_)\n",
    "\n",
    "        CT = CNN_Training(Xs, Ys, n_ch = 2, n_cls = 6, lr = lr, n_batch_per_cls = bs, \n",
    "                          n_epoch = 500, model_name = '{:02d}_B6_00p_{}_AB'.format(i, sr), GPU_idx = 3)\n",
    "        \n",
    "        CT.Run(model_spec = model_spec, verbose = 2, model_dir = './model/')\n",
    "        print('')"
   ]
  },
  {
   "cell_type": "code",
   "execution_count": null,
   "metadata": {},
   "outputs": [],
   "source": []
  }
 ],
 "metadata": {
  "hide_input": false,
  "kernelspec": {
   "display_name": "Pytorch",
   "language": "python",
   "name": "pytorch"
  },
  "language_info": {
   "codemirror_mode": {
    "name": "ipython",
    "version": 3
   },
   "file_extension": ".py",
   "mimetype": "text/x-python",
   "name": "python",
   "nbconvert_exporter": "python",
   "pygments_lexer": "ipython3",
   "version": "3.5.2"
  },
  "toc": {
   "base_numbering": 1,
   "nav_menu": {},
   "number_sections": false,
   "sideBar": true,
   "skip_h1_title": false,
   "title_cell": "Table of Contents",
   "title_sidebar": "Contents",
   "toc_cell": false,
   "toc_position": {},
   "toc_section_display": true,
   "toc_window_display": false
  }
 },
 "nbformat": 4,
 "nbformat_minor": 2
}
