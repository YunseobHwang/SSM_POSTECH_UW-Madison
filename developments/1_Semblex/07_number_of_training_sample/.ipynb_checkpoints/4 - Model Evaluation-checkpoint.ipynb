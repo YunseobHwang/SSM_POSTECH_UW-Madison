{
 "cells": [
  {
   "cell_type": "code",
   "execution_count": 1,
   "metadata": {
    "ExecuteTime": {
     "end_time": "2020-05-22T16:40:49.409319Z",
     "start_time": "2020-05-22T16:40:48.309748Z"
    }
   },
   "outputs": [],
   "source": [
    "import numpy as np\n",
    "import matplotlib.pyplot as plt\n",
    "import pandas as pd\n",
    "import itertools\n",
    "\n",
    "import sys\n",
    "sys.path.append('/mnt/disk1/yunseob/Pytorch/SSM/0_modules')\n",
    "from SSM_utils import GBdataLoad, B6dataLoad\n",
    "from SSM_DL_evl import SSM_Model\n",
    "\n",
    "import seaborn as sns\n",
    "sns.set(style=\"whitegrid\")"
   ]
  },
  {
   "cell_type": "code",
   "execution_count": 2,
   "metadata": {
    "ExecuteTime": {
     "end_time": "2020-05-22T16:40:49.412950Z",
     "start_time": "2020-05-22T16:40:49.410900Z"
    }
   },
   "outputs": [],
   "source": [
    "model_dir = './model/'\n",
    "CM_save_dir = './results/1_confusion_mat/'"
   ]
  },
  {
   "cell_type": "code",
   "execution_count": 3,
   "metadata": {
    "ExecuteTime": {
     "end_time": "2020-05-22T16:40:49.416766Z",
     "start_time": "2020-05-22T16:40:49.414699Z"
    }
   },
   "outputs": [],
   "source": [
    "data_dir = '/mnt/disk1/yunseob/Pytorch/SSM/1_Semblex/06_no_overlap/SemblexData/wt_4040/'"
   ]
  },
  {
   "cell_type": "code",
   "execution_count": 4,
   "metadata": {
    "ExecuteTime": {
     "end_time": "2020-05-22T16:40:54.596987Z",
     "start_time": "2020-05-22T16:40:49.634526Z"
    }
   },
   "outputs": [],
   "source": [
    "GB_test_X, GB_test_Y = GBdataLoad(data_dir, ch = [0, 1], data_type = '4_test_data')\n",
    "B6_test_X, B6_test_Y = B6dataLoad(data_dir, ch = [0, 1], data_type = '4_test_data')"
   ]
  },
  {
   "cell_type": "code",
   "execution_count": 5,
   "metadata": {
    "ExecuteTime": {
     "end_time": "2020-05-19T20:04:52.148510Z",
     "start_time": "2020-05-19T20:04:46.863021Z"
    }
   },
   "outputs": [],
   "source": [
    "GB_train_X, GB_train_Y = GBdataLoad(data_dir, ch = [0, 1], data_type = '3_train_data')\n",
    "B6_train_X, B6_train_Y = B6dataLoad(data_dir, ch = [0, 1], data_type = '3_train_data')\n",
    "\n",
    "GB_train_X, GB_train_Y = np.concatenate(GB_train_X), np.concatenate(GB_train_Y)\n",
    "B6_train_X, B6_train_Y = np.concatenate(B6_train_X), np.concatenate(B6_train_Y)"
   ]
  },
  {
   "cell_type": "markdown",
   "metadata": {},
   "source": [
    "# 1. Fault diagnosis"
   ]
  },
  {
   "cell_type": "code",
   "execution_count": 5,
   "metadata": {
    "ExecuteTime": {
     "end_time": "2020-05-22T16:40:54.603685Z",
     "start_time": "2020-05-22T16:40:54.600193Z"
    }
   },
   "outputs": [],
   "source": [
    "class_name = ['Good', 'Bad']"
   ]
  },
  {
   "cell_type": "code",
   "execution_count": 6,
   "metadata": {
    "ExecuteTime": {
     "end_time": "2020-05-22T16:41:02.624824Z",
     "start_time": "2020-05-22T16:40:54.606215Z"
    },
    "scrolled": true
   },
   "outputs": [
    {
     "name": "stdout",
     "output_type": "stream",
     "text": [
      "Model: 01_GB_00p_0.2_A_0.01_16_2005150633_443_t_accr_1.0000_t_loss_0.000672_v_accr_0.9800_v_loss_0.098567.pt \n",
      "\n",
      "Accuracy: 95.15 % (1197 / 1258)\n",
      "\n",
      "Model: 01_GB_00p_0.2_B_0.01_16_2005150613_443_t_accr_1.0000_t_loss_0.001884_v_accr_0.9900_v_loss_0.101507.pt \n",
      "\n",
      "Accuracy: 96.34 % (1212 / 1258)\n",
      "\n",
      "Model: 01_GB_00p_0.2_AB_0.01_16_2005200918_407_t_accr_1.0000_t_loss_0.000249_v_accr_0.9900_v_loss_0.025563.pt \n",
      "\n",
      "Accuracy: 96.50 % (1214 / 1258)\n",
      "\n",
      "Model: 01_GB_00p_0.4_A_0.001_64_2005150851_479_t_accr_1.0000_t_loss_0.000001_v_accr_0.9800_v_loss_0.080668.pt \n",
      "\n",
      "Accuracy: 96.74 % (1217 / 1258)\n",
      "\n",
      "Model: 01_GB_00p_0.4_B_0.001_32_2005150718_200_t_accr_1.0000_t_loss_0.000000_v_accr_1.0000_v_loss_0.001557.pt \n",
      "\n",
      "Accuracy: 97.14 % (1222 / 1258)\n",
      "\n",
      "Model: 01_GB_00p_0.4_AB_0.01_16_2005150636_173_t_accr_1.0000_t_loss_0.000917_v_accr_0.9950_v_loss_0.056160.pt \n",
      "\n",
      "Accuracy: 97.77 % (1230 / 1258)\n",
      "\n",
      "Model: 01_GB_00p_0.6_A_0.01_128_2005151312_298_t_accr_0.9993_t_loss_0.002639_v_accr_0.9867_v_loss_0.079419.pt \n",
      "\n",
      "Accuracy: 96.90 % (1219 / 1258)\n",
      "\n",
      "Model: 01_GB_00p_0.6_B_0.001_16_2005150916_393_t_accr_1.0000_t_loss_0.000000_v_accr_1.0000_v_loss_0.000620.pt \n",
      "\n",
      "Accuracy: 97.77 % (1230 / 1258)\n",
      "\n",
      "Model: 01_GB_00p_0.6_AB_0.001_16_2005150918_464_t_accr_1.0000_t_loss_0.000001_v_accr_1.0000_v_loss_0.000409.pt \n",
      "\n",
      "Accuracy: 98.89 % (1244 / 1258)\n",
      "\n",
      "Model: 01_GB_00p_0.8_A_0.01_16_2005151729_427_t_accr_1.0000_t_loss_0.000007_v_accr_0.9950_v_loss_0.033597.pt \n",
      "\n",
      "Accuracy: 97.62 % (1228 / 1258)\n",
      "\n",
      "Model: 01_GB_00p_0.8_B_0.01_128_2005151308_266_t_accr_1.0000_t_loss_0.000000_v_accr_0.9975_v_loss_0.002336.pt \n",
      "\n",
      "Accuracy: 98.41 % (1238 / 1258)\n",
      "\n",
      "Model: 01_GB_00p_0.8_AB_0.001_32_2005151359_305_t_accr_0.9994_t_loss_0.001970_v_accr_0.9975_v_loss_0.020031.pt \n",
      "\n",
      "Accuracy: 98.09 % (1234 / 1258)\n",
      "\n",
      "Model: 01_GB_00p_1_A_0.001_32_2005152246_491_t_accr_0.9978_t_loss_0.005078_v_accr_0.9920_v_loss_0.043061.pt \n",
      "\n",
      "Accuracy: 97.22 % (1223 / 1258)\n",
      "\n",
      "Model: 01_GB_00p_1_B_0.001_16_2005151550_308_t_accr_1.0000_t_loss_0.000180_v_accr_1.0000_v_loss_0.001434.pt \n",
      "\n",
      "Accuracy: 98.81 % (1243 / 1258)\n",
      "\n",
      "Model: 01_GB_00p_1_AB_0.01_32_2005152107_328_t_accr_1.0000_t_loss_0.000023_v_accr_0.9980_v_loss_0.006996.pt \n",
      "\n",
      "Accuracy: 98.65 % (1241 / 1258)\n",
      "\n"
     ]
    }
   ],
   "source": [
    "GB_accrs = []\n",
    "\n",
    "SRs = [0.2, 0.4, 0.6, 0.8, 1]\n",
    "\n",
    "for sr in SRs:\n",
    "    GB_00p_A_model = SSM_Model(np.expand_dims(GB_test_X[:,0,:,:], axis = 1), GB_test_Y, n_ch = 1, n_cls = 2, \n",
    "                               class_name = class_name, model_dir = model_dir, model_name = '01_GB_00p_{}_A'.format(sr), \n",
    "                               batch_size = 20, GPU_idx = 3)\n",
    "\n",
    "    GB_00p_B_model = SSM_Model(np.expand_dims(GB_test_X[:,1,:,:], axis = 1), GB_test_Y, n_ch = 1, n_cls = 2, \n",
    "                               class_name = class_name, model_dir = model_dir, model_name = '01_GB_00p_{}_B'.format(sr), \n",
    "                               batch_size = 20, GPU_idx = 3)\n",
    "    \n",
    "    GB_00p_AB_model = SSM_Model(GB_test_X, GB_test_Y, n_ch = 2, n_cls = 2, class_name = class_name, \n",
    "                                model_dir = model_dir, model_name = '01_GB_00p_{}_AB'.format(sr), batch_size = 20, GPU_idx = 3)\n",
    "    \n",
    "    GB_00p_A_model.Evaluation()\n",
    "    GB_00p_B_model.Evaluation()\n",
    "    GB_00p_AB_model.Evaluation()\n",
    "    GB_accrs.append([GB_00p_A_model.accr, GB_00p_B_model.accr, GB_00p_AB_model.accr])"
   ]
  },
  {
   "cell_type": "code",
   "execution_count": 16,
   "metadata": {
    "ExecuteTime": {
     "end_time": "2020-05-22T16:45:07.585071Z",
     "start_time": "2020-05-22T16:45:07.523522Z"
    }
   },
   "outputs": [
    {
     "data": {
      "text/html": [
       "<div>\n",
       "<style scoped>\n",
       "    .dataframe tbody tr th:only-of-type {\n",
       "        vertical-align: middle;\n",
       "    }\n",
       "\n",
       "    .dataframe tbody tr th {\n",
       "        vertical-align: top;\n",
       "    }\n",
       "\n",
       "    .dataframe thead th {\n",
       "        text-align: right;\n",
       "    }\n",
       "</style>\n",
       "<table border=\"1\" class=\"dataframe\">\n",
       "  <thead>\n",
       "    <tr style=\"text-align: right;\">\n",
       "      <th></th>\n",
       "      <th>Percentage of Training Data</th>\n",
       "      <th>Model</th>\n",
       "      <th>Accuracy (%)</th>\n",
       "    </tr>\n",
       "  </thead>\n",
       "  <tbody>\n",
       "    <tr>\n",
       "      <th>0</th>\n",
       "      <td>20 %</td>\n",
       "      <td>A1</td>\n",
       "      <td>95.15</td>\n",
       "    </tr>\n",
       "    <tr>\n",
       "      <th>1</th>\n",
       "      <td>20 %</td>\n",
       "      <td>A2</td>\n",
       "      <td>96.34</td>\n",
       "    </tr>\n",
       "    <tr>\n",
       "      <th>2</th>\n",
       "      <td>20 %</td>\n",
       "      <td>A1 &amp; A2</td>\n",
       "      <td>96.50</td>\n",
       "    </tr>\n",
       "    <tr>\n",
       "      <th>3</th>\n",
       "      <td>40 %</td>\n",
       "      <td>A1</td>\n",
       "      <td>96.74</td>\n",
       "    </tr>\n",
       "    <tr>\n",
       "      <th>4</th>\n",
       "      <td>40 %</td>\n",
       "      <td>A2</td>\n",
       "      <td>97.14</td>\n",
       "    </tr>\n",
       "    <tr>\n",
       "      <th>5</th>\n",
       "      <td>40 %</td>\n",
       "      <td>A1 &amp; A2</td>\n",
       "      <td>97.77</td>\n",
       "    </tr>\n",
       "    <tr>\n",
       "      <th>6</th>\n",
       "      <td>60 %</td>\n",
       "      <td>A1</td>\n",
       "      <td>96.90</td>\n",
       "    </tr>\n",
       "    <tr>\n",
       "      <th>7</th>\n",
       "      <td>60 %</td>\n",
       "      <td>A2</td>\n",
       "      <td>97.77</td>\n",
       "    </tr>\n",
       "    <tr>\n",
       "      <th>8</th>\n",
       "      <td>60 %</td>\n",
       "      <td>A1 &amp; A2</td>\n",
       "      <td>98.89</td>\n",
       "    </tr>\n",
       "    <tr>\n",
       "      <th>9</th>\n",
       "      <td>80 %</td>\n",
       "      <td>A1</td>\n",
       "      <td>97.62</td>\n",
       "    </tr>\n",
       "    <tr>\n",
       "      <th>10</th>\n",
       "      <td>80 %</td>\n",
       "      <td>A2</td>\n",
       "      <td>98.41</td>\n",
       "    </tr>\n",
       "    <tr>\n",
       "      <th>11</th>\n",
       "      <td>80 %</td>\n",
       "      <td>A1 &amp; A2</td>\n",
       "      <td>98.09</td>\n",
       "    </tr>\n",
       "    <tr>\n",
       "      <th>12</th>\n",
       "      <td>100 %</td>\n",
       "      <td>A1</td>\n",
       "      <td>97.22</td>\n",
       "    </tr>\n",
       "    <tr>\n",
       "      <th>13</th>\n",
       "      <td>100 %</td>\n",
       "      <td>A2</td>\n",
       "      <td>98.81</td>\n",
       "    </tr>\n",
       "    <tr>\n",
       "      <th>14</th>\n",
       "      <td>100 %</td>\n",
       "      <td>A1 &amp; A2</td>\n",
       "      <td>98.65</td>\n",
       "    </tr>\n",
       "  </tbody>\n",
       "</table>\n",
       "</div>"
      ],
      "text/plain": [
       "   Percentage of Training Data    Model  Accuracy (%)\n",
       "0                         20 %       A1         95.15\n",
       "1                         20 %       A2         96.34\n",
       "2                         20 %  A1 & A2         96.50\n",
       "3                         40 %       A1         96.74\n",
       "4                         40 %       A2         97.14\n",
       "5                         40 %  A1 & A2         97.77\n",
       "6                         60 %       A1         96.90\n",
       "7                         60 %       A2         97.77\n",
       "8                         60 %  A1 & A2         98.89\n",
       "9                         80 %       A1         97.62\n",
       "10                        80 %       A2         98.41\n",
       "11                        80 %  A1 & A2         98.09\n",
       "12                       100 %       A1         97.22\n",
       "13                       100 %       A2         98.81\n",
       "14                       100 %  A1 & A2         98.65"
      ]
     },
     "execution_count": 16,
     "metadata": {},
     "output_type": "execute_result"
    }
   ],
   "source": [
    "GB_df = pd.DataFrame(columns = ['Percentage of Training Data', 'Model', 'Accuracy (%)'])\n",
    "\n",
    "for i, sr, accrs in zip(range(5), SRs, GB_accrs):\n",
    "    GB_df.loc[3*i] = ['{:.0f} %'.format(sr*100), 'A1', accrs[0]]\n",
    "    GB_df.loc[3*i+1] = ['{:.0f} %'.format(sr*100), 'A2', accrs[1]]\n",
    "    GB_df.loc[3*i+2] = ['{:.0f} %'.format(sr*100), 'A1 & A2', accrs[2]]\n",
    "    \n",
    "GB_df"
   ]
  },
  {
   "cell_type": "code",
   "execution_count": 19,
   "metadata": {
    "ExecuteTime": {
     "end_time": "2020-05-22T16:45:23.015235Z",
     "start_time": "2020-05-22T16:45:22.633680Z"
    }
   },
   "outputs": [
    {
     "data": {
      "image/png": "[encoded data removed]",
      "text/plain": [
       "<Figure size 720x576 with 1 Axes>"
      ]
     },
     "metadata": {
      "needs_background": "light"
     },
     "output_type": "display_data"
    }
   ],
   "source": [
    "plt.figure(figsize = (10, 8))\n",
    "sns.barplot(x = 'Percentage of Training Data', y = 'Accuracy (%)', hue = 'Model', data = GB_df, palette = 'Paired', alpha = 0.85)\n",
    "plt.legend(bbox_to_anchor=(1.02, 1), loc=2, borderaxespad=0., fontsize = 15)\n",
    "plt.xticks(fontsize = 15)\n",
    "plt.yticks(fontsize = 15)\n",
    "plt.ylim([0, 100])\n",
    "plt.xlabel('Percentage of Training Data', fontsize = 18)\n",
    "plt.ylabel('Accuracy (%)', fontsize = 18)\n",
    "plt.show()"
   ]
  },
  {
   "cell_type": "markdown",
   "metadata": {},
   "source": [
    "# 2. Fault classification"
   ]
  },
  {
   "cell_type": "code",
   "execution_count": 20,
   "metadata": {
    "ExecuteTime": {
     "end_time": "2020-05-22T16:46:54.243046Z",
     "start_time": "2020-05-22T16:46:54.237693Z"
    }
   },
   "outputs": [],
   "source": [
    "class_name = ['Heavy Oil', 'Die Punch', 'Scrapped Wire', 'Die Chip', 'Die Internal', 'PIN']"
   ]
  },
  {
   "cell_type": "code",
   "execution_count": 21,
   "metadata": {
    "ExecuteTime": {
     "end_time": "2020-05-22T16:46:56.569558Z",
     "start_time": "2020-05-22T16:46:54.370690Z"
    },
    "scrolled": true
   },
   "outputs": [
    {
     "name": "stdout",
     "output_type": "stream",
     "text": [
      "Model: 01_B6_00p_0.2_A_0.01_32_2005190158_438_t_accr_0.9963_t_loss_0.017178_v_accr_0.5469_v_loss_8.721777.pt \n",
      "\n",
      "Accuracy: 43.88 % (337 / 768)\n",
      "\n",
      "Model: 01_B6_00p_0.2_B_0.01_16_2005190153_344_t_accr_0.9945_t_loss_0.014667_v_accr_0.8438_v_loss_1.806292.pt \n",
      "\n",
      "Accuracy: 66.54 % (511 / 768)\n",
      "\n",
      "Model: 01_B6_00p_0.2_AB_0.01_16_2005190151_492_t_accr_0.9521_t_loss_0.149902_v_accr_0.6875_v_loss_3.175156.pt \n",
      "\n",
      "Accuracy: 67.84 % (521 / 768)\n",
      "\n",
      "Model: 01_B6_00p_0.4_A_0.01_32_2005190400_378_t_accr_1.0000_t_loss_0.000052_v_accr_0.7698_v_loss_2.421056.pt \n",
      "\n",
      "Accuracy: 72.14 % (554 / 768)\n",
      "\n",
      "Model: 01_B6_00p_0.4_B_0.001_8_2005200730_088_t_accr_1.0000_t_loss_0.001463_v_accr_0.8968_v_loss_0.647992.pt \n",
      "\n",
      "Accuracy: 81.77 % (628 / 768)\n",
      "\n",
      "Model: 01_B6_00p_0.4_AB_0.001_16_2005201003_279_t_accr_0.9982_t_loss_0.005717_v_accr_0.8254_v_loss_1.278307.pt \n",
      "\n",
      "Accuracy: 78.26 % (601 / 768)\n",
      "\n",
      "Model: 01_B6_00p_0.6_A_0.01_16_2005190653_249_t_accr_0.9988_t_loss_0.002059_v_accr_0.8432_v_loss_1.938682.pt \n",
      "\n",
      "Accuracy: 77.47 % (595 / 768)\n",
      "\n",
      "Model: 01_B6_00p_0.6_B_0.0001_8_2005190524_481_t_accr_1.0000_t_loss_0.000071_v_accr_0.8811_v_loss_0.653309.pt \n",
      "\n",
      "Accuracy: 84.90 % (652 / 768)\n",
      "\n",
      "Model: 01_B6_00p_0.6_AB_0.01_16_2005190658_467_t_accr_1.0000_t_loss_0.000000_v_accr_0.9297_v_loss_0.697677.pt \n",
      "\n",
      "Accuracy: 91.80 % (705 / 768)\n",
      "\n",
      "Model: 01_B6_00p_0.8_A_0.01_8_2005191056_472_t_accr_1.0000_t_loss_0.000057_v_accr_0.8710_v_loss_1.267797.pt \n",
      "\n",
      "Accuracy: 85.68 % (658 / 768)\n",
      "\n",
      "Model: 01_B6_00p_0.8_B_0.001_8_2005190955_276_t_accr_0.9995_t_loss_0.000734_v_accr_0.9476_v_loss_0.485467.pt \n",
      "\n",
      "Accuracy: 91.80 % (705 / 768)\n",
      "\n",
      "Model: 01_B6_00p_0.8_AB_0.01_16_2005191109_370_t_accr_1.0000_t_loss_0.000010_v_accr_0.9435_v_loss_0.663219.pt \n",
      "\n",
      "Accuracy: 93.23 % (716 / 768)\n",
      "\n",
      "Model: 01_B6_00p_1_A_0.01_32_2005200406_215_t_accr_0.9993_t_loss_0.003536_v_accr_0.8795_v_loss_0.781518.pt \n",
      "\n",
      "Accuracy: 88.67 % (681 / 768)\n",
      "\n",
      "Model: 01_B6_00p_1_B_0.01_16_2005200340_125_t_accr_1.0000_t_loss_0.000018_v_accr_0.9153_v_loss_0.637672.pt \n",
      "\n",
      "Accuracy: 91.15 % (700 / 768)\n",
      "\n",
      "Model: 01_B6_00p_1_AB_0.01_8_2005200326_314_t_accr_0.9989_t_loss_2.750819_v_accr_0.9381_v_loss_1.025975.pt \n",
      "\n",
      "Accuracy: 92.19 % (708 / 768)\n",
      "\n"
     ]
    }
   ],
   "source": [
    "B6_accrs = []\n",
    "\n",
    "SRs = [0.2, 0.4, 0.6, 0.8, 1]\n",
    "\n",
    "for sr in SRs:\n",
    "    B6_00p_A_model = SSM_Model(np.expand_dims(B6_test_X[:,0,:,:], axis = 1), B6_test_Y, n_ch = 1, n_cls = 6, \n",
    "                               class_name = class_name, model_dir = model_dir, model_name = '01_B6_00p_{}_A'.format(sr), \n",
    "                               batch_size = 20, GPU_idx = 3)\n",
    "\n",
    "    B6_00p_B_model = SSM_Model(np.expand_dims(B6_test_X[:,1,:,:], axis = 1), B6_test_Y, n_ch = 1, n_cls = 6, \n",
    "                               class_name = class_name, model_dir = model_dir, model_name = '01_B6_00p_{}_B'.format(sr), \n",
    "                               batch_size = 20, GPU_idx = 3)\n",
    "    \n",
    "    B6_00p_AB_model = SSM_Model(B6_test_X, B6_test_Y, n_ch = 2, n_cls = 6, class_name = class_name, \n",
    "                                model_dir = model_dir, model_name = '01_B6_00p_{}_AB'.format(sr), batch_size = 20, GPU_idx = 3)\n",
    "    \n",
    "    B6_00p_A_model.Evaluation()\n",
    "    B6_00p_B_model.Evaluation()\n",
    "    B6_00p_AB_model.Evaluation()\n",
    "    B6_accrs.append([B6_00p_A_model.accr, B6_00p_B_model.accr, B6_00p_AB_model.accr])"
   ]
  },
  {
   "cell_type": "code",
   "execution_count": 22,
   "metadata": {
    "ExecuteTime": {
     "end_time": "2020-05-22T16:47:08.306509Z",
     "start_time": "2020-05-22T16:47:08.237421Z"
    }
   },
   "outputs": [
    {
     "data": {
      "text/html": [
       "<div>\n",
       "<style scoped>\n",
       "    .dataframe tbody tr th:only-of-type {\n",
       "        vertical-align: middle;\n",
       "    }\n",
       "\n",
       "    .dataframe tbody tr th {\n",
       "        vertical-align: top;\n",
       "    }\n",
       "\n",
       "    .dataframe thead th {\n",
       "        text-align: right;\n",
       "    }\n",
       "</style>\n",
       "<table border=\"1\" class=\"dataframe\">\n",
       "  <thead>\n",
       "    <tr style=\"text-align: right;\">\n",
       "      <th></th>\n",
       "      <th>Percentage of Training Data</th>\n",
       "      <th>Model</th>\n",
       "      <th>Accuracy (%)</th>\n",
       "    </tr>\n",
       "  </thead>\n",
       "  <tbody>\n",
       "    <tr>\n",
       "      <th>0</th>\n",
       "      <td>20 %</td>\n",
       "      <td>A1</td>\n",
       "      <td>43.88</td>\n",
       "    </tr>\n",
       "    <tr>\n",
       "      <th>1</th>\n",
       "      <td>20 %</td>\n",
       "      <td>A2</td>\n",
       "      <td>66.54</td>\n",
       "    </tr>\n",
       "    <tr>\n",
       "      <th>2</th>\n",
       "      <td>20 %</td>\n",
       "      <td>A1 &amp; A2</td>\n",
       "      <td>67.84</td>\n",
       "    </tr>\n",
       "    <tr>\n",
       "      <th>3</th>\n",
       "      <td>40 %</td>\n",
       "      <td>A1</td>\n",
       "      <td>72.14</td>\n",
       "    </tr>\n",
       "    <tr>\n",
       "      <th>4</th>\n",
       "      <td>40 %</td>\n",
       "      <td>A2</td>\n",
       "      <td>81.77</td>\n",
       "    </tr>\n",
       "    <tr>\n",
       "      <th>5</th>\n",
       "      <td>40 %</td>\n",
       "      <td>A1 &amp; A2</td>\n",
       "      <td>78.26</td>\n",
       "    </tr>\n",
       "    <tr>\n",
       "      <th>6</th>\n",
       "      <td>60 %</td>\n",
       "      <td>A1</td>\n",
       "      <td>77.47</td>\n",
       "    </tr>\n",
       "    <tr>\n",
       "      <th>7</th>\n",
       "      <td>60 %</td>\n",
       "      <td>A2</td>\n",
       "      <td>84.90</td>\n",
       "    </tr>\n",
       "    <tr>\n",
       "      <th>8</th>\n",
       "      <td>60 %</td>\n",
       "      <td>A1 &amp; A2</td>\n",
       "      <td>91.80</td>\n",
       "    </tr>\n",
       "    <tr>\n",
       "      <th>9</th>\n",
       "      <td>80 %</td>\n",
       "      <td>A1</td>\n",
       "      <td>85.68</td>\n",
       "    </tr>\n",
       "    <tr>\n",
       "      <th>10</th>\n",
       "      <td>80 %</td>\n",
       "      <td>A2</td>\n",
       "      <td>91.80</td>\n",
       "    </tr>\n",
       "    <tr>\n",
       "      <th>11</th>\n",
       "      <td>80 %</td>\n",
       "      <td>A1 &amp; A2</td>\n",
       "      <td>93.23</td>\n",
       "    </tr>\n",
       "    <tr>\n",
       "      <th>12</th>\n",
       "      <td>100 %</td>\n",
       "      <td>A1</td>\n",
       "      <td>88.67</td>\n",
       "    </tr>\n",
       "    <tr>\n",
       "      <th>13</th>\n",
       "      <td>100 %</td>\n",
       "      <td>A2</td>\n",
       "      <td>91.15</td>\n",
       "    </tr>\n",
       "    <tr>\n",
       "      <th>14</th>\n",
       "      <td>100 %</td>\n",
       "      <td>A1 &amp; A2</td>\n",
       "      <td>92.19</td>\n",
       "    </tr>\n",
       "  </tbody>\n",
       "</table>\n",
       "</div>"
      ],
      "text/plain": [
       "   Percentage of Training Data    Model  Accuracy (%)\n",
       "0                         20 %       A1         43.88\n",
       "1                         20 %       A2         66.54\n",
       "2                         20 %  A1 & A2         67.84\n",
       "3                         40 %       A1         72.14\n",
       "4                         40 %       A2         81.77\n",
       "5                         40 %  A1 & A2         78.26\n",
       "6                         60 %       A1         77.47\n",
       "7                         60 %       A2         84.90\n",
       "8                         60 %  A1 & A2         91.80\n",
       "9                         80 %       A1         85.68\n",
       "10                        80 %       A2         91.80\n",
       "11                        80 %  A1 & A2         93.23\n",
       "12                       100 %       A1         88.67\n",
       "13                       100 %       A2         91.15\n",
       "14                       100 %  A1 & A2         92.19"
      ]
     },
     "execution_count": 22,
     "metadata": {},
     "output_type": "execute_result"
    }
   ],
   "source": [
    "B6_df = pd.DataFrame(columns = ['Percentage of Training Data', 'Model', 'Accuracy (%)'])\n",
    "\n",
    "for i, sr, accrs in zip(range(5), SRs, B6_accrs):\n",
    "    B6_df.loc[3*i] = ['{:.0f} %'.format(sr*100), 'A1', accrs[0]]\n",
    "    B6_df.loc[3*i+1] = ['{:.0f} %'.format(sr*100), 'A2', accrs[1]]\n",
    "    B6_df.loc[3*i+2] = ['{:.0f} %'.format(sr*100), 'A1 & A2', accrs[2]]\n",
    "    \n",
    "B6_df"
   ]
  },
  {
   "cell_type": "code",
   "execution_count": 23,
   "metadata": {
    "ExecuteTime": {
     "end_time": "2020-05-22T16:47:22.577222Z",
     "start_time": "2020-05-22T16:47:22.261918Z"
    }
   },
   "outputs": [
    {
     "data": {
      "image/png": "[encoded data removed]",
      "text/plain": [
       "<Figure size 720x576 with 1 Axes>"
      ]
     },
     "metadata": {
      "needs_background": "light"
     },
     "output_type": "display_data"
    }
   ],
   "source": [
    "plt.figure(figsize = (10, 8))\n",
    "sns.barplot(x = 'Percentage of Training Data', y = 'Accuracy (%)', hue = 'Model', data = B6_df, palette = 'Paired', alpha = 0.85)\n",
    "plt.legend(bbox_to_anchor=(1.02, 1), loc=2, borderaxespad=0., fontsize = 15)\n",
    "plt.xticks(fontsize = 15)\n",
    "plt.yticks(fontsize = 15)\n",
    "plt.ylim([0, 100])\n",
    "plt.xlabel('Percentage of Training Data', fontsize = 18)\n",
    "plt.ylabel('Accuracy (%)', fontsize = 18)\n",
    "plt.show()"
   ]
  }
 ],
 "metadata": {
  "hide_input": false,
  "kernelspec": {
   "display_name": "Pytorch",
   "language": "python",
   "name": "pytorch"
  },
  "language_info": {
   "codemirror_mode": {
    "name": "ipython",
    "version": 3
   },
   "file_extension": ".py",
   "mimetype": "text/x-python",
   "name": "python",
   "nbconvert_exporter": "python",
   "pygments_lexer": "ipython3",
   "version": "3.5.2"
  },
  "toc": {
   "base_numbering": 1,
   "nav_menu": {},
   "number_sections": false,
   "sideBar": true,
   "skip_h1_title": false,
   "title_cell": "Table of Contents",
   "title_sidebar": "Contents",
   "toc_cell": false,
   "toc_position": {},
   "toc_section_display": true,
   "toc_window_display": false
  }
 },
 "nbformat": 4,
 "nbformat_minor": 2
}
