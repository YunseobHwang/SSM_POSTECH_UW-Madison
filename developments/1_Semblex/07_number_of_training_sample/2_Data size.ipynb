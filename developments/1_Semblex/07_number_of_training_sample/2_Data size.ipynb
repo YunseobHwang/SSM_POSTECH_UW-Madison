{
 "cells": [
  {
   "cell_type": "code",
   "execution_count": 1,
   "metadata": {
    "ExecuteTime": {
     "end_time": "2020-06-05T16:42:21.968901Z",
     "start_time": "2020-06-05T16:42:21.823438Z"
    }
   },
   "outputs": [],
   "source": [
    "import numpy as np\n",
    "import sys\n",
    "import os\n",
    "import pickle\n",
    "import gzip"
   ]
  },
  {
   "cell_type": "code",
   "execution_count": 2,
   "metadata": {
    "ExecuteTime": {
     "end_time": "2020-06-05T16:42:21.989468Z",
     "start_time": "2020-06-05T16:42:21.970622Z"
    }
   },
   "outputs": [],
   "source": [
    "def concat(data):\n",
    "    return np.concatenate(data)\n",
    "\n",
    "def add_ch(img):\n",
    "    \"\"\"\n",
    "    (sample #, height, width,) -> (sample #, height, width, channel)\n",
    "    \"\"\"\n",
    "    return np.expand_dims(img, axis = -1)\n",
    "\n",
    "def Reshape4torch(img):\n",
    "    \"\"\"\n",
    "    (sample #, height, width, channel) -> (sample #, channel, height, width)\n",
    "    \"\"\"\n",
    "    img = np.transpose(img, (0, 3, 1, 2))\n",
    "    return img\n",
    "    \n",
    "def GenerateLabel(data, cls):\n",
    "    label = cls*np.ones([data.shape[0]])\n",
    "    return label\n",
    "\n",
    "\n",
    "def GBdataLoad(data_dir, ch = [0, 1], data_type = '3_train_data'):\n",
    "    \n",
    "    with gzip.open(data_dir + '/SemblexData_config.pickle', 'rb') as f:\n",
    "        data = pickle.load(f)\n",
    "       \n",
    "    G_X, B_X = [], []\n",
    "    for cls, data_bunch in data.items():\n",
    "        for data_i in data_bunch:\n",
    "            if cls == 'GOOD':\n",
    "                G_X.append(data_i[data_type][:, :, :, ch])\n",
    "            elif cls == 'BAD':\n",
    "                B_X.append(data_i[data_type][:, :, :, ch])\n",
    "     \n",
    "    G_X, B_X = concat(G_X), concat(B_X)\n",
    "    \n",
    "    if len(G_X.shape) != 4:\n",
    "        G_X, B_X = add_ch(G_X), add_ch(B_X)\n",
    "    G_X, B_X = Reshape4torch(G_X), Reshape4torch(B_X)\n",
    "    GB_Xs, GB_Ys = [G_X, B_X], []\n",
    "    for i, GB_X in zip(range(len(GB_Xs)), GB_Xs):\n",
    "        GB_Ys.append(GenerateLabel(GB_X, i))\n",
    "        \n",
    "    return GB_Xs, GB_Ys\n",
    "        \n",
    "def B6dataLoad(data_dir, ch = [0, 1], data_type = '3_train_data'):\n",
    "    \n",
    "    with gzip.open(data_dir + '/SemblexData_config.pickle', 'rb') as f:\n",
    "        data = pickle.load(f)\n",
    "        \n",
    "    BAD_cls = {0: 'OIL', 1: 'PUNCH', 2: 'SCRAPPED', 3: 'DIE_CHIP', 4: 'DIE_INTERNAL', 5: 'PIN'}\n",
    "\n",
    "    B_X1, B_X2, B_X3, B_X4, B_X5, B_X6 = [], [], [], [], [], []\n",
    "    for cls, data_bunch in data.items():\n",
    "        for data_i in data_bunch:\n",
    "            if cls == 'BAD':\n",
    "                if BAD_cls[0] in data_i['1_file']: B_X1.append(data_i[data_type][:, :, :, ch])\n",
    "                if BAD_cls[1] in data_i['1_file']: B_X2.append(data_i[data_type][:, :, :, ch])\n",
    "                if BAD_cls[2] in data_i['1_file']: B_X3.append(data_i[data_type][:, :, :, ch])\n",
    "                if BAD_cls[3] in data_i['1_file']: B_X4.append(data_i[data_type][:, :, :, ch])\n",
    "                if BAD_cls[4] in data_i['1_file']: B_X5.append(data_i[data_type][:, :, :, ch])\n",
    "                if BAD_cls[5] in data_i['1_file']: B_X6.append(data_i[data_type][:, :, :, ch])\n",
    "\n",
    "    B_X1, B_X2, B_X3, B_X4, B_X5, B_X6 = concat(B_X1), concat(B_X2), concat(B_X3), concat(B_X4), concat(B_X5), concat(B_X6)\n",
    "    \n",
    "    if len(B_X1.shape) != 4:\n",
    "        B_X1, B_X2, B_X3, B_X4, B_X5, B_X6 = add_ch(B_X1), add_ch(B_X2), add_ch(B_X3), add_ch(B_X4), add_ch(B_X5), add_ch(B_X6)\n",
    "    \n",
    "    B_X1, B_X2, B_X3, B_X4, B_X5, B_X6 = (Reshape4torch(B_X1), Reshape4torch(B_X2), Reshape4torch(B_X3), \n",
    "                                          Reshape4torch(B_X4), Reshape4torch(B_X5), Reshape4torch(B_X6))\n",
    "    \n",
    "    B6_Xs = [B_X1, B_X2, B_X3, B_X4, B_X5, B_X6]\n",
    "    B6_Ys = []\n",
    "    for i, B6_X in zip(range(len(B6_Xs)), B6_Xs):\n",
    "        B6_Ys.append(GenerateLabel(B6_X, i))\n",
    "\n",
    "    return B6_Xs, B6_Ys"
   ]
  },
  {
   "cell_type": "code",
   "execution_count": 3,
   "metadata": {
    "ExecuteTime": {
     "end_time": "2020-06-05T16:42:27.564845Z",
     "start_time": "2020-06-05T16:42:22.243725Z"
    }
   },
   "outputs": [],
   "source": [
    "data_dir = '/mnt/disk1/yunseob/Pytorch/SSM/1_Semblex/06_no_overlap/SemblexData/wt_4040'\n",
    "\n",
    "GB_Xs, GB_Ys = GBdataLoad(data_dir, ch = [0, 1], data_type = '3_train_data')\n",
    "B6_Xs, B6_Ys = B6dataLoad(data_dir, ch = [0, 1], data_type = '3_train_data')"
   ]
  },
  {
   "cell_type": "code",
   "execution_count": 4,
   "metadata": {
    "ExecuteTime": {
     "end_time": "2020-06-05T16:42:27.783525Z",
     "start_time": "2020-06-05T16:42:27.773580Z"
    }
   },
   "outputs": [],
   "source": [
    "def ReduceSegments(x, y, rate):\n",
    "    idx = np.random.choice(len(x), int(rate*len(x)), replace = False)\n",
    "    return x[idx], y[idx]"
   ]
  },
  {
   "cell_type": "code",
   "execution_count": 5,
   "metadata": {
    "ExecuteTime": {
     "end_time": "2020-06-05T16:42:28.024169Z",
     "start_time": "2020-06-05T16:42:27.911677Z"
    }
   },
   "outputs": [
    {
     "name": "stdout",
     "output_type": "stream",
     "text": [
      "0.2 [390, 610] 1000\n",
      "0.4 [780, 1220] 2000\n",
      "0.6 [1171, 1830] 3001\n",
      "0.8 [1561, 2440] 4001\n",
      "1 [1952, 3050] 5002\n"
     ]
    }
   ],
   "source": [
    "for sr in [0.2, 0.4, 0.6, 0.8, 1]:\n",
    "    LEN = []\n",
    "    for GB_X, GB_Y in zip(GB_Xs, GB_Ys):\n",
    "        GB_X_, GB_Y_ = ReduceSegments(GB_X, GB_Y, rate = sr)\n",
    "        LEN.append(len(GB_X_))\n",
    "    print(sr, LEN, np.sum(LEN))"
   ]
  },
  {
   "cell_type": "code",
   "execution_count": 6,
   "metadata": {
    "ExecuteTime": {
     "end_time": "2020-06-05T16:42:29.083757Z",
     "start_time": "2020-06-05T16:42:29.003882Z"
    }
   },
   "outputs": [
    {
     "name": "stdout",
     "output_type": "stream",
     "text": [
      "0.2 [37, 115, 65, 173, 105, 112] 607\n",
      "0.4 [74, 231, 131, 346, 211, 225] 1218\n",
      "0.6 [111, 347, 197, 519, 316, 338] 1828\n",
      "0.8 [148, 463, 263, 692, 422, 451] 2439\n",
      "1 [185, 579, 329, 865, 528, 564] 3050\n"
     ]
    }
   ],
   "source": [
    "for sr in [0.2, 0.4, 0.6, 0.8, 1]:\n",
    "    LEN = []\n",
    "    for B6_X, B6_Y in zip(B6_Xs, B6_Ys):\n",
    "        B6_X_, B6_Y_ = ReduceSegments(B6_X, B6_Y, rate = sr)\n",
    "        LEN.append(len(B6_X_))\n",
    "    print(sr, LEN, np.sum(LEN))"
   ]
  },
  {
   "cell_type": "code",
   "execution_count": 7,
   "metadata": {
    "ExecuteTime": {
     "end_time": "2020-06-05T16:42:39.115776Z",
     "start_time": "2020-06-05T16:42:34.111227Z"
    }
   },
   "outputs": [],
   "source": [
    "GB_Xs, GB_Ys = GBdataLoad(data_dir, ch = [0, 1], data_type = '4_test_data')\n",
    "B6_Xs, B6_Ys = B6dataLoad(data_dir, ch = [0, 1], data_type = '4_test_data')"
   ]
  },
  {
   "cell_type": "code",
   "execution_count": 8,
   "metadata": {
    "ExecuteTime": {
     "end_time": "2020-06-05T16:42:54.182196Z",
     "start_time": "2020-06-05T16:42:54.171628Z"
    }
   },
   "outputs": [
    {
     "name": "stdout",
     "output_type": "stream",
     "text": [
      "[490, 768] 1258\n"
     ]
    }
   ],
   "source": [
    "LEN = []\n",
    "for GB_X, GB_Y in zip(GB_Xs, GB_Ys):\n",
    "    LEN.append(len(GB_X))\n",
    "print(LEN, np.sum(LEN))"
   ]
  },
  {
   "cell_type": "code",
   "execution_count": 9,
   "metadata": {
    "ExecuteTime": {
     "end_time": "2020-06-05T16:43:04.008798Z",
     "start_time": "2020-06-05T16:43:04.000368Z"
    }
   },
   "outputs": [
    {
     "name": "stdout",
     "output_type": "stream",
     "text": [
      "[47, 146, 83, 218, 132, 142] 768\n"
     ]
    }
   ],
   "source": [
    "LEN = []\n",
    "for B6_X, B6_Y in zip(B6_Xs, B6_Ys):\n",
    "    LEN.append(len(B6_X))\n",
    "print(LEN, np.sum(LEN))"
   ]
  },
  {
   "cell_type": "code",
   "execution_count": 11,
   "metadata": {
    "ExecuteTime": {
     "end_time": "2020-06-05T16:45:47.214666Z",
     "start_time": "2020-06-05T16:45:37.064187Z"
    }
   },
   "outputs": [
    {
     "name": "stdout",
     "output_type": "stream",
     "text": [
      "[2169, 3386] 5555\n",
      "[206, 644, 365, 960, 586, 625] 3386\n",
      "[544, 854] 1398\n",
      "[52, 162, 92, 242, 148, 158] 854\n"
     ]
    }
   ],
   "source": [
    "data_dir = '/mnt/disk1/yunseob/Pytorch/SSM/1_Semblex/05_10p_overlap/SemblexData/wt_4040'\n",
    "\n",
    "GB_Xs, GB_Ys = GBdataLoad(data_dir, ch = [0, 1], data_type = '3_train_data')\n",
    "B6_Xs, B6_Ys = B6dataLoad(data_dir, ch = [0, 1], data_type = '3_train_data')\n",
    "\n",
    "LEN = []\n",
    "for GB_X, GB_Y in zip(GB_Xs, GB_Ys):\n",
    "    LEN.append(len(GB_X))\n",
    "print(LEN, np.sum(LEN))\n",
    "\n",
    "LEN = []\n",
    "for B6_X, B6_Y in zip(B6_Xs, B6_Ys):\n",
    "    LEN.append(len(B6_X))\n",
    "print(LEN, np.sum(LEN))\n",
    "    \n",
    "GB_Xs, GB_Ys = GBdataLoad(data_dir, ch = [0, 1], data_type = '4_test_data')\n",
    "B6_Xs, B6_Ys = B6dataLoad(data_dir, ch = [0, 1], data_type = '4_test_data')\n",
    "\n",
    "LEN = []\n",
    "for GB_X, GB_Y in zip(GB_Xs, GB_Ys):\n",
    "    LEN.append(len(GB_X))\n",
    "print(LEN, np.sum(LEN))\n",
    "\n",
    "LEN = []\n",
    "for B6_X, B6_Y in zip(B6_Xs, B6_Ys):\n",
    "    LEN.append(len(B6_X))\n",
    "print(LEN, np.sum(LEN))"
   ]
  }
 ],
 "metadata": {
  "hide_input": false,
  "kernelspec": {
   "display_name": "Pytorch",
   "language": "python",
   "name": "pytorch"
  },
  "language_info": {
   "codemirror_mode": {
    "name": "ipython",
    "version": 3
   },
   "file_extension": ".py",
   "mimetype": "text/x-python",
   "name": "python",
   "nbconvert_exporter": "python",
   "pygments_lexer": "ipython3",
   "version": "3.5.2"
  },
  "toc": {
   "base_numbering": 1,
   "nav_menu": {},
   "number_sections": false,
   "sideBar": true,
   "skip_h1_title": false,
   "title_cell": "Table of Contents",
   "title_sidebar": "Contents",
   "toc_cell": false,
   "toc_position": {},
   "toc_section_display": true,
   "toc_window_display": false
  }
 },
 "nbformat": 4,
 "nbformat_minor": 2
}
