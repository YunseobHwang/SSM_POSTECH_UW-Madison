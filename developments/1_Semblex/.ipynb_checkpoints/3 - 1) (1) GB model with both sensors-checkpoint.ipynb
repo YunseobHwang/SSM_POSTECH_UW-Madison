{
 "cells": [
  {
   "cell_type": "code",
   "execution_count": 2,
   "metadata": {
    "ExecuteTime": {
     "end_time": "2020-03-05T19:16:30.038427Z",
     "start_time": "2020-03-05T19:16:29.062704Z"
    }
   },
   "outputs": [],
   "source": [
    "import numpy as np\n",
    "import matplotlib.pyplot as plt\n",
    "%matplotlib inline\n",
    "\n",
    "import os\n",
    "import pickle, gzip\n",
    "import time, datetime\n",
    "\n",
    "import torch\n",
    "from torch import nn\n",
    "from torch.nn import functional as F\n",
    "from torchsummary import summary\n",
    "from torchvision import datasets, transforms\n",
    "\n",
    "from sklearn.metrics import confusion_matrix\n",
    "import itertools"
   ]
  },
  {
   "cell_type": "code",
   "execution_count": 3,
   "metadata": {
    "ExecuteTime": {
     "end_time": "2020-03-05T19:16:31.507522Z",
     "start_time": "2020-03-05T19:16:31.427867Z"
    }
   },
   "outputs": [],
   "source": [
    "device = torch.device(\"cuda:0\" if torch.cuda.is_available() else \"cpu\")"
   ]
  },
  {
   "cell_type": "markdown",
   "metadata": {},
   "source": [
    "# Load Data"
   ]
  },
  {
   "cell_type": "code",
   "execution_count": 4,
   "metadata": {
    "ExecuteTime": {
     "end_time": "2020-03-05T16:07:43.653056Z",
     "start_time": "2020-03-05T16:07:40.916237Z"
    }
   },
   "outputs": [],
   "source": [
    "data_dir = '/mnt/disk1/yunseob/Pytorch/SSM/Semblex/SemblexData/clipped/wt_4040/VALID'\n",
    "\n",
    "with gzip.open(data_dir + '/SemblexData_config.pickle', 'rb') as f:\n",
    "    data = pickle.load(f)"
   ]
  },
  {
   "cell_type": "markdown",
   "metadata": {},
   "source": [
    "## Training dataset"
   ]
  },
  {
   "cell_type": "code",
   "execution_count": 5,
   "metadata": {
    "ExecuteTime": {
     "end_time": "2020-03-05T16:08:23.920915Z",
     "start_time": "2020-03-05T16:08:23.911413Z"
    }
   },
   "outputs": [
    {
     "data": {
      "text/plain": [
       "dict_keys(['2_data', '3_train_data', '0_index', '1_file', '4_test_data'])"
      ]
     },
     "execution_count": 5,
     "metadata": {},
     "output_type": "execute_result"
    }
   ],
   "source": [
    "data['GOOD'][0].keys()"
   ]
  },
  {
   "cell_type": "code",
   "execution_count": 6,
   "metadata": {
    "ExecuteTime": {
     "end_time": "2020-03-05T16:08:24.746196Z",
     "start_time": "2020-03-05T16:08:24.622054Z"
    }
   },
   "outputs": [
    {
     "data": {
      "text/plain": [
       "((2173, 40, 40, 2), (3399, 40, 40, 2))"
      ]
     },
     "execution_count": 6,
     "metadata": {},
     "output_type": "execute_result"
    }
   ],
   "source": [
    "G_train_X = []\n",
    "B_train_X = []\n",
    "\n",
    "for cls, data_bunch in data.items():\n",
    "    for data_i in data_bunch:\n",
    "        if cls == 'GOOD':\n",
    "            G_train_X.append(data_i['3_train_data'])\n",
    "        elif cls == 'BAD':\n",
    "            B_train_X.append(data_i['3_train_data'])\n",
    "\n",
    "G_train_X = np.concatenate(G_train_X)\n",
    "B_train_X = np.concatenate(B_train_X)\n",
    "\n",
    "G_train_X.shape, B_train_X.shape"
   ]
  },
  {
   "cell_type": "code",
   "execution_count": 7,
   "metadata": {
    "ExecuteTime": {
     "end_time": "2020-03-05T16:08:28.910844Z",
     "start_time": "2020-03-05T16:08:28.899525Z"
    }
   },
   "outputs": [
    {
     "data": {
      "text/plain": [
       "((2173, 2, 40, 40), (3399, 2, 40, 40))"
      ]
     },
     "execution_count": 7,
     "metadata": {},
     "output_type": "execute_result"
    }
   ],
   "source": [
    "def input_for_Pytorch(img):\n",
    "    \"\"\"\n",
    "    (sample #, height, width, channel) -> (sample #, channel, height, width)\n",
    "    \"\"\"\n",
    "    img = np.transpose(img, (0, 3, 1, 2))\n",
    "    return img\n",
    "\n",
    "G_train_X = input_for_Pytorch(G_train_X)\n",
    "B_train_X = input_for_Pytorch(B_train_X)\n",
    "\n",
    "G_train_X.shape, B_train_X.shape"
   ]
  },
  {
   "cell_type": "code",
   "execution_count": 9,
   "metadata": {
    "ExecuteTime": {
     "end_time": "2020-03-05T16:08:36.701889Z",
     "start_time": "2020-03-05T16:08:36.689933Z"
    }
   },
   "outputs": [
    {
     "data": {
      "text/plain": [
       "((2173, 2, 40, 40), (2173,), (3399, 2, 40, 40), (3399,))"
      ]
     },
     "execution_count": 9,
     "metadata": {},
     "output_type": "execute_result"
    }
   ],
   "source": [
    "def CreateLabel(data, cls):\n",
    "    label = cls*np.ones([data.shape[0]])\n",
    "    return label\n",
    "\n",
    "G_train_Y, B_train_Y = CreateLabel(G_train_X, 0), CreateLabel(B_train_X, 1)\n",
    "\n",
    "G_train_X.shape, G_train_Y.shape, B_train_X.shape, B_train_Y.shape"
   ]
  },
  {
   "cell_type": "code",
   "execution_count": 10,
   "metadata": {
    "ExecuteTime": {
     "end_time": "2020-03-05T16:08:38.644970Z",
     "start_time": "2020-03-05T16:08:38.564933Z"
    }
   },
   "outputs": [
    {
     "name": "stdout",
     "output_type": "stream",
     "text": [
      "Training: (1955, 2, 40, 40) (1955,) (3059, 2, 40, 40) (3059,)\n",
      "Validation: (218, 2, 40, 40) (218,) (340, 2, 40, 40) (340,)\n"
     ]
    }
   ],
   "source": [
    "def train_valid_split(data, label, rate_t_v = 0.9):\n",
    "    data_num = len(data)\n",
    "    train_idx = np.random.choice(data_num, int(rate_t_v*data_num), replace = False)\n",
    "    valid_idx = np.setdiff1d(np.arange(data_num), train_idx)\n",
    "    return data[train_idx], label[train_idx], data[valid_idx], label[valid_idx]\n",
    "\n",
    "G_train_X, G_train_Y, G_valid_X, G_valid_Y = train_valid_split(G_train_X, G_train_Y)\n",
    "B_train_X, B_train_Y, B_valid_X, B_valid_Y = train_valid_split(B_train_X, B_train_Y)\n",
    "\n",
    "print(\"Training:\", G_train_X.shape, G_train_Y.shape, B_train_X.shape, B_train_Y.shape)\n",
    "print(\"Validation:\", G_valid_X.shape, G_valid_Y.shape, B_valid_X.shape, B_valid_Y.shape)"
   ]
  },
  {
   "cell_type": "markdown",
   "metadata": {},
   "source": [
    "# Model"
   ]
  },
  {
   "cell_type": "code",
   "execution_count": 5,
   "metadata": {
    "ExecuteTime": {
     "end_time": "2020-03-05T17:32:20.599814Z",
     "start_time": "2020-03-05T17:32:20.572971Z"
    }
   },
   "outputs": [],
   "source": [
    "class ConvNet(nn.Module):\n",
    "    def __init__(self):\n",
    "        super().__init__()\n",
    "        # RGB세개 1채널, 20개 특징 추출, filter 크기, stride 1\n",
    "        self.conv1_1 = nn.Conv2d(2, 64, 3, 1, padding=1)\n",
    "        self.conv1_2 = nn.Conv2d(64, 64, 3, 1, padding=1)\n",
    "        self.conv1_bn = nn.BatchNorm2d(64)\n",
    "        \n",
    "        self.conv2_1 = nn.Conv2d(64, 64, 3, 1, padding=1)\n",
    "        self.conv2_2 = nn.Conv2d(64, 64, 3, 1, padding=1)\n",
    "        self.conv2_bn = nn.BatchNorm2d(64)\n",
    "        \n",
    "        self.conv3_1 = nn.Conv2d(64, 64, 3, 1, padding=1)\n",
    "        self.conv3_2 = nn.Conv2d(64, 64, 3, 1, padding=1)\n",
    "        self.conv3_bn = nn.BatchNorm2d(64)\n",
    "        \n",
    "        self.conv4_1 = nn.Conv2d(64, 64, 3, 1, padding=1)\n",
    "        self.conv4_2 = nn.Conv2d(64, 64, 3, 1, padding=1)\n",
    "        self.conv4_bn = nn.BatchNorm2d(64)\n",
    "        \n",
    "        self.dense1 = nn.Linear(2*2*64, 128)\n",
    "        # 0.5 가 권장 할 만하대\n",
    "        self.dropout1 = nn.Dropout(0.5)\n",
    "        self.dense2 = nn.Linear(128, 2)  \n",
    "        \n",
    "    def forward(self, x):\n",
    "        x = F.relu(self.conv1_1(x))\n",
    "        x = F.relu(self.conv1_bn(self.conv1_2(x)))\n",
    "        x = F.max_pool2d(x, 2, 2)\n",
    "        x = F.relu(self.conv2_1(x))\n",
    "        x = F.relu(self.conv2_bn(self.conv2_2(x)))\n",
    "        x = F.max_pool2d(x, 2, 2)\n",
    "        x = F.relu(self.conv3_1(x))\n",
    "        x = F.relu(self.conv3_bn(self.conv3_2(x)))\n",
    "        x = F.max_pool2d(x, 2, 2)\n",
    "        x = F.relu(self.conv4_1(x))\n",
    "        x = F.relu(self.conv4_bn(self.conv4_2(x)))\n",
    "        x = F.max_pool2d(x, 2, 2)\n",
    "        # flatten\n",
    "        x = x.view(-1, 2*2*64)\n",
    "        x = F.relu(self.dense1(x))\n",
    "        x = self.dropout1(x)\n",
    "        x = self.dense2(x)\n",
    "        return x"
   ]
  },
  {
   "cell_type": "code",
   "execution_count": 61,
   "metadata": {
    "ExecuteTime": {
     "end_time": "2020-03-05T16:38:14.051528Z",
     "start_time": "2020-03-05T16:38:14.010672Z"
    }
   },
   "outputs": [
    {
     "name": "stdout",
     "output_type": "stream",
     "text": [
      "----------------------------------------------------------------\n",
      "        Layer (type)               Output Shape         Param #\n",
      "================================================================\n",
      "            Conv2d-1           [-1, 64, 40, 40]           1,216\n",
      "            Conv2d-2           [-1, 64, 40, 40]          36,928\n",
      "       BatchNorm2d-3           [-1, 64, 40, 40]             128\n",
      "            Conv2d-4           [-1, 64, 20, 20]          36,928\n",
      "            Conv2d-5           [-1, 64, 20, 20]          36,928\n",
      "       BatchNorm2d-6           [-1, 64, 20, 20]             128\n",
      "            Conv2d-7           [-1, 64, 10, 10]          36,928\n",
      "            Conv2d-8           [-1, 64, 10, 10]          36,928\n",
      "       BatchNorm2d-9           [-1, 64, 10, 10]             128\n",
      "           Conv2d-10             [-1, 64, 5, 5]          36,928\n",
      "           Conv2d-11             [-1, 64, 5, 5]          36,928\n",
      "      BatchNorm2d-12             [-1, 64, 5, 5]             128\n",
      "           Linear-13                  [-1, 128]          32,896\n",
      "          Dropout-14                  [-1, 128]               0\n",
      "           Linear-15                    [-1, 2]             258\n",
      "================================================================\n",
      "Total params: 293,378\n",
      "Trainable params: 293,378\n",
      "Non-trainable params: 0\n",
      "----------------------------------------------------------------\n",
      "Input size (MB): 0.01\n",
      "Forward/backward pass size (MB): 3.11\n",
      "Params size (MB): 1.12\n",
      "Estimated Total Size (MB): 4.25\n",
      "----------------------------------------------------------------\n"
     ]
    }
   ],
   "source": [
    "model = ConvNet()\n",
    "model = model.cuda()\n",
    "# model = model.to(device)\n",
    "# if device == 'cuda':\n",
    "#     net = torch.nn.DataParallel(net)\n",
    "#     cudnn.benchmark = True\n",
    "criterion = nn.CrossEntropyLoss()\n",
    "optimizer = torch.optim.Adam(model.parameters(), lr=0.00001)\n",
    "\n",
    "summary(model, (2, 40, 40))"
   ]
  },
  {
   "cell_type": "markdown",
   "metadata": {},
   "source": [
    "# Training"
   ]
  },
  {
   "cell_type": "code",
   "execution_count": 62,
   "metadata": {
    "ExecuteTime": {
     "end_time": "2020-03-05T16:38:15.418683Z",
     "start_time": "2020-03-05T16:38:15.390449Z"
    }
   },
   "outputs": [
    {
     "name": "stdout",
     "output_type": "stream",
     "text": [
      "Training: (100, 2, 40, 40) (100,) (100, 2, 40, 40) (100,)\n",
      "Validation: (100, 2, 40, 40) (100,) (100, 2, 40, 40) (100,)\n"
     ]
    }
   ],
   "source": [
    "def RandomMinibatch(data, label, n_batch = 100):\n",
    "    batch_idx = np.random.choice(len(data), n_batch, replace = False)\n",
    "    return data[batch_idx], label[batch_idx]\n",
    "\n",
    "G_train_x, G_train_y = RandomMinibatch(G_train_X, G_train_Y, 100)\n",
    "B_train_x, B_train_y = RandomMinibatch(B_train_X, B_train_Y, 100)\n",
    "\n",
    "G_valid_x, G_valid_y = RandomMinibatch(G_valid_X, G_valid_Y, 100)\n",
    "B_valid_x, B_valid_y = RandomMinibatch(B_valid_X, B_valid_Y, 100)\n",
    "\n",
    "print(\"Training:\", G_train_x.shape, G_train_y.shape, B_train_x.shape, B_train_y.shape)\n",
    "print(\"Validation:\", G_valid_x.shape, G_valid_y.shape, B_valid_x.shape, B_valid_y.shape)"
   ]
  },
  {
   "cell_type": "code",
   "execution_count": 63,
   "metadata": {
    "ExecuteTime": {
     "end_time": "2020-03-05T16:38:16.110684Z",
     "start_time": "2020-03-05T16:38:16.084317Z"
    }
   },
   "outputs": [
    {
     "name": "stdout",
     "output_type": "stream",
     "text": [
      "Training (200, 2, 40, 40) (200,)\n"
     ]
    }
   ],
   "source": [
    "def shuffle(x, y):\n",
    "    \"\"\"\n",
    "    random shuffle of two paired data -> x, y = shuffle(x, y)\n",
    "    but, available of one data -> x = shuffle(x, None)\n",
    "    \"\"\"\n",
    "    idx = np.arange(len(x))\n",
    "    np.random.shuffle(idx)\n",
    "    if type(x) == type(y):\n",
    "        return x[idx], y[idx] \n",
    "    else:\n",
    "        return x[idx]\n",
    "    \n",
    "G_train_x, G_train_y = RandomMinibatch(G_train_X, G_train_Y, 100)\n",
    "B_train_x, B_train_y = RandomMinibatch(B_train_X, B_train_Y, 100)\n",
    "    \n",
    "train_x, train_y = np.vstack([G_train_x, B_train_x]), np.hstack([G_train_y, B_train_y])\n",
    "train_x, train_y = shuffle(train_x, train_y)\n",
    "\n",
    "print(\"Training\", train_x.shape, train_y.shape)"
   ]
  },
  {
   "cell_type": "code",
   "execution_count": 64,
   "metadata": {
    "ExecuteTime": {
     "end_time": "2020-03-05T16:38:39.452578Z",
     "start_time": "2020-03-05T16:38:16.893821Z"
    }
   },
   "outputs": [
    {
     "name": "stdout",
     "output_type": "stream",
     "text": [
      "00010 | train_loss: 0.62758, train_accr: 0.595 | val_loss: 0.63088, val_accr: 0.545\n",
      "00020 | train_loss: 0.58384, train_accr: 0.695 | val_loss: 0.60621, val_accr: 0.630\n",
      "00030 | train_loss: 0.58491, train_accr: 0.690 | val_loss: 0.55629, val_accr: 0.745\n",
      "00040 | train_loss: 0.56333, train_accr: 0.770 | val_loss: 0.53779, val_accr: 0.810\n",
      "00050 | train_loss: 0.51534, train_accr: 0.850 | val_loss: 0.52596, val_accr: 0.815\n",
      "00060 | train_loss: 0.50835, train_accr: 0.835 | val_loss: 0.51977, val_accr: 0.850\n",
      "00070 | train_loss: 0.47949, train_accr: 0.845 | val_loss: 0.48690, val_accr: 0.845\n",
      "00080 | train_loss: 0.45089, train_accr: 0.865 | val_loss: 0.44165, val_accr: 0.865\n",
      "00090 | train_loss: 0.43642, train_accr: 0.840 | val_loss: 0.42329, val_accr: 0.865\n",
      "00100 | train_loss: 0.40954, train_accr: 0.860 | val_loss: 0.38274, val_accr: 0.910\n",
      "00110 | train_loss: 0.36892, train_accr: 0.900 | val_loss: 0.35175, val_accr: 0.905\n",
      "00120 | train_loss: 0.36284, train_accr: 0.910 | val_loss: 0.35790, val_accr: 0.900\n",
      "00130 | train_loss: 0.29884, train_accr: 0.935 | val_loss: 0.31838, val_accr: 0.930\n",
      "00140 | train_loss: 0.26059, train_accr: 0.955 | val_loss: 0.27801, val_accr: 0.930\n",
      "00150 | train_loss: 0.25619, train_accr: 0.955 | val_loss: 0.23714, val_accr: 0.950\n",
      "00160 | train_loss: 0.22100, train_accr: 0.945 | val_loss: 0.23827, val_accr: 0.945\n",
      "00170 | train_loss: 0.18498, train_accr: 0.960 | val_loss: 0.21251, val_accr: 0.935\n",
      "00180 | train_loss: 0.19469, train_accr: 0.950 | val_loss: 0.19054, val_accr: 0.955\n",
      "00190 | train_loss: 0.15911, train_accr: 0.960 | val_loss: 0.16201, val_accr: 0.960\n",
      "00200 | train_loss: 0.15499, train_accr: 0.955 | val_loss: 0.14576, val_accr: 0.960\n",
      "00210 | train_loss: 0.13890, train_accr: 0.955 | val_loss: 0.13769, val_accr: 0.960\n",
      "00220 | train_loss: 0.09939, train_accr: 0.990 | val_loss: 0.11365, val_accr: 0.965\n",
      "00230 | train_loss: 0.09947, train_accr: 0.995 | val_loss: 0.08713, val_accr: 0.985\n",
      "00240 | train_loss: 0.09522, train_accr: 0.995 | val_loss: 0.10735, val_accr: 0.960\n",
      "00250 | train_loss: 0.07322, train_accr: 0.985 | val_loss: 0.10197, val_accr: 0.960\n",
      "00260 | train_loss: 0.05603, train_accr: 1.000 | val_loss: 0.07127, val_accr: 1.000\n",
      "00270 | train_loss: 0.05683, train_accr: 1.000 | val_loss: 0.05104, val_accr: 1.000\n",
      "00280 | train_loss: 0.04670, train_accr: 1.000 | val_loss: 0.05042, val_accr: 1.000\n",
      "00290 | train_loss: 0.03947, train_accr: 1.000 | val_loss: 0.04168, val_accr: 1.000\n",
      "00300 | train_loss: 0.04264, train_accr: 1.000 | val_loss: 0.04061, val_accr: 1.000\n",
      "00310 | train_loss: 0.03457, train_accr: 1.000 | val_loss: 0.03344, val_accr: 1.000\n",
      "00320 | train_loss: 0.03740, train_accr: 1.000 | val_loss: 0.02914, val_accr: 1.000\n",
      "00330 | train_loss: 0.03204, train_accr: 1.000 | val_loss: 0.02985, val_accr: 1.000\n",
      "00340 | train_loss: 0.03193, train_accr: 1.000 | val_loss: 0.02602, val_accr: 1.000\n",
      "00350 | train_loss: 0.02781, train_accr: 1.000 | val_loss: 0.02790, val_accr: 1.000\n",
      "00360 | train_loss: 0.02183, train_accr: 1.000 | val_loss: 0.02326, val_accr: 1.000\n",
      "00370 | train_loss: 0.03404, train_accr: 0.995 | val_loss: 0.02088, val_accr: 1.000\n",
      "00380 | train_loss: 0.02158, train_accr: 1.000 | val_loss: 0.02386, val_accr: 1.000\n",
      "00390 | train_loss: 0.01789, train_accr: 1.000 | val_loss: 0.02240, val_accr: 1.000\n",
      "00400 | train_loss: 0.01913, train_accr: 1.000 | val_loss: 0.01830, val_accr: 1.000\n",
      "00410 | train_loss: 0.02178, train_accr: 1.000 | val_loss: 0.01768, val_accr: 1.000\n",
      "00420 | train_loss: 0.01722, train_accr: 1.000 | val_loss: 0.01699, val_accr: 1.000\n",
      "00430 | train_loss: 0.01507, train_accr: 1.000 | val_loss: 0.01608, val_accr: 1.000\n",
      "00440 | train_loss: 0.01473, train_accr: 1.000 | val_loss: 0.01672, val_accr: 1.000\n",
      "00450 | train_loss: 0.01241, train_accr: 1.000 | val_loss: 0.01311, val_accr: 1.000\n",
      "00460 | train_loss: 0.01509, train_accr: 1.000 | val_loss: 0.01768, val_accr: 1.000\n",
      "00470 | train_loss: 0.01128, train_accr: 1.000 | val_loss: 0.01274, val_accr: 1.000\n",
      "00480 | train_loss: 0.01124, train_accr: 1.000 | val_loss: 0.01301, val_accr: 1.000\n",
      "00490 | train_loss: 0.01005, train_accr: 1.000 | val_loss: 0.01069, val_accr: 1.000\n",
      "00500 | train_loss: 0.00818, train_accr: 1.000 | val_loss: 0.00993, val_accr: 1.000\n",
      "00510 | train_loss: 0.01086, train_accr: 1.000 | val_loss: 0.00995, val_accr: 1.000\n",
      "00520 | train_loss: 0.00922, train_accr: 1.000 | val_loss: 0.00950, val_accr: 1.000\n",
      "00530 | train_loss: 0.00927, train_accr: 1.000 | val_loss: 0.00838, val_accr: 1.000\n",
      "00540 | train_loss: 0.01088, train_accr: 1.000 | val_loss: 0.01179, val_accr: 1.000\n",
      "00550 | train_loss: 0.00900, train_accr: 1.000 | val_loss: 0.00863, val_accr: 1.000\n",
      "00560 | train_loss: 0.00818, train_accr: 1.000 | val_loss: 0.00871, val_accr: 1.000\n",
      "00570 | train_loss: 0.00689, train_accr: 1.000 | val_loss: 0.00872, val_accr: 1.000\n",
      "00580 | train_loss: 0.00831, train_accr: 1.000 | val_loss: 0.00931, val_accr: 1.000\n",
      "00590 | train_loss: 0.00754, train_accr: 1.000 | val_loss: 0.00729, val_accr: 1.000\n",
      "00600 | train_loss: 0.00613, train_accr: 1.000 | val_loss: 0.00653, val_accr: 1.000\n",
      "00610 | train_loss: 0.00926, train_accr: 1.000 | val_loss: 0.00648, val_accr: 1.000\n",
      "00620 | train_loss: 0.00660, train_accr: 1.000 | val_loss: 0.00639, val_accr: 1.000\n",
      "00630 | train_loss: 0.00641, train_accr: 1.000 | val_loss: 0.01013, val_accr: 1.000\n",
      "00640 | train_loss: 0.00566, train_accr: 1.000 | val_loss: 0.00621, val_accr: 1.000\n",
      "00650 | train_loss: 0.00644, train_accr: 1.000 | val_loss: 0.00676, val_accr: 1.000\n",
      "00660 | train_loss: 0.00543, train_accr: 1.000 | val_loss: 0.00884, val_accr: 1.000\n",
      "00670 | train_loss: 0.00600, train_accr: 1.000 | val_loss: 0.00447, val_accr: 1.000\n",
      "\n",
      "Early stopping!!\n",
      "..val_loss (avg. within 5): 0.00728 >= val_loss (avg. within 10) 0.00724\n"
     ]
    }
   ],
   "source": [
    "loss_history, accr_history = [], []\n",
    "val_loss_history, val_accr_history = [], []\n",
    "\n",
    "iter_i = 0\n",
    "\n",
    "while True:\n",
    "    iter_i += 1\n",
    "    \n",
    "    G_train_x, G_train_y = RandomMinibatch(G_train_X, G_train_Y, 100)\n",
    "    B_train_x, B_train_y = RandomMinibatch(B_train_X, B_train_Y, 100)\n",
    "    \n",
    "    train_x, train_y = np.vstack([G_train_x, B_train_x]), np.hstack([G_train_y, B_train_y])\n",
    "\n",
    "    train_x, train_y = shuffle(train_x, train_y)\n",
    "    \n",
    "#     train_x, train_y = train_x.to(device), train_y.to(device)\n",
    "    train_x, train_y = torch.tensor(train_x, device=device).float(), torch.tensor(train_y, device=device).long()\n",
    "    \n",
    "    output = model(train_x)\n",
    "    loss = criterion(output, train_y)\n",
    "    \n",
    "    optimizer.zero_grad()\n",
    "    loss.backward()\n",
    "    optimizer.step()\n",
    "    \n",
    "    if iter_i % 10 == 0:\n",
    "        \n",
    "        _, pred = torch.max(output, 1)\n",
    "        \n",
    "        loss_history.append(loss.tolist())\n",
    "        accr_history.append((torch.sum(pred == train_y.data).tolist() / len(train_y)))\n",
    "        \n",
    "        with torch.no_grad():\n",
    "    \n",
    "            G_valid_x, G_valid_y = RandomMinibatch(G_valid_X, G_valid_Y, 100)\n",
    "            B_valid_x, B_valid_y = RandomMinibatch(B_valid_X, B_valid_Y, 100)\n",
    "\n",
    "            valid_x, valid_y = np.vstack([G_valid_x, B_valid_x]), np.hstack([G_valid_y, B_valid_y])\n",
    "#             valid_x, valid_y = valid_x.to(device), valid_y.to(device)\n",
    "            valid_x, valid_y = torch.tensor(valid_x, device=device).float(), torch.tensor(valid_y, device=device).long()\n",
    "\n",
    "            valid_output = model(valid_x)\n",
    "            valid_loss = criterion(valid_output, valid_y)\n",
    "            \n",
    "            _, valid_pred = torch.max(valid_output, 1)\n",
    "        \n",
    "            val_loss_history.append(valid_loss.tolist())\n",
    "            val_accr_history.append((torch.sum(valid_pred == valid_y.data).tolist() / len(valid_y)))\n",
    "        \n",
    "        \n",
    "        print(\"{:05d} | train_loss: {:.5f}, train_accr: {:.3f} | val_loss: {:.5f}, val_accr: {:.3f}\".format(iter_i, \n",
    "                                                                                                            loss_history[-1], \n",
    "                                                                                                            accr_history[-1], \n",
    "                                                                                                            val_loss_history[-1], \n",
    "                                                                                                            val_accr_history[-1]))\n",
    "        \n",
    "        if iter_i >= 100:  \n",
    "            if np.mean(val_loss_history[-5 :]) >= np.mean(val_loss_history[-10:]):\n",
    "                print('')\n",
    "                print('Early stopping!!')\n",
    "                print('..val_loss (avg. within 5): {:.5f} >= val_loss (avg. within 10) {:.5f}'.format(np.mean(val_loss_history[-5 :]),\n",
    "                                                                                                  np.mean(val_loss_history[-10:])))\n",
    "\n",
    "#                 model.save_state_dict('Model_using_Semblex_data_for_GB_cls_both_sensors.pt')\n",
    "                now = datetime.datetime.now()\n",
    "                nowDatetime = now.strftime('%y%m%d%H%M')\n",
    "                model_name = 'GB_sem_AB_{}_{:05d}_loss_{:.6f}_val_loss_{:.6f}.pt'.format(nowDatetime, iter_i, \n",
    "                                                                                     np.mean(loss_history[-3:]),\n",
    "                                                                                     np.mean(val_loss_history[-3:]))\n",
    "                torch.save(model.state_dict(), './model/' + model_name)\n",
    "                break   "
   ]
  },
  {
   "cell_type": "code",
   "execution_count": 66,
   "metadata": {
    "ExecuteTime": {
     "end_time": "2020-03-05T16:38:53.993401Z",
     "start_time": "2020-03-05T16:38:53.475340Z"
    }
   },
   "outputs": [
    {
     "data": {
      "image/png": "[encoded data removed]",
      "text/plain": [
       "<Figure size 1080x1224 with 2 Axes>"
      ]
     },
     "metadata": {
      "needs_background": "light"
     },
     "output_type": "display_data"
    }
   ],
   "source": [
    "fig = plt.figure(figsize = (15,17))\n",
    "plt.suptitle('Training History', y = 0.92, fontsize = 20)\n",
    "\n",
    "# x_axis = range(1, 10*len(accr_history)+1, 10)\n",
    "x_axis = np.arange(10, 10*len(accr_history)+1, 10)\n",
    "\n",
    "plt.subplot(2, 1, 1)\n",
    "plt.plot(x_axis, accr_history, 'b-', label = 'Training Accuracy')\n",
    "plt.plot(x_axis, val_accr_history, 'r-', label = 'Validation Accuracy')\n",
    "plt.xlabel('Iteration', fontsize = 15)\n",
    "plt.ylabel('Accuracy', fontsize = 15)\n",
    "plt.legend(fontsize = 10)\n",
    "plt.subplot(2, 1, 2)\n",
    "plt.plot(x_axis, loss_history, 'b-', label = 'Training Loss')\n",
    "plt.plot(x_axis, val_loss_history, 'r-', label = 'Validation Loss')\n",
    "plt.xlabel('Iteration', fontsize = 15)\n",
    "plt.ylabel('Loss', fontsize = 15)\n",
    "# plt.yticks(np.arange(0, 0.25, step=0.025))\n",
    "plt.legend(fontsize = 12)\n",
    "plt.show()\n",
    "\n",
    "# if save == True:\n",
    "#     fig.savefig(hist_path + filename)\n",
    "#     plt.close(fig)"
   ]
  },
  {
   "cell_type": "markdown",
   "metadata": {},
   "source": [
    "# Testing"
   ]
  },
  {
   "cell_type": "markdown",
   "metadata": {},
   "source": [
    "## Load data and model"
   ]
  },
  {
   "cell_type": "code",
   "execution_count": 4,
   "metadata": {
    "ExecuteTime": {
     "end_time": "2020-03-05T19:16:48.136271Z",
     "start_time": "2020-03-05T19:16:45.368724Z"
    },
    "scrolled": true
   },
   "outputs": [],
   "source": [
    "data_dir = '/mnt/disk1/yunseob/Pytorch/SSM/Semblex/SemblexData/clipped/wt_4040/VALID'\n",
    "\n",
    "with gzip.open(data_dir + '/SemblexData_config.pickle', 'rb') as f:\n",
    "    data = pickle.load(f)"
   ]
  },
  {
   "cell_type": "code",
   "execution_count": 5,
   "metadata": {
    "ExecuteTime": {
     "end_time": "2020-03-05T19:16:48.587885Z",
     "start_time": "2020-03-05T19:16:48.578329Z"
    }
   },
   "outputs": [],
   "source": [
    "def input_for_Pytorch(img):\n",
    "    \"\"\"\n",
    "    (sample #, height, width, channel) -> (sample #, channel, height, width)\n",
    "    \"\"\"\n",
    "    img = np.transpose(img, (0, 3, 1, 2))\n",
    "    return img\n",
    "\n",
    "def CreateLabel(data, cls):\n",
    "    label = cls*np.ones([data.shape[0]])\n",
    "    return label"
   ]
  },
  {
   "cell_type": "code",
   "execution_count": 6,
   "metadata": {
    "ExecuteTime": {
     "end_time": "2020-03-05T19:16:49.804603Z",
     "start_time": "2020-03-05T19:16:49.737852Z"
    }
   },
   "outputs": [
    {
     "name": "stdout",
     "output_type": "stream",
     "text": [
      "Testing GOOD: (544, 2, 40, 40) (544,) BAD: (854, 2, 40, 40) (854,)\n",
      "Testing: (1398, 2, 40, 40) (1398,)\n"
     ]
    }
   ],
   "source": [
    "G_test_X = []\n",
    "B_test_X = []\n",
    "\n",
    "for cls, data_bunch in data.items():\n",
    "    for data_i in data_bunch:\n",
    "        if cls == 'GOOD':\n",
    "            G_test_X.append(data_i['4_test_data'])\n",
    "        elif cls == 'BAD':\n",
    "            B_test_X.append(data_i['4_test_data'])\n",
    "\n",
    "G_test_X = np.concatenate(G_test_X)\n",
    "B_test_X = np.concatenate(B_test_X)\n",
    "\n",
    "G_test_X = input_for_Pytorch(G_test_X)\n",
    "B_test_X = input_for_Pytorch(B_test_X)\n",
    "\n",
    "G_test_Y, B_test_Y = CreateLabel(G_test_X, 0), CreateLabel(B_test_X, 1)\n",
    "\n",
    "print(\"Testing GOOD:\",G_test_X.shape, G_test_Y.shape, \"BAD:\", B_test_X.shape, B_test_Y.shape)\n",
    "\n",
    "test_X, test_Y = np.vstack([G_test_X, B_test_X]), np.hstack([G_test_Y, B_test_Y])\n",
    "\n",
    "print(\"Testing:\", test_X.shape, test_Y.shape)"
   ]
  },
  {
   "cell_type": "code",
   "execution_count": 7,
   "metadata": {
    "ExecuteTime": {
     "end_time": "2020-03-05T19:16:51.740419Z",
     "start_time": "2020-03-05T19:16:51.713656Z"
    }
   },
   "outputs": [],
   "source": [
    "class ConvNet(nn.Module):\n",
    "    def __init__(self):\n",
    "        super().__init__()\n",
    "        # RGB세개 1채널, 20개 특징 추출, filter 크기, stride 1\n",
    "        self.conv1_1 = nn.Conv2d(2, 64, 3, 1, padding=1)\n",
    "        self.conv1_2 = nn.Conv2d(64, 64, 3, 1, padding=1)\n",
    "        self.conv1_bn = nn.BatchNorm2d(64)\n",
    "        \n",
    "        self.conv2_1 = nn.Conv2d(64, 64, 3, 1, padding=1)\n",
    "        self.conv2_2 = nn.Conv2d(64, 64, 3, 1, padding=1)\n",
    "        self.conv2_bn = nn.BatchNorm2d(64)\n",
    "        \n",
    "        self.conv3_1 = nn.Conv2d(64, 64, 3, 1, padding=1)\n",
    "        self.conv3_2 = nn.Conv2d(64, 64, 3, 1, padding=1)\n",
    "        self.conv3_bn = nn.BatchNorm2d(64)\n",
    "        \n",
    "        self.conv4_1 = nn.Conv2d(64, 64, 3, 1, padding=1)\n",
    "        self.conv4_2 = nn.Conv2d(64, 64, 3, 1, padding=1)\n",
    "        self.conv4_bn = nn.BatchNorm2d(64)\n",
    "        \n",
    "        self.dense1 = nn.Linear(2*2*64, 128)\n",
    "        # 0.5 가 권장 할 만하대\n",
    "        self.dropout1 = nn.Dropout(0.5)\n",
    "        self.dense2 = nn.Linear(128, 2)  \n",
    "        \n",
    "    def forward(self, x):\n",
    "        x = F.relu(self.conv1_1(x))\n",
    "        x = F.relu(self.conv1_bn(self.conv1_2(x)))\n",
    "        x = F.max_pool2d(x, 2, 2)\n",
    "        x = F.relu(self.conv2_1(x))\n",
    "        x = F.relu(self.conv2_bn(self.conv2_2(x)))\n",
    "        x = F.max_pool2d(x, 2, 2)\n",
    "        x = F.relu(self.conv3_1(x))\n",
    "        x = F.relu(self.conv3_bn(self.conv3_2(x)))\n",
    "        x = F.max_pool2d(x, 2, 2)\n",
    "        x = F.relu(self.conv4_1(x))\n",
    "        x = F.relu(self.conv4_bn(self.conv4_2(x)))\n",
    "        x = F.max_pool2d(x, 2, 2)\n",
    "        # flatten\n",
    "        x = x.view(-1, 2*2*64)\n",
    "        x = F.relu(self.dense1(x))\n",
    "        x = self.dropout1(x)\n",
    "        x = self.dense2(x)\n",
    "        return x"
   ]
  },
  {
   "cell_type": "code",
   "execution_count": 8,
   "metadata": {
    "ExecuteTime": {
     "end_time": "2020-03-05T19:16:54.328126Z",
     "start_time": "2020-03-05T19:16:54.322484Z"
    }
   },
   "outputs": [],
   "source": [
    "model_name = [i for i in os.listdir('./model') if 'GB' in i][0]"
   ]
  },
  {
   "cell_type": "code",
   "execution_count": 9,
   "metadata": {
    "ExecuteTime": {
     "end_time": "2020-03-05T19:16:59.854458Z",
     "start_time": "2020-03-05T19:16:55.174381Z"
    }
   },
   "outputs": [
    {
     "data": {
      "text/plain": [
       "ConvNet(\n",
       "  (conv1_1): Conv2d(2, 64, kernel_size=(3, 3), stride=(1, 1), padding=(1, 1))\n",
       "  (conv1_2): Conv2d(64, 64, kernel_size=(3, 3), stride=(1, 1), padding=(1, 1))\n",
       "  (conv1_bn): BatchNorm2d(64, eps=1e-05, momentum=0.1, affine=True, track_running_stats=True)\n",
       "  (conv2_1): Conv2d(64, 64, kernel_size=(3, 3), stride=(1, 1), padding=(1, 1))\n",
       "  (conv2_2): Conv2d(64, 64, kernel_size=(3, 3), stride=(1, 1), padding=(1, 1))\n",
       "  (conv2_bn): BatchNorm2d(64, eps=1e-05, momentum=0.1, affine=True, track_running_stats=True)\n",
       "  (conv3_1): Conv2d(64, 64, kernel_size=(3, 3), stride=(1, 1), padding=(1, 1))\n",
       "  (conv3_2): Conv2d(64, 64, kernel_size=(3, 3), stride=(1, 1), padding=(1, 1))\n",
       "  (conv3_bn): BatchNorm2d(64, eps=1e-05, momentum=0.1, affine=True, track_running_stats=True)\n",
       "  (conv4_1): Conv2d(64, 64, kernel_size=(3, 3), stride=(1, 1), padding=(1, 1))\n",
       "  (conv4_2): Conv2d(64, 64, kernel_size=(3, 3), stride=(1, 1), padding=(1, 1))\n",
       "  (conv4_bn): BatchNorm2d(64, eps=1e-05, momentum=0.1, affine=True, track_running_stats=True)\n",
       "  (dense1): Linear(in_features=256, out_features=128, bias=True)\n",
       "  (dropout1): Dropout(p=0.5, inplace=False)\n",
       "  (dense2): Linear(in_features=128, out_features=2, bias=True)\n",
       ")"
      ]
     },
     "execution_count": 9,
     "metadata": {},
     "output_type": "execute_result"
    }
   ],
   "source": [
    "saved_model = ConvNet()\n",
    "saved_model = saved_model.cuda()\n",
    "saved_model.load_state_dict(torch.load('./model/' + model_name))\n",
    "saved_model.eval()"
   ]
  },
  {
   "cell_type": "markdown",
   "metadata": {},
   "source": [
    "## Evaluation"
   ]
  },
  {
   "cell_type": "code",
   "execution_count": 10,
   "metadata": {
    "ExecuteTime": {
     "end_time": "2020-03-05T19:17:02.600968Z",
     "start_time": "2020-03-05T19:17:02.575323Z"
    }
   },
   "outputs": [],
   "source": [
    "test_X, test_Y = torch.tensor(test_X, device=device).float(), torch.tensor(test_Y, device=device).long()"
   ]
  },
  {
   "cell_type": "code",
   "execution_count": 11,
   "metadata": {
    "ExecuteTime": {
     "end_time": "2020-03-05T19:17:03.315867Z",
     "start_time": "2020-03-05T19:17:03.245400Z"
    }
   },
   "outputs": [],
   "source": [
    "output = saved_model(test_X)"
   ]
  },
  {
   "cell_type": "code",
   "execution_count": 12,
   "metadata": {
    "ExecuteTime": {
     "end_time": "2020-03-05T19:17:04.120583Z",
     "start_time": "2020-03-05T19:17:04.111145Z"
    }
   },
   "outputs": [
    {
     "name": "stdout",
     "output_type": "stream",
     "text": [
      "Testing Accuracy: 100.00 %\n"
     ]
    }
   ],
   "source": [
    "_, pred = torch.max(output, 1)\n",
    "accr = (torch.sum(pred == test_Y.data) / len(test_Y)).tolist()\n",
    "\n",
    "print(\"Testing Accuracy: {:.2f} %\".format(100*accr))"
   ]
  },
  {
   "cell_type": "code",
   "execution_count": 13,
   "metadata": {
    "ExecuteTime": {
     "end_time": "2020-03-05T19:17:11.267885Z",
     "start_time": "2020-03-05T19:17:11.253169Z"
    }
   },
   "outputs": [
    {
     "data": {
      "text/plain": [
       "tensor([[ 2.3293, -3.4342],\n",
       "        [ 2.3225, -3.4386],\n",
       "        [ 2.3254, -3.4291],\n",
       "        ...,\n",
       "        [-3.4189,  2.3902],\n",
       "        [-3.7139,  2.4903],\n",
       "        [-3.4219,  2.3961]], device='cuda:0', grad_fn=<AddmmBackward>)"
      ]
     },
     "execution_count": 13,
     "metadata": {},
     "output_type": "execute_result"
    }
   ],
   "source": [
    "output"
   ]
  },
  {
   "cell_type": "code",
   "execution_count": 14,
   "metadata": {
    "ExecuteTime": {
     "end_time": "2020-03-05T19:17:12.381861Z",
     "start_time": "2020-03-05T19:17:12.374346Z"
    }
   },
   "outputs": [
    {
     "data": {
      "text/plain": [
       "tensor([0, 0, 0,  ..., 1, 1, 1], device='cuda:0')"
      ]
     },
     "execution_count": 14,
     "metadata": {},
     "output_type": "execute_result"
    }
   ],
   "source": [
    "pred"
   ]
  },
  {
   "cell_type": "code",
   "execution_count": 15,
   "metadata": {
    "ExecuteTime": {
     "end_time": "2020-03-05T19:17:13.438086Z",
     "start_time": "2020-03-05T19:17:13.431004Z"
    }
   },
   "outputs": [
    {
     "data": {
      "text/plain": [
       "tensor([0, 0, 0,  ..., 1, 1, 1], device='cuda:0')"
      ]
     },
     "execution_count": 15,
     "metadata": {},
     "output_type": "execute_result"
    }
   ],
   "source": [
    "test_Y"
   ]
  },
  {
   "cell_type": "code",
   "execution_count": 16,
   "metadata": {
    "ExecuteTime": {
     "end_time": "2020-03-05T19:17:15.812717Z",
     "start_time": "2020-03-05T19:17:15.796252Z"
    }
   },
   "outputs": [],
   "source": [
    "def plotCM(cm, class_name, value_size, label_size, mode):\n",
    "\n",
    "    plt.imshow(cm, interpolation = 'nearest', cmap = plt.cm.Blues)\n",
    "    thresh = cm.max()/2.\n",
    "    for i, j in itertools.product(range(cm.shape[0]), range(cm.shape[1])):\n",
    "        if mode == 'percent':\n",
    "            value = np.round(cm[i, j]/(np.sum(cm, 1)[i]), 3)\n",
    "        if mode == 'num':\n",
    "            value = cm[i, j]\n",
    "        plt.text(j, i, value,\n",
    "                 fontsize = value_size,\n",
    "                 horizontalalignment = 'center',\n",
    "                 color = 'white' if cm[i, j] > thresh else 'black')\n",
    "    plt.ylabel('True label', fontsize = label_size)\n",
    "    plt.xlabel('Predicted', fontsize = label_size)\n",
    "    plt.xticks([i for i in range(len(class_name))], class_name, rotation=0, fontsize = label_size)\n",
    "    plt.yticks([i for i in range(len(class_name))], class_name, rotation=90, fontsize = label_size)"
   ]
  },
  {
   "cell_type": "code",
   "execution_count": 20,
   "metadata": {
    "ExecuteTime": {
     "end_time": "2020-03-05T19:31:09.619681Z",
     "start_time": "2020-03-05T19:31:08.769835Z"
    }
   },
   "outputs": [
    {
     "data": {
      "image/png": "[encoded data removed]",
      "text/plain": [
       "<Figure size 936x720 with 1 Axes>"
      ]
     },
     "metadata": {
      "needs_background": "light"
     },
     "output_type": "display_data"
    },
    {
     "data": {
      "image/png": "[encoded data removed]",
      "text/plain": [
       "<Figure size 936x720 with 1 Axes>"
      ]
     },
     "metadata": {
      "needs_background": "light"
     },
     "output_type": "display_data"
    }
   ],
   "source": [
    "cm = confusion_matrix(test_Y.tolist(), pred.tolist())\n",
    "\n",
    "class_name = ['GOOD', 'BAD']\n",
    "\n",
    "fig = plt.figure(figsize = (13, 10))\n",
    "plotCM(cm, class_name, value_size = 20, label_size = 15, mode = 'percent')\n",
    "plt.show()\n",
    "fig.savefig('confusion_matrix_of_results_of_GB_model_percent.png', bbox_inches='tight')\n",
    "plt.close(fig)\n",
    "fig = plt.figure(figsize = (13, 10))\n",
    "plotCM(cm, class_name, value_size = 20, label_size = 15, mode = 'num')\n",
    "plt.show()\n",
    "fig.savefig('confusion_matrix_of_results_of_GB_model_num.png', bbox_inches='tight')\n",
    "plt.close(fig)"
   ]
  }
 ],
 "metadata": {
  "hide_input": false,
  "kernelspec": {
   "display_name": "Pytorch",
   "language": "python",
   "name": "pytorch"
  },
  "language_info": {
   "codemirror_mode": {
    "name": "ipython",
    "version": 3
   },
   "file_extension": ".py",
   "mimetype": "text/x-python",
   "name": "python",
   "nbconvert_exporter": "python",
   "pygments_lexer": "ipython3",
   "version": "3.5.2"
  },
  "toc": {
   "base_numbering": 1,
   "nav_menu": {},
   "number_sections": true,
   "sideBar": true,
   "skip_h1_title": false,
   "title_cell": "Table of Contents",
   "title_sidebar": "Contents",
   "toc_cell": false,
   "toc_position": {},
   "toc_section_display": true,
   "toc_window_display": false
  }
 },
 "nbformat": 4,
 "nbformat_minor": 2
}
