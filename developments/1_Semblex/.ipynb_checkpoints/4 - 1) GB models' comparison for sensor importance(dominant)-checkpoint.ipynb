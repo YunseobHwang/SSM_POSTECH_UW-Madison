{
 "cells": [
  {
   "cell_type": "code",
   "execution_count": 1,
   "metadata": {
    "ExecuteTime": {
     "end_time": "2020-03-06T20:23:34.545432Z",
     "start_time": "2020-03-06T20:23:33.707318Z"
    }
   },
   "outputs": [],
   "source": [
    "import numpy as np\n",
    "import matplotlib.pyplot as plt\n",
    "%matplotlib inline\n",
    "\n",
    "import os\n",
    "import pickle, gzip\n",
    "\n",
    "import torch\n",
    "from torch import nn\n",
    "from torch.nn import functional as F\n",
    "\n",
    "from sklearn.metrics import confusion_matrix\n",
    "import itertools"
   ]
  },
  {
   "cell_type": "code",
   "execution_count": 2,
   "metadata": {
    "ExecuteTime": {
     "end_time": "2020-03-06T20:23:40.715859Z",
     "start_time": "2020-03-06T20:23:34.547983Z"
    }
   },
   "outputs": [],
   "source": [
    "device = torch.device(\"cuda:3\" if torch.cuda.is_available() else \"cpu\")"
   ]
  },
  {
   "cell_type": "markdown",
   "metadata": {},
   "source": [
    "# Load Testing data"
   ]
  },
  {
   "cell_type": "code",
   "execution_count": 3,
   "metadata": {
    "ExecuteTime": {
     "end_time": "2020-03-06T20:30:02.443672Z",
     "start_time": "2020-03-06T20:29:59.715434Z"
    }
   },
   "outputs": [],
   "source": [
    "data_dir = '/mnt/disk1/yunseob/Pytorch/SSM/Semblex/SemblexData/clipped/wt_4040/VALID'\n",
    "\n",
    "with gzip.open(data_dir + '/SemblexData_config.pickle', 'rb') as f:\n",
    "    data = pickle.load(f)"
   ]
  },
  {
   "cell_type": "code",
   "execution_count": 4,
   "metadata": {
    "ExecuteTime": {
     "end_time": "2020-03-06T20:30:02.869199Z",
     "start_time": "2020-03-06T20:30:02.858468Z"
    }
   },
   "outputs": [],
   "source": [
    "def concat(data):\n",
    "    return np.expand_dims(np.concatenate(data), axis = 3)\n",
    "\n",
    "def input_for_Pytorch(img):\n",
    "    \"\"\"\n",
    "    (sample #, height, width, channel) -> (sample #, channel, height, width)\n",
    "    \"\"\"\n",
    "    img = np.transpose(img, (0, 3, 1, 2))\n",
    "    return img\n",
    "\n",
    "def CreateLabel(data, cls):\n",
    "    label = cls*np.ones([data.shape[0]])\n",
    "    return label"
   ]
  },
  {
   "cell_type": "code",
   "execution_count": 7,
   "metadata": {
    "ExecuteTime": {
     "end_time": "2020-03-06T20:31:01.283995Z",
     "start_time": "2020-03-06T20:31:01.228924Z"
    }
   },
   "outputs": [
    {
     "name": "stdout",
     "output_type": "stream",
     "text": [
      "Testing GOOD: (544, 2, 40, 40) (544,) BAD: (854, 2, 40, 40) (854,)\n",
      "Testing: (1398, 2, 40, 40) (1398,)\n"
     ]
    }
   ],
   "source": [
    "G_test_X = []\n",
    "B_test_X = []\n",
    "\n",
    "for cls, data_bunch in data.items():\n",
    "    for data_i in data_bunch:\n",
    "        if cls == 'GOOD':\n",
    "            G_test_X.append(data_i['4_test_data'])\n",
    "        elif cls == 'BAD':\n",
    "            B_test_X.append(data_i['4_test_data'])\n",
    "\n",
    "G_test_X = np.concatenate(G_test_X)\n",
    "B_test_X = np.concatenate(B_test_X)\n",
    "\n",
    "G_test_X = input_for_Pytorch(G_test_X)\n",
    "B_test_X = input_for_Pytorch(B_test_X)\n",
    "\n",
    "G_test_Y, B_test_Y = CreateLabel(G_test_X, 0), CreateLabel(B_test_X, 1)\n",
    "\n",
    "print(\"Testing GOOD:\",G_test_X.shape, G_test_Y.shape, \"BAD:\", B_test_X.shape, B_test_Y.shape)\n",
    "\n",
    "test_X, test_Y = np.vstack([G_test_X, B_test_X]), np.hstack([G_test_Y, B_test_Y])\n",
    "\n",
    "print(\"Testing:\", test_X.shape, test_Y.shape)"
   ]
  },
  {
   "cell_type": "markdown",
   "metadata": {},
   "source": [
    "# Import Model"
   ]
  },
  {
   "cell_type": "code",
   "execution_count": 16,
   "metadata": {
    "ExecuteTime": {
     "end_time": "2020-03-06T20:54:37.850344Z",
     "start_time": "2020-03-06T20:54:37.823211Z"
    }
   },
   "outputs": [],
   "source": [
    "class ConvNet(nn.Module):\n",
    "    def __init__(self, n_ch, n_cls):\n",
    "        super().__init__()\n",
    "        # RGB세개 1채널, 20개 특징 추출, filter 크기, stride 1\n",
    "        self.conv1_1 = nn.Conv2d(n_ch, 64, 3, 1, padding=1)\n",
    "        self.conv1_2 = nn.Conv2d(64, 64, 3, 1, padding=1)\n",
    "        self.conv1_bn = nn.BatchNorm2d(64)\n",
    "        \n",
    "        self.conv2_1 = nn.Conv2d(64, 64, 3, 1, padding=1)\n",
    "        self.conv2_2 = nn.Conv2d(64, 64, 3, 1, padding=1)\n",
    "        self.conv2_bn = nn.BatchNorm2d(64)\n",
    "        \n",
    "        self.conv3_1 = nn.Conv2d(64, 64, 3, 1, padding=1)\n",
    "        self.conv3_2 = nn.Conv2d(64, 64, 3, 1, padding=1)\n",
    "        self.conv3_bn = nn.BatchNorm2d(64)\n",
    "        \n",
    "        self.conv4_1 = nn.Conv2d(64, 64, 3, 1, padding=1)\n",
    "        self.conv4_2 = nn.Conv2d(64, 64, 3, 1, padding=1)\n",
    "        self.conv4_bn = nn.BatchNorm2d(64)\n",
    "        \n",
    "        self.dense1 = nn.Linear(2*2*64, 128)\n",
    "        # 0.5 가 권장 할 만하대\n",
    "        self.dropout1 = nn.Dropout(0.5)\n",
    "        self.dense2 = nn.Linear(128, n_cls)  \n",
    "        \n",
    "    def forward(self, x):\n",
    "        x = F.relu(self.conv1_1(x))\n",
    "        x = F.relu(self.conv1_bn(self.conv1_2(x)))\n",
    "        x = F.max_pool2d(x, 2, 2)\n",
    "        x = F.relu(self.conv2_1(x))\n",
    "        x = F.relu(self.conv2_bn(self.conv2_2(x)))\n",
    "        x = F.max_pool2d(x, 2, 2)\n",
    "        x = F.relu(self.conv3_1(x))\n",
    "        x = F.relu(self.conv3_bn(self.conv3_2(x)))\n",
    "        x = F.max_pool2d(x, 2, 2)\n",
    "        x = F.relu(self.conv4_1(x))\n",
    "        x = F.relu(self.conv4_bn(self.conv4_2(x)))\n",
    "        x = F.max_pool2d(x, 2, 2)\n",
    "        # flatten\n",
    "        x = x.view(-1, 2*2*64)\n",
    "        x = F.relu(self.dense1(x))\n",
    "        x = self.dropout1(x)\n",
    "        x = self.dense2(x)\n",
    "        return x"
   ]
  },
  {
   "cell_type": "code",
   "execution_count": 8,
   "metadata": {
    "ExecuteTime": {
     "end_time": "2020-03-06T20:50:35.690505Z",
     "start_time": "2020-03-06T20:50:35.681349Z"
    }
   },
   "outputs": [
    {
     "data": {
      "text/plain": [
       "['GB_sem_AB_2003060138_00670_loss_0.005955_val_loss_0.006690.pt',\n",
       " 'GB_sem_A_2003070458_00830_loss_0.003425_val_loss_0.004897.pt',\n",
       " 'GB_sem_B_2003070506_00810_loss_0.005573_val_loss_0.010185.pt']"
      ]
     },
     "execution_count": 8,
     "metadata": {},
     "output_type": "execute_result"
    }
   ],
   "source": [
    "model_name = [i for i in os.listdir('./model') if 'GB' in i]\n",
    "model_name"
   ]
  },
  {
   "cell_type": "code",
   "execution_count": 18,
   "metadata": {
    "ExecuteTime": {
     "end_time": "2020-03-06T20:55:17.294702Z",
     "start_time": "2020-03-06T20:55:17.286320Z"
    }
   },
   "outputs": [],
   "source": [
    "def model_import(ConvNet, n_ch, n_cls, model_name, device):\n",
    "\n",
    "    model = ConvNet(n_ch, n_cls)\n",
    "    model = model.to(device)\n",
    "    model.load_state_dict(torch.load('./model/' + model_name))\n",
    "    model.eval()\n",
    "    \n",
    "    return model"
   ]
  },
  {
   "cell_type": "code",
   "execution_count": 20,
   "metadata": {
    "ExecuteTime": {
     "end_time": "2020-03-06T20:56:06.186284Z",
     "start_time": "2020-03-06T20:56:06.109406Z"
    }
   },
   "outputs": [],
   "source": [
    "GB_AB_model = model_import(ConvNet, 2, 2, model_name[0], device)\n",
    "GB_A_model = model_import(ConvNet, 1, 2, model_name[1], device)\n",
    "GB_B_model = model_import(ConvNet, 1, 2, model_name[2], device)"
   ]
  },
  {
   "cell_type": "markdown",
   "metadata": {},
   "source": [
    "# Evaluation"
   ]
  },
  {
   "cell_type": "code",
   "execution_count": 22,
   "metadata": {
    "ExecuteTime": {
     "end_time": "2020-03-06T21:36:23.485623Z",
     "start_time": "2020-03-06T21:36:23.473681Z"
    }
   },
   "outputs": [
    {
     "data": {
      "text/plain": [
       "(1398, 2, 40, 40)"
      ]
     },
     "execution_count": 22,
     "metadata": {},
     "output_type": "execute_result"
    }
   ],
   "source": [
    "test_X.shape"
   ]
  },
  {
   "cell_type": "code",
   "execution_count": 23,
   "metadata": {
    "ExecuteTime": {
     "end_time": "2020-03-06T21:36:35.635647Z",
     "start_time": "2020-03-06T21:36:35.627272Z"
    }
   },
   "outputs": [
    {
     "data": {
      "text/plain": [
       "(1398, 40, 40)"
      ]
     },
     "execution_count": 23,
     "metadata": {},
     "output_type": "execute_result"
    }
   ],
   "source": [
    "test_X[:, 0, :, :].shape"
   ]
  },
  {
   "cell_type": "code",
   "execution_count": 21,
   "metadata": {
    "ExecuteTime": {
     "end_time": "2020-03-06T21:35:42.822162Z",
     "start_time": "2020-03-06T21:35:42.810391Z"
    }
   },
   "outputs": [],
   "source": [
    "def model_pred(model, test_X, test_Y):\n",
    "    test_X, test_Y = torch.tensor(test_X, device=device).float(), torch.tensor(test_Y, device=device).long()\n",
    "    output = model(test_X)\n",
    "    \n",
    "    _, pred = torch.max(output, 1)\n",
    "    num_correct = torch.sum(pred == test_Y.data).tolist()\n",
    "    accr = num_correct / len(test_Y)\n",
    "    \n",
    "    print(\"Testing Accuracy: {:.2f} % ({} / {})\".format(100*accr, num_correct, len(test_Y)))\n",
    "    \n",
    "    return pred.tolist()"
   ]
  },
  {
   "cell_type": "code",
   "execution_count": 26,
   "metadata": {
    "ExecuteTime": {
     "end_time": "2020-03-06T23:20:25.699272Z",
     "start_time": "2020-03-06T23:20:25.466893Z"
    }
   },
   "outputs": [
    {
     "name": "stdout",
     "output_type": "stream",
     "text": [
      "Testing Accuracy: 100.00 % (1398 / 1398)\n",
      "Testing Accuracy: 100.00 % (1398 / 1398)\n",
      "Testing Accuracy: 100.00 % (1398 / 1398)\n"
     ]
    }
   ],
   "source": [
    "GB_AB_pred = model_pred(GB_AB_model, test_X, test_Y)\n",
    "GB_A_pred = model_pred(GB_A_model, np.expand_dims(test_X[:, 0, :,:], axis =1), test_Y)\n",
    "GB_B_pred = model_pred(GB_B_model, np.expand_dims(test_X[:, 1, :,:], axis =1), test_Y)"
   ]
  },
  {
   "cell_type": "code",
   "execution_count": 27,
   "metadata": {
    "ExecuteTime": {
     "end_time": "2020-03-06T23:20:37.847207Z",
     "start_time": "2020-03-06T23:20:37.827669Z"
    }
   },
   "outputs": [],
   "source": [
    "def plotCM(cm, class_name, value_size, label_size, mode):\n",
    "\n",
    "    plt.imshow(cm, interpolation = 'nearest', cmap = plt.cm.Blues)\n",
    "    thresh = cm.max()/2.\n",
    "    for i, j in itertools.product(range(cm.shape[0]), range(cm.shape[1])):\n",
    "        if mode == 'percent':\n",
    "            value = np.round(cm[i, j]/(np.sum(cm, 1)[i]), 3)\n",
    "        if mode == 'num':\n",
    "            value = cm[i, j]\n",
    "        plt.text(j, i, value,\n",
    "                 fontsize = value_size,\n",
    "                 horizontalalignment = 'center',\n",
    "                 color = 'white' if cm[i, j] > thresh else 'black')\n",
    "    plt.ylabel('True label', fontsize = label_size)\n",
    "    plt.xlabel('Predicted', fontsize = label_size)\n",
    "    plt.xticks([i for i in range(len(class_name))], class_name, rotation=0, fontsize = label_size)\n",
    "    plt.yticks([i for i in range(len(class_name))], class_name, rotation=90, fontsize = label_size)"
   ]
  },
  {
   "cell_type": "code",
   "execution_count": 28,
   "metadata": {
    "ExecuteTime": {
     "end_time": "2020-03-06T23:20:59.359722Z",
     "start_time": "2020-03-06T23:20:58.547100Z"
    }
   },
   "outputs": [
    {
     "data": {
      "image/png": "[encoded data removed]",
      "text/plain": [
       "<Figure size 936x720 with 1 Axes>"
      ]
     },
     "metadata": {
      "needs_background": "light"
     },
     "output_type": "display_data"
    },
    {
     "data": {
      "image/png": "[encoded data removed]",
      "text/plain": [
       "<Figure size 936x720 with 1 Axes>"
      ]
     },
     "metadata": {
      "needs_background": "light"
     },
     "output_type": "display_data"
    }
   ],
   "source": [
    "cm = confusion_matrix(test_Y, GB_AB_pred)\n",
    "\n",
    "class_name = ['GOOD', 'BAD']\n",
    "\n",
    "fig = plt.figure(figsize = (13, 10))\n",
    "plotCM(cm, class_name, value_size = 20, label_size = 15, mode = 'percent')\n",
    "plt.show()\n",
    "# fig.savefig('confusion_matrix_of_results_of_GB_model_percent.png', bbox_inches='tight')\n",
    "plt.close(fig)\n",
    "fig = plt.figure(figsize = (13, 10))\n",
    "plotCM(cm, class_name, value_size = 20, label_size = 15, mode = 'num')\n",
    "plt.show()\n",
    "# fig.savefig('confusion_matrix_of_results_of_GB_model_num.png', bbox_inches='tight')\n",
    "plt.close(fig)"
   ]
  }
 ],
 "metadata": {
  "hide_input": false,
  "kernelspec": {
   "display_name": "Pytorch",
   "language": "python",
   "name": "pytorch"
  },
  "language_info": {
   "codemirror_mode": {
    "name": "ipython",
    "version": 3
   },
   "file_extension": ".py",
   "mimetype": "text/x-python",
   "name": "python",
   "nbconvert_exporter": "python",
   "pygments_lexer": "ipython3",
   "version": "3.5.2"
  },
  "toc": {
   "base_numbering": 1,
   "nav_menu": {},
   "number_sections": true,
   "sideBar": true,
   "skip_h1_title": false,
   "title_cell": "Table of Contents",
   "title_sidebar": "Contents",
   "toc_cell": false,
   "toc_position": {},
   "toc_section_display": true,
   "toc_window_display": false
  }
 },
 "nbformat": 4,
 "nbformat_minor": 2
}
