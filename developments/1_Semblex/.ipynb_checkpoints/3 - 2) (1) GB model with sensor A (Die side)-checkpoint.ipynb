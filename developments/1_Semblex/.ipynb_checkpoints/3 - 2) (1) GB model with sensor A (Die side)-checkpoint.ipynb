{
 "cells": [
  {
   "cell_type": "code",
   "execution_count": 1,
   "metadata": {
    "ExecuteTime": {
     "end_time": "2020-03-06T19:56:53.841347Z",
     "start_time": "2020-03-06T19:56:52.891049Z"
    }
   },
   "outputs": [],
   "source": [
    "import numpy as np\n",
    "import matplotlib.pyplot as plt\n",
    "%matplotlib inline\n",
    "\n",
    "import os\n",
    "import pickle, gzip\n",
    "import time, datetime\n",
    "\n",
    "import torch\n",
    "from torch import nn\n",
    "from torch.nn import functional as F\n",
    "from torchsummary import summary\n",
    "from torchvision import datasets, transforms\n",
    "\n",
    "from sklearn.metrics import confusion_matrix\n",
    "import itertools"
   ]
  },
  {
   "cell_type": "code",
   "execution_count": 2,
   "metadata": {
    "ExecuteTime": {
     "end_time": "2020-03-06T19:57:01.794187Z",
     "start_time": "2020-03-06T19:56:54.968858Z"
    }
   },
   "outputs": [],
   "source": [
    "device = torch.device(\"cuda:3\" if torch.cuda.is_available() else \"cpu\")"
   ]
  },
  {
   "cell_type": "markdown",
   "metadata": {},
   "source": [
    "# Load Data"
   ]
  },
  {
   "cell_type": "code",
   "execution_count": 3,
   "metadata": {
    "ExecuteTime": {
     "end_time": "2020-03-06T19:57:08.174389Z",
     "start_time": "2020-03-06T19:57:05.389020Z"
    }
   },
   "outputs": [],
   "source": [
    "data_dir = '/mnt/disk1/yunseob/Pytorch/SSM/Semblex/SemblexData/clipped/wt_4040/VALID'\n",
    "\n",
    "with gzip.open(data_dir + '/SemblexData_config.pickle', 'rb') as f:\n",
    "    data = pickle.load(f)"
   ]
  },
  {
   "cell_type": "markdown",
   "metadata": {},
   "source": [
    "## Training dataset"
   ]
  },
  {
   "cell_type": "code",
   "execution_count": 4,
   "metadata": {
    "ExecuteTime": {
     "end_time": "2020-03-06T19:57:08.183189Z",
     "start_time": "2020-03-06T19:57:08.176852Z"
    }
   },
   "outputs": [
    {
     "data": {
      "text/plain": [
       "dict_keys(['1_file', '0_index', '3_train_data', '4_test_data', '2_data'])"
      ]
     },
     "execution_count": 4,
     "metadata": {},
     "output_type": "execute_result"
    }
   ],
   "source": [
    "data['GOOD'][0].keys()"
   ]
  },
  {
   "cell_type": "code",
   "execution_count": 5,
   "metadata": {
    "ExecuteTime": {
     "end_time": "2020-03-06T19:57:08.231087Z",
     "start_time": "2020-03-06T19:57:08.187312Z"
    }
   },
   "outputs": [
    {
     "data": {
      "text/plain": [
       "((2173, 40, 40, 1), (3399, 40, 40, 1))"
      ]
     },
     "execution_count": 5,
     "metadata": {},
     "output_type": "execute_result"
    }
   ],
   "source": [
    "G_train_X = []\n",
    "B_train_X = []\n",
    "\n",
    "for cls, data_bunch in data.items():\n",
    "    for data_i in data_bunch:\n",
    "        if cls == 'GOOD':\n",
    "            G_train_X.append(data_i['3_train_data'][:,:,:,0])\n",
    "        elif cls == 'BAD':\n",
    "            B_train_X.append(data_i['3_train_data'][:,:,:,0])\n",
    "            \n",
    "def concat(data):\n",
    "    return np.expand_dims(np.concatenate(data), axis = 3)\n",
    "            \n",
    "G_train_X = concat(G_train_X)\n",
    "B_train_X = concat(B_train_X)\n",
    "\n",
    "G_train_X.shape, B_train_X.shape"
   ]
  },
  {
   "cell_type": "code",
   "execution_count": 6,
   "metadata": {
    "ExecuteTime": {
     "end_time": "2020-03-06T19:57:08.238095Z",
     "start_time": "2020-03-06T19:57:08.233004Z"
    }
   },
   "outputs": [
    {
     "data": {
      "text/plain": [
       "((2173, 1, 40, 40), (3399, 1, 40, 40))"
      ]
     },
     "execution_count": 6,
     "metadata": {},
     "output_type": "execute_result"
    }
   ],
   "source": [
    "def input_for_Pytorch(img):\n",
    "    \"\"\"\n",
    "    (sample #, height, width, channel) -> (sample #, channel, height, width)\n",
    "    \"\"\"\n",
    "    img = np.transpose(img, (0, 3, 1, 2))\n",
    "    return img\n",
    "\n",
    "G_train_X = input_for_Pytorch(G_train_X)\n",
    "B_train_X = input_for_Pytorch(B_train_X)\n",
    "\n",
    "G_train_X.shape, B_train_X.shape"
   ]
  },
  {
   "cell_type": "code",
   "execution_count": 7,
   "metadata": {
    "ExecuteTime": {
     "end_time": "2020-03-06T19:57:08.244917Z",
     "start_time": "2020-03-06T19:57:08.239690Z"
    }
   },
   "outputs": [
    {
     "data": {
      "text/plain": [
       "((2173, 1, 40, 40), (2173,), (3399, 1, 40, 40), (3399,))"
      ]
     },
     "execution_count": 7,
     "metadata": {},
     "output_type": "execute_result"
    }
   ],
   "source": [
    "def CreateLabel(data, cls):\n",
    "    label = cls*np.ones([data.shape[0]])\n",
    "    return label\n",
    "\n",
    "G_train_Y, B_train_Y = CreateLabel(G_train_X, 0), CreateLabel(B_train_X, 1)\n",
    "\n",
    "G_train_X.shape, G_train_Y.shape, B_train_X.shape, B_train_Y.shape"
   ]
  },
  {
   "cell_type": "code",
   "execution_count": 8,
   "metadata": {
    "ExecuteTime": {
     "end_time": "2020-03-06T19:57:08.278372Z",
     "start_time": "2020-03-06T19:57:08.246344Z"
    }
   },
   "outputs": [
    {
     "name": "stdout",
     "output_type": "stream",
     "text": [
      "Training: (1955, 1, 40, 40) (1955,) (3059, 1, 40, 40) (3059,)\n",
      "Validation: (218, 1, 40, 40) (218,) (340, 1, 40, 40) (340,)\n"
     ]
    }
   ],
   "source": [
    "def train_valid_split(data, label, rate_t_v = 0.9):\n",
    "    data_num = len(data)\n",
    "    train_idx = np.random.choice(data_num, int(rate_t_v*data_num), replace = False)\n",
    "    valid_idx = np.setdiff1d(np.arange(data_num), train_idx)\n",
    "    return data[train_idx], label[train_idx], data[valid_idx], label[valid_idx]\n",
    "\n",
    "G_train_X, G_train_Y, G_valid_X, G_valid_Y = train_valid_split(G_train_X, G_train_Y)\n",
    "B_train_X, B_train_Y, B_valid_X, B_valid_Y = train_valid_split(B_train_X, B_train_Y)\n",
    "\n",
    "print(\"Training:\", G_train_X.shape, G_train_Y.shape, B_train_X.shape, B_train_Y.shape)\n",
    "print(\"Validation:\", G_valid_X.shape, G_valid_Y.shape, B_valid_X.shape, B_valid_Y.shape)"
   ]
  },
  {
   "cell_type": "markdown",
   "metadata": {},
   "source": [
    "# Model"
   ]
  },
  {
   "cell_type": "code",
   "execution_count": 9,
   "metadata": {
    "ExecuteTime": {
     "end_time": "2020-03-06T19:57:08.291478Z",
     "start_time": "2020-03-06T19:57:08.280002Z"
    }
   },
   "outputs": [],
   "source": [
    "class ConvNet(nn.Module):\n",
    "    def __init__(self):\n",
    "        super().__init__()\n",
    "        # RGB세개 1채널, 20개 특징 추출, filter 크기, stride 1\n",
    "        self.conv1_1 = nn.Conv2d(1, 64, 3, 1, padding=1)\n",
    "        self.conv1_2 = nn.Conv2d(64, 64, 3, 1, padding=1)\n",
    "        self.conv1_bn = nn.BatchNorm2d(64)\n",
    "        \n",
    "        self.conv2_1 = nn.Conv2d(64, 64, 3, 1, padding=1)\n",
    "        self.conv2_2 = nn.Conv2d(64, 64, 3, 1, padding=1)\n",
    "        self.conv2_bn = nn.BatchNorm2d(64)\n",
    "        \n",
    "        self.conv3_1 = nn.Conv2d(64, 64, 3, 1, padding=1)\n",
    "        self.conv3_2 = nn.Conv2d(64, 64, 3, 1, padding=1)\n",
    "        self.conv3_bn = nn.BatchNorm2d(64)\n",
    "        \n",
    "        self.conv4_1 = nn.Conv2d(64, 64, 3, 1, padding=1)\n",
    "        self.conv4_2 = nn.Conv2d(64, 64, 3, 1, padding=1)\n",
    "        self.conv4_bn = nn.BatchNorm2d(64)\n",
    "        \n",
    "        self.dense1 = nn.Linear(2*2*64, 128)\n",
    "        # 0.5 가 권장 할 만하대\n",
    "        self.dropout1 = nn.Dropout(0.5)\n",
    "        self.dense2 = nn.Linear(128, 2)  \n",
    "        \n",
    "    def forward(self, x):\n",
    "        x = F.relu(self.conv1_1(x))\n",
    "        x = F.relu(self.conv1_bn(self.conv1_2(x)))\n",
    "        x = F.max_pool2d(x, 2, 2)\n",
    "        x = F.relu(self.conv2_1(x))\n",
    "        x = F.relu(self.conv2_bn(self.conv2_2(x)))\n",
    "        x = F.max_pool2d(x, 2, 2)\n",
    "        x = F.relu(self.conv3_1(x))\n",
    "        x = F.relu(self.conv3_bn(self.conv3_2(x)))\n",
    "        x = F.max_pool2d(x, 2, 2)\n",
    "        x = F.relu(self.conv4_1(x))\n",
    "        x = F.relu(self.conv4_bn(self.conv4_2(x)))\n",
    "        x = F.max_pool2d(x, 2, 2)\n",
    "        # flatten\n",
    "        x = x.view(-1, 2*2*64)\n",
    "        x = F.relu(self.dense1(x))\n",
    "        x = self.dropout1(x)\n",
    "        x = self.dense2(x)\n",
    "        return x"
   ]
  },
  {
   "cell_type": "code",
   "execution_count": 11,
   "metadata": {
    "ExecuteTime": {
     "end_time": "2020-03-06T19:57:12.237067Z",
     "start_time": "2020-03-06T19:57:12.218685Z"
    },
    "scrolled": true
   },
   "outputs": [
    {
     "name": "stdout",
     "output_type": "stream",
     "text": [
      "----------------------------------------------------------------\n",
      "        Layer (type)               Output Shape         Param #\n",
      "================================================================\n",
      "            Conv2d-1           [-1, 64, 40, 40]             640\n",
      "            Conv2d-2           [-1, 64, 40, 40]          36,928\n",
      "       BatchNorm2d-3           [-1, 64, 40, 40]             128\n",
      "            Conv2d-4           [-1, 64, 20, 20]          36,928\n",
      "            Conv2d-5           [-1, 64, 20, 20]          36,928\n",
      "       BatchNorm2d-6           [-1, 64, 20, 20]             128\n",
      "            Conv2d-7           [-1, 64, 10, 10]          36,928\n",
      "            Conv2d-8           [-1, 64, 10, 10]          36,928\n",
      "       BatchNorm2d-9           [-1, 64, 10, 10]             128\n",
      "           Conv2d-10             [-1, 64, 5, 5]          36,928\n",
      "           Conv2d-11             [-1, 64, 5, 5]          36,928\n",
      "      BatchNorm2d-12             [-1, 64, 5, 5]             128\n",
      "           Linear-13                  [-1, 128]          32,896\n",
      "          Dropout-14                  [-1, 128]               0\n",
      "           Linear-15                    [-1, 2]             258\n",
      "          ConvNet-16                    [-1, 2]               0\n",
      "================================================================\n",
      "Total params: 292,802\n",
      "Trainable params: 292,802\n",
      "Non-trainable params: 0\n",
      "----------------------------------------------------------------\n",
      "Input size (MB): 0.01\n",
      "Forward/backward pass size (MB): 3.11\n",
      "Params size (MB): 1.12\n",
      "Estimated Total Size (MB): 4.24\n",
      "----------------------------------------------------------------\n",
      "\n"
     ]
    },
    {
     "data": {
      "text/plain": [
       "(tensor(292802), tensor(292802))"
      ]
     },
     "execution_count": 11,
     "metadata": {},
     "output_type": "execute_result"
    }
   ],
   "source": [
    "model = ConvNet()\n",
    "# model = model.cuda()\n",
    "model = model.to(device)\n",
    "# if device == 'cuda':\n",
    "#     net = torch.nn.DataParallel(net)\n",
    "#     cudnn.benchmark = True\n",
    "criterion = nn.CrossEntropyLoss()\n",
    "optimizer = torch.optim.Adam(model.parameters(), lr=0.00001)\n",
    "\n",
    "summary(model, (1, 40, 40), device = 'cuda:3')"
   ]
  },
  {
   "cell_type": "markdown",
   "metadata": {},
   "source": [
    "# Training"
   ]
  },
  {
   "cell_type": "code",
   "execution_count": 14,
   "metadata": {
    "ExecuteTime": {
     "end_time": "2020-03-06T19:57:33.813213Z",
     "start_time": "2020-03-06T19:57:33.784851Z"
    }
   },
   "outputs": [
    {
     "name": "stdout",
     "output_type": "stream",
     "text": [
      "Training: (100, 1, 40, 40) (100,) (100, 1, 40, 40) (100,)\n",
      "Validation: (100, 1, 40, 40) (100,) (100, 1, 40, 40) (100,)\n"
     ]
    }
   ],
   "source": [
    "def RandomMinibatch(data, label, n_batch = 100):\n",
    "    batch_idx = np.random.choice(len(data), n_batch, replace = False)\n",
    "    return data[batch_idx], label[batch_idx]\n",
    "\n",
    "G_train_x, G_train_y = RandomMinibatch(G_train_X, G_train_Y, 100)\n",
    "B_train_x, B_train_y = RandomMinibatch(B_train_X, B_train_Y, 100)\n",
    "\n",
    "G_valid_x, G_valid_y = RandomMinibatch(G_valid_X, G_valid_Y, 100)\n",
    "B_valid_x, B_valid_y = RandomMinibatch(B_valid_X, B_valid_Y, 100)\n",
    "\n",
    "print(\"Training:\", G_train_x.shape, G_train_y.shape, B_train_x.shape, B_train_y.shape)\n",
    "print(\"Validation:\", G_valid_x.shape, G_valid_y.shape, B_valid_x.shape, B_valid_y.shape)"
   ]
  },
  {
   "cell_type": "code",
   "execution_count": 15,
   "metadata": {
    "ExecuteTime": {
     "end_time": "2020-03-06T19:57:34.051648Z",
     "start_time": "2020-03-06T19:57:34.032830Z"
    }
   },
   "outputs": [
    {
     "name": "stdout",
     "output_type": "stream",
     "text": [
      "Training (200, 1, 40, 40) (200,)\n"
     ]
    }
   ],
   "source": [
    "def shuffle(x, y):\n",
    "    \"\"\"\n",
    "    random shuffle of two paired data -> x, y = shuffle(x, y)\n",
    "    but, available of one data -> x = shuffle(x, None)\n",
    "    \"\"\"\n",
    "    idx = np.arange(len(x))\n",
    "    np.random.shuffle(idx)\n",
    "    if type(x) == type(y):\n",
    "        return x[idx], y[idx] \n",
    "    else:\n",
    "        return x[idx]\n",
    "    \n",
    "G_train_x, G_train_y = RandomMinibatch(G_train_X, G_train_Y, 100)\n",
    "B_train_x, B_train_y = RandomMinibatch(B_train_X, B_train_Y, 100)\n",
    "    \n",
    "train_x, train_y = np.vstack([G_train_x, B_train_x]), np.hstack([G_train_y, B_train_y])\n",
    "train_x, train_y = shuffle(train_x, train_y)\n",
    "\n",
    "print(\"Training\", train_x.shape, train_y.shape)"
   ]
  },
  {
   "cell_type": "code",
   "execution_count": 16,
   "metadata": {
    "ExecuteTime": {
     "end_time": "2020-03-06T19:58:02.194081Z",
     "start_time": "2020-03-06T19:57:35.362205Z"
    }
   },
   "outputs": [
    {
     "name": "stdout",
     "output_type": "stream",
     "text": [
      "00010 | train_loss: 0.59491, train_accr: 0.670 | val_loss: 0.63067, val_accr: 0.575\n",
      "00020 | train_loss: 0.57037, train_accr: 0.715 | val_loss: 0.56107, val_accr: 0.800\n",
      "00030 | train_loss: 0.52467, train_accr: 0.845 | val_loss: 0.53087, val_accr: 0.805\n",
      "00040 | train_loss: 0.50217, train_accr: 0.815 | val_loss: 0.50997, val_accr: 0.870\n",
      "00050 | train_loss: 0.48354, train_accr: 0.845 | val_loss: 0.47688, val_accr: 0.850\n",
      "00060 | train_loss: 0.46512, train_accr: 0.830 | val_loss: 0.48778, val_accr: 0.855\n",
      "00070 | train_loss: 0.44665, train_accr: 0.860 | val_loss: 0.44715, val_accr: 0.855\n",
      "00080 | train_loss: 0.46620, train_accr: 0.850 | val_loss: 0.43631, val_accr: 0.885\n",
      "00090 | train_loss: 0.37032, train_accr: 0.895 | val_loss: 0.39320, val_accr: 0.895\n",
      "00100 | train_loss: 0.34833, train_accr: 0.880 | val_loss: 0.34845, val_accr: 0.920\n",
      "00110 | train_loss: 0.32835, train_accr: 0.940 | val_loss: 0.32956, val_accr: 0.925\n",
      "00120 | train_loss: 0.28056, train_accr: 0.930 | val_loss: 0.30472, val_accr: 0.940\n",
      "00130 | train_loss: 0.29378, train_accr: 0.930 | val_loss: 0.26511, val_accr: 0.940\n",
      "00140 | train_loss: 0.25384, train_accr: 0.945 | val_loss: 0.24056, val_accr: 0.955\n",
      "00150 | train_loss: 0.22641, train_accr: 0.935 | val_loss: 0.22176, val_accr: 0.940\n",
      "00160 | train_loss: 0.17830, train_accr: 0.970 | val_loss: 0.24215, val_accr: 0.960\n",
      "00170 | train_loss: 0.16268, train_accr: 0.970 | val_loss: 0.20661, val_accr: 0.955\n",
      "00180 | train_loss: 0.16542, train_accr: 0.960 | val_loss: 0.15380, val_accr: 0.965\n",
      "00190 | train_loss: 0.14658, train_accr: 0.955 | val_loss: 0.16732, val_accr: 0.950\n",
      "00200 | train_loss: 0.17452, train_accr: 0.950 | val_loss: 0.14679, val_accr: 0.955\n",
      "00210 | train_loss: 0.10253, train_accr: 0.985 | val_loss: 0.16268, val_accr: 0.945\n",
      "00220 | train_loss: 0.13317, train_accr: 0.970 | val_loss: 0.12393, val_accr: 0.975\n",
      "00230 | train_loss: 0.13180, train_accr: 0.970 | val_loss: 0.10558, val_accr: 0.975\n",
      "00240 | train_loss: 0.10456, train_accr: 0.975 | val_loss: 0.09377, val_accr: 0.985\n",
      "00250 | train_loss: 0.08081, train_accr: 0.985 | val_loss: 0.11741, val_accr: 0.975\n",
      "00260 | train_loss: 0.08170, train_accr: 0.980 | val_loss: 0.09108, val_accr: 0.985\n",
      "00270 | train_loss: 0.07940, train_accr: 0.980 | val_loss: 0.07268, val_accr: 0.990\n",
      "00280 | train_loss: 0.05337, train_accr: 0.995 | val_loss: 0.07715, val_accr: 0.985\n",
      "00290 | train_loss: 0.06668, train_accr: 1.000 | val_loss: 0.09306, val_accr: 0.995\n",
      "00300 | train_loss: 0.05580, train_accr: 0.990 | val_loss: 0.05386, val_accr: 0.995\n",
      "00310 | train_loss: 0.05536, train_accr: 0.995 | val_loss: 0.06383, val_accr: 0.995\n",
      "00320 | train_loss: 0.03799, train_accr: 0.995 | val_loss: 0.05282, val_accr: 0.985\n",
      "00330 | train_loss: 0.04386, train_accr: 1.000 | val_loss: 0.04235, val_accr: 0.995\n",
      "00340 | train_loss: 0.04236, train_accr: 1.000 | val_loss: 0.03359, val_accr: 1.000\n",
      "00350 | train_loss: 0.03232, train_accr: 1.000 | val_loss: 0.03889, val_accr: 1.000\n",
      "00360 | train_loss: 0.03182, train_accr: 1.000 | val_loss: 0.03967, val_accr: 1.000\n",
      "00370 | train_loss: 0.03623, train_accr: 1.000 | val_loss: 0.03239, val_accr: 1.000\n",
      "00380 | train_loss: 0.02646, train_accr: 1.000 | val_loss: 0.03996, val_accr: 1.000\n",
      "00390 | train_loss: 0.02741, train_accr: 0.995 | val_loss: 0.03198, val_accr: 1.000\n",
      "00400 | train_loss: 0.02340, train_accr: 1.000 | val_loss: 0.03679, val_accr: 1.000\n",
      "00410 | train_loss: 0.01816, train_accr: 1.000 | val_loss: 0.02431, val_accr: 1.000\n",
      "00420 | train_loss: 0.02160, train_accr: 1.000 | val_loss: 0.02127, val_accr: 1.000\n",
      "00430 | train_loss: 0.01952, train_accr: 1.000 | val_loss: 0.02188, val_accr: 1.000\n",
      "00440 | train_loss: 0.02263, train_accr: 0.995 | val_loss: 0.02119, val_accr: 1.000\n",
      "00450 | train_loss: 0.02125, train_accr: 1.000 | val_loss: 0.01765, val_accr: 1.000\n",
      "00460 | train_loss: 0.01721, train_accr: 1.000 | val_loss: 0.01523, val_accr: 1.000\n",
      "00470 | train_loss: 0.01328, train_accr: 1.000 | val_loss: 0.02106, val_accr: 1.000\n",
      "00480 | train_loss: 0.01541, train_accr: 1.000 | val_loss: 0.01717, val_accr: 1.000\n",
      "00490 | train_loss: 0.01083, train_accr: 1.000 | val_loss: 0.01577, val_accr: 1.000\n",
      "00500 | train_loss: 0.01487, train_accr: 1.000 | val_loss: 0.01406, val_accr: 1.000\n",
      "00510 | train_loss: 0.01229, train_accr: 1.000 | val_loss: 0.01700, val_accr: 1.000\n",
      "00520 | train_loss: 0.01046, train_accr: 1.000 | val_loss: 0.01211, val_accr: 1.000\n",
      "00530 | train_loss: 0.00868, train_accr: 1.000 | val_loss: 0.01560, val_accr: 1.000\n",
      "00540 | train_loss: 0.01051, train_accr: 1.000 | val_loss: 0.01103, val_accr: 1.000\n",
      "00550 | train_loss: 0.01382, train_accr: 1.000 | val_loss: 0.00860, val_accr: 1.000\n",
      "00560 | train_loss: 0.01051, train_accr: 1.000 | val_loss: 0.01280, val_accr: 1.000\n",
      "00570 | train_loss: 0.01981, train_accr: 0.990 | val_loss: 0.00906, val_accr: 1.000\n",
      "00580 | train_loss: 0.00902, train_accr: 1.000 | val_loss: 0.00819, val_accr: 1.000\n",
      "00590 | train_loss: 0.00808, train_accr: 1.000 | val_loss: 0.00762, val_accr: 1.000\n",
      "00600 | train_loss: 0.01297, train_accr: 1.000 | val_loss: 0.01111, val_accr: 1.000\n",
      "00610 | train_loss: 0.00832, train_accr: 1.000 | val_loss: 0.00772, val_accr: 1.000\n",
      "00620 | train_loss: 0.00718, train_accr: 1.000 | val_loss: 0.00738, val_accr: 1.000\n",
      "00630 | train_loss: 0.00776, train_accr: 1.000 | val_loss: 0.00741, val_accr: 1.000\n",
      "00640 | train_loss: 0.00718, train_accr: 1.000 | val_loss: 0.00626, val_accr: 1.000\n",
      "00650 | train_loss: 0.00560, train_accr: 1.000 | val_loss: 0.00771, val_accr: 1.000\n",
      "00660 | train_loss: 0.00704, train_accr: 1.000 | val_loss: 0.00679, val_accr: 1.000\n",
      "00670 | train_loss: 0.00568, train_accr: 1.000 | val_loss: 0.00656, val_accr: 1.000\n",
      "00680 | train_loss: 0.00564, train_accr: 1.000 | val_loss: 0.00587, val_accr: 1.000\n",
      "00690 | train_loss: 0.00882, train_accr: 1.000 | val_loss: 0.00643, val_accr: 1.000\n",
      "00700 | train_loss: 0.00492, train_accr: 1.000 | val_loss: 0.00575, val_accr: 1.000\n",
      "00710 | train_loss: 0.00539, train_accr: 1.000 | val_loss: 0.00665, val_accr: 1.000\n",
      "00720 | train_loss: 0.00530, train_accr: 1.000 | val_loss: 0.00639, val_accr: 1.000\n",
      "00730 | train_loss: 0.00471, train_accr: 1.000 | val_loss: 0.00585, val_accr: 1.000\n",
      "00740 | train_loss: 0.00495, train_accr: 1.000 | val_loss: 0.00472, val_accr: 1.000\n",
      "00750 | train_loss: 0.00451, train_accr: 1.000 | val_loss: 0.00443, val_accr: 1.000\n",
      "00760 | train_loss: 0.00455, train_accr: 1.000 | val_loss: 0.00390, val_accr: 1.000\n",
      "00770 | train_loss: 0.00420, train_accr: 1.000 | val_loss: 0.00423, val_accr: 1.000\n",
      "00780 | train_loss: 0.00558, train_accr: 1.000 | val_loss: 0.00412, val_accr: 1.000\n",
      "00790 | train_loss: 0.00418, train_accr: 1.000 | val_loss: 0.00368, val_accr: 1.000\n",
      "00800 | train_loss: 0.00356, train_accr: 1.000 | val_loss: 0.00435, val_accr: 1.000\n",
      "00810 | train_loss: 0.00361, train_accr: 1.000 | val_loss: 0.00423, val_accr: 1.000\n",
      "00820 | train_loss: 0.00374, train_accr: 1.000 | val_loss: 0.00357, val_accr: 1.000\n",
      "00830 | train_loss: 0.00292, train_accr: 1.000 | val_loss: 0.00689, val_accr: 1.000\n",
      "\n",
      "Early stopping!!\n",
      "..val_loss (avg. within 5): 0.00454 >= val_loss (avg. within 10) 0.00441\n"
     ]
    }
   ],
   "source": [
    "loss_history, accr_history = [], []\n",
    "val_loss_history, val_accr_history = [], []\n",
    "\n",
    "iter_i = 0\n",
    "\n",
    "while True:\n",
    "    iter_i += 1\n",
    "    \n",
    "    G_train_x, G_train_y = RandomMinibatch(G_train_X, G_train_Y, 100)\n",
    "    B_train_x, B_train_y = RandomMinibatch(B_train_X, B_train_Y, 100)\n",
    "    \n",
    "    train_x, train_y = np.vstack([G_train_x, B_train_x]), np.hstack([G_train_y, B_train_y])\n",
    "\n",
    "    train_x, train_y = shuffle(train_x, train_y)\n",
    "    \n",
    "#     train_x, train_y = train_x.to(device), train_y.to(device)\n",
    "    train_x, train_y = torch.tensor(train_x, device=device).float(), torch.tensor(train_y, device=device).long()\n",
    "    \n",
    "    output = model(train_x)\n",
    "    loss = criterion(output, train_y)\n",
    "    \n",
    "    optimizer.zero_grad()\n",
    "    loss.backward()\n",
    "    optimizer.step()\n",
    "    \n",
    "    if iter_i % 10 == 0:\n",
    "        \n",
    "        _, pred = torch.max(output, 1)\n",
    "        \n",
    "        loss_history.append(loss.tolist())\n",
    "        accr_history.append((torch.sum(pred == train_y.data).tolist() / len(train_y)))\n",
    "        \n",
    "        with torch.no_grad():\n",
    "    \n",
    "            G_valid_x, G_valid_y = RandomMinibatch(G_valid_X, G_valid_Y, 100)\n",
    "            B_valid_x, B_valid_y = RandomMinibatch(B_valid_X, B_valid_Y, 100)\n",
    "\n",
    "            valid_x, valid_y = np.vstack([G_valid_x, B_valid_x]), np.hstack([G_valid_y, B_valid_y])\n",
    "#             valid_x, valid_y = valid_x.to(device), valid_y.to(device)\n",
    "            valid_x, valid_y = torch.tensor(valid_x, device=device).float(), torch.tensor(valid_y, device=device).long()\n",
    "\n",
    "            valid_output = model(valid_x)\n",
    "            valid_loss = criterion(valid_output, valid_y)\n",
    "            \n",
    "            _, valid_pred = torch.max(valid_output, 1)\n",
    "        \n",
    "            val_loss_history.append(valid_loss.tolist())\n",
    "            val_accr_history.append((torch.sum(valid_pred == valid_y.data).tolist() / len(valid_y)))\n",
    "        \n",
    "        \n",
    "        print(\"{:05d} | train_loss: {:.5f}, train_accr: {:.3f} | val_loss: {:.5f}, val_accr: {:.3f}\".format(iter_i, \n",
    "                                                                                                            loss_history[-1], \n",
    "                                                                                                            accr_history[-1], \n",
    "                                                                                                            val_loss_history[-1], \n",
    "                                                                                                            val_accr_history[-1]))\n",
    "        \n",
    "        if iter_i >= 100:  \n",
    "            if np.mean(val_loss_history[-5 :]) >= np.mean(val_loss_history[-10:]):\n",
    "                print('')\n",
    "                print('Early stopping!!')\n",
    "                print('..val_loss (avg. within 5): {:.5f} >= val_loss (avg. within 10) {:.5f}'.format(np.mean(val_loss_history[-5 :]),\n",
    "                                                                                                  np.mean(val_loss_history[-10:])))\n",
    "\n",
    "#                 model.save_state_dict('Model_using_Semblex_data_for_GB_cls_both_sensors.pt')\n",
    "                now = datetime.datetime.now()\n",
    "                nowDatetime = now.strftime('%y%m%d%H%M')\n",
    "                model_name = 'GB_sem_A_{}_{:05d}_loss_{:.6f}_val_loss_{:.6f}.pt'.format(nowDatetime, iter_i, \n",
    "                                                                                     np.mean(loss_history[-3:]),\n",
    "                                                                                     np.mean(val_loss_history[-3:]))\n",
    "                torch.save(model.state_dict(), './model/' + model_name)\n",
    "                break   "
   ]
  },
  {
   "cell_type": "code",
   "execution_count": 17,
   "metadata": {
    "ExecuteTime": {
     "end_time": "2020-03-06T19:58:19.900185Z",
     "start_time": "2020-03-06T19:58:19.398321Z"
    }
   },
   "outputs": [
    {
     "data": {
      "image/png": "[encoded data removed]",
      "text/plain": [
       "<Figure size 1080x1224 with 2 Axes>"
      ]
     },
     "metadata": {
      "needs_background": "light"
     },
     "output_type": "display_data"
    }
   ],
   "source": [
    "fig = plt.figure(figsize = (15,17))\n",
    "plt.suptitle('Training History', y = 0.92, fontsize = 20)\n",
    "\n",
    "# x_axis = range(1, 10*len(accr_history)+1, 10)\n",
    "x_axis = np.arange(10, 10*len(accr_history)+1, 10)\n",
    "\n",
    "plt.subplot(2, 1, 1)\n",
    "plt.plot(x_axis, accr_history, 'b-', label = 'Training Accuracy')\n",
    "plt.plot(x_axis, val_accr_history, 'r-', label = 'Validation Accuracy')\n",
    "plt.xlabel('Iteration', fontsize = 15)\n",
    "plt.ylabel('Accuracy', fontsize = 15)\n",
    "plt.legend(fontsize = 10)\n",
    "plt.subplot(2, 1, 2)\n",
    "plt.plot(x_axis, loss_history, 'b-', label = 'Training Loss')\n",
    "plt.plot(x_axis, val_loss_history, 'r-', label = 'Validation Loss')\n",
    "plt.xlabel('Iteration', fontsize = 15)\n",
    "plt.ylabel('Loss', fontsize = 15)\n",
    "# plt.yticks(np.arange(0, 0.25, step=0.025))\n",
    "plt.legend(fontsize = 12)\n",
    "plt.show()\n",
    "\n",
    "# if save == True:\n",
    "#     fig.savefig(hist_path + filename)\n",
    "#     plt.close(fig)"
   ]
  },
  {
   "cell_type": "markdown",
   "metadata": {},
   "source": [
    "# Testing"
   ]
  },
  {
   "cell_type": "markdown",
   "metadata": {},
   "source": [
    "## Load data and model"
   ]
  },
  {
   "cell_type": "code",
   "execution_count": 18,
   "metadata": {
    "ExecuteTime": {
     "end_time": "2020-03-06T19:58:39.713352Z",
     "start_time": "2020-03-06T19:58:37.085125Z"
    },
    "scrolled": true
   },
   "outputs": [],
   "source": [
    "data_dir = '/mnt/disk1/yunseob/Pytorch/SSM/Semblex/SemblexData/clipped/wt_4040/VALID'\n",
    "\n",
    "with gzip.open(data_dir + '/SemblexData_config.pickle', 'rb') as f:\n",
    "    data = pickle.load(f)"
   ]
  },
  {
   "cell_type": "code",
   "execution_count": 5,
   "metadata": {
    "ExecuteTime": {
     "end_time": "2020-03-05T19:16:48.587885Z",
     "start_time": "2020-03-05T19:16:48.578329Z"
    }
   },
   "outputs": [],
   "source": [
    "def concat(data):\n",
    "    return np.expand_dims(np.concatenate(data), axis = 3)\n",
    "\n",
    "def input_for_Pytorch(img):\n",
    "    \"\"\"\n",
    "    (sample #, height, width, channel) -> (sample #, channel, height, width)\n",
    "    \"\"\"\n",
    "    img = np.transpose(img, (0, 3, 1, 2))\n",
    "    return img\n",
    "\n",
    "def CreateLabel(data, cls):\n",
    "    label = cls*np.ones([data.shape[0]])\n",
    "    return label"
   ]
  },
  {
   "cell_type": "code",
   "execution_count": 19,
   "metadata": {
    "ExecuteTime": {
     "end_time": "2020-03-06T19:59:27.171701Z",
     "start_time": "2020-03-06T19:59:27.135429Z"
    }
   },
   "outputs": [
    {
     "name": "stdout",
     "output_type": "stream",
     "text": [
      "Testing GOOD: (544, 1, 40, 40) (544,) BAD: (854, 1, 40, 40) (854,)\n",
      "Testing: (1398, 1, 40, 40) (1398,)\n"
     ]
    }
   ],
   "source": [
    "G_test_X = []\n",
    "B_test_X = []\n",
    "\n",
    "for cls, data_bunch in data.items():\n",
    "    for data_i in data_bunch:\n",
    "        if cls == 'GOOD':\n",
    "            G_test_X.append(data_i['4_test_data'][:,:,:,0])\n",
    "        elif cls == 'BAD':\n",
    "            B_test_X.append(data_i['4_test_data'][:,:,:,0])\n",
    "\n",
    "G_test_X = concat(G_test_X)\n",
    "B_test_X = concat(B_test_X)\n",
    "\n",
    "G_test_X = input_for_Pytorch(G_test_X)\n",
    "B_test_X = input_for_Pytorch(B_test_X)\n",
    "\n",
    "G_test_Y, B_test_Y = CreateLabel(G_test_X, 0), CreateLabel(B_test_X, 1)\n",
    "\n",
    "print(\"Testing GOOD:\",G_test_X.shape, G_test_Y.shape, \"BAD:\", B_test_X.shape, B_test_Y.shape)\n",
    "\n",
    "test_X, test_Y = np.vstack([G_test_X, B_test_X]), np.hstack([G_test_Y, B_test_Y])\n",
    "\n",
    "print(\"Testing:\", test_X.shape, test_Y.shape)"
   ]
  },
  {
   "cell_type": "code",
   "execution_count": 23,
   "metadata": {
    "ExecuteTime": {
     "end_time": "2020-03-06T20:00:34.844062Z",
     "start_time": "2020-03-06T20:00:34.815419Z"
    }
   },
   "outputs": [],
   "source": [
    "class ConvNet(nn.Module):\n",
    "    def __init__(self):\n",
    "        super().__init__()\n",
    "        # RGB세개 1채널, 20개 특징 추출, filter 크기, stride 1\n",
    "        self.conv1_1 = nn.Conv2d(1, 64, 3, 1, padding=1)\n",
    "        self.conv1_2 = nn.Conv2d(64, 64, 3, 1, padding=1)\n",
    "        self.conv1_bn = nn.BatchNorm2d(64)\n",
    "        \n",
    "        self.conv2_1 = nn.Conv2d(64, 64, 3, 1, padding=1)\n",
    "        self.conv2_2 = nn.Conv2d(64, 64, 3, 1, padding=1)\n",
    "        self.conv2_bn = nn.BatchNorm2d(64)\n",
    "        \n",
    "        self.conv3_1 = nn.Conv2d(64, 64, 3, 1, padding=1)\n",
    "        self.conv3_2 = nn.Conv2d(64, 64, 3, 1, padding=1)\n",
    "        self.conv3_bn = nn.BatchNorm2d(64)\n",
    "        \n",
    "        self.conv4_1 = nn.Conv2d(64, 64, 3, 1, padding=1)\n",
    "        self.conv4_2 = nn.Conv2d(64, 64, 3, 1, padding=1)\n",
    "        self.conv4_bn = nn.BatchNorm2d(64)\n",
    "        \n",
    "        self.dense1 = nn.Linear(2*2*64, 128)\n",
    "        # 0.5 가 권장 할 만하대\n",
    "        self.dropout1 = nn.Dropout(0.5)\n",
    "        self.dense2 = nn.Linear(128, 2)  \n",
    "        \n",
    "    def forward(self, x):\n",
    "        x = F.relu(self.conv1_1(x))\n",
    "        x = F.relu(self.conv1_bn(self.conv1_2(x)))\n",
    "        x = F.max_pool2d(x, 2, 2)\n",
    "        x = F.relu(self.conv2_1(x))\n",
    "        x = F.relu(self.conv2_bn(self.conv2_2(x)))\n",
    "        x = F.max_pool2d(x, 2, 2)\n",
    "        x = F.relu(self.conv3_1(x))\n",
    "        x = F.relu(self.conv3_bn(self.conv3_2(x)))\n",
    "        x = F.max_pool2d(x, 2, 2)\n",
    "        x = F.relu(self.conv4_1(x))\n",
    "        x = F.relu(self.conv4_bn(self.conv4_2(x)))\n",
    "        x = F.max_pool2d(x, 2, 2)\n",
    "        # flatten\n",
    "        x = x.view(-1, 2*2*64)\n",
    "        x = F.relu(self.dense1(x))\n",
    "        x = self.dropout1(x)\n",
    "        x = self.dense2(x)\n",
    "        return x"
   ]
  },
  {
   "cell_type": "code",
   "execution_count": 24,
   "metadata": {
    "ExecuteTime": {
     "end_time": "2020-03-06T20:00:35.554194Z",
     "start_time": "2020-03-06T20:00:35.544267Z"
    }
   },
   "outputs": [
    {
     "data": {
      "text/plain": [
       "'GB_sem_A_2003070458_00830_loss_0.003425_val_loss_0.004897.pt'"
      ]
     },
     "execution_count": 24,
     "metadata": {},
     "output_type": "execute_result"
    }
   ],
   "source": [
    "model_name = [i for i in os.listdir('./model') if 'GB' in i and '_A_' in i][0]\n",
    "model_name"
   ]
  },
  {
   "cell_type": "code",
   "execution_count": 25,
   "metadata": {
    "ExecuteTime": {
     "end_time": "2020-03-06T20:00:36.359925Z",
     "start_time": "2020-03-06T20:00:36.331783Z"
    }
   },
   "outputs": [
    {
     "data": {
      "text/plain": [
       "ConvNet(\n",
       "  (conv1_1): Conv2d(1, 64, kernel_size=(3, 3), stride=(1, 1), padding=(1, 1))\n",
       "  (conv1_2): Conv2d(64, 64, kernel_size=(3, 3), stride=(1, 1), padding=(1, 1))\n",
       "  (conv1_bn): BatchNorm2d(64, eps=1e-05, momentum=0.1, affine=True, track_running_stats=True)\n",
       "  (conv2_1): Conv2d(64, 64, kernel_size=(3, 3), stride=(1, 1), padding=(1, 1))\n",
       "  (conv2_2): Conv2d(64, 64, kernel_size=(3, 3), stride=(1, 1), padding=(1, 1))\n",
       "  (conv2_bn): BatchNorm2d(64, eps=1e-05, momentum=0.1, affine=True, track_running_stats=True)\n",
       "  (conv3_1): Conv2d(64, 64, kernel_size=(3, 3), stride=(1, 1), padding=(1, 1))\n",
       "  (conv3_2): Conv2d(64, 64, kernel_size=(3, 3), stride=(1, 1), padding=(1, 1))\n",
       "  (conv3_bn): BatchNorm2d(64, eps=1e-05, momentum=0.1, affine=True, track_running_stats=True)\n",
       "  (conv4_1): Conv2d(64, 64, kernel_size=(3, 3), stride=(1, 1), padding=(1, 1))\n",
       "  (conv4_2): Conv2d(64, 64, kernel_size=(3, 3), stride=(1, 1), padding=(1, 1))\n",
       "  (conv4_bn): BatchNorm2d(64, eps=1e-05, momentum=0.1, affine=True, track_running_stats=True)\n",
       "  (dense1): Linear(in_features=256, out_features=128, bias=True)\n",
       "  (dropout1): Dropout(p=0.5, inplace=False)\n",
       "  (dense2): Linear(in_features=128, out_features=2, bias=True)\n",
       ")"
      ]
     },
     "execution_count": 25,
     "metadata": {},
     "output_type": "execute_result"
    }
   ],
   "source": [
    "saved_model = ConvNet()\n",
    "saved_model = saved_model.to(device)\n",
    "saved_model.load_state_dict(torch.load('./model/' + model_name))\n",
    "saved_model.eval()"
   ]
  },
  {
   "cell_type": "markdown",
   "metadata": {},
   "source": [
    "## Evaluation"
   ]
  },
  {
   "cell_type": "code",
   "execution_count": 26,
   "metadata": {
    "ExecuteTime": {
     "end_time": "2020-03-06T20:00:43.127207Z",
     "start_time": "2020-03-06T20:00:43.113455Z"
    }
   },
   "outputs": [],
   "source": [
    "test_X, test_Y = torch.tensor(test_X, device=device).float(), torch.tensor(test_Y, device=device).long()"
   ]
  },
  {
   "cell_type": "code",
   "execution_count": 27,
   "metadata": {
    "ExecuteTime": {
     "end_time": "2020-03-06T20:00:44.419074Z",
     "start_time": "2020-03-06T20:00:44.399470Z"
    }
   },
   "outputs": [],
   "source": [
    "output = saved_model(test_X)"
   ]
  },
  {
   "cell_type": "code",
   "execution_count": 29,
   "metadata": {
    "ExecuteTime": {
     "end_time": "2020-03-06T20:00:54.848973Z",
     "start_time": "2020-03-06T20:00:54.839944Z"
    }
   },
   "outputs": [
    {
     "name": "stdout",
     "output_type": "stream",
     "text": [
      "Testing Accuracy: 100.00 %\n"
     ]
    }
   ],
   "source": [
    "_, pred = torch.max(output, 1)\n",
    "accr = (torch.sum(pred == test_Y.data).tolist() / len(test_Y))\n",
    "\n",
    "print(\"Testing Accuracy: {:.2f} %\".format(100*accr))"
   ]
  },
  {
   "cell_type": "code",
   "execution_count": 30,
   "metadata": {
    "ExecuteTime": {
     "end_time": "2020-03-06T20:00:56.678218Z",
     "start_time": "2020-03-06T20:00:56.662739Z"
    }
   },
   "outputs": [
    {
     "data": {
      "text/plain": [
       "tensor([[ 3.0886, -3.0918],\n",
       "        [ 3.1947, -3.2341],\n",
       "        [ 3.2668, -3.3211],\n",
       "        ...,\n",
       "        [-3.6587,  3.7749],\n",
       "        [-3.5572,  3.8039],\n",
       "        [-3.6408,  3.7574]], device='cuda:3', grad_fn=<AddmmBackward>)"
      ]
     },
     "execution_count": 30,
     "metadata": {},
     "output_type": "execute_result"
    }
   ],
   "source": [
    "output"
   ]
  },
  {
   "cell_type": "code",
   "execution_count": 31,
   "metadata": {
    "ExecuteTime": {
     "end_time": "2020-03-06T20:00:57.599720Z",
     "start_time": "2020-03-06T20:00:57.591431Z"
    }
   },
   "outputs": [
    {
     "data": {
      "text/plain": [
       "tensor([0, 0, 0,  ..., 1, 1, 1], device='cuda:3')"
      ]
     },
     "execution_count": 31,
     "metadata": {},
     "output_type": "execute_result"
    }
   ],
   "source": [
    "pred"
   ]
  },
  {
   "cell_type": "code",
   "execution_count": 32,
   "metadata": {
    "ExecuteTime": {
     "end_time": "2020-03-06T20:00:58.008948Z",
     "start_time": "2020-03-06T20:00:58.001354Z"
    }
   },
   "outputs": [
    {
     "data": {
      "text/plain": [
       "tensor([0, 0, 0,  ..., 1, 1, 1], device='cuda:3')"
      ]
     },
     "execution_count": 32,
     "metadata": {},
     "output_type": "execute_result"
    }
   ],
   "source": [
    "test_Y"
   ]
  },
  {
   "cell_type": "code",
   "execution_count": 33,
   "metadata": {
    "ExecuteTime": {
     "end_time": "2020-03-06T20:00:59.639331Z",
     "start_time": "2020-03-06T20:00:59.620584Z"
    }
   },
   "outputs": [],
   "source": [
    "def plotCM(cm, class_name, value_size, label_size, mode):\n",
    "\n",
    "    plt.imshow(cm, interpolation = 'nearest', cmap = plt.cm.Blues)\n",
    "    thresh = cm.max()/2.\n",
    "    for i, j in itertools.product(range(cm.shape[0]), range(cm.shape[1])):\n",
    "        if mode == 'percent':\n",
    "            value = np.round(cm[i, j]/(np.sum(cm, 1)[i]), 3)\n",
    "        if mode == 'num':\n",
    "            value = cm[i, j]\n",
    "        plt.text(j, i, value,\n",
    "                 fontsize = value_size,\n",
    "                 horizontalalignment = 'center',\n",
    "                 color = 'white' if cm[i, j] > thresh else 'black')\n",
    "    plt.ylabel('True label', fontsize = label_size)\n",
    "    plt.xlabel('Predicted', fontsize = label_size)\n",
    "    plt.xticks([i for i in range(len(class_name))], class_name, rotation=0, fontsize = label_size)\n",
    "    plt.yticks([i for i in range(len(class_name))], class_name, rotation=90, fontsize = label_size)"
   ]
  },
  {
   "cell_type": "code",
   "execution_count": 34,
   "metadata": {
    "ExecuteTime": {
     "end_time": "2020-03-06T20:01:03.448205Z",
     "start_time": "2020-03-06T20:01:02.667532Z"
    }
   },
   "outputs": [
    {
     "data": {
      "image/png": "[encoded data removed]",
      "text/plain": [
       "<Figure size 936x720 with 1 Axes>"
      ]
     },
     "metadata": {
      "needs_background": "light"
     },
     "output_type": "display_data"
    },
    {
     "data": {
      "image/png": "[encoded data removed]",
      "text/plain": [
       "<Figure size 936x720 with 1 Axes>"
      ]
     },
     "metadata": {
      "needs_background": "light"
     },
     "output_type": "display_data"
    }
   ],
   "source": [
    "cm = confusion_matrix(test_Y.tolist(), pred.tolist())\n",
    "\n",
    "class_name = ['GOOD', 'BAD']\n",
    "\n",
    "fig = plt.figure(figsize = (13, 10))\n",
    "plotCM(cm, class_name, value_size = 20, label_size = 15, mode = 'percent')\n",
    "plt.show()\n",
    "fig.savefig('confusion_matrix_of_results_of_GB_model_percent.png', bbox_inches='tight')\n",
    "plt.close(fig)\n",
    "fig = plt.figure(figsize = (13, 10))\n",
    "plotCM(cm, class_name, value_size = 20, label_size = 15, mode = 'num')\n",
    "plt.show()\n",
    "fig.savefig('confusion_matrix_of_results_of_GB_model_num.png', bbox_inches='tight')\n",
    "plt.close(fig)"
   ]
  }
 ],
 "metadata": {
  "hide_input": false,
  "kernelspec": {
   "display_name": "Pytorch",
   "language": "python",
   "name": "pytorch"
  },
  "language_info": {
   "codemirror_mode": {
    "name": "ipython",
    "version": 3
   },
   "file_extension": ".py",
   "mimetype": "text/x-python",
   "name": "python",
   "nbconvert_exporter": "python",
   "pygments_lexer": "ipython3",
   "version": "3.5.2"
  },
  "toc": {
   "base_numbering": 1,
   "nav_menu": {},
   "number_sections": true,
   "sideBar": true,
   "skip_h1_title": false,
   "title_cell": "Table of Contents",
   "title_sidebar": "Contents",
   "toc_cell": false,
   "toc_position": {},
   "toc_section_display": true,
   "toc_window_display": false
  }
 },
 "nbformat": 4,
 "nbformat_minor": 2
}
