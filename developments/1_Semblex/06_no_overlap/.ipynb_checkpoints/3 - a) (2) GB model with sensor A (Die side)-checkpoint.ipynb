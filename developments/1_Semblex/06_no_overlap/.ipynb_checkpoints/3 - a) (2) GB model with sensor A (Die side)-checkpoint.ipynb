{
 "cells": [
  {
   "cell_type": "code",
   "execution_count": 1,
   "metadata": {
    "ExecuteTime": {
     "end_time": "2020-04-24T16:39:35.649004Z",
     "start_time": "2020-04-24T16:39:35.020863Z"
    }
   },
   "outputs": [],
   "source": [
    "import sys\n",
    "sys.path.append('/mnt/disk1/yunseob/Pytorch/SSM/0_modules')\n",
    "from SSM_utils import GBdataLoad\n",
    "from SSM_DL_training import CNN_Training"
   ]
  },
  {
   "cell_type": "code",
   "execution_count": 2,
   "metadata": {
    "ExecuteTime": {
     "end_time": "2020-04-24T16:39:46.426407Z",
     "start_time": "2020-04-24T16:39:43.686145Z"
    }
   },
   "outputs": [],
   "source": [
    "data_dir = '/mnt/disk1/yunseob/Pytorch/SSM/1_Semblex/06_no_overlap/SemblexData/wt_4040'\n",
    "\n",
    "GB_Xs, GB_Ys = GBdataLoad(data_dir, ch = 0, data_type = '3_train_data')"
   ]
  },
  {
   "cell_type": "code",
   "execution_count": null,
   "metadata": {
    "ExecuteTime": {
     "start_time": "2020-04-24T16:39:56.470Z"
    },
    "scrolled": true
   },
   "outputs": [
    {
     "name": "stdout",
     "output_type": "stream",
     "text": [
      "0 (1952, 1, 40, 40) (1952,)\n",
      "0 train: (1756, 1, 40, 40) (1756,) valid: (196, 1, 40, 40) (196,)\n",
      "1 (3050, 1, 40, 40) (3050,)\n",
      "1 train: (2745, 1, 40, 40) (2745,) valid: (305, 1, 40, 40) (305,)\n",
      "\n",
      "Device: GeForce RTX 2080 Ti \n",
      "\n",
      "----------------------------------------------------------------\n",
      "        Layer (type)               Output Shape         Param #\n",
      "================================================================\n",
      "            Conv2d-1           [-1, 64, 40, 40]             640\n",
      "            Conv2d-2           [-1, 64, 40, 40]          36,928\n",
      "       BatchNorm2d-3           [-1, 64, 40, 40]             128\n",
      "         MaxPool2d-4           [-1, 64, 20, 20]               0\n",
      "            Conv2d-5           [-1, 64, 20, 20]          36,928\n",
      "            Conv2d-6           [-1, 64, 20, 20]          36,928\n",
      "       BatchNorm2d-7           [-1, 64, 20, 20]             128\n",
      "         MaxPool2d-8           [-1, 64, 10, 10]               0\n",
      "            Conv2d-9           [-1, 64, 10, 10]          36,928\n",
      "           Conv2d-10           [-1, 64, 10, 10]          36,928\n",
      "      BatchNorm2d-11           [-1, 64, 10, 10]             128\n",
      "        MaxPool2d-12             [-1, 64, 5, 5]               0\n",
      "           Conv2d-13             [-1, 64, 5, 5]          36,928\n",
      "           Conv2d-14             [-1, 64, 5, 5]          36,928\n",
      "      BatchNorm2d-15             [-1, 64, 5, 5]             128\n",
      "        MaxPool2d-16             [-1, 64, 2, 2]               0\n",
      "           Linear-17                  [-1, 128]          32,896\n",
      "          Dropout-18                  [-1, 128]               0\n",
      "           Linear-19                    [-1, 2]             258\n",
      "          ConvNet-20                    [-1, 2]               0\n",
      "================================================================\n",
      "Total params: 292,802\n",
      "Trainable params: 292,802\n",
      "Non-trainable params: 0\n",
      "----------------------------------------------------------------\n",
      "Input size (MB): 0.01\n",
      "Forward/backward pass size (MB): 3.37\n",
      "Params size (MB): 1.12\n",
      "Estimated Total Size (MB): 4.50\n",
      "----------------------------------------------------------------\n",
      "\n",
      "00010 | train_loss: 0.69048, train_accr: 0.455 | val_loss: 0.69127, val_accr: 0.449\n",
      "00020 | train_loss: 0.68688, train_accr: 0.466 | val_loss: 0.68928, val_accr: 0.453\n",
      "00030 | train_loss: 0.66829, train_accr: 0.497 | val_loss: 0.67601, val_accr: 0.473\n",
      "00040 | train_loss: 0.59607, train_accr: 0.660 | val_loss: 0.61129, val_accr: 0.635\n",
      "00050 | train_loss: 0.30983, train_accr: 0.905 | val_loss: 0.30349, val_accr: 0.910\n",
      "00060 | train_loss: 0.26297, train_accr: 0.915 | val_loss: 0.24834, val_accr: 0.932\n",
      "00070 | train_loss: 0.22650, train_accr: 0.918 | val_loss: 0.19326, val_accr: 0.932\n",
      "00080 | train_loss: 0.23733, train_accr: 0.910 | val_loss: 0.21002, val_accr: 0.926\n",
      "00090 | train_loss: 0.22050, train_accr: 0.922 | val_loss: 0.19010, val_accr: 0.938\n",
      "00100 | train_loss: 0.22886, train_accr: 0.918 | val_loss: 0.20066, val_accr: 0.934\n",
      "00110 | train_loss: 0.22607, train_accr: 0.922 | val_loss: 0.19598, val_accr: 0.942\n",
      "00120 | train_loss: 0.21943, train_accr: 0.920 | val_loss: 0.18821, val_accr: 0.942\n",
      "00130 | train_loss: 0.21985, train_accr: 0.924 | val_loss: 0.18525, val_accr: 0.944\n",
      "00140 | train_loss: 0.21796, train_accr: 0.918 | val_loss: 0.17257, val_accr: 0.942\n",
      "00150 | train_loss: 0.22336, train_accr: 0.927 | val_loss: 0.19095, val_accr: 0.948\n",
      "00160 | train_loss: 0.21207, train_accr: 0.927 | val_loss: 0.17938, val_accr: 0.950\n",
      "00170 | train_loss: 0.22676, train_accr: 0.921 | val_loss: 0.19577, val_accr: 0.934\n",
      "00180 | train_loss: 0.24458, train_accr: 0.917 | val_loss: 0.21005, val_accr: 0.924\n",
      "00190 | train_loss: 0.22254, train_accr: 0.923 | val_loss: 0.17795, val_accr: 0.944\n",
      "00200 | train_loss: 0.22172, train_accr: 0.911 | val_loss: 0.18163, val_accr: 0.932\n",
      "00210 | train_loss: 0.21656, train_accr: 0.926 | val_loss: 0.19024, val_accr: 0.944\n",
      "00220 | train_loss: 0.27440, train_accr: 0.892 | val_loss: 0.26703, val_accr: 0.896\n",
      "00230 | train_loss: 0.22467, train_accr: 0.920 | val_loss: 0.19761, val_accr: 0.930\n",
      "00240 | train_loss: 0.26835, train_accr: 0.880 | val_loss: 0.24826, val_accr: 0.882\n",
      "00250 | train_loss: 0.20089, train_accr: 0.928 | val_loss: 0.15386, val_accr: 0.952\n",
      "00260 | train_loss: 0.21049, train_accr: 0.926 | val_loss: 0.17371, val_accr: 0.940\n",
      "00270 | train_loss: 0.28200, train_accr: 0.904 | val_loss: 0.26263, val_accr: 0.906\n",
      "00280 | train_loss: 0.21088, train_accr: 0.924 | val_loss: 0.18469, val_accr: 0.942\n",
      "00290 | train_loss: 0.20917, train_accr: 0.926 | val_loss: 0.18427, val_accr: 0.942\n",
      "00300 | train_loss: 0.20242, train_accr: 0.930 | val_loss: 0.17048, val_accr: 0.946\n",
      "00310 | train_loss: 0.20732, train_accr: 0.927 | val_loss: 0.16823, val_accr: 0.942\n",
      "00320 | train_loss: 0.25184, train_accr: 0.913 | val_loss: 0.22401, val_accr: 0.916\n",
      "00330 | train_loss: 0.25187, train_accr: 0.913 | val_loss: 0.22869, val_accr: 0.916\n",
      "00340 | train_loss: 0.23252, train_accr: 0.921 | val_loss: 0.20103, val_accr: 0.930\n",
      "00350 | train_loss: 0.23071, train_accr: 0.904 | val_loss: 0.19830, val_accr: 0.914\n",
      "00360 | train_loss: 0.19337, train_accr: 0.930 | val_loss: 0.16149, val_accr: 0.952\n",
      "00370 | train_loss: 0.22225, train_accr: 0.921 | val_loss: 0.20305, val_accr: 0.928\n",
      "00380 | train_loss: 0.27391, train_accr: 0.898 | val_loss: 0.26289, val_accr: 0.900\n"
     ]
    }
   ],
   "source": [
    "CT = CNN_Training(GB_Xs, GB_Ys, n_ch = 1, n_cls = 2, lr = 0.0001, n_batch_per_cls = 30, n_iter = 10000, model_name = 'GB_00p_A', GPU_idx = 3)\n",
    "\n",
    "CT.Run(model_dir = './model/', hist_dir = './results/0_train_hist/npy/')"
   ]
  },
  {
   "cell_type": "code",
   "execution_count": null,
   "metadata": {},
   "outputs": [],
   "source": []
  },
  {
   "cell_type": "code",
   "execution_count": null,
   "metadata": {},
   "outputs": [],
   "source": []
  }
 ],
 "metadata": {
  "hide_input": false,
  "kernelspec": {
   "display_name": "Pytorch",
   "language": "python",
   "name": "pytorch"
  },
  "language_info": {
   "codemirror_mode": {
    "name": "ipython",
    "version": 3
   },
   "file_extension": ".py",
   "mimetype": "text/x-python",
   "name": "python",
   "nbconvert_exporter": "python",
   "pygments_lexer": "ipython3",
   "version": "3.5.2"
  },
  "toc": {
   "base_numbering": 1,
   "nav_menu": {},
   "number_sections": true,
   "sideBar": true,
   "skip_h1_title": false,
   "title_cell": "Table of Contents",
   "title_sidebar": "Contents",
   "toc_cell": false,
   "toc_position": {},
   "toc_section_display": true,
   "toc_window_display": false
  }
 },
 "nbformat": 4,
 "nbformat_minor": 2
}
