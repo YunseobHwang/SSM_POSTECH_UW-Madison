{
 "cells": [
  {
   "cell_type": "code",
   "execution_count": 1,
   "metadata": {
    "ExecuteTime": {
     "end_time": "2020-08-05T06:47:28.061725Z",
     "start_time": "2020-08-05T06:47:27.445095Z"
    }
   },
   "outputs": [],
   "source": [
    "import sys\n",
    "sys.path.append('/mnt/disk1/yunseob/Pytorch/2_SSM/0_modules')\n",
    "from SSM_utils import B6dataLoad\n",
    "from SSM_DL_training import CNN_Training"
   ]
  },
  {
   "cell_type": "code",
   "execution_count": 2,
   "metadata": {
    "ExecuteTime": {
     "end_time": "2020-08-05T06:47:39.401123Z",
     "start_time": "2020-08-05T06:47:36.543330Z"
    }
   },
   "outputs": [],
   "source": [
    "data_dir = '/mnt/disk1/yunseob/Pytorch/2_SSM/1_Semblex/05_10p_overlap/SemblexData/wt_4040'\n",
    "\n",
    "B6_Xs, B6_Ys = B6dataLoad(data_dir, ch = 0, data_type = '2_data')"
   ]
  },
  {
   "cell_type": "code",
   "execution_count": 3,
   "metadata": {
    "ExecuteTime": {
     "end_time": "2020-08-05T06:48:05.204478Z",
     "start_time": "2020-08-05T06:48:04.891251Z"
    }
   },
   "outputs": [
    {
     "name": "stdout",
     "output_type": "stream",
     "text": [
      "test: [  3   5   7   9  12  23  28  30  35  36  39  43  44  45  46  47  48  51\n",
      "  52  54  61  69  73  77  79 102 105 106 107 110 114 115 124 155 157 163\n",
      " 171 174 175 188 193 198 201 204 210 212 215 228 232 238 244 249]\n",
      "test: [  6  13  17  19  20  32  37  38  58  60  64  65  68  82  85  88  94 108\n",
      " 111 125 127 134 135 136 137 138 139 142 145 149 156 158 159 161 176 178\n",
      " 180 183 185 187 192 196 206 207 209 216 233 236 245 250 252 257]\n",
      "test: [  0   2  15  24  26  27  33  41  70  71  75  76  80  81  87  89  90  95\n",
      "  99 112 113 118 126 129 133 147 148 153 154 162 165 167 168 169 170 177\n",
      " 184 186 190 191 197 200 202 205 208 223 237 242 243 246 247 251]\n",
      "test: [  4   8  10  11  16  21  22  25  34  40  42  49  53  56  62  63  66  78\n",
      "  91  97  98 101 104 117 119 121 123 128 130 132 140 141 143 152 160 166\n",
      " 172 181 182 194 203 211 214 218 220 224 225 229 240 255 256]\n",
      "test: [  1  14  18  29  31  50  55  57  59  67  72  74  83  84  86  92  93  96\n",
      " 100 103 109 116 120 122 131 144 146 150 151 164 173 179 189 195 199 213\n",
      " 217 219 221 222 226 227 230 231 234 235 239 241 248 253 254]\n"
     ]
    }
   ],
   "source": [
    "from sklearn.model_selection import KFold\n",
    "\n",
    "kf = KFold(n_splits = 5, shuffle = True, random_state = 44)\n",
    "\n",
    "for train_idx, test_idx in kf.split(B6_Xs[0]):\n",
    "    print('test:', test_idx)"
   ]
  },
  {
   "cell_type": "code",
   "execution_count": 4,
   "metadata": {
    "ExecuteTime": {
     "end_time": "2020-08-05T06:48:06.239485Z",
     "start_time": "2020-08-05T06:48:06.222951Z"
    },
    "scrolled": true
   },
   "outputs": [],
   "source": [
    "def CV_train_idx(X, n_splits = 5, shuffle = True, random_state = 44):\n",
    "    kf = KFold(n_splits, shuffle, random_state)\n",
    "    train_idx = []\n",
    "    for t_idx, _ in kf.split(X):\n",
    "        train_idx.append(t_idx)\n",
    "    return train_idx\n",
    "\n",
    "B1_train_idx = CV_train_idx(B6_Xs[0])\n",
    "B2_train_idx = CV_train_idx(B6_Xs[1])\n",
    "B3_train_idx = CV_train_idx(B6_Xs[2])\n",
    "B4_train_idx = CV_train_idx(B6_Xs[3])\n",
    "B5_train_idx = CV_train_idx(B6_Xs[4])\n",
    "B6_train_idx = CV_train_idx(B6_Xs[5])"
   ]
  },
  {
   "cell_type": "code",
   "execution_count": null,
   "metadata": {
    "ExecuteTime": {
     "start_time": "2020-08-05T06:48:18.696Z"
    }
   },
   "outputs": [
    {
     "name": "stdout",
     "output_type": "stream",
     "text": [
      "0 (206, 1, 40, 40) (206,)\n",
      "0 train: (185, 1, 40, 40) (185,) valid: (21, 1, 40, 40) (21,)\n",
      "1 (644, 1, 40, 40) (644,)\n",
      "1 train: (579, 1, 40, 40) (579,) valid: (65, 1, 40, 40) (65,)\n",
      "2 (365, 1, 40, 40) (365,)\n",
      "2 train: (328, 1, 40, 40) (328,) valid: (37, 1, 40, 40) (37,)\n",
      "3 (961, 1, 40, 40) (961,)\n",
      "3 train: (864, 1, 40, 40) (864,) valid: (97, 1, 40, 40) (97,)\n",
      "4 (587, 1, 40, 40) (587,)\n",
      "4 train: (528, 1, 40, 40) (528,) valid: (59, 1, 40, 40) (59,)\n",
      "5 (626, 1, 40, 40) (626,)\n",
      "5 train: (563, 1, 40, 40) (563,) valid: (63, 1, 40, 40) (63,)\n",
      "\n",
      "Device: GeForce RTX 2080 Ti \n",
      "\n",
      "----------------------------------------------------------------\n",
      "        Layer (type)               Output Shape         Param #\n",
      "================================================================\n",
      "            Conv2d-1           [-1, 64, 40, 40]             640\n",
      "            Conv2d-2           [-1, 64, 40, 40]          36,928\n",
      "       BatchNorm2d-3           [-1, 64, 40, 40]             128\n",
      "         MaxPool2d-4           [-1, 64, 20, 20]               0\n",
      "            Conv2d-5           [-1, 64, 20, 20]          36,928\n",
      "            Conv2d-6           [-1, 64, 20, 20]          36,928\n",
      "       BatchNorm2d-7           [-1, 64, 20, 20]             128\n",
      "         MaxPool2d-8           [-1, 64, 10, 10]               0\n",
      "            Conv2d-9           [-1, 64, 10, 10]          36,928\n",
      "           Conv2d-10           [-1, 64, 10, 10]          36,928\n",
      "      BatchNorm2d-11           [-1, 64, 10, 10]             128\n",
      "        MaxPool2d-12             [-1, 64, 5, 5]               0\n",
      "           Conv2d-13             [-1, 64, 5, 5]          36,928\n",
      "           Conv2d-14             [-1, 64, 5, 5]          36,928\n",
      "      BatchNorm2d-15             [-1, 64, 5, 5]             128\n",
      "        MaxPool2d-16             [-1, 64, 2, 2]               0\n",
      "           Linear-17                  [-1, 128]          32,896\n",
      "          Dropout-18                  [-1, 128]               0\n",
      "           Linear-19                    [-1, 6]             774\n",
      "          ConvNet-20                    [-1, 6]               0\n",
      "================================================================\n",
      "Total params: 293,318\n",
      "Trainable params: 293,318\n",
      "Non-trainable params: 0\n",
      "----------------------------------------------------------------\n",
      "Input size (MB): 0.01\n",
      "Forward/backward pass size (MB): 3.37\n",
      "Params size (MB): 1.12\n",
      "Estimated Total Size (MB): 4.50\n",
      "----------------------------------------------------------------\n",
      "\n",
      "Epoch |##-------------------------------------------------------------------- | 11 / 500"
     ]
    }
   ],
   "source": [
    "model_spec = 1\n",
    "for i, b1_idx, b2_idx, b3_idx, b4_idx, b5_idx, b6_idx in zip(range(5), \n",
    "                                                             B1_train_idx, B2_train_idx, B3_train_idx, \n",
    "                                                             B4_train_idx, B5_train_idx, B6_train_idx):\n",
    "    B6_Xs_cv = [B6_Xs[0][b1_idx], B6_Xs[1][b2_idx], B6_Xs[2][b3_idx], \n",
    "            B6_Xs[3][b4_idx], B6_Xs[4][b5_idx], B6_Xs[5][b6_idx]]\n",
    "    B6_Ys_cv = [B6_Ys[0][b1_idx], B6_Ys[1][b2_idx], B6_Ys[2][b3_idx], \n",
    "                B6_Ys[3][b4_idx], B6_Ys[4][b5_idx], B6_Ys[5][b6_idx]]\n",
    "    \n",
    "    CT = CNN_Training(B6_Xs_cv, B6_Ys_cv, n_ch = 1, n_cls = 6, \n",
    "                      lr = 0.01, n_batch_per_cls = 16, n_epoch = 500, n_patience = 30, \n",
    "                      model_name = '{:02d}_B6_10p_A'.format(i+1), GPU_idx = 3)\n",
    "    if i != 0:\n",
    "        model_spec = 0\n",
    "    CT.Run(model_spec = model_spec, verbose = 2, model_dir = './model/')"
   ]
  },
  {
   "cell_type": "code",
   "execution_count": null,
   "metadata": {},
   "outputs": [],
   "source": []
  },
  {
   "cell_type": "code",
   "execution_count": null,
   "metadata": {},
   "outputs": [],
   "source": []
  },
  {
   "cell_type": "code",
   "execution_count": null,
   "metadata": {},
   "outputs": [],
   "source": []
  },
  {
   "cell_type": "code",
   "execution_count": null,
   "metadata": {},
   "outputs": [],
   "source": []
  },
  {
   "cell_type": "code",
   "execution_count": null,
   "metadata": {},
   "outputs": [],
   "source": []
  }
 ],
 "metadata": {
  "hide_input": false,
  "kernelspec": {
   "display_name": "Pytorch",
   "language": "python",
   "name": "pytorch"
  },
  "language_info": {
   "codemirror_mode": {
    "name": "ipython",
    "version": 3
   },
   "file_extension": ".py",
   "mimetype": "text/x-python",
   "name": "python",
   "nbconvert_exporter": "python",
   "pygments_lexer": "ipython3",
   "version": "3.5.2"
  },
  "toc": {
   "base_numbering": 1,
   "nav_menu": {},
   "number_sections": true,
   "sideBar": true,
   "skip_h1_title": false,
   "title_cell": "Table of Contents",
   "title_sidebar": "Contents",
   "toc_cell": false,
   "toc_position": {},
   "toc_section_display": true,
   "toc_window_display": false
  }
 },
 "nbformat": 4,
 "nbformat_minor": 2
}
